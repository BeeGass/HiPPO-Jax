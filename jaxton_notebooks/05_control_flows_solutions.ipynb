{
 "cells": [
  {
   "cell_type": "markdown",
   "id": "0640aaca",
   "metadata": {
    "papermill": {
     "duration": 0.020723,
     "end_time": "2022-03-24T11:48:09.935096",
     "exception": false,
     "start_time": "2022-03-24T11:48:09.914373",
     "status": "completed"
    },
    "tags": []
   },
   "source": [
    "<center>\n",
    "    <h1>JaxTon</h1>\n",
    "    <i>💯 JAX exercises</i>\n",
    "    <br>\n",
    "    <br>\n",
    "    <a href='https://github.com/vopani/jaxton/blob/master/LICENSE'>\n",
    "        <img src='https://img.shields.io/badge/license-Apache%202.0-blue.svg?logo=apache'>\n",
    "    </a>\n",
    "    <a href='https://github.com/vopani/jaxton'>\n",
    "        <img src='https://img.shields.io/github/stars/vopani/jaxton?color=yellowgreen&logo=github'>\n",
    "    </a>\n",
    "    <a href='https://twitter.com/vopani'>\n",
    "        <img src='https://img.shields.io/twitter/follow/vopani'>\n",
    "    </a>\n",
    "</center>"
   ]
  },
  {
   "cell_type": "markdown",
   "id": "fa9acb1d",
   "metadata": {
    "papermill": {
     "duration": 0.018606,
     "end_time": "2022-03-24T11:48:09.973442",
     "exception": false,
     "start_time": "2022-03-24T11:48:09.954836",
     "status": "completed"
    },
    "tags": []
   },
   "source": [
    "<center>\n",
    "    This is Set 5: Control Flows (Solutions 41-50) of <b>JaxTon</b>: <i>💯 JAX exercises</i>\n",
    "    <br>\n",
    "    You can find all the exercises and solutions on <a href=\"https://github.com/vopani/jaxton#exercises-\">GitHub</a>\n",
    "</center>"
   ]
  },
  {
   "cell_type": "markdown",
   "id": "e163b1d9",
   "metadata": {
    "papermill": {
     "duration": 0.018939,
     "end_time": "2022-03-24T11:48:10.012080",
     "exception": false,
     "start_time": "2022-03-24T11:48:09.993141",
     "status": "completed"
    },
    "tags": []
   },
   "source": [
    "**Prerequisites**\n",
    "\n",
    "* The configuration of jax should be set as shown in the code snippet below in order to use TPUs.\n",
    "* A sample array `sample_data` will be used for some of the exercises.\n",
    "* Sample functions `square` and `cube` will be used for the exercises."
   ]
  },
  {
   "cell_type": "code",
   "execution_count": 1,
   "id": "ffb3461d",
   "metadata": {
    "_kg_hide-input": true,
    "_kg_hide-output": true,
    "execution": {
     "iopub.execute_input": "2022-03-24T11:48:10.057039Z",
     "iopub.status.busy": "2022-03-24T11:48:10.055261Z",
     "iopub.status.idle": "2022-03-24T11:48:19.115511Z",
     "shell.execute_reply": "2022-03-24T11:48:19.114708Z",
     "shell.execute_reply.started": "2022-02-10T05:25:42.285734Z"
    },
    "papermill": {
     "duration": 9.084376,
     "end_time": "2022-03-24T11:48:19.115672",
     "exception": false,
     "start_time": "2022-03-24T11:48:10.031296",
     "status": "completed"
    },
    "tags": []
   },
   "outputs": [
    {
     "name": "stdout",
     "output_type": "stream",
     "text": [
      "Requirement already satisfied: jax in /opt/conda/lib/python3.7/site-packages (0.2.19)\r\n",
      "Requirement already satisfied: opt-einsum in /opt/conda/lib/python3.7/site-packages (from jax) (3.3.0)\r\n",
      "Requirement already satisfied: numpy>=1.18 in /opt/conda/lib/python3.7/site-packages (from jax) (1.19.5)\r\n",
      "Requirement already satisfied: absl-py in /opt/conda/lib/python3.7/site-packages (from jax) (0.12.0)\r\n",
      "Requirement already satisfied: six in /opt/conda/lib/python3.7/site-packages (from absl-py->jax) (1.15.0)\r\n",
      "\u001b[33mWARNING: Running pip as the 'root' user can result in broken permissions and conflicting behaviour with the system package manager. It is recommended to use a virtual environment instead: https://pip.pypa.io/warnings/venv\u001b[0m\r\n"
     ]
    }
   ],
   "source": [
    "!python3 -m pip install jax"
   ]
  },
  {
   "cell_type": "code",
   "execution_count": 2,
   "id": "9d8800d2",
   "metadata": {
    "_kg_hide-input": true,
    "execution": {
     "iopub.execute_input": "2022-03-24T11:48:19.163459Z",
     "iopub.status.busy": "2022-03-24T11:48:19.162802Z",
     "iopub.status.idle": "2022-03-24T11:49:05.899754Z",
     "shell.execute_reply": "2022-03-24T11:49:05.900526Z",
     "shell.execute_reply.started": "2022-02-10T05:25:51.618620Z"
    },
    "papermill": {
     "duration": 46.764615,
     "end_time": "2022-03-24T11:49:05.900761",
     "exception": false,
     "start_time": "2022-03-24T11:48:19.136146",
     "status": "completed"
    },
    "tags": []
   },
   "outputs": [
    {
     "data": {
      "text/plain": [
       "[TpuDevice(id=0, process_index=0, coords=(0,0,0), core_on_chip=0),\n",
       " TpuDevice(id=1, process_index=0, coords=(0,0,0), core_on_chip=1),\n",
       " TpuDevice(id=2, process_index=0, coords=(1,0,0), core_on_chip=0),\n",
       " TpuDevice(id=3, process_index=0, coords=(1,0,0), core_on_chip=1),\n",
       " TpuDevice(id=4, process_index=0, coords=(0,1,0), core_on_chip=0),\n",
       " TpuDevice(id=5, process_index=0, coords=(0,1,0), core_on_chip=1),\n",
       " TpuDevice(id=6, process_index=0, coords=(1,1,0), core_on_chip=0),\n",
       " TpuDevice(id=7, process_index=0, coords=(1,1,0), core_on_chip=1)]"
      ]
     },
     "execution_count": 2,
     "metadata": {},
     "output_type": "execute_result"
    }
   ],
   "source": [
    "import jax\n",
    "import jax.numpy as jnp\n",
    "import os\n",
    "import requests\n",
    "\n",
    "try:\n",
    "    url = 'http:' + os.environ['TPU_NAME'].split(':')[1] + ':8475/requestversion/tpu_driver_nightly'\n",
    "    resp = requests.post(url)\n",
    "    jax.config.FLAGS.jax_xla_backend = 'tpu_driver'\n",
    "    jax.config.FLAGS.jax_backend_target = os.environ['TPU_NAME']\n",
    "except:\n",
    "    pass\n",
    "\n",
    "jax.devices()"
   ]
  },
  {
   "cell_type": "code",
   "execution_count": 3,
   "id": "17fb7efc",
   "metadata": {
    "execution": {
     "iopub.execute_input": "2022-03-24T11:49:05.972315Z",
     "iopub.status.busy": "2022-03-24T11:49:05.971235Z",
     "iopub.status.idle": "2022-03-24T11:49:06.033266Z",
     "shell.execute_reply": "2022-03-24T11:49:06.033998Z"
    },
    "papermill": {
     "duration": 0.102139,
     "end_time": "2022-03-24T11:49:06.034226",
     "exception": false,
     "start_time": "2022-03-24T11:49:05.932087",
     "status": "completed"
    },
    "tags": []
   },
   "outputs": [
    {
     "data": {
      "text/plain": [
       "DeviceArray([10,  1, 24, 20, 15, 14], dtype=int32)"
      ]
     },
     "execution_count": 3,
     "metadata": {},
     "output_type": "execute_result"
    }
   ],
   "source": [
    "## sample data\n",
    "sample_data = jnp.array([10, 1, 24, 20, 15, 14])\n",
    "sample_data"
   ]
  },
  {
   "cell_type": "code",
   "execution_count": 4,
   "id": "f87fb676",
   "metadata": {
    "execution": {
     "iopub.execute_input": "2022-03-24T11:49:06.107609Z",
     "iopub.status.busy": "2022-03-24T11:49:06.106626Z",
     "iopub.status.idle": "2022-03-24T11:49:06.110412Z",
     "shell.execute_reply": "2022-03-24T11:49:06.111127Z",
     "shell.execute_reply.started": "2022-02-10T05:26:30.212342Z"
    },
    "papermill": {
     "duration": 0.043984,
     "end_time": "2022-03-24T11:49:06.111346",
     "exception": false,
     "start_time": "2022-03-24T11:49:06.067362",
     "status": "completed"
    },
    "tags": []
   },
   "outputs": [
    {
     "data": {
      "text/plain": [
       "4"
      ]
     },
     "execution_count": 4,
     "metadata": {},
     "output_type": "execute_result"
    }
   ],
   "source": [
    "## sample square function\n",
    "def square(x):\n",
    "    return x**2\n",
    "\n",
    "square(2)"
   ]
  },
  {
   "cell_type": "code",
   "execution_count": 5,
   "id": "c13f49e5",
   "metadata": {
    "execution": {
     "iopub.execute_input": "2022-03-24T11:49:06.185826Z",
     "iopub.status.busy": "2022-03-24T11:49:06.184852Z",
     "iopub.status.idle": "2022-03-24T11:49:06.188393Z",
     "shell.execute_reply": "2022-03-24T11:49:06.189237Z"
    },
    "papermill": {
     "duration": 0.045018,
     "end_time": "2022-03-24T11:49:06.189465",
     "exception": false,
     "start_time": "2022-03-24T11:49:06.144447",
     "status": "completed"
    },
    "tags": []
   },
   "outputs": [
    {
     "data": {
      "text/plain": [
       "8"
      ]
     },
     "execution_count": 5,
     "metadata": {},
     "output_type": "execute_result"
    }
   ],
   "source": [
    "## sample cube function\n",
    "def cube(x):\n",
    "    return x**3\n",
    "\n",
    "cube(2)"
   ]
  },
  {
   "cell_type": "markdown",
   "id": "06e177fd",
   "metadata": {
    "papermill": {
     "duration": 0.034163,
     "end_time": "2022-03-24T11:49:06.257554",
     "exception": false,
     "start_time": "2022-03-24T11:49:06.223391",
     "status": "completed"
    },
    "tags": []
   },
   "source": [
    "**Exercise 41: Calculate the cumulative sum of `sample_data` using the associative scan operator and assign it to `data_cumsum`**"
   ]
  },
  {
   "cell_type": "code",
   "execution_count": 6,
   "id": "1da700fa",
   "metadata": {
    "execution": {
     "iopub.execute_input": "2022-03-24T11:49:06.353241Z",
     "iopub.status.busy": "2022-03-24T11:49:06.352269Z",
     "iopub.status.idle": "2022-03-24T11:49:07.895186Z",
     "shell.execute_reply": "2022-03-24T11:49:07.895953Z",
     "shell.execute_reply.started": "2022-02-10T05:26:30.223839Z"
    },
    "papermill": {
     "duration": 1.602371,
     "end_time": "2022-03-24T11:49:07.896180",
     "exception": false,
     "start_time": "2022-03-24T11:49:06.293809",
     "status": "completed"
    },
    "tags": []
   },
   "outputs": [
    {
     "data": {
      "text/plain": [
       "DeviceArray([10, 11, 35, 55, 70, 84], dtype=int32)"
      ]
     },
     "execution_count": 6,
     "metadata": {},
     "output_type": "execute_result"
    }
   ],
   "source": [
    "data_cumsum = jax.lax.associative_scan(jnp.add, sample_data)\n",
    "data_cumsum"
   ]
  },
  {
   "cell_type": "markdown",
   "id": "09b3bc1b",
   "metadata": {
    "papermill": {
     "duration": 0.03337,
     "end_time": "2022-03-24T11:49:07.965499",
     "exception": false,
     "start_time": "2022-03-24T11:49:07.932129",
     "status": "completed"
    },
    "tags": []
   },
   "source": [
    "**Exercise 42: Calculate the cumulative sum of `sample_data` in reverse order using the associative scan operator and assign it to `data_cumsum_reverse`**"
   ]
  },
  {
   "cell_type": "code",
   "execution_count": 7,
   "id": "3e016a7e",
   "metadata": {
    "execution": {
     "iopub.execute_input": "2022-03-24T11:49:08.043820Z",
     "iopub.status.busy": "2022-03-24T11:49:08.042884Z",
     "iopub.status.idle": "2022-03-24T11:49:08.099165Z",
     "shell.execute_reply": "2022-03-24T11:49:08.100012Z",
     "shell.execute_reply.started": "2022-02-10T05:26:30.238581Z"
    },
    "papermill": {
     "duration": 0.099442,
     "end_time": "2022-03-24T11:49:08.100237",
     "exception": false,
     "start_time": "2022-03-24T11:49:08.000795",
     "status": "completed"
    },
    "tags": []
   },
   "outputs": [
    {
     "data": {
      "text/plain": [
       "DeviceArray([84, 74, 73, 49, 29, 14], dtype=int32)"
      ]
     },
     "execution_count": 7,
     "metadata": {},
     "output_type": "execute_result"
    }
   ],
   "source": [
    "data_cumsum_reverse = jax.lax.associative_scan(jnp.add, sample_data, reverse=True)\n",
    "data_cumsum_reverse"
   ]
  },
  {
   "cell_type": "markdown",
   "id": "b294fde5",
   "metadata": {
    "papermill": {
     "duration": 0.035693,
     "end_time": "2022-03-24T11:49:08.172815",
     "exception": false,
     "start_time": "2022-03-24T11:49:08.137122",
     "status": "completed"
    },
    "tags": []
   },
   "source": [
    "**Exercise 43: Create a JIT-compiled lambda function that outputs `square` of input if it is even and `cube` of input if it is odd using the cond operator and assign it to `parity_ifelse`**"
   ]
  },
  {
   "cell_type": "code",
   "execution_count": 8,
   "id": "0b96fbf0",
   "metadata": {
    "execution": {
     "iopub.execute_input": "2022-03-24T11:49:08.254504Z",
     "iopub.status.busy": "2022-03-24T11:49:08.253262Z",
     "iopub.status.idle": "2022-03-24T11:49:08.257554Z",
     "shell.execute_reply": "2022-03-24T11:49:08.258376Z",
     "shell.execute_reply.started": "2022-02-10T05:26:30.622095Z"
    },
    "papermill": {
     "duration": 0.049894,
     "end_time": "2022-03-24T11:49:08.258622",
     "exception": false,
     "start_time": "2022-03-24T11:49:08.208728",
     "status": "completed"
    },
    "tags": []
   },
   "outputs": [
    {
     "data": {
      "text/plain": [
       "<CompiledFunction at 0x7f8700fba500>"
      ]
     },
     "execution_count": 8,
     "metadata": {},
     "output_type": "execute_result"
    }
   ],
   "source": [
    "parity_ifelse = jax.jit(lambda x: jax.lax.cond(jnp.remainder(x, 2) == 0, square, cube, x))\n",
    "parity_ifelse"
   ]
  },
  {
   "cell_type": "markdown",
   "id": "df8ca56d",
   "metadata": {
    "papermill": {
     "duration": 0.035458,
     "end_time": "2022-03-24T11:49:08.330839",
     "exception": false,
     "start_time": "2022-03-24T11:49:08.295381",
     "status": "completed"
    },
    "tags": []
   },
   "source": [
    "**Exercise 44: Run `parity_ifelse` with the first element of `data_cumsum` and assign it to `parity_1`**"
   ]
  },
  {
   "cell_type": "code",
   "execution_count": 9,
   "id": "59499bc0",
   "metadata": {
    "execution": {
     "iopub.execute_input": "2022-03-24T11:49:08.407791Z",
     "iopub.status.busy": "2022-03-24T11:49:08.406907Z",
     "iopub.status.idle": "2022-03-24T11:49:08.533901Z",
     "shell.execute_reply": "2022-03-24T11:49:08.534660Z",
     "shell.execute_reply.started": "2022-02-10T05:26:30.671088Z"
    },
    "papermill": {
     "duration": 0.169026,
     "end_time": "2022-03-24T11:49:08.534909",
     "exception": false,
     "start_time": "2022-03-24T11:49:08.365883",
     "status": "completed"
    },
    "tags": []
   },
   "outputs": [
    {
     "data": {
      "text/plain": [
       "DeviceArray(100, dtype=int32)"
      ]
     },
     "execution_count": 9,
     "metadata": {},
     "output_type": "execute_result"
    }
   ],
   "source": [
    "parity_1 = parity_ifelse(data_cumsum[0])\n",
    "parity_1"
   ]
  },
  {
   "cell_type": "markdown",
   "id": "aba95a5d",
   "metadata": {
    "papermill": {
     "duration": 0.035151,
     "end_time": "2022-03-24T11:49:08.605648",
     "exception": false,
     "start_time": "2022-03-24T11:49:08.570497",
     "status": "completed"
    },
    "tags": []
   },
   "source": [
    "**Exercise 45: Run `parity_ifelse` with the second element of `data_cumsum` and assign it to `parity_2`**"
   ]
  },
  {
   "cell_type": "code",
   "execution_count": 10,
   "id": "d8d6e57a",
   "metadata": {
    "execution": {
     "iopub.execute_input": "2022-03-24T11:49:08.684593Z",
     "iopub.status.busy": "2022-03-24T11:49:08.683651Z",
     "iopub.status.idle": "2022-03-24T11:49:08.704979Z",
     "shell.execute_reply": "2022-03-24T11:49:08.704152Z",
     "shell.execute_reply.started": "2022-02-10T05:26:30.722137Z"
    },
    "papermill": {
     "duration": 0.063199,
     "end_time": "2022-03-24T11:49:08.705177",
     "exception": false,
     "start_time": "2022-03-24T11:49:08.641978",
     "status": "completed"
    },
    "tags": []
   },
   "outputs": [
    {
     "data": {
      "text/plain": [
       "DeviceArray(1331, dtype=int32)"
      ]
     },
     "execution_count": 10,
     "metadata": {},
     "output_type": "execute_result"
    }
   ],
   "source": [
    "parity_2 = parity_ifelse(data_cumsum[1])\n",
    "parity_2"
   ]
  },
  {
   "cell_type": "markdown",
   "id": "d1eae41c",
   "metadata": {
    "papermill": {
     "duration": 0.035451,
     "end_time": "2022-03-24T11:49:08.776693",
     "exception": false,
     "start_time": "2022-03-24T11:49:08.741242",
     "status": "completed"
    },
    "tags": []
   },
   "source": [
    "**Exercise 46: Create a JIT-compiled lambda function that outputs `square` of input if it is even and `cube` of input if it is odd using the switch operator and assign it to `parity_switch`**"
   ]
  },
  {
   "cell_type": "code",
   "execution_count": 11,
   "id": "fa0702fc",
   "metadata": {
    "execution": {
     "iopub.execute_input": "2022-03-24T11:49:08.858195Z",
     "iopub.status.busy": "2022-03-24T11:49:08.857195Z",
     "iopub.status.idle": "2022-03-24T11:49:08.860703Z",
     "shell.execute_reply": "2022-03-24T11:49:08.861482Z",
     "shell.execute_reply.started": "2022-02-10T05:26:30.732722Z"
    },
    "papermill": {
     "duration": 0.049139,
     "end_time": "2022-03-24T11:49:08.861715",
     "exception": false,
     "start_time": "2022-03-24T11:49:08.812576",
     "status": "completed"
    },
    "tags": []
   },
   "outputs": [
    {
     "data": {
      "text/plain": [
       "<CompiledFunction at 0x7f86f05e3230>"
      ]
     },
     "execution_count": 11,
     "metadata": {},
     "output_type": "execute_result"
    }
   ],
   "source": [
    "parity_switch = jax.jit(lambda x: jax.lax.switch(jnp.remainder(x, 2), [square, cube], x))\n",
    "parity_switch"
   ]
  },
  {
   "cell_type": "markdown",
   "id": "563cb6b0",
   "metadata": {
    "papermill": {
     "duration": 0.036519,
     "end_time": "2022-03-24T11:49:08.934988",
     "exception": false,
     "start_time": "2022-03-24T11:49:08.898469",
     "status": "completed"
    },
    "tags": []
   },
   "source": [
    "**Exercise 47: Run `parity_switch` with the fourth element of `data_cumsum` and assign it to `parity_4`**"
   ]
  },
  {
   "cell_type": "code",
   "execution_count": 12,
   "id": "f9f53fe5",
   "metadata": {
    "execution": {
     "iopub.execute_input": "2022-03-24T11:49:09.015569Z",
     "iopub.status.busy": "2022-03-24T11:49:09.014287Z",
     "iopub.status.idle": "2022-03-24T11:49:09.066151Z",
     "shell.execute_reply": "2022-03-24T11:49:09.067122Z",
     "shell.execute_reply.started": "2022-02-10T05:26:30.750951Z"
    },
    "papermill": {
     "duration": 0.095963,
     "end_time": "2022-03-24T11:49:09.067369",
     "exception": false,
     "start_time": "2022-03-24T11:49:08.971406",
     "status": "completed"
    },
    "tags": []
   },
   "outputs": [
    {
     "data": {
      "text/plain": [
       "DeviceArray(166375, dtype=int32)"
      ]
     },
     "execution_count": 12,
     "metadata": {},
     "output_type": "execute_result"
    }
   ],
   "source": [
    "parity_4 = parity_switch(data_cumsum[3])\n",
    "parity_4"
   ]
  },
  {
   "cell_type": "markdown",
   "id": "2a062e8b",
   "metadata": {
    "papermill": {
     "duration": 0.038772,
     "end_time": "2022-03-24T11:49:09.145936",
     "exception": false,
     "start_time": "2022-03-24T11:49:09.107164",
     "status": "completed"
    },
    "tags": []
   },
   "source": [
    "**Exercise 48: Run `parity_switch` with the fifth element of `data_cumsum` and assign it to `parity_5`**"
   ]
  },
  {
   "cell_type": "code",
   "execution_count": 13,
   "id": "9639501c",
   "metadata": {
    "execution": {
     "iopub.execute_input": "2022-03-24T11:49:09.227169Z",
     "iopub.status.busy": "2022-03-24T11:49:09.226198Z",
     "iopub.status.idle": "2022-03-24T11:49:09.242699Z",
     "shell.execute_reply": "2022-03-24T11:49:09.241949Z",
     "shell.execute_reply.started": "2022-02-10T05:26:30.763130Z"
    },
    "papermill": {
     "duration": 0.059294,
     "end_time": "2022-03-24T11:49:09.242907",
     "exception": false,
     "start_time": "2022-03-24T11:49:09.183613",
     "status": "completed"
    },
    "tags": []
   },
   "outputs": [
    {
     "data": {
      "text/plain": [
       "DeviceArray(4900, dtype=int32)"
      ]
     },
     "execution_count": 13,
     "metadata": {},
     "output_type": "execute_result"
    }
   ],
   "source": [
    "parity_5 = parity_switch(data_cumsum[4])\n",
    "parity_5"
   ]
  },
  {
   "cell_type": "markdown",
   "id": "6d547a01",
   "metadata": {
    "papermill": {
     "duration": 0.037939,
     "end_time": "2022-03-24T11:49:09.318148",
     "exception": false,
     "start_time": "2022-03-24T11:49:09.280209",
     "status": "completed"
    },
    "tags": []
   },
   "source": [
    "**Exercise 49: Calculate the sum of the first four elements of `data_cumsum` using the for operator and assign it to `sum_four`**"
   ]
  },
  {
   "cell_type": "code",
   "execution_count": 14,
   "id": "6863cc9a",
   "metadata": {
    "execution": {
     "iopub.execute_input": "2022-03-24T11:49:09.404850Z",
     "iopub.status.busy": "2022-03-24T11:49:09.402159Z",
     "iopub.status.idle": "2022-03-24T11:49:09.462858Z",
     "shell.execute_reply": "2022-03-24T11:49:09.463575Z",
     "shell.execute_reply.started": "2022-02-10T05:26:30.795323Z"
    },
    "papermill": {
     "duration": 0.10647,
     "end_time": "2022-03-24T11:49:09.463817",
     "exception": false,
     "start_time": "2022-03-24T11:49:09.357347",
     "status": "completed"
    },
    "tags": []
   },
   "outputs": [
    {
     "data": {
      "text/plain": [
       "DeviceArray(111, dtype=int32)"
      ]
     },
     "execution_count": 14,
     "metadata": {},
     "output_type": "execute_result"
    }
   ],
   "source": [
    "sum_four = jax.lax.fori_loop(0, 4, lambda i, x: x+data_cumsum[i], 0)\n",
    "sum_four"
   ]
  },
  {
   "cell_type": "markdown",
   "id": "46bdc34d",
   "metadata": {
    "papermill": {
     "duration": 0.03922,
     "end_time": "2022-03-24T11:49:09.541897",
     "exception": false,
     "start_time": "2022-03-24T11:49:09.502677",
     "status": "completed"
    },
    "tags": []
   },
   "source": [
    "**Exercise 50: Keep subtracting 25 from `sum_four` until the result is negative using the while operator and assign it to `subtract_until_negative`**"
   ]
  },
  {
   "cell_type": "code",
   "execution_count": 15,
   "id": "0b08288c",
   "metadata": {
    "execution": {
     "iopub.execute_input": "2022-03-24T11:49:09.633591Z",
     "iopub.status.busy": "2022-03-24T11:49:09.632502Z",
     "iopub.status.idle": "2022-03-24T11:49:09.658753Z",
     "shell.execute_reply": "2022-03-24T11:49:09.658008Z",
     "shell.execute_reply.started": "2022-02-10T05:26:30.809039Z"
    },
    "papermill": {
     "duration": 0.077555,
     "end_time": "2022-03-24T11:49:09.658959",
     "exception": false,
     "start_time": "2022-03-24T11:49:09.581404",
     "status": "completed"
    },
    "tags": []
   },
   "outputs": [
    {
     "data": {
      "text/plain": [
       "DeviceArray(-14, dtype=int32)"
      ]
     },
     "execution_count": 15,
     "metadata": {},
     "output_type": "execute_result"
    }
   ],
   "source": [
    "subtract_until_negative = jax.lax.while_loop(lambda x: x>0, lambda x: x-25, sum_four)\n",
    "subtract_until_negative"
   ]
  },
  {
   "cell_type": "markdown",
   "id": "ec048b44",
   "metadata": {
    "papermill": {
     "duration": 0.038266,
     "end_time": "2022-03-24T11:49:09.736591",
     "exception": false,
     "start_time": "2022-03-24T11:49:09.698325",
     "status": "completed"
    },
    "tags": []
   },
   "source": [
    "<center>\n",
    "    This completes Set 5: Control Flows (Solutions 41-50) of <b>JaxTon</b>: <i>💯 JAX exercises</i>\n",
    "    <br>\n",
    "    You can find all the exercises and solutions on <a href=\"https://github.com/vopani/jaxton#exercises-\">GitHub</a>\n",
    "</center>"
   ]
  }
 ],
 "metadata": {
  "kernelspec": {
   "display_name": "Python 3",
   "language": "python",
   "name": "python3"
  },
  "language_info": {
   "codemirror_mode": {
    "name": "ipython",
    "version": 3
   },
   "file_extension": ".py",
   "mimetype": "text/x-python",
   "name": "python",
   "nbconvert_exporter": "python",
   "pygments_lexer": "ipython3",
   "version": "3.7.10"
  },
  "papermill": {
   "default_parameters": {},
   "duration": 70.679296,
   "end_time": "2022-03-24T11:49:12.845565",
   "environment_variables": {},
   "exception": null,
   "input_path": "__notebook__.ipynb",
   "output_path": "__notebook__.ipynb",
   "parameters": {},
   "start_time": "2022-03-24T11:48:02.166269",
   "version": "2.3.3"
  }
 },
 "nbformat": 4,
 "nbformat_minor": 5
}
