{
 "cells": [
  {
   "cell_type": "code",
   "execution_count": null,
   "metadata": {},
   "outputs": [],
   "source": [
    "import jax\n"
   ]
  },
  {
   "cell_type": "code",
   "execution_count": null,
   "metadata": {},
   "outputs": [],
   "source": [
    "def make_HiPPO(N, HiPPO_type=\"legs\"):\n",
    "    mat = []\n",
    "    for k in range(1, N + 1):\n",
    "        for n in range(1, N + 1):\n",
    "            if HiPPO_type == \"legt\":\n",
    "                mat = build_LegT(n, k)\n",
    "                # TODO\n",
    "            elif HiPPO_type == \"lagt\":\n",
    "                mat = build_LagT(alpha, beta, N)\n",
    "                # TODO\n",
    "            elif HiPPO_type == \"legs\":\n",
    "                mat = build_LegS(n, k)\n",
    "                # TODO\n",
    "            elif HiPPO_type == \"fourier\":\n",
    "                mat = build_FRU(N, theta=0.5)\n",
    "                # TODO\n",
    "            elif HiPPO_type == \"random\":\n",
    "                A = np.random.randn(N, N) / N\n",
    "                B = np.random.randn(N, 1)\n",
    "                #TODO\n",
    "            elif HiPPO_type == \"diagonal\":\n",
    "                A = -np.diag(np.exp(np.random.randn(N)))\n",
    "                B = np.random.randn(N, 1)\n",
    "                #TODO\n",
    "            else:\n",
    "                raise ValueError(\"Invalid HiPPO type\")\n",
    "    \n",
    "    return -np.array(mat)"
   ]
  },
  {
   "cell_type": "code",
   "execution_count": null,
   "metadata": {},
   "outputs": [],
   "source": [
    "# Translated Legendre (LegT)\n",
    "def build_LegT(n, k, lambda_n=1):\n",
    "    A = None\n",
    "    if lambda_n == 1:\n",
    "        B = np.sqrt(2*n+1)\n",
    "        A_base = np.sqrt(2*n+1) * np.sqrt(2*k+1)\n",
    "        if k <= n:\n",
    "            A = A_base * 1\n",
    "        elif k >= n:\n",
    "            A = A_base * np.power(-1, (n-k))\n",
    "        else:\n",
    "            raise ValueError(\"Invalid n and k\")\n",
    "            \n",
    "    elif lambda_n == (np.sqrt(2*n+1) * np.power(-1, n)):\n",
    "        B = (2*n+1) * np.power(-1, n)\n",
    "        A_base = (2*n+1)\n",
    "        if n <= k:\n",
    "            A = A_base\n",
    "        elif n >= k:\n",
    "            A = A_base * np.power(-1, n-k)\n",
    "        else:\n",
    "            raise ValueError(\"Invalid n and k\")\n",
    "        \n",
    "    return A, B"
   ]
  },
  {
   "cell_type": "code",
   "execution_count": null,
   "metadata": {},
   "outputs": [],
   "source": [
    "# Translated Laguerre (LagT)\n",
    "def build_LagT(alpha, beta, N):\n",
    "    big_lambda = np.exp(.5 * (ss.gammaln(np.arange(N)+alpha+1) - ss.gammaln(np.arange(N)+1)))\n",
    "    inverse_lambda = 1./big_lambda[:, None]\n",
    "    pre_A = (np.eye(N) * ((1 + beta) / 2)) + np.tril(np.ones((N, N)), -1)\n",
    "    pre_B = ss.binom(alpha + np.arange(N), np.arange(N))[:, None]\n",
    "    \n",
    "    A = -inverse_lambda * pre_A * big_lambda[None, :]\n",
    "    B =  np.exp(-.5 * ss.gammaln(1-alpha)) * np.power(beta, (1-alpha)/2) * inverse_lambda * pre_B \n",
    "    return A, B"
   ]
  },
  {
   "cell_type": "code",
   "execution_count": null,
   "metadata": {},
   "outputs": [],
   "source": [
    "#Scaled Legendre (LegS)\n",
    "def build_LegS(n, k):\n",
    "    A = None\n",
    "    B = np.sqrt(2*n+1)\n",
    "    if n > k:\n",
    "        A = np.sqrt(2*n+1) * np.sqrt(2*k+1)\n",
    "    elif n == k:\n",
    "        A = n + 1\n",
    "    else:\n",
    "        A = np.zeros((n, n))\n",
    "    return A, B"
   ]
  },
  {
   "cell_type": "code",
   "execution_count": null,
   "metadata": {},
   "outputs": [],
   "source": [
    "# Translated Fourier\n",
    "def build_FRU(N, theta=0.5):\n",
    "    freqs = np.arange(N//2)\n",
    "    d = np.stack([np.zeros(N//2), freqs], axis=-1).reshape(-1)[1:]\n",
    "    pre_A = np.pi*(-np.diag(d, 1) + np.diag(d, -1))\n",
    "    pre_B = np.zeros(N)\n",
    "    pre_B[0::2] = 2**.5\n",
    "    pre_B[0] = 1\n",
    "\n",
    "    # Subtract off rank correction - this corresponds to the other endpoint u(t-1) in this case\n",
    "    A = pre_A - pre_B[:, None] * pre_B[None, :]\n",
    "    B = pre_B[:, None]\n",
    "    return A, B"
   ]
  }
 ],
 "metadata": {
  "language_info": {
   "name": "python"
  },
  "orig_nbformat": 4
 },
 "nbformat": 4,
 "nbformat_minor": 2
}
