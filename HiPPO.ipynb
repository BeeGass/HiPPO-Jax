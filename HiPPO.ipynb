{
 "cells": [
  {
   "cell_type": "markdown",
   "metadata": {},
   "source": [
    "# HiPPO Matrices\n",
    "---"
   ]
  },
  {
   "cell_type": "markdown",
   "metadata": {},
   "source": [
    "## Load Packages"
   ]
  },
  {
   "cell_type": "code",
   "execution_count": 121,
   "metadata": {},
   "outputs": [
    {
     "data": {
      "text/plain": [
       "[CpuDevice(id=0)]"
      ]
     },
     "execution_count": 121,
     "metadata": {},
     "output_type": "execute_result"
    }
   ],
   "source": [
    "## import packages\n",
    "import jax\n",
    "import jax.numpy as jnp\n",
    "\n",
    "from jax.nn.initializers import lecun_normal, uniform\n",
    "from jax.numpy.linalg import eig, inv, matrix_power\n",
    "from jax.scipy.signal import convolve\n",
    "\n",
    "import os\n",
    "import requests\n",
    "\n",
    "from scipy import linalg as la\n",
    "from scipy import signal\n",
    "from scipy import special as ss\n",
    "\n",
    "## setup JAX to use TPUs if available\n",
    "try:\n",
    "    url = 'http:' + os.environ['TPU_NAME'].split(':')[1] + ':8475/requestversion/tpu_driver_nightly'\n",
    "    resp = requests.post(url)\n",
    "    jax.config.FLAGS.jax_xla_backend = 'tpu_driver'\n",
    "    jax.config.FLAGS.jax_backend_target = os.environ['TPU_NAME']\n",
    "except:\n",
    "    pass\n",
    "\n",
    "jax.devices()"
   ]
  },
  {
   "cell_type": "code",
   "execution_count": 122,
   "metadata": {},
   "outputs": [],
   "source": [
    "N=5"
   ]
  },
  {
   "cell_type": "markdown",
   "metadata": {},
   "source": [
    "## Instantiate The HiPPO Matrix"
   ]
  },
  {
   "cell_type": "markdown",
   "metadata": {},
   "source": [
    "## Translated Legendre (LegT)"
   ]
  },
  {
   "cell_type": "code",
   "execution_count": 123,
   "metadata": {},
   "outputs": [],
   "source": [
    "# Translated Legendre (LegT) - vectorized\n",
    "def build_LegT_V(N, lambda_n=1):\n",
    "    q = jnp.arange(N, dtype=jnp.float64)\n",
    "    k, n = jnp.meshgrid(q, q)\n",
    "    case = jnp.power(-1.0, (n-k))\n",
    "    A = None\n",
    "    B = None\n",
    "    \n",
    "    if lambda_n == 1:\n",
    "        A_base = -jnp.sqrt(2*n+1) * jnp.sqrt(2*k+1)\n",
    "        pre_D = jnp.sqrt(jnp.diag(2*q+1))\n",
    "        B = D = jnp.diag(pre_D)[:, None]\n",
    "        A = jnp.where(k <= n, A_base, A_base * case) # if n >= k, then case_2 * A_base is used, otherwise A_base\n",
    "        \n",
    "    elif lambda_n == 2: #(jnp.sqrt(2*n+1) * jnp.power(-1, n)):\n",
    "        A_base = -(2*n+1)\n",
    "        B = jnp.diag((2*q+1) * jnp.power(-1, n))[:, None]\n",
    "        A = jnp.where(k <= n, A_base * case, A_base) # if n >= k, then case_2 * A_base is used, otherwise A_base\n",
    "\n",
    "    return A, B"
   ]
  },
  {
   "cell_type": "code",
   "execution_count": 124,
   "metadata": {},
   "outputs": [],
   "source": [
    "# Translated Legendre (LegT) - non-vectorized\n",
    "def build_LegT(N, legt_type=\"legt\"):\n",
    "    Q = jnp.arange(N, dtype=jnp.float64)\n",
    "    pre_R = (2*Q + 1)\n",
    "    k, n = jnp.meshgrid(Q, Q)\n",
    "        \n",
    "    if legt_type == \"legt\":\n",
    "        R = jnp.sqrt(pre_R)\n",
    "        A = R[:, None] * jnp.where(n < k, (-1.)**(n-k), 1) * R[None, :]\n",
    "        B = R[:, None]\n",
    "        A = -A\n",
    "\n",
    "        # Halve again for timescale correctness\n",
    "        # A, B = A/2, B/2\n",
    "        #A *= 0.5\n",
    "        #B *= 0.5\n",
    "        \n",
    "    elif legt_type == \"lmu\":\n",
    "        R = pre_R[:, None]\n",
    "        A = jnp.where(n < k, -1, (-1.)**(n-k+1)) * R\n",
    "        B = (-1.)**Q[:, None] * R\n",
    "        \n",
    "    return A, B"
   ]
  },
  {
   "cell_type": "code",
   "execution_count": 125,
   "metadata": {},
   "outputs": [
    {
     "name": "stdout",
     "output_type": "stream",
     "text": [
      "nv:\n",
      " [[-1. -1. -1. -1. -1.]\n",
      " [ 3. -3. -3. -3. -3.]\n",
      " [-5.  5. -5. -5. -5.]\n",
      " [ 7. -7.  7. -7. -7.]\n",
      " [-9.  9. -9.  9. -9.]]\n",
      "v:\n",
      " [[-1. -1. -1. -1. -1.]\n",
      " [ 3. -3. -3. -3. -3.]\n",
      " [-5.  5. -5. -5. -5.]\n",
      " [ 7. -7.  7. -7. -7.]\n",
      " [-9.  9. -9.  9. -9.]]\n",
      "A Comparison:\n",
      "  True\n",
      "B Comparison:\n",
      "  True\n"
     ]
    },
    {
     "name": "stderr",
     "output_type": "stream",
     "text": [
      "/Users/beegass/.virtualenvs/s4/lib/python3.10/site-packages/jax/_src/numpy/lax_numpy.py:2062: UserWarning: Explicitly requested dtype <class 'jax.numpy.float64'> requested in arange is not available, and will be truncated to dtype float32. To enable more dtypes, set the jax_enable_x64 configuration option or the JAX_ENABLE_X64 shell environment variable. See https://github.com/google/jax#current-gotchas for more.\n",
      "  lax_internal._check_user_dtype_supported(dtype, \"arange\")\n"
     ]
    }
   ],
   "source": [
    "nv_LegT_A, nv_LegT_B = build_LegT(N=N, legt_type=\"lmu\")\n",
    "LegT_A, LegT_B = build_LegT_V(N=N, lambda_n=2)\n",
    "print(f\"nv:\\n\", nv_LegT_A)\n",
    "print(f\"v:\\n\", LegT_A)\n",
    "# print(f\"nv:\\n\", nv_LegT_B)\n",
    "# print(f\"v:\\n\", LegT_B)\n",
    "print(f\"A Comparison:\\n \", jnp.allclose(nv_LegT_A, LegT_A))\n",
    "print(f\"B Comparison:\\n \", jnp.allclose(nv_LegT_B, LegT_B))"
   ]
  },
  {
   "cell_type": "markdown",
   "metadata": {},
   "source": [
    "## Translated Laguerre (LagT)"
   ]
  },
  {
   "cell_type": "code",
   "execution_count": 126,
   "metadata": {},
   "outputs": [],
   "source": [
    "# Translated Laguerre (LagT) - non-vectorized\n",
    "def build_LagT(alpha, beta, N):\n",
    "    A = -jnp.eye(N) * (1 + beta) / 2 - jnp.tril(jnp.ones((N, N)), -1)\n",
    "    B = ss.binom(alpha + jnp.arange(N), jnp.arange(N))[:, None]\n",
    "\n",
    "    L = jnp.exp(.5 * (ss.gammaln(jnp.arange(N)+alpha+1) - ss.gammaln(jnp.arange(N)+1)))\n",
    "    A = (1./L[:, None]) * A * L[None, :]\n",
    "    B = (1./L[:, None]) * B * jnp.exp(-.5 * ss.gammaln(1-alpha)) * beta**((1-alpha)/2)\n",
    "    \n",
    "    return A, B"
   ]
  },
  {
   "cell_type": "code",
   "execution_count": 127,
   "metadata": {},
   "outputs": [],
   "source": [
    "# Translated Laguerre (LagT) - non-vectorized\n",
    "def build_LagT_V(alpha, beta, N):\n",
    "    L = jnp.exp(.5 * (ss.gammaln(jnp.arange(N)+alpha+1) - ss.gammaln(jnp.arange(N)+1)))\n",
    "    inv_L = 1./L[:, None]\n",
    "    pre_A = (jnp.eye(N) * ((1 + beta) / 2)) + jnp.tril(jnp.ones((N, N)), -1)\n",
    "    pre_B = ss.binom(alpha + jnp.arange(N), jnp.arange(N))[:, None]\n",
    "    \n",
    "    A = -inv_L * pre_A * L[None, :]\n",
    "    B =  jnp.exp(-.5 * ss.gammaln(1-alpha)) * jnp.power(beta, (1-alpha)/2) * inv_L * pre_B \n",
    "    \n",
    "    return A, B"
   ]
  },
  {
   "cell_type": "code",
   "execution_count": 128,
   "metadata": {},
   "outputs": [
    {
     "name": "stdout",
     "output_type": "stream",
     "text": [
      "nv:\n",
      "[[-1. -0. -0. -0. -0.]\n",
      " [-1. -1. -0. -0. -0.]\n",
      " [-1. -1. -1. -0. -0.]\n",
      " [-1. -1. -1. -1. -0.]\n",
      " [-1. -1. -1. -1. -1.]]\n",
      "v:\n",
      "[[-1. -0. -0. -0. -0.]\n",
      " [-1. -1. -0. -0. -0.]\n",
      " [-1. -1. -1. -0. -0.]\n",
      " [-1. -1. -1. -1. -0.]\n",
      " [-1. -1. -1. -1. -1.]]\n",
      "A Comparison:\n",
      "  True\n",
      "B Comparison:\n",
      "  True\n"
     ]
    }
   ],
   "source": [
    "nv_LagT_A, nv_LagT_B = build_LagT(alpha=0, beta=1, N=N)\n",
    "LagT_A, LagT_B = build_LagT_V(alpha=0, beta=1, N=N)\n",
    "print(f\"nv:\\n{nv_LagT_A}\")\n",
    "print(f\"v:\\n{LagT_A}\")\n",
    "# print(f\"nv:\\n{nv_LagT_B}\")\n",
    "# print(f\"v:\\n{LagT_B}\")\n",
    "print(f\"A Comparison:\\n \", jnp.allclose(nv_LagT_A, LagT_A))\n",
    "print(f\"B Comparison:\\n \", jnp.allclose(nv_LagT_B, LagT_B))"
   ]
  },
  {
   "cell_type": "markdown",
   "metadata": {},
   "source": [
    "## Scaled Legendre (LegS)"
   ]
  },
  {
   "cell_type": "code",
   "execution_count": 129,
   "metadata": {},
   "outputs": [],
   "source": [
    "#Scaled Legendre (LegS) vectorized\n",
    "def build_LegS_V(N):\n",
    "    q = jnp.arange(N, dtype=jnp.float64)\n",
    "    k, n = jnp.meshgrid(q, q)\n",
    "    pre_D = jnp.sqrt(jnp.diag(2*q+1))\n",
    "    B = D = jnp.diag(pre_D)[:, None]\n",
    "    \n",
    "    A_base = (-jnp.sqrt(2*n+1)) * jnp.sqrt(2*k+1)\n",
    "    case_2 = (n+1)/(2*n+1)\n",
    "    \n",
    "    A = jnp.where(n > k, A_base, 0.0) # if n > k, then A_base is used, otherwise 0\n",
    "    A = jnp.where(n == k, (A_base * case_2), A) # if n == k, then A_base is used, otherwise A\n",
    "    \n",
    "    return A, B"
   ]
  },
  {
   "cell_type": "code",
   "execution_count": 130,
   "metadata": {},
   "outputs": [],
   "source": [
    "#Scaled Legendre (LegS), non-vectorized\n",
    "def build_LegS(N):\n",
    "    q = jnp.arange(N, dtype=jnp.float64)  # q represents the values 1, 2, ..., N each column has\n",
    "    k, n = jnp.meshgrid(q, q)\n",
    "    r = 2 * q + 1\n",
    "    M = -(jnp.where(n >= k, r, 0) - jnp.diag(q)) # represents the state matrix M \n",
    "    D = jnp.sqrt(jnp.diag(2 * q + 1)) # represents the diagonal matrix D $D := \\text{diag}[(2n+1)^{\\frac{1}{2}}]^{N-1}_{n=0}$\n",
    "    A = D @ M @ jnp.linalg.inv(D)\n",
    "    B = jnp.diag(D)[:, None]\n",
    "    B = B.copy() # Otherwise \"UserWarning: given NumPY array is not writeable...\" after torch.as_tensor(B)\n",
    "    \n",
    "    return A, B"
   ]
  },
  {
   "cell_type": "code",
   "execution_count": 131,
   "metadata": {},
   "outputs": [
    {
     "name": "stdout",
     "output_type": "stream",
     "text": [
      "nv:\n",
      "[[-1.         0.         0.         0.         0.       ]\n",
      " [-1.7320508 -1.9999999  0.         0.         0.       ]\n",
      " [-2.236068  -3.8729835 -3.         0.         0.       ]\n",
      " [-2.6457512 -4.582576  -5.9160795 -4.         0.       ]\n",
      " [-3.        -5.196152  -6.708204  -7.9372544 -5.       ]]\n",
      "v:\n",
      "[[-1.         0.         0.         0.         0.       ]\n",
      " [-1.7320508 -2.         0.         0.         0.       ]\n",
      " [-2.236068  -3.8729832 -3.         0.         0.       ]\n",
      " [-2.6457512 -4.5825753 -5.9160795 -4.         0.       ]\n",
      " [-3.        -5.196152  -6.7082043 -7.937254  -5.       ]]\n",
      "A Comparison:\n",
      "  True\n",
      "B Comparison:\n",
      "  True\n"
     ]
    }
   ],
   "source": [
    "nv_LegS_A, nv_LegS_B = build_LegS(N=N)\n",
    "LegS_A, LegS_B = build_LegS_V(N=N)\n",
    "print(f\"nv:\\n{nv_LegS_A}\")\n",
    "print(f\"v:\\n{LegS_A}\")\n",
    "# print(f\"nv:\\n{nv_LegS_B}\")\n",
    "# print(f\"v:\\n{LegS_B}\")\n",
    "print(f\"A Comparison:\\n \", jnp.allclose(nv_LegS_A, LegS_A))\n",
    "print(f\"B Comparison:\\n \", jnp.allclose(nv_LegS_B, LegS_B))"
   ]
  },
  {
   "cell_type": "markdown",
   "metadata": {},
   "source": [
    "## Fourier Basis"
   ]
  },
  {
   "cell_type": "code",
   "execution_count": 132,
   "metadata": {},
   "outputs": [],
   "source": [
    "# Fourier Basis OPs and functions - vectorized\n",
    "def build_Fourier_V(N, fourier_type='FRU'):    \n",
    "    q = jnp.arange((N//2)*2, dtype=jnp.float64)\n",
    "    k, n = jnp.meshgrid(q, q)\n",
    "    \n",
    "    n_odd = n % 2 == 0\n",
    "    k_odd = k % 2 == 0\n",
    "    \n",
    "    case_1 = (n==k) & (n==0)\n",
    "    case_2_3 = ((k==0) & (n_odd)) | ((n==0) & (k_odd))\n",
    "    case_4 = (n_odd) & (k_odd)\n",
    "    case_5 = (n-k==1) & (k_odd)\n",
    "    case_6 = (k-n==1) & (n_odd)\n",
    "    \n",
    "    A = None\n",
    "    B = None\n",
    "    \n",
    "    if fourier_type == \"FRU\": # Fourier Recurrent Unit (FRU) - vectorized\n",
    "        A = jnp.diag(jnp.stack([jnp.zeros(N//2), jnp.zeros(N//2)], axis=-1).reshape(-1))\n",
    "        B = jnp.zeros(A.shape[1], dtype=jnp.float64)\n",
    "        q = jnp.arange((N//2)*2, dtype=jnp.float64)\n",
    "        \n",
    "        A = jnp.where(case_1, -1.0, \n",
    "                    jnp.where(case_2_3, -jnp.sqrt(2),\n",
    "                                jnp.where(case_4, -2, \n",
    "                                        jnp.where(case_5, jnp.pi * (n//2), \n",
    "                                                    jnp.where(case_6, -jnp.pi * (k//2), 0.0)))))\n",
    "        \n",
    "        B = B.at[::2].set(jnp.sqrt(2))\n",
    "        B = B.at[0].set(1)\n",
    "        \n",
    "    elif fourier_type == \"FouT\": # truncated Fourier (FouT) - vectorized\n",
    "        A = jnp.diag(jnp.stack([jnp.zeros(N//2), jnp.zeros(N//2)], axis=-1).reshape(-1))\n",
    "        B = jnp.zeros(A.shape[1], dtype=jnp.float64)\n",
    "        k, n = jnp.meshgrid(q, q)\n",
    "        n_odd = n % 2 == 0\n",
    "        k_odd = k % 2 == 0\n",
    "        \n",
    "        A = jnp.where(case_1, -1.0, \n",
    "                    jnp.where(case_2_3, -jnp.sqrt(2),\n",
    "                                jnp.where(case_4, -2, \n",
    "                                        jnp.where(case_5, jnp.pi * (n//2), \n",
    "                                                    jnp.where(case_6, -jnp.pi * (k//2), 0.0)))))\n",
    "        \n",
    "        B = B.at[::2].set(jnp.sqrt(2))\n",
    "        B = B.at[0].set(1)\n",
    "        \n",
    "        A = 2 * A\n",
    "        B = 2 * B\n",
    "        \n",
    "    elif fourier_type == \"fourier_decay\":\n",
    "        A = jnp.diag(jnp.stack([jnp.zeros(N//2), jnp.zeros(N//2)], axis=-1).reshape(-1))\n",
    "        B = jnp.zeros(A.shape[1], dtype=jnp.float64)\n",
    "        \n",
    "        A = jnp.where(case_1, -1.0, \n",
    "                    jnp.where(case_2_3, -jnp.sqrt(2),\n",
    "                                jnp.where(case_4, -2, \n",
    "                                        jnp.where(case_5, 2 * jnp.pi * (n//2), \n",
    "                                                    jnp.where(case_6, 2 * -jnp.pi * (k//2), 0.0)))))\n",
    "        \n",
    "        B = B.at[::2].set(jnp.sqrt(2))\n",
    "        B = B.at[0].set(1)\n",
    "        \n",
    "        A = 0.5 * A\n",
    "        B = 0.5 * B\n",
    "        \n",
    "    \n",
    "    \n",
    "    B = B[:, None]\n",
    "        \n",
    "    return A, B"
   ]
  },
  {
   "cell_type": "code",
   "execution_count": 133,
   "metadata": {},
   "outputs": [],
   "source": [
    "def build_Fourier(N, fourier_type='FRU'):\n",
    "    freqs = jnp.arange(N//2)\n",
    "    \n",
    "    if fourier_type == \"FRU\": # Fourier Recurrent Unit (FRU) - non-vectorized\n",
    "        d = jnp.stack([jnp.zeros(N//2), freqs], axis=-1).reshape(-1)[1:]\n",
    "        A = jnp.pi*(-jnp.diag(d, 1) + jnp.diag(d, -1))\n",
    "        \n",
    "        B = jnp.zeros(A.shape[1])\n",
    "        B = B.at[0::2].set(jnp.sqrt(2))\n",
    "        B = B.at[0].set(1)\n",
    "        \n",
    "        A = A - B[:, None] * B[None, :]\n",
    "        B = B[:, None]\n",
    "\n",
    "    elif fourier_type == \"FouT\": # truncated Fourier (FouT) - non-vectorized\n",
    "        freqs *= 2\n",
    "        d = jnp.stack([jnp.zeros(N//2), freqs], axis=-1).reshape(-1)[1:]\n",
    "        A = jnp.pi*(-jnp.diag(d, 1) + jnp.diag(d, -1))\n",
    "        \n",
    "        B = jnp.zeros(A.shape[1])\n",
    "        B = B.at[0::2].set(jnp.sqrt(2))\n",
    "        B = B.at[0].set(1)\n",
    "\n",
    "        # Subtract off rank correction - this corresponds to the other endpoint u(t-1) in this case\n",
    "        A = A - B[:, None] * B[None, :] * 2\n",
    "        B = B[:, None] * 2\n",
    "        \n",
    "    elif fourier_type == \"fourier_decay\":\n",
    "        d = jnp.stack([jnp.zeros(N//2), freqs], axis=-1).reshape(-1)[1:]\n",
    "        A = jnp.pi*(-jnp.diag(d, 1) + jnp.diag(d, -1))\n",
    "        \n",
    "        B = jnp.zeros(A.shape[1])\n",
    "        B = B.at[0::2].set(jnp.sqrt(2))\n",
    "        B = B.at[0].set(1)\n",
    "\n",
    "        # Subtract off rank correction - this corresponds to the other endpoint u(t-1) in this case\n",
    "        A = A - 0.5 * B[:, None] * B[None, :]\n",
    "        B = 0.5 * B[:, None]\n",
    "        \n",
    "            \n",
    "    return A, B"
   ]
  },
  {
   "cell_type": "code",
   "execution_count": 134,
   "metadata": {},
   "outputs": [
    {
     "name": "stdout",
     "output_type": "stream",
     "text": [
      "nv:\n",
      "[[-1.         0.        -1.4142135  0.       ]\n",
      " [ 0.         0.         0.         0.       ]\n",
      " [-1.4142135  0.        -1.9999999 -3.1415927]\n",
      " [ 0.         0.         3.1415927  0.       ]]\n",
      "v:\n",
      "[[-1.        -0.        -1.4142135  0.       ]\n",
      " [ 0.         0.         0.         0.       ]\n",
      " [-1.4142135  0.        -2.        -3.1415927]\n",
      " [ 0.         0.         3.1415927  0.       ]]\n",
      "A Comparison:\n",
      " True\n",
      "B Comparison:\n",
      " True\n"
     ]
    },
    {
     "name": "stderr",
     "output_type": "stream",
     "text": [
      "/Users/beegass/.virtualenvs/s4/lib/python3.10/site-packages/jax/_src/numpy/lax_numpy.py:1939: UserWarning: Explicitly requested dtype <class 'jax.numpy.float64'> requested in zeros is not available, and will be truncated to dtype float32. To enable more dtypes, set the jax_enable_x64 configuration option or the JAX_ENABLE_X64 shell environment variable. See https://github.com/google/jax#current-gotchas for more.\n",
      "  lax_internal._check_user_dtype_supported(dtype, \"zeros\")\n"
     ]
    }
   ],
   "source": [
    "nv_Fourier_A, nv_Fourier_B = build_Fourier(N=N, fourier_type='FRU')\n",
    "Fourier_A, Fourier_B = build_Fourier_V(N=N, fourier_type='FRU')\n",
    "print(f\"nv:\\n{nv_Fourier_A}\")\n",
    "print(f\"v:\\n{Fourier_A}\")\n",
    "# print(f\"nv:\\n{nv_Fourier_B}\")\n",
    "# print(f\"v:\\n{Fourier_B}\")\n",
    "print(f\"A Comparison:\\n {jnp.allclose(nv_Fourier_A, Fourier_A)}\")\n",
    "print(f\"B Comparison:\\n {jnp.allclose(nv_Fourier_B, Fourier_B)}\")"
   ]
  },
  {
   "cell_type": "code",
   "execution_count": 135,
   "metadata": {},
   "outputs": [],
   "source": [
    "def make_HiPPO(N, v='nv', HiPPO_type=\"legs\", lambda_n=1, fourier_type=\"FRU\", alpha=0, beta=1):\n",
    "    A = None\n",
    "    B = None\n",
    "    for k in range(1, N + 1):\n",
    "        for n in range(1, N + 1):\n",
    "            if HiPPO_type == \"legt\":\n",
    "                if v == 'nv':\n",
    "                    A, B = build_LegT(N=N, lambda_n=lambda_n)\n",
    "                else:\n",
    "                 A, B = build_LegT_V(N=N, lambda_n=lambda_n) \n",
    "                \n",
    "            elif HiPPO_type == \"lagt\":\n",
    "                if v == 'nv':\n",
    "                    A, B = build_LagT(alpha=alpha, beta=beta, N=N)\n",
    "                else:\n",
    "                    A, B = build_LagT_V(alpha=alpha, beta=beta, N=N)\n",
    "                \n",
    "            elif HiPPO_type == \"legs\":\n",
    "                if v == 'nv':\n",
    "                    A, B = build_LegS(N=N)\n",
    "                else:\n",
    "                    A, B = build_LegS_V(N=N)\n",
    "                \n",
    "            elif HiPPO_type == \"fourier\":\n",
    "                if v == 'nv':\n",
    "                    A, B = build_Fourier(N=N, fourier_type=fourier_type)\n",
    "                else:\n",
    "                    A, B = build_Fourier_V(N=N, fourier_type=fourier_type)\n",
    "                \n",
    "            elif HiPPO_type == \"random\":\n",
    "                A = jnp.random.randn(N, N) / N\n",
    "                B = jnp.random.randn(N, 1)\n",
    "                \n",
    "            elif HiPPO_type == \"diagonal\":\n",
    "                A = -jnp.diag(jnp.exp(jnp.random.randn(N)))\n",
    "                B = jnp.random.randn(N, 1)\n",
    "                \n",
    "            else:\n",
    "                raise ValueError(\"Invalid HiPPO type\")\n",
    "    \n",
    "    return -jnp.array(A), B"
   ]
  },
  {
   "cell_type": "code",
   "execution_count": 136,
   "metadata": {},
   "outputs": [
    {
     "name": "stdout",
     "output_type": "stream",
     "text": [
      "v:\n",
      " [[1.       ]\n",
      " [1.7320508]\n",
      " [2.236068 ]\n",
      " [2.6457512]\n",
      " [3.       ]]\n",
      "A Comparison:\n",
      "  True\n",
      "B Comparison:\n",
      "  True\n",
      "(1024, 5, 5)\n"
     ]
    }
   ],
   "source": [
    "nv_A, nv_B = make_HiPPO(N=N, v='nv', HiPPO_type=\"legs\", lambda_n=1, fourier_type=\"FRU\", alpha=0, beta=1)\n",
    "v_A, v_B = make_HiPPO(N=N, v='v', HiPPO_type=\"legs\", lambda_n=1, fourier_type=\"FRU\", alpha=0, beta=1)\n",
    "#print(f\"nv:\\n\", nv_A)\n",
    "#print(f\"v:\\n\", v_A)\n",
    "# print(f\"nv:\\n\", nv_B)\n",
    "print(f\"v:\\n\", v_B)\n",
    "print(f\"A Comparison:\\n \", jnp.allclose(nv_A, v_A))\n",
    "print(f\"B Comparison:\\n \", jnp.allclose(nv_B, v_B))\n",
    "\n",
    "max_length=1024\n",
    "print(jnp.empty((max_length, N, N), dtype=v_A.dtype).shape)"
   ]
  }
 ],
 "metadata": {
  "interpreter": {
   "hash": "55b19198cba6a6c08efa938617c3ec32f04b9bd8139b06d5973f0a16f8c78735"
  },
  "kernelspec": {
   "display_name": "Python 3.10.4 ('s4')",
   "language": "python",
   "name": "python3"
  },
  "language_info": {
   "codemirror_mode": {
    "name": "ipython",
    "version": 3
   },
   "file_extension": ".py",
   "mimetype": "text/x-python",
   "name": "python",
   "nbconvert_exporter": "python",
   "pygments_lexer": "ipython3",
   "version": "3.10.4"
  },
  "orig_nbformat": 4
 },
 "nbformat": 4,
 "nbformat_minor": 2
}
