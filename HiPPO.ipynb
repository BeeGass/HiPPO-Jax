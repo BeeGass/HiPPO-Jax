{
 "cells": [
  {
   "cell_type": "code",
   "execution_count": null,
   "metadata": {},
   "outputs": [],
   "source": [
    "import jax\n"
   ]
  },
  {
   "cell_type": "code",
   "execution_count": null,
   "metadata": {},
   "outputs": [],
   "source": [
    "def make_HiPPO(N, HiPPO_type=\"legs\"):\n",
    "    mat = []\n",
    "    for k in range(1, N + 1):\n",
    "        for n in range(1, N + 1):\n",
    "            if HiPPO_type == \"legt\":\n",
    "                mat = build_LegT(n, k)\n",
    "                # TODO\n",
    "            elif HiPPO_type == \"lagt\":\n",
    "                mat = build_LagT(alpha, beta, N)\n",
    "                # TODO\n",
    "            elif HiPPO_type == \"legs\":\n",
    "                mat = build_LegS(n, k)\n",
    "                # TODO\n",
    "            elif HiPPO_type == \"fourier\":\n",
    "                mat = build_FRU(N, theta=0.5)\n",
    "                # TODO\n",
    "            elif HiPPO_type == \"random\":\n",
    "                A = np.random.randn(N, N) / N\n",
    "                B = np.random.randn(N, 1)\n",
    "                #TODO\n",
    "            elif HiPPO_type == \"diagonal\":\n",
    "                A = -np.diag(np.exp(np.random.randn(N)))\n",
    "                B = np.random.randn(N, 1)\n",
    "                #TODO\n",
    "            else:\n",
    "                raise ValueError(\"Invalid HiPPO type\")\n",
    "    \n",
    "    return -np.array(mat)"
   ]
  },
  {
   "cell_type": "markdown",
   "metadata": {},
   "source": [
    "## Translated Legendre (LegT)"
   ]
  },
  {
   "cell_type": "code",
   "execution_count": null,
   "metadata": {},
   "outputs": [],
   "source": [
    "# Translated Legendre (LegT) - vectorized\n",
    "def build_LegT(N, lambda_n=1):\n",
    "    q = jnp.arange(N, dtype=jnp.float64)\n",
    "    n, k = jnp.meshgrid(q, q)\n",
    "    case = jnp.power(-1.0, (n-k))\n",
    "    A = None\n",
    "    B = None\n",
    "    \n",
    "    if lambda_n == 1:\n",
    "        A_base = (-jnp.sqrt(2*n+1)) * jnp.sqrt(2*k+1)\n",
    "        pre_D = jnp.sqrt(jnp.diag(2*q+1))\n",
    "        B = D = jnp.diag(pre_D)[:, None]\n",
    "        A = jnp.where(n <= k, A_base * case, A_base) # if n >= k, then case_2 * A_base is used, otherwise A_base\n",
    "        \n",
    "    elif lambda_n == (np.sqrt(2*n+1) * np.power(-1, n)):\n",
    "        A_base = 2*n+1\n",
    "        B = jnp.diag(2*q+1) * jnp.power(-1, n)\n",
    "        A = jnp.where(n >= k, A_base, A_base * case) # if n >= k, then case_2 * A_base is used, otherwise A_base\n",
    "\n",
    "    return A, B"
   ]
  },
  {
   "cell_type": "code",
   "execution_count": null,
   "metadata": {},
   "outputs": [],
   "source": [
    "# Translated Legendre (LegT) - non-vectorized\n",
    "def build_LegT(N):\n",
    "    Q = np.arange(N, dtype=np.float64)\n",
    "    R = (2*Q + 1)[:, None] # / theta\n",
    "    n, k = np.meshgrid(Q, Q)\n",
    "    A = np.where(n < k, -1, (-1.)**(n-k+1)) * R\n",
    "    B = (-1.)**Q[:, None] * R\n",
    "    return A, B"
   ]
  },
  {
   "cell_type": "markdown",
   "metadata": {},
   "source": [
    "## Translated Laguerre (LagT)"
   ]
  },
  {
   "cell_type": "code",
   "execution_count": null,
   "metadata": {},
   "outputs": [],
   "source": [
    "# Translated Laguerre (LagT) - non-vectorized\n",
    "def build_LagT(alpha, beta, N):\n",
    "    big_lambda = jnp.exp(.5 * (ss.gammaln(jnp.arange(N)+alpha+1) - ss.gammaln(jnp.arange(N)+1)))\n",
    "    inverse_lambda = 1./big_lambda[:, None]\n",
    "    pre_A = (jnp.eye(N) * ((1 + beta) / 2)) + jnp.tril(np.ones((N, N)), -1)\n",
    "    pre_B = ss.binom(alpha + jnp.arange(N), jnp.arange(N))[:, None]\n",
    "    \n",
    "    A = -inverse_lambda * pre_A * big_lambda[None, :]\n",
    "    B =  jnp.exp(-.5 * ss.gammaln(1-alpha)) * jnp.power(beta, (1-alpha)/2) * inverse_lambda * pre_B \n",
    "    return A, B"
   ]
  },
  {
   "cell_type": "markdown",
   "metadata": {},
   "source": [
    "## Scaled Legendre (LegS)"
   ]
  },
  {
   "cell_type": "code",
   "execution_count": null,
   "metadata": {},
   "outputs": [],
   "source": [
    "# Scaled Legendre (LegS) vectorized \n",
    "def build_LegS(N):\n",
    "    q = jnp.arange(N, dtype=jnp.float64)\n",
    "    n, k = jnp.meshgrid(q, q)\n",
    "    pre_D = jnp.sqrt(jnp.diag(2*q+1))\n",
    "    B = D = jnp.diag(pre_D)[:, None]\n",
    "    \n",
    "    A_base = (-jnp.sqrt(2*n+1)) * jnp.sqrt(2*k+1)\n",
    "    case_2 = (n+1)/(2*n+1) \n",
    "    \n",
    "    A = jnp.where(n > k, A_base, 0.0) # if n > k, then A_base is used, otherwise 0\n",
    "    A = jnp.where(n == k, (A_base * case_2), A) # if n == k, then A_base is used, otherwise A\n",
    "    \n",
    "    return A, B"
   ]
  },
  {
   "cell_type": "code",
   "execution_count": null,
   "metadata": {},
   "outputs": [],
   "source": [
    "# Scaled Legendre (LegS), non-vectorized\n",
    "def build_LegS(N):\n",
    "    q = jnp.arange(N, dtype=jnp.float64) # q represents the values 1, 2, ..., N each column has\n",
    "    n, k = jnp.meshgrid(q, q)\n",
    "    M = -(jnp.where(n >= k, 2*q+1, 0) - jnp.diag(q)) # represents the state matrix M \n",
    "    D = jnp.sqrt(jnp.diag(2*q+1)) # represents the diagonal matrix D $D := \\text{diag}[(2n+1)^{\\frac{1}{2}}]^{N-1}_{n=0}$\n",
    "    A = D @ M @ jnp.linalg.inv(D)\n",
    "    B = jnp.diag(D)[:, None]\n",
    "    \n",
    "    return A, B"
   ]
  },
  {
   "cell_type": "markdown",
   "metadata": {},
   "source": [
    "## Truncated Fourier (FouT)"
   ]
  },
  {
   "cell_type": "code",
   "execution_count": null,
   "metadata": {},
   "outputs": [],
   "source": [
    "# truncated Fourier (FouT) - vectorized\n",
    "def build_FouT_V(N):\n",
    "    A = jnp.diag(jnp.stack([jnp.zeros(N//2), jnp.zeros(N//2)], axis=-1).reshape(-1))\n",
    "    B = jnp.zeros(A.shape[1], dtype=jnp.float64)\n",
    "    q = jnp.arange((N//2)*2, dtype=jnp.float64)\n",
    "    n, k = jnp.meshgrid(q, q)\n",
    "    n_odd = n % 2 == 0\n",
    "    k_odd = k % 2 == 0\n",
    "    \n",
    "    case_1 = (n==k) & (n==0)\n",
    "    case_2_3 = ((k==0) & (n_odd)) | ((n==0) & (k_odd))\n",
    "    case_4 = (n_odd) & (k_odd)\n",
    "    case_5 = (n-k==1) & (k_odd)\n",
    "    case_6 = (k-n==1) & (n_odd)\n",
    "    \n",
    "    A = jnp.where(case_1, -1.0, \n",
    "                  jnp.where(case_2_3, -jnp.sqrt(2),\n",
    "                            jnp.where(case_4, -2, \n",
    "                                      jnp.where(case_5, -jnp.pi * (n//2), \n",
    "                                                jnp.where(case_6, jnp.pi * (k//2), 0.0)))))\n",
    "    \n",
    "    B = B.at[::2].set(jnp.sqrt(2))\n",
    "    B = B.at[0].set(1)\n",
    "    #A = 2 * A\n",
    "    #B = 2 * B\n",
    "    \n",
    "    B = B[:, None]\n",
    "        \n",
    "    return A, B"
   ]
  },
  {
   "cell_type": "code",
   "execution_count": null,
   "metadata": {},
   "outputs": [],
   "source": [
    "# truncated Fourier (FouT) - non-vectorized\n",
    "def build_FouT(N):\n",
    "    freqs = jnp.arange(N//2)\n",
    "    d = jnp.stack([jnp.zeros(N//2), freqs], axis=-1).reshape(-1)[1:]\n",
    "    A = jnp.pi*(-jnp.diag(d, 1) + jnp.diag(d, -1))\n",
    "    \n",
    "    B = jnp.zeros(A.shape[1])\n",
    "    B = B.at[0::2].set(jnp.sqrt(2))\n",
    "    B = B.at[0].set(1)\n",
    "    \n",
    "    A = A - B[:, None] * B[None, :]\n",
    "    B = B[:, None]\n",
    "    \n",
    "    return A, B"
   ]
  }
 ],
 "metadata": {
  "language_info": {
   "name": "python"
  },
  "orig_nbformat": 4
 },
 "nbformat": 4,
 "nbformat_minor": 2
}
