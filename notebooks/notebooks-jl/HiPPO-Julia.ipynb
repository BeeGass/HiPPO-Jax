{
 "cells": [
  {
   "cell_type": "code",
   "execution_count": 113,
   "id": "25fc8c3d",
   "metadata": {},
   "outputs": [],
   "source": [
    "using LinearAlgebra;\n",
    "using SpecialFunctions;\n",
    "using ControlSystems;\n",
    "using Plots;\n",
    "using VectorizedRoutines.Matlab"
   ]
  },
  {
   "cell_type": "markdown",
   "id": "6afe28f3",
   "metadata": {},
   "source": [
    "## LegT Measure\n"
   ]
  },
  {
   "cell_type": "code",
   "execution_count": 114,
   "id": "9b31539e",
   "metadata": {},
   "outputs": [
    {
     "data": {
      "text/plain": [
       "legt_ss (generic function with 1 method)"
      ]
     },
     "metadata": {},
     "output_type": "display_data"
    }
   ],
   "source": [
    "function legt_ss(dim::Integer, theta::Real)\n",
    "    B = (2 * [0:dim-1;] .+ 1) .^ (1 / 2)\n",
    "    A = -inv(theta) .* (B * B') .* Matrix{Integer}((-1) .^ triu([0:dim-1;] * ones(dim)' - ones(dim) * [0:dim-1;]'))\n",
    "\n",
    "    legt = ss(A, B, Matrix(I, dim, dim), 0)\n",
    "    return legt\n",
    "end"
   ]
  },
  {
   "cell_type": "code",
   "execution_count": 115,
   "id": "4024265c",
   "metadata": {},
   "outputs": [],
   "source": [
    "# N=10\n",
    "# k, n = meshgrid(0:(N-1), 0:(N-1))\n",
    "# k\n",
    "# n"
   ]
  },
  {
   "cell_type": "code",
   "execution_count": 116,
   "id": "ae385e7e",
   "metadata": {},
   "outputs": [],
   "source": [
    "# N=10\n",
    "# k, n = meshgrid([0:N-1;], [0:N-1;])\n",
    "# k\n",
    "# n"
   ]
  },
  {
   "cell_type": "code",
   "execution_count": 117,
   "id": "63bcbb39",
   "metadata": {},
   "outputs": [
    {
     "data": {
      "text/plain": [
       "build_LegT (generic function with 2 methods)"
      ]
     },
     "metadata": {},
     "output_type": "display_data"
    }
   ],
   "source": [
    "function build_LegT(N::Integer, λ_n::Integer=1)\n",
    "    k, n = meshgrid([0:N-1;], [0:N-1;])\n",
    "    case = -1 ^ (n - k)\n",
    "    A = missing\n",
    "    B = missing\n",
    "\n",
    "    if λ_n == 1\n",
    "        A_base = sqrt((2 .* n) .+ 1) .* sqrt((2 .* k) .+ 1)\n",
    "        pre_D = sqrt.(Diagonal((2 .* [0:N-1;]) .+ 1))\n",
    "        B = D = dropdims(Diagonal(pre_D), dims=1)\n",
    "        A = @.ifelse(\n",
    "            k <= n,\n",
    "             A_base, \n",
    "             A_base .* case\n",
    "            )  # if n >= k, then case_2 * A_base is used, otherwise A_base\n",
    "\n",
    "    elseif λ_n == 2\n",
    "        A_base = (-1) .* ((2 .* n) .+ 1) \n",
    "        B = Diagonal(((2 .* [0:N-1;]) .+ 1) .* ((-1) .^ (n)))[:, None]\n",
    "        A = @.ifelse(\n",
    "            k <= n, \n",
    "            A_base * case, \n",
    "            A_base\n",
    "            )  # if n >= k, then case_2 * A_base is used, otherwise A_base\n",
    "    else\n",
    "        error(\"lambda must be 1 or 2\")\n",
    "\n",
    "    end\n",
    "\n",
    "    return A, B\n",
    "end"
   ]
  },
  {
   "cell_type": "markdown",
   "id": "620d4403",
   "metadata": {},
   "source": [
    "## LagT Measure\n"
   ]
  },
  {
   "cell_type": "code",
   "execution_count": 118,
   "id": "a8c4f0bd",
   "metadata": {},
   "outputs": [
    {
     "data": {
      "text/plain": [
       "lagt_ss (generic function with 3 methods)"
      ]
     },
     "metadata": {},
     "output_type": "display_data"
    }
   ],
   "source": [
    "function lagt_ss(dim::Integer, alpha::Real=0, beta::Real=1)\n",
    "    A = -tril(ones(dim, dim), -1) - ((1 + beta) / 2) * I\n",
    "    B = Vector{Float64}(1:dim)\n",
    "    B = gamma.((B .+ alpha)) ./ (gamma.(B) .* gamma(alpha + 1))\n",
    "\n",
    "    L = exp.(0.5 .* (loggamma.((B .+ beta)) .- loggamma.(B)))\n",
    "    A = inv.(L) .* A .* L\n",
    "    B = inv.(L) .* B .* exp.(-0.5 .* loggamma.((B .+ beta))) .* beta^((1 - alpha) / 2)\n",
    "\n",
    "    lagt = ss(A, B, Matrix(I, dim, dim), 0)\n",
    "    return lagt\n",
    "end\n",
    "\n",
    "function lagt_ss(dim::Integer, beta::Real=1)\n",
    "    return lagt_ss(dim, 0, beta)\n",
    "end\n",
    "\n",
    "function lagt_ss(dim::Integer)\n",
    "    return lagt_ss(dim, 1)\n",
    "end"
   ]
  },
  {
   "cell_type": "code",
   "execution_count": 119,
   "id": "e194123e",
   "metadata": {},
   "outputs": [
    {
     "data": {
      "text/plain": [
       "build_LagT (generic function with 3 methods)"
      ]
     },
     "metadata": {},
     "output_type": "display_data"
    }
   ],
   "source": [
    "function build_LagT(N::Integer, alpha::Real=0, beta::Real=1)\n",
    "    A = missing\n",
    "    B = missing\n",
    "\n",
    "    q = [0:N-1]\n",
    "\n",
    "    L = exp.(0.5 .* (loggamma.((q .+ alpha .+ 1)) .- loggamma.(q .+ 1)))\n",
    "    inv_L = 1.0 ./ (L[:, None])\n",
    "\n",
    "    pre_A = (Matrix{Float64}(I, N, N) .* ((1 .+ beta) ./ 2)) .+ UnitLowerTriangular((ones(N, N) .* Matrix(0.0I, N, N)))\n",
    "    pre_B = (binomial((alpha .+ q), q))[:, None]\n",
    "    A = -inv_L .* pre_A .* L[None, :]\n",
    "    B = (\n",
    "        exp(-0.5 .* loggamma.(1 .- alpha))\n",
    "        .* (beta .^ ((1 .- alpha) ./ 2))\n",
    "        .* inv_L\n",
    "        .* pre_B\n",
    "    )\n",
    "\n",
    "    return A, B\n",
    "end"
   ]
  },
  {
   "cell_type": "markdown",
   "id": "acb9c4da",
   "metadata": {},
   "source": [
    "## LegS Measure"
   ]
  },
  {
   "cell_type": "code",
   "execution_count": 120,
   "id": "277b10da",
   "metadata": {},
   "outputs": [
    {
     "data": {
      "text/plain": [
       "legs_ss (generic function with 1 method)"
      ]
     },
     "metadata": {},
     "output_type": "display_data"
    }
   ],
   "source": [
    "function legs_ss(dim::Integer)\n",
    "    q = [0:dim-1;]\n",
    "    r = 2 * q .+ 1\n",
    "    M = -(tril(ones(dim) * r') - diagm(q))\n",
    "    T = sqrt(diagm(r))\n",
    "    A = T * M * inv(T)\n",
    "    B = diag(T)\n",
    "\n",
    "    legs = ss(A, B, Matrix(I, dim, dim), 0)\n",
    "    return legs\n",
    "end"
   ]
  },
  {
   "cell_type": "code",
   "execution_count": 121,
   "id": "a45c029e",
   "metadata": {},
   "outputs": [
    {
     "data": {
      "text/plain": [
       "build_LegS (generic function with 1 method)"
      ]
     },
     "metadata": {},
     "output_type": "display_data"
    }
   ],
   "source": [
    "function build_LegS(N::Integer)\n",
    "    k, n = meshgrid(0:(N-1), 0:(N-1))\n",
    "    pre_D = sqrt(Diagonal(2 .* q .+ 1))\n",
    "    B = D = Diagonal(pre_D)[:, None]\n",
    "\n",
    "    A_base = (-sqrt(2 .* n .+ 1)) .* sqrt(2 .* k .+ 1)\n",
    "    case_2 = (n .+ 1) ./ (2 .* n .+ 1)\n",
    "\n",
    "    A = @.ifelse(\n",
    "        n > k, A_base, 0.0\n",
    "        ) # if n > k, then A_base is used, otherwise 0\n",
    "    A = @.ifelse(\n",
    "        n == k, (A_base .* case_2), A\n",
    "    )  # if n == k, then A_base is used, otherwise A\n",
    "\n",
    "    return A, B\n",
    "end"
   ]
  },
  {
   "cell_type": "markdown",
   "id": "89df6bf0",
   "metadata": {},
   "source": [
    "## Make State-Space System"
   ]
  },
  {
   "cell_type": "code",
   "execution_count": 122,
   "id": "36c1a4c5",
   "metadata": {},
   "outputs": [
    {
     "data": {
      "text/plain": [
       "cont_or_disc (generic function with 2 methods)"
      ]
     },
     "metadata": {},
     "output_type": "display_data"
    }
   ],
   "source": [
    "function cont_or_disc(A, B, C, D, step::Integer=nothing)\n",
    "    sys = nothing\n",
    "    \n",
    "    if step == nothing\n",
    "        sys = ss(A, B, C, D) # continuous-time system\n",
    "    else\n",
    "        sys = ss(A, B, C, D, step) # discrete-time system\n",
    "    end\n",
    "\n",
    "    return sys\n",
    "end"
   ]
  },
  {
   "cell_type": "markdown",
   "id": "c8af79dd",
   "metadata": {},
   "source": [
    "## Visualizations "
   ]
  },
  {
   "cell_type": "markdown",
   "id": "bf542ee2",
   "metadata": {},
   "source": [
    "#### Bryan's"
   ]
  },
  {
   "cell_type": "markdown",
   "id": "c57fcad8",
   "metadata": {},
   "source": [
    "## LegT"
   ]
  },
  {
   "cell_type": "markdown",
   "id": "359d6785",
   "metadata": {},
   "source": [
    "**LegT Discrete**"
   ]
  },
  {
   "cell_type": "code",
   "execution_count": 123,
   "id": "fdef334e",
   "metadata": {},
   "outputs": [
    {
     "ename": "ArgumentError",
     "evalue": "ArgumentError: dropped dims must all be size 1",
     "output_type": "error",
     "traceback": [
      "ArgumentError: dropped dims must all be size 1\n",
      "\n",
      "Stacktrace:\n",
      "  [1] _dropdims(A::Diagonal{Float64, Vector{Float64}}, dims::Tuple{Int64})\n",
      "    @ Base ./abstractarraymath.jl:86\n",
      "  [2] _dropdims\n",
      "    @ ./abstractarraymath.jl:94 [inlined]\n",
      "  [3] #dropdims#221\n",
      "    @ ./abstractarraymath.jl:82 [inlined]\n",
      "  [4] build_LegT(N::Int64, λ_n::Int64)\n",
      "    @ Main ~/Documents/Coding/s4former/notebooks/notebooks-jl/HiPPO-Julia.ipynb:10\n",
      "  [5] macro expansion\n",
      "    @ ~/Documents/Coding/s4former/notebooks/notebooks-jl/HiPPO-Julia.ipynb:3 [inlined]\n",
      "  [6] top-level scope\n",
      "    @ ~/.julia/packages/Plots/E2187/src/animation.jl:208\n",
      "  [7] eval\n",
      "    @ ./boot.jl:373 [inlined]\n",
      "  [8] include_string(mapexpr::typeof(REPL.softscope), mod::Module, code::String, filename::String)\n",
      "    @ Base ./loading.jl:1196\n",
      "  [9] #invokelatest#2\n",
      "    @ ./essentials.jl:716 [inlined]\n",
      " [10] invokelatest\n",
      "    @ ./essentials.jl:714 [inlined]\n",
      " [11] (::VSCodeServer.var\"#164#165\"{VSCodeServer.NotebookRunCellArguments, String})()\n",
      "    @ VSCodeServer ~/.vscode/extensions/julialang.language-julia-1.6.24/scripts/packages/VSCodeServer/src/serve_notebook.jl:19\n",
      " [12] withpath(f::VSCodeServer.var\"#164#165\"{VSCodeServer.NotebookRunCellArguments, String}, path::String)\n",
      "    @ VSCodeServer ~/.vscode/extensions/julialang.language-julia-1.6.24/scripts/packages/VSCodeServer/src/repl.jl:184\n",
      " [13] notebook_runcell_request(conn::VSCodeServer.JSONRPC.JSONRPCEndpoint{Base.PipeEndpoint, Base.PipeEndpoint}, params::VSCodeServer.NotebookRunCellArguments)\n",
      "    @ VSCodeServer ~/.vscode/extensions/julialang.language-julia-1.6.24/scripts/packages/VSCodeServer/src/serve_notebook.jl:13\n",
      " [14] dispatch_msg(x::VSCodeServer.JSONRPC.JSONRPCEndpoint{Base.PipeEndpoint, Base.PipeEndpoint}, dispatcher::VSCodeServer.JSONRPC.MsgDispatcher, msg::Dict{String, Any})\n",
      "    @ VSCodeServer.JSONRPC ~/.vscode/extensions/julialang.language-julia-1.6.24/scripts/packages/JSONRPC/src/typed.jl:67\n",
      " [15] serve_notebook(pipename::String, outputchannel_logger::Base.CoreLogging.SimpleLogger; crashreporting_pipename::String)\n",
      "    @ VSCodeServer ~/.vscode/extensions/julialang.language-julia-1.6.24/scripts/packages/VSCodeServer/src/serve_notebook.jl:136\n",
      " [16] top-level scope\n",
      "    @ ~/.vscode/extensions/julialang.language-julia-1.6.24/scripts/notebook/notebook.jl:32\n",
      " [17] include(mod::Module, _path::String)\n",
      "    @ Base ./Base.jl:418\n",
      " [18] exec_options(opts::Base.JLOptions)\n",
      "    @ Base ./client.jl:292\n",
      " [19] _start()\n",
      "    @ Base ./client.jl:495"
     ]
    }
   ],
   "source": [
    "anim = @animate for i = 1:60\n",
    "    step = 1\n",
    "    A, B =  build_LegT(i, 1);\n",
    "    C, D = ones(i, i), 0\n",
    "    println(\"A = \", A)\n",
    "    println(\"\\nB = \", B)\n",
    "    println(\"\\nC = \", C)\n",
    "    println(\"\\nD = \", D)\n",
    "    legt = cont_or_disc(A, B, C, D, step);\n",
    "    y, t, x = impulse(legt, 1.5)\n",
    "    plot(t,x', xlabel=\"Time\", xlims=(0, 1.5), ylimit=(-3, 3), title=(\"HiPPO-LegT Unit Impulse Response\\nθ=1, n=\"*string(i)), lab=nothing)\n",
    "end\n",
    "\n",
    "gif(anim, \"Bryan's Discrete HiPPO-LegT_Unit_Impulse_Response.gif\", fps = 15);\n",
    "legt = legt_ss(15,1)\n",
    "legt = build_LegT(15, 1)"
   ]
  },
  {
   "cell_type": "markdown",
   "id": "eade97f9",
   "metadata": {},
   "source": [
    "**LegT Continuous**"
   ]
  },
  {
   "cell_type": "code",
   "execution_count": 124,
   "id": "46624ef9",
   "metadata": {},
   "outputs": [
    {
     "name": "stdout",
     "output_type": "stream",
     "text": [
      "A = [1.0;;]\n",
      "\n",
      "B = [1.0]\n",
      "\n",
      "C = [1.0;;]\n",
      "\n",
      "D = 0\n"
     ]
    },
    {
     "ename": "MethodError",
     "evalue": "MethodError: no method matching cont_or_disc(::Matrix{Float64}, ::Base.ReshapedArray{Float64, 1, Diagonal{Float64, Vector{Float64}}, Tuple{Base.MultiplicativeInverses.SignedMultiplicativeInverse{Int64}}}, ::Matrix{Bool}, ::Int64, ::Nothing)\nClosest candidates are:\n  cont_or_disc(::Any, ::Any, ::Any, ::Any) at ~/Documents/Coding/s4former/notebooks/notebooks-jl/HiPPO-Julia.ipynb:1\n  cont_or_disc(::Any, ::Any, ::Any, ::Any, !Matched::Integer) at ~/Documents/Coding/s4former/notebooks/notebooks-jl/HiPPO-Julia.ipynb:1",
     "output_type": "error",
     "traceback": [
      "MethodError: no method matching cont_or_disc(::Matrix{Float64}, ::Base.ReshapedArray{Float64, 1, Diagonal{Float64, Vector{Float64}}, Tuple{Base.MultiplicativeInverses.SignedMultiplicativeInverse{Int64}}}, ::Matrix{Bool}, ::Int64, ::Nothing)\n",
      "Closest candidates are:\n",
      "  cont_or_disc(::Any, ::Any, ::Any, ::Any) at ~/Documents/Coding/s4former/notebooks/notebooks-jl/HiPPO-Julia.ipynb:1\n",
      "  cont_or_disc(::Any, ::Any, ::Any, ::Any, !Matched::Integer) at ~/Documents/Coding/s4former/notebooks/notebooks-jl/HiPPO-Julia.ipynb:1\n",
      "\n",
      "Stacktrace:\n",
      "  [1] cont_or_disc(A::Matrix{Float64}, B::Base.ReshapedArray{Float64, 1, Diagonal{Float64, Vector{Float64}}, Tuple{Base.MultiplicativeInverses.SignedMultiplicativeInverse{Int64}}}, C::Matrix{Bool}, D::Int64)\n",
      "    @ Main ~/Documents/Coding/s4former/notebooks/notebooks-jl/HiPPO-Julia.ipynb:2\n",
      "  [2] macro expansion\n",
      "    @ ~/Documents/Coding/s4former/notebooks/notebooks-jl/HiPPO-Julia.ipynb:4 [inlined]\n",
      "  [3] top-level scope\n",
      "    @ ~/.julia/packages/Plots/E2187/src/animation.jl:208\n",
      "  [4] eval\n",
      "    @ ./boot.jl:373 [inlined]\n",
      "  [5] include_string(mapexpr::typeof(REPL.softscope), mod::Module, code::String, filename::String)\n",
      "    @ Base ./loading.jl:1196\n",
      "  [6] #invokelatest#2\n",
      "    @ ./essentials.jl:716 [inlined]\n",
      "  [7] invokelatest\n",
      "    @ ./essentials.jl:714 [inlined]\n",
      "  [8] (::VSCodeServer.var\"#164#165\"{VSCodeServer.NotebookRunCellArguments, String})()\n",
      "    @ VSCodeServer ~/.vscode/extensions/julialang.language-julia-1.6.24/scripts/packages/VSCodeServer/src/serve_notebook.jl:19\n",
      "  [9] withpath(f::VSCodeServer.var\"#164#165\"{VSCodeServer.NotebookRunCellArguments, String}, path::String)\n",
      "    @ VSCodeServer ~/.vscode/extensions/julialang.language-julia-1.6.24/scripts/packages/VSCodeServer/src/repl.jl:184\n",
      " [10] notebook_runcell_request(conn::VSCodeServer.JSONRPC.JSONRPCEndpoint{Base.PipeEndpoint, Base.PipeEndpoint}, params::VSCodeServer.NotebookRunCellArguments)\n",
      "    @ VSCodeServer ~/.vscode/extensions/julialang.language-julia-1.6.24/scripts/packages/VSCodeServer/src/serve_notebook.jl:13\n",
      " [11] dispatch_msg(x::VSCodeServer.JSONRPC.JSONRPCEndpoint{Base.PipeEndpoint, Base.PipeEndpoint}, dispatcher::VSCodeServer.JSONRPC.MsgDispatcher, msg::Dict{String, Any})\n",
      "    @ VSCodeServer.JSONRPC ~/.vscode/extensions/julialang.language-julia-1.6.24/scripts/packages/JSONRPC/src/typed.jl:67\n",
      " [12] serve_notebook(pipename::String, outputchannel_logger::Base.CoreLogging.SimpleLogger; crashreporting_pipename::String)\n",
      "    @ VSCodeServer ~/.vscode/extensions/julialang.language-julia-1.6.24/scripts/packages/VSCodeServer/src/serve_notebook.jl:136\n",
      " [13] top-level scope\n",
      "    @ ~/.vscode/extensions/julialang.language-julia-1.6.24/scripts/notebook/notebook.jl:32\n",
      " [14] include(mod::Module, _path::String)\n",
      "    @ Base ./Base.jl:418\n",
      " [15] exec_options(opts::Base.JLOptions)\n",
      "    @ Base ./client.jl:292\n",
      " [16] _start()\n",
      "    @ Base ./client.jl:495"
     ]
    }
   ],
   "source": [
    "anim = @animate for i = 1:60\n",
    "    A, B = build_LegT(i, 1);\n",
    "    C, D = Matrix(I, i, i), 0\n",
    "    legt = cont_or_disc(A, B, C, D);\n",
    "    y, t, x = impulse(legt, 1.5)\n",
    "    plot(t,x', xlabel=\"Time\", xlims=(0, 1.5), ylimit=(-3, 3), title=(\"HiPPO-LegT Unit Impulse Response\\nθ=1, n=\"*string(i)), lab=nothing)\n",
    "end\n",
    "\n",
    "gif(anim, \"Bryan's Continuous HiPPO-LegT_Unit_Impulse_Response.gif\", fps = 15);\n",
    "legt = legt_ss(15,1)\n",
    "legt = build_LegT(15, 1)"
   ]
  },
  {
   "cell_type": "markdown",
   "id": "cce034f0",
   "metadata": {},
   "source": [
    "## LegS"
   ]
  },
  {
   "cell_type": "markdown",
   "id": "9fe2fce9",
   "metadata": {},
   "source": [
    "**LegS Discrete**"
   ]
  },
  {
   "cell_type": "code",
   "execution_count": 125,
   "id": "f77a0dd5",
   "metadata": {},
   "outputs": [
    {
     "ename": "UndefVarError",
     "evalue": "UndefVarError: q not defined",
     "output_type": "error",
     "traceback": [
      "UndefVarError: q not defined\n",
      "\n",
      "Stacktrace:\n",
      "  [1] build_LegS(N::Int64)\n",
      "    @ Main ~/Documents/Coding/s4former/notebooks/notebooks-jl/HiPPO-Julia.ipynb:3\n",
      "  [2] macro expansion\n",
      "    @ ~/Documents/Coding/s4former/notebooks/notebooks-jl/HiPPO-Julia.ipynb:3 [inlined]\n",
      "  [3] top-level scope\n",
      "    @ ~/.julia/packages/Plots/E2187/src/animation.jl:208\n",
      "  [4] eval\n",
      "    @ ./boot.jl:373 [inlined]\n",
      "  [5] include_string(mapexpr::typeof(REPL.softscope), mod::Module, code::String, filename::String)\n",
      "    @ Base ./loading.jl:1196\n",
      "  [6] #invokelatest#2\n",
      "    @ ./essentials.jl:716 [inlined]\n",
      "  [7] invokelatest\n",
      "    @ ./essentials.jl:714 [inlined]\n",
      "  [8] (::VSCodeServer.var\"#164#165\"{VSCodeServer.NotebookRunCellArguments, String})()\n",
      "    @ VSCodeServer ~/.vscode/extensions/julialang.language-julia-1.6.24/scripts/packages/VSCodeServer/src/serve_notebook.jl:19\n",
      "  [9] withpath(f::VSCodeServer.var\"#164#165\"{VSCodeServer.NotebookRunCellArguments, String}, path::String)\n",
      "    @ VSCodeServer ~/.vscode/extensions/julialang.language-julia-1.6.24/scripts/packages/VSCodeServer/src/repl.jl:184\n",
      " [10] notebook_runcell_request(conn::VSCodeServer.JSONRPC.JSONRPCEndpoint{Base.PipeEndpoint, Base.PipeEndpoint}, params::VSCodeServer.NotebookRunCellArguments)\n",
      "    @ VSCodeServer ~/.vscode/extensions/julialang.language-julia-1.6.24/scripts/packages/VSCodeServer/src/serve_notebook.jl:13\n",
      " [11] dispatch_msg(x::VSCodeServer.JSONRPC.JSONRPCEndpoint{Base.PipeEndpoint, Base.PipeEndpoint}, dispatcher::VSCodeServer.JSONRPC.MsgDispatcher, msg::Dict{String, Any})\n",
      "    @ VSCodeServer.JSONRPC ~/.vscode/extensions/julialang.language-julia-1.6.24/scripts/packages/JSONRPC/src/typed.jl:67\n",
      " [12] serve_notebook(pipename::String, outputchannel_logger::Base.CoreLogging.SimpleLogger; crashreporting_pipename::String)\n",
      "    @ VSCodeServer ~/.vscode/extensions/julialang.language-julia-1.6.24/scripts/packages/VSCodeServer/src/serve_notebook.jl:136\n",
      " [13] top-level scope\n",
      "    @ ~/.vscode/extensions/julialang.language-julia-1.6.24/scripts/notebook/notebook.jl:32\n",
      " [14] include(mod::Module, _path::String)\n",
      "    @ Base ./Base.jl:418\n",
      " [15] exec_options(opts::Base.JLOptions)\n",
      "    @ Base ./client.jl:292\n",
      " [16] _start()\n",
      "    @ Base ./client.jl:495"
     ]
    }
   ],
   "source": [
    "anim = @animate for i = 1:60\n",
    "    step = 0.001\n",
    "    A, B = build_LegS(i);\n",
    "    C, D = Matrix(I, i, i), 0\n",
    "    legt = cont_or_disc(A, B, C, D, step);\n",
    "    y, t, x = impulse(legt, 1.5)\n",
    "    plot(t,x', xlabel=\"Time\", xlims=(0, 1.5), ylimit=(-3, 3), title=(\"HiPPO-LegT Unit Impulse Response\\nθ=1, n=\"*string(i)), lab=nothing)\n",
    "end\n",
    "\n",
    "gif(anim, \"Bryan's Discrete HiPPO-LegT_Unit_Impulse_Response.gif\", fps = 15);\n",
    "legs = legs_ss(15)\n",
    "legs = build_LegS(15)"
   ]
  },
  {
   "cell_type": "markdown",
   "id": "eae7615a",
   "metadata": {},
   "source": [
    "**LegS Continuous**"
   ]
  },
  {
   "cell_type": "code",
   "execution_count": 126,
   "id": "e66eadaf",
   "metadata": {},
   "outputs": [
    {
     "ename": "UndefVarError",
     "evalue": "UndefVarError: q not defined",
     "output_type": "error",
     "traceback": [
      "UndefVarError: q not defined\n",
      "\n",
      "Stacktrace:\n",
      "  [1] build_LegS(N::Int64)\n",
      "    @ Main ~/Documents/Coding/s4former/notebooks/notebooks-jl/HiPPO-Julia.ipynb:3\n",
      "  [2] macro expansion\n",
      "    @ ~/Documents/Coding/s4former/notebooks/notebooks-jl/HiPPO-Julia.ipynb:2 [inlined]\n",
      "  [3] top-level scope\n",
      "    @ ~/.julia/packages/Plots/E2187/src/animation.jl:208\n",
      "  [4] eval\n",
      "    @ ./boot.jl:373 [inlined]\n",
      "  [5] include_string(mapexpr::typeof(REPL.softscope), mod::Module, code::String, filename::String)\n",
      "    @ Base ./loading.jl:1196\n",
      "  [6] #invokelatest#2\n",
      "    @ ./essentials.jl:716 [inlined]\n",
      "  [7] invokelatest\n",
      "    @ ./essentials.jl:714 [inlined]\n",
      "  [8] (::VSCodeServer.var\"#164#165\"{VSCodeServer.NotebookRunCellArguments, String})()\n",
      "    @ VSCodeServer ~/.vscode/extensions/julialang.language-julia-1.6.24/scripts/packages/VSCodeServer/src/serve_notebook.jl:19\n",
      "  [9] withpath(f::VSCodeServer.var\"#164#165\"{VSCodeServer.NotebookRunCellArguments, String}, path::String)\n",
      "    @ VSCodeServer ~/.vscode/extensions/julialang.language-julia-1.6.24/scripts/packages/VSCodeServer/src/repl.jl:184\n",
      " [10] notebook_runcell_request(conn::VSCodeServer.JSONRPC.JSONRPCEndpoint{Base.PipeEndpoint, Base.PipeEndpoint}, params::VSCodeServer.NotebookRunCellArguments)\n",
      "    @ VSCodeServer ~/.vscode/extensions/julialang.language-julia-1.6.24/scripts/packages/VSCodeServer/src/serve_notebook.jl:13\n",
      " [11] dispatch_msg(x::VSCodeServer.JSONRPC.JSONRPCEndpoint{Base.PipeEndpoint, Base.PipeEndpoint}, dispatcher::VSCodeServer.JSONRPC.MsgDispatcher, msg::Dict{String, Any})\n",
      "    @ VSCodeServer.JSONRPC ~/.vscode/extensions/julialang.language-julia-1.6.24/scripts/packages/JSONRPC/src/typed.jl:67\n",
      " [12] serve_notebook(pipename::String, outputchannel_logger::Base.CoreLogging.SimpleLogger; crashreporting_pipename::String)\n",
      "    @ VSCodeServer ~/.vscode/extensions/julialang.language-julia-1.6.24/scripts/packages/VSCodeServer/src/serve_notebook.jl:136\n",
      " [13] top-level scope\n",
      "    @ ~/.vscode/extensions/julialang.language-julia-1.6.24/scripts/notebook/notebook.jl:32\n",
      " [14] include(mod::Module, _path::String)\n",
      "    @ Base ./Base.jl:418\n",
      " [15] exec_options(opts::Base.JLOptions)\n",
      "    @ Base ./client.jl:292\n",
      " [16] _start()\n",
      "    @ Base ./client.jl:495"
     ]
    }
   ],
   "source": [
    "anim = @animate for i = 1:60\n",
    "    A, B = build_LegS(i);\n",
    "    C, D = Matrix(I, i, i), 0\n",
    "    legt = cont_or_disc(A, B, C, D);\n",
    "    y, t, x = impulse(legt, 1.5)\n",
    "    plot(t,x', xlabel=\"Time\", xlims=(0, 1.5), ylimit=(-3, 3), title=(\"HiPPO-LegT Unit Impulse Response\\nθ=1, n=\"*string(i)), lab=nothing)\n",
    "end\n",
    "\n",
    "gif(anim, \"Bryan's Continuous HiPPO-LegT_Unit_Impulse_Response.gif\", fps = 15);\n",
    "legs = legs_ss(15)\n",
    "legs = build_LegS(15)"
   ]
  },
  {
   "cell_type": "markdown",
   "id": "016694fb",
   "metadata": {},
   "source": [
    "## LagT"
   ]
  },
  {
   "cell_type": "markdown",
   "id": "555f8f28",
   "metadata": {},
   "source": [
    "**LagT Discrete**"
   ]
  },
  {
   "cell_type": "code",
   "execution_count": 127,
   "id": "b9d597d6",
   "metadata": {},
   "outputs": [
    {
     "ename": "MethodError",
     "evalue": "MethodError: no method matching +(::UnitRange{Int64}, ::Int64)\nFor element-wise addition, use broadcasting with dot syntax: array .+ scalar\nClosest candidates are:\n  +(::Any, ::Any, !Matched::Any, !Matched::Any...) at /opt/julia-1.7.3/share/julia/base/operators.jl:655\n  +(!Matched::T, ::T) where T<:Union{Int128, Int16, Int32, Int64, Int8, UInt128, UInt16, UInt32, UInt64, UInt8} at /opt/julia-1.7.3/share/julia/base/int.jl:87\n  +(!Matched::Union{VectorizationBase.AbstractMask{W}, VectorizationBase.VecUnroll{<:Any, W, SIMDTypes.Bit, <:VectorizationBase.AbstractMask{W}}} where W, ::Union{Bool, Float16, Float32, Float64, Int16, Int32, Int64, Int8, UInt16, UInt32, UInt64, UInt8, SIMDTypes.Bit}) at ~/.julia/packages/VectorizationBase/MvgPF/src/base_defs.jl:348\n  ...",
     "output_type": "error",
     "traceback": [
      "MethodError: no method matching +(::UnitRange{Int64}, ::Int64)\n",
      "For element-wise addition, use broadcasting with dot syntax: array .+ scalar\n",
      "Closest candidates are:\n",
      "  +(::Any, ::Any, !Matched::Any, !Matched::Any...) at /opt/julia-1.7.3/share/julia/base/operators.jl:655\n",
      "  +(!Matched::T, ::T) where T<:Union{Int128, Int16, Int32, Int64, Int8, UInt128, UInt16, UInt32, UInt64, UInt8} at /opt/julia-1.7.3/share/julia/base/int.jl:87\n",
      "  +(!Matched::Union{VectorizationBase.AbstractMask{W}, VectorizationBase.VecUnroll{<:Any, W, SIMDTypes.Bit, <:VectorizationBase.AbstractMask{W}}} where W, ::Union{Bool, Float16, Float32, Float64, Int16, Int32, Int64, Int8, UInt16, UInt32, UInt64, UInt8, SIMDTypes.Bit}) at ~/.julia/packages/VectorizationBase/MvgPF/src/base_defs.jl:348\n",
      "  ...\n",
      "\n",
      "Stacktrace:\n",
      "  [1] _broadcast_getindex_evalf\n",
      "    @ ./broadcast.jl:670 [inlined]\n",
      "  [2] _broadcast_getindex\n",
      "    @ ./broadcast.jl:643 [inlined]\n",
      "  [3] _getindex\n",
      "    @ ./broadcast.jl:666 [inlined]\n",
      "  [4] _broadcast_getindex\n",
      "    @ ./broadcast.jl:642 [inlined]\n",
      "  [5] _getindex\n",
      "    @ ./broadcast.jl:667 [inlined]\n",
      "  [6] _broadcast_getindex\n",
      "    @ ./broadcast.jl:642 [inlined]\n",
      "  [7] _getindex\n",
      "    @ ./broadcast.jl:666 [inlined]\n",
      "  [8] _broadcast_getindex\n",
      "    @ ./broadcast.jl:642 [inlined]\n",
      "  [9] _getindex\n",
      "    @ ./broadcast.jl:667 [inlined]\n",
      " [10] _getindex\n",
      "    @ ./broadcast.jl:666 [inlined]\n",
      " [11] _broadcast_getindex\n",
      "    @ ./broadcast.jl:642 [inlined]\n",
      " [12] _getindex\n",
      "    @ ./broadcast.jl:667 [inlined]\n",
      " [13] _broadcast_getindex\n",
      "    @ ./broadcast.jl:642 [inlined]\n",
      " [14] getindex\n",
      "    @ ./broadcast.jl:597 [inlined]\n",
      " [15] copy\n",
      "    @ ./broadcast.jl:899 [inlined]\n",
      " [16] materialize\n",
      "    @ ./broadcast.jl:860 [inlined]\n",
      " [17] build_LagT(N::Int64, alpha::Int64, beta::Int64)\n",
      "    @ Main ~/Documents/Coding/s4former/notebooks/notebooks-jl/HiPPO-Julia.ipynb:7\n",
      " [18] macro expansion\n",
      "    @ ~/Documents/Coding/s4former/notebooks/notebooks-jl/HiPPO-Julia.ipynb:3 [inlined]\n",
      " [19] top-level scope\n",
      "    @ ~/.julia/packages/Plots/E2187/src/animation.jl:208\n",
      " [20] eval\n",
      "    @ ./boot.jl:373 [inlined]\n",
      " [21] include_string(mapexpr::typeof(REPL.softscope), mod::Module, code::String, filename::String)\n",
      "    @ Base ./loading.jl:1196\n",
      " [22] #invokelatest#2\n",
      "    @ ./essentials.jl:716 [inlined]\n",
      " [23] invokelatest\n",
      "    @ ./essentials.jl:714 [inlined]\n",
      " [24] (::VSCodeServer.var\"#164#165\"{VSCodeServer.NotebookRunCellArguments, String})()\n",
      "    @ VSCodeServer ~/.vscode/extensions/julialang.language-julia-1.6.24/scripts/packages/VSCodeServer/src/serve_notebook.jl:19\n",
      " [25] withpath(f::VSCodeServer.var\"#164#165\"{VSCodeServer.NotebookRunCellArguments, String}, path::String)\n",
      "    @ VSCodeServer ~/.vscode/extensions/julialang.language-julia-1.6.24/scripts/packages/VSCodeServer/src/repl.jl:184\n",
      " [26] notebook_runcell_request(conn::VSCodeServer.JSONRPC.JSONRPCEndpoint{Base.PipeEndpoint, Base.PipeEndpoint}, params::VSCodeServer.NotebookRunCellArguments)\n",
      "    @ VSCodeServer ~/.vscode/extensions/julialang.language-julia-1.6.24/scripts/packages/VSCodeServer/src/serve_notebook.jl:13\n",
      " [27] dispatch_msg(x::VSCodeServer.JSONRPC.JSONRPCEndpoint{Base.PipeEndpoint, Base.PipeEndpoint}, dispatcher::VSCodeServer.JSONRPC.MsgDispatcher, msg::Dict{String, Any})\n",
      "    @ VSCodeServer.JSONRPC ~/.vscode/extensions/julialang.language-julia-1.6.24/scripts/packages/JSONRPC/src/typed.jl:67\n",
      " [28] serve_notebook(pipename::String, outputchannel_logger::Base.CoreLogging.SimpleLogger; crashreporting_pipename::String)\n",
      "    @ VSCodeServer ~/.vscode/extensions/julialang.language-julia-1.6.24/scripts/packages/VSCodeServer/src/serve_notebook.jl:136\n",
      " [29] top-level scope\n",
      "    @ ~/.vscode/extensions/julialang.language-julia-1.6.24/scripts/notebook/notebook.jl:32\n",
      " [30] include(mod::Module, _path::String)\n",
      "    @ Base ./Base.jl:418\n",
      " [31] exec_options(opts::Base.JLOptions)\n",
      "    @ Base ./client.jl:292\n",
      " [32] _start()\n",
      "    @ Base ./client.jl:495"
     ]
    }
   ],
   "source": [
    "anim = @animate for i = 1:60\n",
    "    step = 0.001\n",
    "    A, B = build_LagT(i, 0, 1);\n",
    "    C, D = Matrix(I, i, i), 0\n",
    "    legt = cont_or_disc(A, B, C, D, step);\n",
    "    y, t, x = impulse(legt, 1.5)\n",
    "    plot(t,x', xlabel=\"Time\", xlims=(0, 1.5), ylimit=(-3, 3), title=(\"HiPPO-LegT Unit Impulse Response\\nθ=1, n=\"*string(i)), lab=nothing)\n",
    "end\n",
    "\n",
    "gif(anim, \"Bryan's Discrete HiPPO-LegT_Unit_Impulse_Response.gif\", fps = 15);\n",
    "lagt = lagt_ss(15,1)\n",
    "lagt = build_LagT(15, 0, 1)"
   ]
  },
  {
   "cell_type": "markdown",
   "id": "e72ce347",
   "metadata": {},
   "source": [
    "**LagT Continuous**"
   ]
  },
  {
   "cell_type": "code",
   "execution_count": 128,
   "id": "5a4eeb51",
   "metadata": {},
   "outputs": [
    {
     "ename": "MethodError",
     "evalue": "MethodError: no method matching +(::UnitRange{Int64}, ::Int64)\nFor element-wise addition, use broadcasting with dot syntax: array .+ scalar\nClosest candidates are:\n  +(::Any, ::Any, !Matched::Any, !Matched::Any...) at /opt/julia-1.7.3/share/julia/base/operators.jl:655\n  +(!Matched::T, ::T) where T<:Union{Int128, Int16, Int32, Int64, Int8, UInt128, UInt16, UInt32, UInt64, UInt8} at /opt/julia-1.7.3/share/julia/base/int.jl:87\n  +(!Matched::Union{VectorizationBase.AbstractMask{W}, VectorizationBase.VecUnroll{<:Any, W, SIMDTypes.Bit, <:VectorizationBase.AbstractMask{W}}} where W, ::Union{Bool, Float16, Float32, Float64, Int16, Int32, Int64, Int8, UInt16, UInt32, UInt64, UInt8, SIMDTypes.Bit}) at ~/.julia/packages/VectorizationBase/MvgPF/src/base_defs.jl:348\n  ...",
     "output_type": "error",
     "traceback": [
      "MethodError: no method matching +(::UnitRange{Int64}, ::Int64)\n",
      "For element-wise addition, use broadcasting with dot syntax: array .+ scalar\n",
      "Closest candidates are:\n",
      "  +(::Any, ::Any, !Matched::Any, !Matched::Any...) at /opt/julia-1.7.3/share/julia/base/operators.jl:655\n",
      "  +(!Matched::T, ::T) where T<:Union{Int128, Int16, Int32, Int64, Int8, UInt128, UInt16, UInt32, UInt64, UInt8} at /opt/julia-1.7.3/share/julia/base/int.jl:87\n",
      "  +(!Matched::Union{VectorizationBase.AbstractMask{W}, VectorizationBase.VecUnroll{<:Any, W, SIMDTypes.Bit, <:VectorizationBase.AbstractMask{W}}} where W, ::Union{Bool, Float16, Float32, Float64, Int16, Int32, Int64, Int8, UInt16, UInt32, UInt64, UInt8, SIMDTypes.Bit}) at ~/.julia/packages/VectorizationBase/MvgPF/src/base_defs.jl:348\n",
      "  ...\n",
      "\n",
      "Stacktrace:\n",
      "  [1] _broadcast_getindex_evalf\n",
      "    @ ./broadcast.jl:670 [inlined]\n",
      "  [2] _broadcast_getindex\n",
      "    @ ./broadcast.jl:643 [inlined]\n",
      "  [3] _getindex\n",
      "    @ ./broadcast.jl:666 [inlined]\n",
      "  [4] _broadcast_getindex\n",
      "    @ ./broadcast.jl:642 [inlined]\n",
      "  [5] _getindex\n",
      "    @ ./broadcast.jl:667 [inlined]\n",
      "  [6] _broadcast_getindex\n",
      "    @ ./broadcast.jl:642 [inlined]\n",
      "  [7] _getindex\n",
      "    @ ./broadcast.jl:666 [inlined]\n",
      "  [8] _broadcast_getindex\n",
      "    @ ./broadcast.jl:642 [inlined]\n",
      "  [9] _getindex\n",
      "    @ ./broadcast.jl:667 [inlined]\n",
      " [10] _getindex\n",
      "    @ ./broadcast.jl:666 [inlined]\n",
      " [11] _broadcast_getindex\n",
      "    @ ./broadcast.jl:642 [inlined]\n",
      " [12] _getindex\n",
      "    @ ./broadcast.jl:667 [inlined]\n",
      " [13] _broadcast_getindex\n",
      "    @ ./broadcast.jl:642 [inlined]\n",
      " [14] getindex\n",
      "    @ ./broadcast.jl:597 [inlined]\n",
      " [15] copy\n",
      "    @ ./broadcast.jl:899 [inlined]\n",
      " [16] materialize\n",
      "    @ ./broadcast.jl:860 [inlined]\n",
      " [17] build_LagT(N::Int64, alpha::Int64, beta::Int64)\n",
      "    @ Main ~/Documents/Coding/s4former/notebooks/notebooks-jl/HiPPO-Julia.ipynb:7\n",
      " [18] macro expansion\n",
      "    @ ~/Documents/Coding/s4former/notebooks/notebooks-jl/HiPPO-Julia.ipynb:2 [inlined]\n",
      " [19] top-level scope\n",
      "    @ ~/.julia/packages/Plots/E2187/src/animation.jl:208\n",
      " [20] eval\n",
      "    @ ./boot.jl:373 [inlined]\n",
      " [21] include_string(mapexpr::typeof(REPL.softscope), mod::Module, code::String, filename::String)\n",
      "    @ Base ./loading.jl:1196\n",
      " [22] #invokelatest#2\n",
      "    @ ./essentials.jl:716 [inlined]\n",
      " [23] invokelatest\n",
      "    @ ./essentials.jl:714 [inlined]\n",
      " [24] (::VSCodeServer.var\"#164#165\"{VSCodeServer.NotebookRunCellArguments, String})()\n",
      "    @ VSCodeServer ~/.vscode/extensions/julialang.language-julia-1.6.24/scripts/packages/VSCodeServer/src/serve_notebook.jl:19\n",
      " [25] withpath(f::VSCodeServer.var\"#164#165\"{VSCodeServer.NotebookRunCellArguments, String}, path::String)\n",
      "    @ VSCodeServer ~/.vscode/extensions/julialang.language-julia-1.6.24/scripts/packages/VSCodeServer/src/repl.jl:184\n",
      " [26] notebook_runcell_request(conn::VSCodeServer.JSONRPC.JSONRPCEndpoint{Base.PipeEndpoint, Base.PipeEndpoint}, params::VSCodeServer.NotebookRunCellArguments)\n",
      "    @ VSCodeServer ~/.vscode/extensions/julialang.language-julia-1.6.24/scripts/packages/VSCodeServer/src/serve_notebook.jl:13\n",
      " [27] dispatch_msg(x::VSCodeServer.JSONRPC.JSONRPCEndpoint{Base.PipeEndpoint, Base.PipeEndpoint}, dispatcher::VSCodeServer.JSONRPC.MsgDispatcher, msg::Dict{String, Any})\n",
      "    @ VSCodeServer.JSONRPC ~/.vscode/extensions/julialang.language-julia-1.6.24/scripts/packages/JSONRPC/src/typed.jl:67\n",
      " [28] serve_notebook(pipename::String, outputchannel_logger::Base.CoreLogging.SimpleLogger; crashreporting_pipename::String)\n",
      "    @ VSCodeServer ~/.vscode/extensions/julialang.language-julia-1.6.24/scripts/packages/VSCodeServer/src/serve_notebook.jl:136\n",
      " [29] top-level scope\n",
      "    @ ~/.vscode/extensions/julialang.language-julia-1.6.24/scripts/notebook/notebook.jl:32\n",
      " [30] include(mod::Module, _path::String)\n",
      "    @ Base ./Base.jl:418\n",
      " [31] exec_options(opts::Base.JLOptions)\n",
      "    @ Base ./client.jl:292\n",
      " [32] _start()\n",
      "    @ Base ./client.jl:495"
     ]
    }
   ],
   "source": [
    "anim = @animate for i = 1:60\n",
    "    A, B = build_LagT(i, 0, 1);\n",
    "    C, D = Matrix(I, i, i), 0\n",
    "    legt = cont_or_disc(A, B, C, D);\n",
    "    y, t, x = impulse(legt, 1.5)\n",
    "    plot(t,x', xlabel=\"Time\", xlims=(0, 1.5), ylimit=(-3, 3), title=(\"HiPPO-LegT Unit Impulse Response\\nθ=1, n=\"*string(i)), lab=nothing)\n",
    "end\n",
    "\n",
    "gif(anim, \"Bryan's Continuous HiPPO-LegT_Unit_Impulse_Response.gif\", fps = 15);\n",
    "lagt = lagt_ss(15,1)\n",
    "lagt = build_LagT(15, 0, 1)"
   ]
  },
  {
   "cell_type": "markdown",
   "id": "20ebb7c1",
   "metadata": {},
   "source": [
    "#### Eric's"
   ]
  },
  {
   "cell_type": "markdown",
   "id": "42a5475b",
   "metadata": {},
   "source": [
    "**LegT**"
   ]
  },
  {
   "cell_type": "code",
   "execution_count": 129,
   "id": "09846a37",
   "metadata": {},
   "outputs": [
    {
     "name": "stderr",
     "output_type": "stream",
     "text": [
      "┌ Info: Saved animation to \n",
      "│   fn = /home/beegass/Documents/Coding/s4former/notebooks/notebooks-jl/HiPPO-LegT_Unit_Impulse_Response.gif\n",
      "└ @ Plots /home/beegass/.julia/packages/Plots/E2187/src/animation.jl:126\n"
     ]
    },
    {
     "data": {
      "text/plain": [
       "StateSpace{Continuous, Float64}\n",
       "A = \n",
       " -1.0                  1.7320508075688772   -2.23606797749979     2.6457513110645907   -3.0                  3.3166247903554     -3.605551275463989    3.872983346207417    -4.123105625617661     4.358898943540674   -4.58257569495584     4.795831523312719   -5.0                  5.196152422706632   -5.385164807134504\n",
       " -1.7320508075688772  -2.9999999999999996    3.872983346207417   -4.58257569495584      5.196152422706632   -5.744562646538029    6.244997998398397   -6.7082039324993685    7.1414284285428495   -7.54983443527075     7.937253933193771   -8.306623862918073    8.660254037844386   -9.0                  9.327379053088814\n",
       " -2.23606797749979    -3.872983346207417    -5.000000000000001    5.916079783099617    -6.708203932499369    7.416198487095663   -8.06225774829855     8.660254037844387    -9.219544457292887     9.746794344808965  -10.246950765959598   10.723805294763608  -11.180339887498949   11.618950038622252  -12.041594578792296\n",
       " -2.6457513110645907  -4.58257569495584     -5.916079783099617   -7.000000000000001     7.937253933193772   -8.774964387392123    9.539392014169456  -10.2469507659596      10.908712114635716   -11.532562594670798   12.12435565298214   -12.68857754044952    13.228756555322953  -13.74772708486752    14.247806848775006\n",
       " -3.0                 -5.196152422706632    -6.708203932499369   -7.937253933193772    -9.0                  9.9498743710662    -10.816653826391967   11.618950038622252   -12.36931687685298     13.076696830622023  -13.74772708486752    14.387494569938157  -15.0                 15.588457268119896  -16.15549442140351\n",
       " -3.3166247903554     -5.744562646538029    -7.416198487095663   -8.774964387392123    -9.9498743710662    -11.0                 11.958260743101397  -12.84523257866513     13.674794331177344   -14.45683229480096    15.198684153570662  -15.905973720586864   16.583123951776997  -17.233687939614086   17.86057109949175\n",
       " -3.605551275463989   -6.244997998398397    -8.06225774829855    -9.539392014169456   -10.816653826391967  -11.958260743101397  -12.999999999999998   13.96424004376894    -14.866068747318504    15.716233645501712  -16.522711641858304   17.29161646579058   -18.027756377319946   18.734993995195193  -19.416487838947596\n",
       " -3.872983346207417   -6.7082039324993685   -8.660254037844387  -10.2469507659596     -11.618950038622252  -12.84523257866513   -13.96424004376894   -15.000000000000002    15.968719422671313   -16.881943016134134   17.74823934929885   -18.57417562100671    19.364916731037084  -20.12461179749811    20.85665361461421\n",
       " -4.123105625617661   -7.1414284285428495   -9.219544457292887  -10.908712114635716   -12.36931687685298   -13.674794331177344  -14.866068747318504  -15.968719422671313   -17.0                  17.972200755611432  -18.894443627691185   19.773719933285186  -20.615528128088304   21.42428528562855   -22.203603311174515\n",
       " -4.358898943540674   -7.54983443527075     -9.746794344808965  -11.532562594670798   -13.076696830622023  -14.45683229480096   -15.716233645501712  -16.881943016134134   -17.972200755611432   -19.000000000000004   19.97498435543818   -20.904544960366874   21.79449471770337   -22.649503305812253   23.473389188611005\n",
       " -4.58257569495584    -7.937253933193771   -10.246950765959598  -12.12435565298214    -13.74772708486752   -15.198684153570662  -16.522711641858304  -17.74823934929885    -18.894443627691185   -19.97498435543818   -21.0                 21.977260975835907  -22.9128784747792     23.811761799581316  -24.67792535850613\n",
       " -4.795831523312719   -8.306623862918073   -10.723805294763608  -12.68857754044952    -14.387494569938157  -15.905973720586864  -17.29161646579058   -18.57417562100671    -19.773719933285186   -20.904544960366874  -21.977260975835907  -22.999999999999996   23.979157616563597  -24.919871588754223   25.82634314028991\n",
       " -5.0                 -8.660254037844386   -11.180339887498949  -13.228756555322953   -15.0                -16.583123951776997  -18.027756377319946  -19.364916731037084   -20.615528128088304   -21.79449471770337   -22.9128784747792    -23.979157616563597  -25.0                 25.98076211353316   -26.92582403567252\n",
       " -5.196152422706632   -9.0                 -11.618950038622252  -13.74772708486752    -15.588457268119896  -17.233687939614086  -18.734993995195193  -20.12461179749811    -21.42428528562855    -22.649503305812253  -23.811761799581316  -24.919871588754223  -25.98076211353316   -27.0                 27.982137159266443\n",
       " -5.385164807134504   -9.327379053088814   -12.041594578792296  -14.247806848775006   -16.15549442140351   -17.86057109949175   -19.416487838947596  -20.85665361461421    -22.203603311174515   -23.473389188611005  -24.67792535850613   -25.82634314028991   -26.92582403567252   -27.982137159266443  -28.999999999999996\n",
       "B = \n",
       " 1.0\n",
       " 1.7320508075688772\n",
       " 2.23606797749979\n",
       " 2.6457513110645907\n",
       " 3.0\n",
       " 3.3166247903554\n",
       " 3.605551275463989\n",
       " 3.872983346207417\n",
       " 4.123105625617661\n",
       " 4.358898943540674\n",
       " 4.58257569495584\n",
       " 4.795831523312719\n",
       " 5.0\n",
       " 5.196152422706632\n",
       " 5.385164807134504\n",
       "C = \n",
       " 1.0  0.0  0.0  0.0  0.0  0.0  0.0  0.0  0.0  0.0  0.0  0.0  0.0  0.0  0.0\n",
       " 0.0  1.0  0.0  0.0  0.0  0.0  0.0  0.0  0.0  0.0  0.0  0.0  0.0  0.0  0.0\n",
       " 0.0  0.0  1.0  0.0  0.0  0.0  0.0  0.0  0.0  0.0  0.0  0.0  0.0  0.0  0.0\n",
       " 0.0  0.0  0.0  1.0  0.0  0.0  0.0  0.0  0.0  0.0  0.0  0.0  0.0  0.0  0.0\n",
       " 0.0  0.0  0.0  0.0  1.0  0.0  0.0  0.0  0.0  0.0  0.0  0.0  0.0  0.0  0.0\n",
       " 0.0  0.0  0.0  0.0  0.0  1.0  0.0  0.0  0.0  0.0  0.0  0.0  0.0  0.0  0.0\n",
       " 0.0  0.0  0.0  0.0  0.0  0.0  1.0  0.0  0.0  0.0  0.0  0.0  0.0  0.0  0.0\n",
       " 0.0  0.0  0.0  0.0  0.0  0.0  0.0  1.0  0.0  0.0  0.0  0.0  0.0  0.0  0.0\n",
       " 0.0  0.0  0.0  0.0  0.0  0.0  0.0  0.0  1.0  0.0  0.0  0.0  0.0  0.0  0.0\n",
       " 0.0  0.0  0.0  0.0  0.0  0.0  0.0  0.0  0.0  1.0  0.0  0.0  0.0  0.0  0.0\n",
       " 0.0  0.0  0.0  0.0  0.0  0.0  0.0  0.0  0.0  0.0  1.0  0.0  0.0  0.0  0.0\n",
       " 0.0  0.0  0.0  0.0  0.0  0.0  0.0  0.0  0.0  0.0  0.0  1.0  0.0  0.0  0.0\n",
       " 0.0  0.0  0.0  0.0  0.0  0.0  0.0  0.0  0.0  0.0  0.0  0.0  1.0  0.0  0.0\n",
       " 0.0  0.0  0.0  0.0  0.0  0.0  0.0  0.0  0.0  0.0  0.0  0.0  0.0  1.0  0.0\n",
       " 0.0  0.0  0.0  0.0  0.0  0.0  0.0  0.0  0.0  0.0  0.0  0.0  0.0  0.0  1.0\n",
       "D = \n",
       " 0.0\n",
       " 0.0\n",
       " 0.0\n",
       " 0.0\n",
       " 0.0\n",
       " 0.0\n",
       " 0.0\n",
       " 0.0\n",
       " 0.0\n",
       " 0.0\n",
       " 0.0\n",
       " 0.0\n",
       " 0.0\n",
       " 0.0\n",
       " 0.0\n",
       "\n",
       "Continuous-time state-space model"
      ]
     },
     "metadata": {},
     "output_type": "display_data"
    }
   ],
   "source": [
    "anim = @animate for i = 1:60\n",
    "    legt = legt_ss(i,1);\n",
    "    y, t, x = impulse(legt, 1.5)\n",
    "    plot(t,x', xlabel=\"Time\", xlims=(0, 1.5), ylimit=(-3, 3), title=(\"HiPPO-LegT Unit Impulse Response\\nθ=1, n=\"*string(i)), lab=nothing)\n",
    "end\n",
    "\n",
    "gif(anim, \"HiPPO-LegT_Unit_Impulse_Response.gif\", fps = 15);\n",
    "legt = legt_ss(15,1)"
   ]
  },
  {
   "cell_type": "markdown",
   "id": "b2fb19ce",
   "metadata": {},
   "source": [
    "**LegS**"
   ]
  },
  {
   "cell_type": "code",
   "execution_count": 130,
   "id": "e5dcf9df",
   "metadata": {},
   "outputs": [
    {
     "name": "stderr",
     "output_type": "stream",
     "text": [
      "┌ Info: Saved animation to \n",
      "│   fn = /home/beegass/Documents/Coding/s4former/notebooks/notebooks-jl/HiPPO-LegS_Unit_Impulse_Response.gif\n",
      "└ @ Plots /home/beegass/.julia/packages/Plots/E2187/src/animation.jl:126\n"
     ]
    },
    {
     "data": {
      "text/plain": [
       "StateSpace{Continuous, Float64}\n",
       "A = \n",
       " -1.0                  0.0                   0.0                   0.0                  0.0                  0.0                  0.0                  0.0                  0.0                  0.0                  0.0                  0.0                  0.0                 0.0                  0.0\n",
       " -1.7320508075688772  -2.0                   0.0                   0.0                  0.0                  0.0                  0.0                  0.0                  0.0                  0.0                  0.0                  0.0                  0.0                 0.0                  0.0\n",
       " -2.23606797749979    -3.8729833462074175   -3.0                   0.0                  0.0                  0.0                  0.0                  0.0                  0.0                  0.0                  0.0                  0.0                  0.0                 0.0                  0.0\n",
       " -2.6457513110645907  -4.582575694955841    -5.916079783099616    -4.0                  0.0                  0.0                  0.0                  0.0                  0.0                  0.0                  0.0                  0.0                  0.0                 0.0                  0.0\n",
       " -3.0                 -5.196152422706633    -6.7082039324993685   -7.937253933193771   -5.0                  0.0                  0.0                  0.0                  0.0                  0.0                  0.0                  0.0                  0.0                 0.0                  0.0\n",
       " -3.3166247903554     -5.7445626465380295   -7.416198487095662    -8.774964387392123   -9.949874371066198   -6.0                  0.0                  0.0                  0.0                  0.0                  0.0                  0.0                  0.0                 0.0                  0.0\n",
       " -3.605551275463989   -6.244997998398398    -8.06225774829855     -9.539392014169456  -10.816653826391967  -11.958260743101398   -7.0                  0.0                  0.0                  0.0                  0.0                  0.0                  0.0                 0.0                  0.0\n",
       " -3.872983346207417   -6.70820393249937     -8.660254037844386   -10.246950765959598  -11.618950038622252  -12.84523257866513   -13.964240043768942   -7.999999999999999    0.0                  0.0                  0.0                  0.0                  0.0                 0.0                  0.0\n",
       " -4.123105625617661   -7.14142842854285     -9.219544457292887   -10.908712114635714  -12.36931687685298   -13.674794331177344  -14.866068747318506  -15.96871942267131    -9.0                  0.0                  0.0                  0.0                  0.0                 0.0                  0.0\n",
       " -4.358898943540674   -7.549834435270752    -9.746794344808965   -11.532562594670797  -13.076696830622021  -14.45683229480096   -15.716233645501713  -16.88194301613413   -17.972200755611432  -10.0                  0.0                  0.0                  0.0                 0.0                  0.0\n",
       " -4.58257569495584    -7.937253933193773   -10.246950765959598   -12.124355652982139  -13.74772708486752   -15.198684153570664  -16.522711641858304  -17.748239349298846  -18.89444362769118   -19.974984355438178  -11.0                  0.0                  0.0                 0.0                  0.0\n",
       " -4.795831523312719   -8.306623862918075   -10.723805294763608   -12.688577540449518  -14.387494569938157  -15.905973720586864  -17.291616465790582  -18.574175621006706  -19.773719933285186  -20.904544960366866  -21.97726097583591   -12.0                  0.0                 0.0                  0.0\n",
       " -5.0                 -8.660254037844387   -11.180339887498949   -13.228756555322953  -15.0                -16.583123951777     -18.027756377319946  -19.36491673103708   -20.615528128088304  -21.794494717703365  -22.912878474779202  -23.979157616563597  -13.0                 0.0                  0.0\n",
       " -5.196152422706632   -9.000000000000002   -11.61895003862225    -13.747727084867519  -15.588457268119896  -17.233687939614086  -18.734993995195197  -20.124611797498105  -21.42428528562855   -22.649503305812246  -23.811761799581316  -24.919871588754226  -25.98076211353316  -14.000000000000002    0.0\n",
       " -5.385164807134504   -9.327379053088816   -12.041594578792296   -14.247806848775006  -16.15549442140351   -17.86057109949175   -19.416487838947596  -20.856653614614206  -22.203603311174515  -23.473389188611     -24.677925358506133  -25.826343140289914  -26.92582403567252  -27.982137159266443  -15.0\n",
       "B = \n",
       " 1.0\n",
       " 1.7320508075688772\n",
       " 2.23606797749979\n",
       " 2.6457513110645907\n",
       " 3.0\n",
       " 3.3166247903554\n",
       " 3.605551275463989\n",
       " 3.872983346207417\n",
       " 4.123105625617661\n",
       " 4.358898943540674\n",
       " 4.58257569495584\n",
       " 4.795831523312719\n",
       " 5.0\n",
       " 5.196152422706632\n",
       " 5.385164807134504\n",
       "C = \n",
       " 1.0  0.0  0.0  0.0  0.0  0.0  0.0  0.0  0.0  0.0  0.0  0.0  0.0  0.0  0.0\n",
       " 0.0  1.0  0.0  0.0  0.0  0.0  0.0  0.0  0.0  0.0  0.0  0.0  0.0  0.0  0.0\n",
       " 0.0  0.0  1.0  0.0  0.0  0.0  0.0  0.0  0.0  0.0  0.0  0.0  0.0  0.0  0.0\n",
       " 0.0  0.0  0.0  1.0  0.0  0.0  0.0  0.0  0.0  0.0  0.0  0.0  0.0  0.0  0.0\n",
       " 0.0  0.0  0.0  0.0  1.0  0.0  0.0  0.0  0.0  0.0  0.0  0.0  0.0  0.0  0.0\n",
       " 0.0  0.0  0.0  0.0  0.0  1.0  0.0  0.0  0.0  0.0  0.0  0.0  0.0  0.0  0.0\n",
       " 0.0  0.0  0.0  0.0  0.0  0.0  1.0  0.0  0.0  0.0  0.0  0.0  0.0  0.0  0.0\n",
       " 0.0  0.0  0.0  0.0  0.0  0.0  0.0  1.0  0.0  0.0  0.0  0.0  0.0  0.0  0.0\n",
       " 0.0  0.0  0.0  0.0  0.0  0.0  0.0  0.0  1.0  0.0  0.0  0.0  0.0  0.0  0.0\n",
       " 0.0  0.0  0.0  0.0  0.0  0.0  0.0  0.0  0.0  1.0  0.0  0.0  0.0  0.0  0.0\n",
       " 0.0  0.0  0.0  0.0  0.0  0.0  0.0  0.0  0.0  0.0  1.0  0.0  0.0  0.0  0.0\n",
       " 0.0  0.0  0.0  0.0  0.0  0.0  0.0  0.0  0.0  0.0  0.0  1.0  0.0  0.0  0.0\n",
       " 0.0  0.0  0.0  0.0  0.0  0.0  0.0  0.0  0.0  0.0  0.0  0.0  1.0  0.0  0.0\n",
       " 0.0  0.0  0.0  0.0  0.0  0.0  0.0  0.0  0.0  0.0  0.0  0.0  0.0  1.0  0.0\n",
       " 0.0  0.0  0.0  0.0  0.0  0.0  0.0  0.0  0.0  0.0  0.0  0.0  0.0  0.0  1.0\n",
       "D = \n",
       " 0.0\n",
       " 0.0\n",
       " 0.0\n",
       " 0.0\n",
       " 0.0\n",
       " 0.0\n",
       " 0.0\n",
       " 0.0\n",
       " 0.0\n",
       " 0.0\n",
       " 0.0\n",
       " 0.0\n",
       " 0.0\n",
       " 0.0\n",
       " 0.0\n",
       "\n",
       "Continuous-time state-space model"
      ]
     },
     "metadata": {},
     "output_type": "display_data"
    }
   ],
   "source": [
    "anim = @animate for i = 1:60\n",
    "    legs = legs_ss(i);\n",
    "    y, t, x = impulse(legs, 1.5)\n",
    "    plot(t,x', xlabel=\"Time\", xlims=(0, 1.5), ylimit=(-3, 3), title=(\"HiPPO-LegS Unit Impulse Response\\nθ=1, n=\"*string(i)), lab=nothing)\n",
    "end\n",
    "\n",
    "gif(anim, \"HiPPO-LegS_Unit_Impulse_Response.gif\", fps = 15);\n",
    "legs = legs_ss(15)"
   ]
  },
  {
   "cell_type": "markdown",
   "id": "606ff891",
   "metadata": {},
   "source": [
    "**LagT**"
   ]
  },
  {
   "cell_type": "code",
   "execution_count": 131,
   "id": "c86ecda6",
   "metadata": {},
   "outputs": [
    {
     "name": "stderr",
     "output_type": "stream",
     "text": [
      "┌ Info: Saved animation to \n",
      "│   fn = /home/beegass/Documents/Coding/s4former/notebooks/notebooks-jl/HiPPO-LagT_Unit_Impulse_Response.gif\n",
      "└ @ Plots /home/beegass/.julia/packages/Plots/E2187/src/animation.jl:126\n"
     ]
    },
    {
     "data": {
      "text/plain": [
       "StateSpace{Continuous, Float64}\n",
       "A = \n",
       " -1.0  -0.0  -0.0  -0.0  -0.0  -0.0  -0.0  -0.0  -0.0  -0.0  -0.0  -0.0  -0.0  -0.0  -0.0\n",
       " -1.0  -1.0  -0.0  -0.0  -0.0  -0.0  -0.0  -0.0  -0.0  -0.0  -0.0  -0.0  -0.0  -0.0  -0.0\n",
       " -1.0  -1.0  -1.0  -0.0  -0.0  -0.0  -0.0  -0.0  -0.0  -0.0  -0.0  -0.0  -0.0  -0.0  -0.0\n",
       " -1.0  -1.0  -1.0  -1.0  -0.0  -0.0  -0.0  -0.0  -0.0  -0.0  -0.0  -0.0  -0.0  -0.0  -0.0\n",
       " -1.0  -1.0  -1.0  -1.0  -1.0  -0.0  -0.0  -0.0  -0.0  -0.0  -0.0  -0.0  -0.0  -0.0  -0.0\n",
       " -1.0  -1.0  -1.0  -1.0  -1.0  -1.0  -0.0  -0.0  -0.0  -0.0  -0.0  -0.0  -0.0  -0.0  -0.0\n",
       " -1.0  -1.0  -1.0  -1.0  -1.0  -1.0  -1.0  -0.0  -0.0  -0.0  -0.0  -0.0  -0.0  -0.0  -0.0\n",
       " -1.0  -1.0  -1.0  -1.0  -1.0  -1.0  -1.0  -1.0  -0.0  -0.0  -0.0  -0.0  -0.0  -0.0  -0.0\n",
       " -1.0  -1.0  -1.0  -1.0  -1.0  -1.0  -1.0  -1.0  -1.0  -0.0  -0.0  -0.0  -0.0  -0.0  -0.0\n",
       " -1.0  -1.0  -1.0  -1.0  -1.0  -1.0  -1.0  -1.0  -1.0  -1.0  -0.0  -0.0  -0.0  -0.0  -0.0\n",
       " -1.0  -1.0  -1.0  -1.0  -1.0  -1.0  -1.0  -1.0  -1.0  -1.0  -1.0  -0.0  -0.0  -0.0  -0.0\n",
       " -1.0  -1.0  -1.0  -1.0  -1.0  -1.0  -1.0  -1.0  -1.0  -1.0  -1.0  -1.0  -0.0  -0.0  -0.0\n",
       " -1.0  -1.0  -1.0  -1.0  -1.0  -1.0  -1.0  -1.0  -1.0  -1.0  -1.0  -1.0  -1.0  -0.0  -0.0\n",
       " -1.0  -1.0  -1.0  -1.0  -1.0  -1.0  -1.0  -1.0  -1.0  -1.0  -1.0  -1.0  -1.0  -1.0  -0.0\n",
       " -1.0  -1.0  -1.0  -1.0  -1.0  -1.0  -1.0  -1.0  -1.0  -1.0  -1.0  -1.0  -1.0  -1.0  -1.0\n",
       "B = \n",
       " 1.0\n",
       " 1.0\n",
       " 1.0\n",
       " 1.0\n",
       " 1.0\n",
       " 1.0\n",
       " 1.0\n",
       " 1.0\n",
       " 1.0\n",
       " 1.0\n",
       " 1.0\n",
       " 1.0\n",
       " 1.0\n",
       " 1.0\n",
       " 1.0\n",
       "C = \n",
       " 1.0  0.0  0.0  0.0  0.0  0.0  0.0  0.0  0.0  0.0  0.0  0.0  0.0  0.0  0.0\n",
       " 0.0  1.0  0.0  0.0  0.0  0.0  0.0  0.0  0.0  0.0  0.0  0.0  0.0  0.0  0.0\n",
       " 0.0  0.0  1.0  0.0  0.0  0.0  0.0  0.0  0.0  0.0  0.0  0.0  0.0  0.0  0.0\n",
       " 0.0  0.0  0.0  1.0  0.0  0.0  0.0  0.0  0.0  0.0  0.0  0.0  0.0  0.0  0.0\n",
       " 0.0  0.0  0.0  0.0  1.0  0.0  0.0  0.0  0.0  0.0  0.0  0.0  0.0  0.0  0.0\n",
       " 0.0  0.0  0.0  0.0  0.0  1.0  0.0  0.0  0.0  0.0  0.0  0.0  0.0  0.0  0.0\n",
       " 0.0  0.0  0.0  0.0  0.0  0.0  1.0  0.0  0.0  0.0  0.0  0.0  0.0  0.0  0.0\n",
       " 0.0  0.0  0.0  0.0  0.0  0.0  0.0  1.0  0.0  0.0  0.0  0.0  0.0  0.0  0.0\n",
       " 0.0  0.0  0.0  0.0  0.0  0.0  0.0  0.0  1.0  0.0  0.0  0.0  0.0  0.0  0.0\n",
       " 0.0  0.0  0.0  0.0  0.0  0.0  0.0  0.0  0.0  1.0  0.0  0.0  0.0  0.0  0.0\n",
       " 0.0  0.0  0.0  0.0  0.0  0.0  0.0  0.0  0.0  0.0  1.0  0.0  0.0  0.0  0.0\n",
       " 0.0  0.0  0.0  0.0  0.0  0.0  0.0  0.0  0.0  0.0  0.0  1.0  0.0  0.0  0.0\n",
       " 0.0  0.0  0.0  0.0  0.0  0.0  0.0  0.0  0.0  0.0  0.0  0.0  1.0  0.0  0.0\n",
       " 0.0  0.0  0.0  0.0  0.0  0.0  0.0  0.0  0.0  0.0  0.0  0.0  0.0  1.0  0.0\n",
       " 0.0  0.0  0.0  0.0  0.0  0.0  0.0  0.0  0.0  0.0  0.0  0.0  0.0  0.0  1.0\n",
       "D = \n",
       " 0.0\n",
       " 0.0\n",
       " 0.0\n",
       " 0.0\n",
       " 0.0\n",
       " 0.0\n",
       " 0.0\n",
       " 0.0\n",
       " 0.0\n",
       " 0.0\n",
       " 0.0\n",
       " 0.0\n",
       " 0.0\n",
       " 0.0\n",
       " 0.0\n",
       "\n",
       "Continuous-time state-space model"
      ]
     },
     "metadata": {},
     "output_type": "display_data"
    }
   ],
   "source": [
    "anim = @animate for i = 1:60\n",
    "    lagt = lagt_ss(i, 0, 1);\n",
    "    y, t, x = impulse(lagt, 1.5)\n",
    "    plot(t,x', xlabel=\"Time\", xlims=(0, 1.5), ylimit=(-3, 3), title=(\"HiPPO-LagT Unit Impulse Response\\nθ=1, n=\"*string(i)), lab=nothing)\n",
    "end\n",
    "\n",
    "gif(anim, \"HiPPO-LagT_Unit_Impulse_Response.gif\", fps = 15);\n",
    "lagt = lagt_ss(15, 0, 1)"
   ]
  }
 ],
 "metadata": {
  "kernelspec": {
   "display_name": "Julia 1.7.3",
   "language": "julia",
   "name": "julia-1.7"
  },
  "language_info": {
   "file_extension": ".jl",
   "mimetype": "application/julia",
   "name": "julia",
   "version": "1.7.3"
  }
 },
 "nbformat": 4,
 "nbformat_minor": 5
}
