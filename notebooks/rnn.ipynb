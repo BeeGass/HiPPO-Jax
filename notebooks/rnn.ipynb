{
 "cells": [
  {
   "cell_type": "code",
   "execution_count": 11,
   "metadata": {},
   "outputs": [],
   "source": [
    "import jax\n",
    "import jax.ops\n",
    "import jax.numpy as jnp\n",
    "\n",
    "import flax\n",
    "from flax import linen as nn\n",
    "from flax import optim\n",
    "\n",
    "import optax\n",
    "\n",
    "import numpy as np  # convention: original numpy\n",
    "\n",
    "from typing import Any, Callable, Sequence, Optional, Tuple, Union"
   ]
  },
  {
   "cell_type": "code",
   "execution_count": 12,
   "metadata": {},
   "outputs": [],
   "source": [
    "seed = 1701\n",
    "key = jax.random.PRNGKey(seed)"
   ]
  },
  {
   "cell_type": "code",
   "execution_count": 13,
   "metadata": {},
   "outputs": [],
   "source": [
    "num_copies = 5\n",
    "rng, key2, key3, key4, key5 = jax.random.split(key, num=num_copies)"
   ]
  },
  {
   "cell_type": "code",
   "execution_count": null,
   "metadata": {},
   "outputs": [],
   "source": [
    "class RNNCell(nn.Module):\n",
    "    \"\"\"\n",
    "    Description:\n",
    "     Wh @ ht_1 + Wx @ x + b\n",
    "\n",
    "    Args:\n",
    "        W_xh (jnp.ndarray): weights associated with the input x_{i} and the hidden state h_{t}\n",
    "        W_hh (jnp.ndarray): weights associated with the hidden state h_{t} and the hidden state h_{t-1}\n",
    "        W_hy (jnp.ndarray): weights associated with the hidden state h_{t} and the output y_{t}\n",
    "        hidden_dim (int): dimension of the hidden state\n",
    "        io_dim (int): dimension of the input and output\n",
    "    \"\"\"\n",
    "    W_xh: jnp.ndarray\n",
    "    W_hh: jnp.ndarray\n",
    "    W_hy: jnp.ndarray\n",
    "    hidden_dim: int\n",
    "    io_dim: int\n",
    "    \n",
    "    def setup(self):\n",
    "        # self.Wxh = np.random.randn(hidden_size, vocab_size)*0.01 # input to hidden\n",
    "        # self.Whh = np.random.randn(hidden_size, hidden_size)*0.01 # hidden to hidden\n",
    "        # self.Why = np.random.randn(vocab_size, hidden_size)*0.01 # hidden to output\n",
    "        \n",
    "        self.W_xh = jnp.ndarray(np.empty((self.hidden_dim, self.io_dim), dtype=jnp.float64))\n",
    "        self.W_hh = jnp.ndarray(np.empty((self.hidden_dim, self.hidden_dim), dtype=jnp.float64))\n",
    "        self.W_hh = jnp.ndarray(np.empty((self.io_dim, self.hidden_dim), dtype=jnp.float64))\n",
    "        \n",
    "    def __call__(self, ht_1, input):\n",
    "        '''\n",
    "        Description:\n",
    "            W_xh = x_{t} @ W_{xh} - multiply the previous hidden state with \n",
    "            W_hh = H_{t-1} @ W_{hh} + b_{h} - this a linear layer \n",
    "            \n",
    "            H_{t} = f_{w}(H_{t-1}, x)\n",
    "            H_{t} = tanh(H_{t-1} @ W_{hh}) + (x_{t} @ W_{xh})\n",
    "\n",
    "        Args:\n",
    "            ht_1 (jnp.ndarray): hidden state from previous time step (aka the current cell state)\n",
    "            input (jnp.ndarray): # input vector\n",
    "            \n",
    "        Returns:\n",
    "            h_t (jnp.ndarray): hidden state from current time step\n",
    "        '''\n",
    "        W_hh = nn.Dense(ht_1.shape[0])(ht_1) \n",
    "        W_xh = input @ self.W_xh\n",
    "        h_t = jnp.tanh(W_hh + W_xh) # H_{t} = tanh(H_{t-1} @ W_{hh}) + (x_{t} @ W_{xh})\n",
    "        y_t = nn.Dense(input.shape[0])(h_t) # \\hat{y}_{t} = W^{T}_{hy} @ h_{t} + b^{T}_{hy}\n",
    "        \n",
    "        return h_t, y_t\n",
    "    \n",
    "    "
   ]
  },
  {
   "cell_type": "code",
   "execution_count": null,
   "metadata": {},
   "outputs": [],
   "source": [
    "class RNN(nn.Module):\n",
    "    \"\"\"\n",
    "    Description:\n",
    "    \n",
    "\n",
    "    Args:\n",
    "        nn (_type_): _description_\n",
    "    \"\"\"\n",
    "    cell: Callable[jnp.ndarray, jnp.ndarray]\n",
    "    hidden_dim: int\n",
    "    output_dim: int\n",
    "    \n",
    "    def setup(self):\n",
    "        self.rnn_cell = self.cell(W_hh=self., hidden_dim=self.hidden_dim)\n",
    "        pass\n",
    "    \n",
    "    def __call__(self, ht_1, input):\n",
    "        h_t = self.rnn_cell(ht_1, input)\n",
    "        y_t = nn.Dense(h_t.shape[0])(h_t) # \\hat{y}_{t} = W^{T}_{hy} @ h_{t}\n",
    "        return h_t, y_t"
   ]
  }
 ],
 "metadata": {
  "kernelspec": {
   "display_name": "Python 3.8.10 ('S4')",
   "language": "python",
   "name": "python3"
  },
  "language_info": {
   "codemirror_mode": {
    "name": "ipython",
    "version": 3
   },
   "file_extension": ".py",
   "mimetype": "text/x-python",
   "name": "python",
   "nbconvert_exporter": "python",
   "pygments_lexer": "ipython3",
   "version": "3.8.10"
  },
  "orig_nbformat": 4,
  "vscode": {
   "interpreter": {
    "hash": "6dc494a5daaced9550789c1f8ef2d8b520b83ed8d0bf2c0436ba61ad5b0d825e"
   }
  }
 },
 "nbformat": 4,
 "nbformat_minor": 2
}
