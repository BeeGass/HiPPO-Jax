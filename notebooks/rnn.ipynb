{
 "cells": [
  {
   "cell_type": "code",
   "execution_count": 11,
   "metadata": {},
   "outputs": [],
   "source": [
    "import jax\n",
    "import jax.ops\n",
    "import jax.numpy as jnp\n",
    "\n",
    "import flax\n",
    "from flax import linen as nn\n",
    "from flax import optim\n",
    "\n",
    "import optax\n",
    "\n",
    "import numpy as np  # convention: original numpy\n",
    "\n",
    "from typing import Any, Callable, Sequence, Optional, Tuple, Union"
   ]
  },
  {
   "cell_type": "code",
   "execution_count": 12,
   "metadata": {},
   "outputs": [],
   "source": [
    "seed = 1701\n",
    "key = jax.random.PRNGKey(seed)"
   ]
  },
  {
   "cell_type": "code",
   "execution_count": 13,
   "metadata": {},
   "outputs": [],
   "source": [
    "num_copies = 5\n",
    "rng, key2, key3, key4, key5 = jax.random.split(key, num=num_copies)"
   ]
  },
  {
   "cell_type": "code",
   "execution_count": 14,
   "metadata": {},
   "outputs": [],
   "source": [
    "class RNNCell(nn.Module):\n",
    "  @nn.compact\n",
    "  def __call__(self, state, x):\n",
    "    # Wh @ h + Wx @ x + b can be efficiently computed\n",
    "    # by concatenating the vectors and then having a single dense layer\n",
    "    x = jnp.concatenate([state, x])\n",
    "    new_state = jnp.tanh(nn.Dense(state.shape[0])(x))\n",
    "    return new_state"
   ]
  },
  {
   "cell_type": "code",
   "execution_count": 15,
   "metadata": {},
   "outputs": [
    {
     "ename": "AttributeError",
     "evalue": "'DeviceArray' object has no attribute 'init_with_output'",
     "output_type": "error",
     "traceback": [
      "\u001b[0;31m---------------------------------------------------------------------------\u001b[0m",
      "\u001b[0;31mAttributeError\u001b[0m                            Traceback (most recent call last)",
      "\u001b[1;32m/home/beegass/Documents/Coding/medattention/notebooks/rnn.ipynb Cell 5'\u001b[0m in \u001b[0;36m<cell line: 5>\u001b[0;34m()\u001b[0m\n\u001b[1;32m      <a href='vscode-notebook-cell:/home/beegass/Documents/Coding/medattention/notebooks/rnn.ipynb#ch0000005?line=0'>1</a>\u001b[0m L \u001b[39m=\u001b[39m \u001b[39m100\u001b[39m\n\u001b[1;32m      <a href='vscode-notebook-cell:/home/beegass/Documents/Coding/medattention/notebooks/rnn.ipynb#ch0000005?line=2'>3</a>\u001b[0m x \u001b[39m=\u001b[39m jax\u001b[39m.\u001b[39mrandom\u001b[39m.\u001b[39mnormal(rng, shape\u001b[39m=\u001b[39m(L, \u001b[39m1\u001b[39m))\n\u001b[0;32m----> <a href='vscode-notebook-cell:/home/beegass/Documents/Coding/medattention/notebooks/rnn.ipynb#ch0000005?line=4'>5</a>\u001b[0m params \u001b[39m=\u001b[39m RNNCell\u001b[39m.\u001b[39;49minit(key2, x)\n\u001b[1;32m      <a href='vscode-notebook-cell:/home/beegass/Documents/Coding/medattention/notebooks/rnn.ipynb#ch0000005?line=6'>7</a>\u001b[0m c_legs \u001b[39m=\u001b[39m RNNCell\u001b[39m.\u001b[39mapply(params, x)\n",
      "    \u001b[0;31m[... skipping hidden 1 frame]\u001b[0m\n",
      "File \u001b[0;32m~/.virtualenvs/S4/lib/python3.8/site-packages/flax/linen/module.py:1227\u001b[0m, in \u001b[0;36mModule.init\u001b[0;34m(self, rngs, method, mutable, *args, **kwargs)\u001b[0m\n\u001b[1;32m   1197\u001b[0m \u001b[39m@traceback_util\u001b[39m\u001b[39m.\u001b[39mapi_boundary\n\u001b[1;32m   1198\u001b[0m \u001b[39mdef\u001b[39;00m \u001b[39minit\u001b[39m(\u001b[39mself\u001b[39m,\n\u001b[1;32m   1199\u001b[0m          rngs: Union[PRNGKey, RNGSequences],\n\u001b[0;32m   (...)\u001b[0m\n\u001b[1;32m   1202\u001b[0m          mutable: CollectionFilter \u001b[39m=\u001b[39m DenyList(\u001b[39m'\u001b[39m\u001b[39mintermediates\u001b[39m\u001b[39m'\u001b[39m),\n\u001b[1;32m   1203\u001b[0m          \u001b[39m*\u001b[39m\u001b[39m*\u001b[39mkwargs) \u001b[39m-\u001b[39m\u001b[39m>\u001b[39m FrozenVariableDict:\n\u001b[1;32m   1204\u001b[0m   \u001b[39m\"\"\"Initializes a module method with variables and returns modified variables.\u001b[39;00m\n\u001b[1;32m   1205\u001b[0m \n\u001b[1;32m   1206\u001b[0m \u001b[39m  Jitting `init` initializes a model lazily using only the shapes of the\u001b[39;00m\n\u001b[0;32m   (...)\u001b[0m\n\u001b[1;32m   1225\u001b[0m \u001b[39m    The initialized variable dict.\u001b[39;00m\n\u001b[1;32m   1226\u001b[0m \u001b[39m  \"\"\"\u001b[39;00m\n\u001b[0;32m-> 1227\u001b[0m   _, v_out \u001b[39m=\u001b[39m \u001b[39mself\u001b[39;49m\u001b[39m.\u001b[39;49minit_with_output(\n\u001b[1;32m   1228\u001b[0m       rngs, \u001b[39m*\u001b[39margs,\n\u001b[1;32m   1229\u001b[0m       method\u001b[39m=\u001b[39mmethod, mutable\u001b[39m=\u001b[39mmutable, \u001b[39m*\u001b[39m\u001b[39m*\u001b[39mkwargs)\n\u001b[1;32m   1230\u001b[0m   \u001b[39mreturn\u001b[39;00m v_out\n",
      "\u001b[0;31mAttributeError\u001b[0m: 'DeviceArray' object has no attribute 'init_with_output'"
     ]
    }
   ],
   "source": [
    "L = 100\n",
    "\n",
    "x = jax.random.normal(rng, shape=(L, 1))\n",
    "\n",
    "params = RNNCell.init(key2, x)\n",
    "    \n",
    "c_legs = RNNCell.apply(params, x)\n",
    "    "
   ]
  },
  {
   "cell_type": "code",
   "execution_count": null,
   "metadata": {},
   "outputs": [],
   "source": [
    "class RNN(nn.Module):\n",
    "    \"\"\"\n",
    "    Description:\n",
    "     Wh @ ht_1 + Wx @ x + b\n",
    "\n",
    "    Args:\n",
    "        W_xh (jnp.ndarray): # weights associated with the input x_{i} and the hidden state h_{t}\n",
    "        W_hh (jnp.ndarray): # weights associated with the hidden state h_{t} and the hidden state h_{t-1}\n",
    "        W_hy (jnp.ndarray): # weights associated with the hidden state h_{t} and the output y_{t}\n",
    "    \"\"\"\n",
    "    W_xh: jnp.ndarray\n",
    "    W_hh: jnp.ndarray\n",
    "    W_hy: jnp.ndarray\n",
    "    \n",
    "    \n",
    "    \n",
    "    def setup(self):\n",
    "        \n",
    "        pass\n",
    "    \n",
    "    def __call__(self, ht_1, input):\n",
    "        '''\n",
    "        Description:\n",
    "            W_xh = Wx @ x + b - this a linear layer\n",
    "            W_hh = Wh @ ht_1 - multiply the previous hidden state with \n",
    "            \n",
    "            h_{t} = f_{w}(Wh @ ht_1 + Wx @ x + b)\n",
    "            h_{t} = Wh @ ht_1 + Wx @ x + b\n",
    "\n",
    "        Args:\n",
    "            ht_1 (jnp.ndarray): hidden state from previous time step (aka the current cell state)\n",
    "            input (jnp.ndarray): # input vector\n",
    "            \n",
    "        Returns:\n",
    "            ht (jnp.ndarray): hidden state from current time step\n",
    "        '''\n",
    "        \n",
    "        self.W_xh = nn.Dense(ht_1.shape[0])(input)\n",
    "        self.W_hh = self.W_hh @ ht_1\n",
    "        x = ht_1 @ x\n",
    "        h_t = jnp.tanh(nn.Dense(ht_1.shape[0])(x))\n",
    "        return h_t\n",
    "    \n",
    "class RNNCell(nn.Module):\n",
    "    \"\"\"\n",
    "    Description:\n",
    "     Wh @ ht_1 + Wx @ x + b\n",
    "\n",
    "    Args:\n",
    "        W_xh (jnp.ndarray): weights associated with the input x_{i} and the hidden state h_{t}\n",
    "        W_hh (jnp.ndarray): weights associated with the hidden state h_{t} and the hidden state h_{t-1}\n",
    "        W_hy (jnp.ndarray): weights associated with the hidden state h_{t} and the output y_{t}\n",
    "        hidden_dim (int): dimension of the hidden state\n",
    "        io_dim (int): dimension of the input and output\n",
    "    \"\"\"\n",
    "    W_xh: jnp.ndarray\n",
    "    W_hh: jnp.ndarray\n",
    "    W_hy: jnp.ndarray\n",
    "    hidden_dim: int\n",
    "    io_dim: int\n",
    "    \n",
    "    def setup(self):\n",
    "        # self.Wxh = np.random.randn(hidden_size, vocab_size)*0.01 # input to hidden\n",
    "        # self.Whh = np.random.randn(hidden_size, hidden_size)*0.01 # hidden to hidden\n",
    "        # self.Why = np.random.randn(vocab_size, hidden_size)*0.01 # hidden to output\n",
    "        \n",
    "        self.W_xh = jnp.ndarray(np.empty((self.hidden_dim, self.io_dim), dtype=jnp.float64))\n",
    "        self.W_hh = jnp.ndarray(np.empty((self.hidden_dim, self.hidden_dim), dtype=jnp.float64))\n",
    "        \n",
    "        \n",
    "    def __call__(self, ht_1, input):\n",
    "        '''\n",
    "        Description:\n",
    "            W_xh = x_{t} @ W_{xh} - multiply the previous hidden state with \n",
    "            W_hh = H_{t-1} @ W_{hh} + b_{h} - this a linear layer \n",
    "            \n",
    "            H_{t} = f_{w}(H_{t-1}, x)\n",
    "            H_{t} = tanh(H_{t-1} @ W_{hh}) + (x_{t} @ W_{xh})\n",
    "\n",
    "        Args:\n",
    "            ht_1 (jnp.ndarray): hidden state from previous time step (aka the current cell state)\n",
    "            input (jnp.ndarray): # input vector\n",
    "            \n",
    "        Returns:\n",
    "            h_t (jnp.ndarray): hidden state from current time step\n",
    "        '''\n",
    "        W_hh = nn.Dense(ht_1.shape[0])(ht_1) \n",
    "        W_xh = input @ self.W_xh\n",
    "        h_t = jnp.tanh(W_hh + W_xh) # H_{t} = tanh(H_{t-1} @ W_{hh}) + (x_{t} @ W_{xh})\n",
    "        y_t = nn.Dense(h_t.shape[0])(h_t) # \\hat{y}_{t} = W^{T}_{hy} @ h_{t} + b^{T}_{hy}\n",
    "        \n",
    "        return h_t, y_t\n",
    "    \n",
    "    "
   ]
  },
  {
   "cell_type": "code",
   "execution_count": null,
   "metadata": {},
   "outputs": [],
   "source": [
    "class RNN(nn.Module):\n",
    "    \"\"\"\n",
    "    Description:\n",
    "    \n",
    "\n",
    "    Args:\n",
    "        nn (_type_): _description_\n",
    "    \"\"\"\n",
    "    cell: Callable[jnp.ndarray, jnp.ndarray]\n",
    "    hidden_dim: int\n",
    "    output_dim: int\n",
    "    \n",
    "    def setup(self):\n",
    "        self.rnn_cell = self.cell(W_hh=self., hidden_dim=self.hidden_dim)\n",
    "        pass\n",
    "    \n",
    "    def __call__(self, ht_1, input):\n",
    "        h_t = self.rnn_cell(ht_1, input)\n",
    "        y_t = nn.Dense(h_t.shape[0])(h_t) # \\hat{y}_{t} = W^{T}_{hy} @ h_{t}\n",
    "        return h_t, y_t"
   ]
  }
 ],
 "metadata": {
  "kernelspec": {
   "display_name": "Python 3.8.10 ('S4')",
   "language": "python",
   "name": "python3"
  },
  "language_info": {
   "codemirror_mode": {
    "name": "ipython",
    "version": 3
   },
   "file_extension": ".py",
   "mimetype": "text/x-python",
   "name": "python",
   "nbconvert_exporter": "python",
   "pygments_lexer": "ipython3",
   "version": "3.8.10"
  },
  "orig_nbformat": 4,
  "vscode": {
   "interpreter": {
    "hash": "6dc494a5daaced9550789c1f8ef2d8b520b83ed8d0bf2c0436ba61ad5b0d825e"
   }
  }
 },
 "nbformat": 4,
 "nbformat_minor": 2
}
