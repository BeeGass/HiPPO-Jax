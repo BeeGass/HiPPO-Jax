{
 "cells": [
  {
   "cell_type": "markdown",
   "metadata": {},
   "source": [
    "# HiPPO Matrices\n",
    "---"
   ]
  },
  {
   "attachments": {},
   "cell_type": "markdown",
   "metadata": {},
   "source": [
    "## Table of Contents\n",
    "* [Loading In Necessary Packages](#load-packages)\n",
    "* [Instantiate The HiPPO Matrix](#instantiate-the-hippo-matrix)\n",
    "    * [Translated Legendre (LegT)](#translated-legendre-legt)\n",
    "        * [LegT](#legt)\n",
    "        * [LMU](#lmu)\n",
    "    * [Translated Laguerre (LagT)](#translated-laguerre-lagt)\n",
    "    * [Scaled Legendre (LegS)](#scaled-legendre-legs)\n",
    "    * [Fourier Basis](#fourier-basis)\n",
    "        * [Fourier Recurrent Unit (FRU)](#fourier-recurrent-unit-fru)\n",
    "        * [Truncated Fourier (FouT)](#truncated-fourier-fout)\n",
    "        * [Fourier With Decay (FourD)](#fourier-with-decay-fourd)\n",
    "* [Gu's Linear Time Invariant (LTI) HiPPO Operator](#gus-hippo-legt-operator)\n",
    "* [Gu's Scale invariant (LSI) HiPPO Operator](#gus-scale-invariant-hippo-legs-operator)\n",
    "* [Implementation Of General HiPPO Operator](#implementation-of-general-hippo-operator)\n",
    "* [Test Generalized Bilinear Transform and Zero Order Hold Matrices](#test-generalized-bilinear-transform-and-zero-order-hold-matrices)\n",
    "    * [Testing Forward Euler on GBT matrices](#testing-forward-euler-transform-for-lti-and-lsi)\n",
    "    * [Testing Backward Euler on GBT matrices](#testing-backward-euler-transform-for-lti-and-lsi-on-legs-matrices)\n",
    "    * [Testing Bidirectional on GBT matrices](#testing-lti-and-lsi-operators-with-bidirectional-transform)\n",
    "    * [Testing ZOH on GBT matrices](#testing-zoh-transform-for-lti-and-lsi-on-legs-matrices)\n",
    "* [Testing HiPPO Operators](#test-hippo-operators)\n",
    "    * [Testing Forward Euler on HiPPO Operators](#testing-lti-and-lsi-operators-with-forward-euler-transform)\n",
    "    * [Testing Backward Euler on HiPPO Operators](#testing-lti-and-lsi-operators-with-backward-euler-transform)\n",
    "    * [Testing Bidirectional on HiPPO Operators](#testing-lti-and-lsi-operators-with-bidirectional-transform)\n",
    "    * [Testing ZOH on HiPPO Operators](#testing-lti-and-lsi-operators-with-zoh-transform)\n",
    "---\n"
   ]
  },
  {
   "cell_type": "markdown",
   "metadata": {},
   "source": [
    "## Load Packages"
   ]
  },
  {
   "cell_type": "code",
   "execution_count": 1,
   "metadata": {},
   "outputs": [
    {
     "name": "stdout",
     "output_type": "stream",
     "text": [
      "module_path: /Users/beegass/Documents/Coding/s4mer\n"
     ]
    }
   ],
   "source": [
    "import os\n",
    "import sys\n",
    "\n",
    "module_path = os.path.abspath(os.path.join(\"../../../\"))\n",
    "print(f\"module_path: {module_path}\")\n",
    "if module_path not in sys.path:\n",
    "    print(f\"Adding {module_path} to sys.path\")\n",
    "    sys.path.append(module_path)"
   ]
  },
  {
   "cell_type": "code",
   "execution_count": 2,
   "metadata": {},
   "outputs": [
    {
     "name": "stdout",
     "output_type": "stream",
     "text": [
      "[CpuDevice(id=0)]\n",
      "The Device: cpu\n"
     ]
    }
   ],
   "source": [
    "## import packages\n",
    "import math\n",
    "from typing import Any, Callable, List, Optional, Tuple, Union\n",
    "\n",
    "import jax\n",
    "import jax.numpy as jnp\n",
    "import requests\n",
    "from flax import linen as jnn\n",
    "from jax.nn.initializers import lecun_normal, uniform\n",
    "from jax.numpy.linalg import eig, inv, matrix_power\n",
    "from jax.scipy.signal import convolve\n",
    "from jaxtyping import Array, Float, Float16, Float32, Float64\n",
    "from scipy import linalg as la\n",
    "from scipy import signal\n",
    "from scipy import special as ss\n",
    "\n",
    "from src.data.process import moving_window, rolling_window\n",
    "from src.models.hippo.gu_hippo import gu_HiPPO_LSI, gu_HiPPO_LTI\n",
    "\n",
    "# import modules\n",
    "from src.models.hippo.gu_transition import GuTransMatrix\n",
    "from src.models.hippo.hippo import HiPPOLSI, HiPPOLTI\n",
    "from src.models.hippo.transition import TransMatrix\n",
    "from src.models.hippo.unroll import (\n",
    "    basis,\n",
    "    measure,\n",
    "    variable_unroll_matrix,\n",
    "    variable_unroll_matrix_sequential,\n",
    ")\n",
    "from src.utils.ops import genlaguerre, legendre_polynomial\n",
    "\n",
    "print(jax.devices())\n",
    "print(f\"The Device: {jax.lib.xla_bridge.get_backend().platform}\")"
   ]
  },
  {
   "cell_type": "code",
   "execution_count": 3,
   "metadata": {},
   "outputs": [
    {
     "name": "stdout",
     "output_type": "stream",
     "text": [
      "MPS enabled: True\n"
     ]
    }
   ],
   "source": [
    "from functools import partial\n",
    "from typing import Any\n",
    "\n",
    "import einops\n",
    "import functorch\n",
    "import matplotlib.pyplot as plt\n",
    "import numpy as np\n",
    "import torch\n",
    "import torch.nn as nn\n",
    "import torch.nn.functional as F\n",
    "import torch.utils.data as data\n",
    "\n",
    "print(f\"MPS enabled: {torch.backends.mps.is_available()}\")"
   ]
  },
  {
   "cell_type": "code",
   "execution_count": 4,
   "metadata": {},
   "outputs": [],
   "source": [
    "torch.set_printoptions(linewidth=150)\n",
    "np.set_printoptions(linewidth=150)\n",
    "jnp.set_printoptions(linewidth=150)"
   ]
  },
  {
   "cell_type": "code",
   "execution_count": 5,
   "metadata": {},
   "outputs": [],
   "source": [
    "seed = 1701\n",
    "key = jax.random.PRNGKey(seed)"
   ]
  },
  {
   "cell_type": "code",
   "execution_count": 6,
   "metadata": {},
   "outputs": [],
   "source": [
    "num_copies = 10\n",
    "subkeys = jax.random.split(key, num=num_copies)\n",
    "key = subkeys[0]"
   ]
  },
  {
   "cell_type": "code",
   "execution_count": 7,
   "metadata": {},
   "outputs": [],
   "source": [
    "def random_16_input(key_generator, batch_size=16, data_size=784, input_size=28):\n",
    "    # x = jax.random.randint(key_generator, (batch_size, data_size), 0, 255)\n",
    "    x = jax.random.uniform(key_generator, (batch_size, data_size))\n",
    "    return np.asarray(jax.vmap(moving_window, in_axes=(0, None))(x, input_size))"
   ]
  },
  {
   "attachments": {},
   "cell_type": "markdown",
   "metadata": {},
   "source": [
    "## Test HiPPO Reconstruction"
   ]
  },
  {
   "cell_type": "code",
   "execution_count": 8,
   "metadata": {},
   "outputs": [],
   "source": [
    "def test_hippo_reconstruction(\n",
    "    hippo, gu_hippo, random_input, key, s_or_t=\"lti\", print_all=False\n",
    "):\n",
    "    x_tensor = torch.tensor(random_input, dtype=torch.float32)\n",
    "    x_jnp = jnp.asarray(x_tensor, dtype=jnp.float32)  # convert torch array to jax array\n",
    "\n",
    "    # My Implementation\n",
    "    if print_all:\n",
    "        print(\n",
    "            f\"------------------------------------------------------------------------------------------\"\n",
    "        )\n",
    "        print(\n",
    "            f\"----------------------------My {s_or_t} Implementation Outputs----------------------------\"\n",
    "        )\n",
    "        print(\n",
    "            f\"------------------------------------------------------------------------------------------\"\n",
    "        )\n",
    "    params = hippo.init(key, f=x_jnp)\n",
    "    hippo = hippo.bind(params)\n",
    "    c = hippo.__call__(f=x_jnp)\n",
    "    y = hippo.reconstruct(c)\n",
    "\n",
    "    mse = lambda y_hat, y: jnp.mean((y_hat - y) ** 2)\n",
    "    batch_mse = jax.vmap(mse, in_axes=(0, 0))\n",
    "\n",
    "    # Gu's HiPPO LegS\n",
    "    if print_all:\n",
    "        print(\n",
    "            f\"------------------------------------------------------------------------------------------\"\n",
    "        )\n",
    "        print(\n",
    "            f\"---------------------------Gu's {s_or_t} Implementation Outputs---------------------------\"\n",
    "        )\n",
    "        print(\n",
    "            f\"------------------------------------------------------------------------------------------\"\n",
    "        )\n",
    "    x_tensor = torch.moveaxis(x_tensor, 0, 1)\n",
    "    GU_c_s, GU_c_k = gu_hippo(x_tensor, fast=False)\n",
    "\n",
    "    gu_y = None\n",
    "    if s_or_t == \"lsi\":\n",
    "        gu_y = gu_hippo.reconstruct(GU_c_s)\n",
    "    elif s_or_t == \"lti\":\n",
    "        gu_y = gu_hippo.reconstruct(GU_c_k)\n",
    "    else:\n",
    "        raise ValueError(\n",
    "            f\"s_or_t must be either 'lsi' or 'lti'. s_or_t is currently set to: {s_or_t}\"\n",
    "        )\n",
    "\n",
    "    if s_or_t == \"lsi\":\n",
    "        gu_c = jnp.asarray(\n",
    "            GU_c_s, dtype=jnp.float32\n",
    "        )  # convert torch array to jax array\n",
    "        # (1, 64, 64, 1)\n",
    "        y = einops.rearrange(\n",
    "            y, \"batch seq_len seq_len2 input_len -> batch seq_len input_len seq_len2\"\n",
    "        )\n",
    "        gu_y = einops.rearrange(\n",
    "            gu_y, \"batch seq_len seq_len2 input_len -> batch seq_len input_len seq_len2\"\n",
    "        )\n",
    "\n",
    "    elif s_or_t == \"lti\":\n",
    "        gu_c = jnp.asarray(\n",
    "            GU_c_k, dtype=jnp.float32\n",
    "        )  # convert torch array to jax array\n",
    "        # (1, 64, 1)\n",
    "        y = einops.rearrange(y, \"batch seq_len input_len -> batch input_len seq_len\")\n",
    "        gu_y = einops.rearrange(\n",
    "            gu_y, \"batch seq_len input_len -> batch input_len seq_len\"\n",
    "        )\n",
    "\n",
    "    gu_y = jnp.asarray(gu_y, dtype=jnp.float32)  # convert torch array to jax array\n",
    "\n",
    "    x_tensor = jnp.asarray(\n",
    "        x_tensor, dtype=jnp.float32\n",
    "    )  # convert torch array to jax array\n",
    "    x_tensor = jnp.moveaxis(x_tensor, 0, 1)\n",
    "\n",
    "    co_flag = True\n",
    "    y_flag = True\n",
    "    for i in range(c.shape[0]):\n",
    "        for j in range(c.shape[1]):\n",
    "\n",
    "            co_check = None\n",
    "            y_check = None\n",
    "            if s_or_t == \"lsi\":\n",
    "                co_check = jnp.allclose(\n",
    "                    c[i, j, :, :], gu_c[i, j, :, :], rtol=1e-03, atol=1e-03\n",
    "                )\n",
    "                y_check = jnp.allclose(\n",
    "                    y[i, j, :, :], gu_y[i, j, :, :], rtol=1e-03, atol=1e-03\n",
    "                )\n",
    "\n",
    "                if print_all:\n",
    "                    print(f\"c_k[{i},{j},:,:]:\\n{c[i,j,:,:]}\")\n",
    "                    print(f\"gu_cs[{i},{j},:,:]:\\n{gu_c[i,j,:,:]}\")\n",
    "                    print(f\"coefficients check: {co_check}\\n\")\n",
    "\n",
    "                    print(f\"y[{i},{j},:,:]:\\n{y[i,j,:,:]}\")\n",
    "                    print(f\"gu_y[{i},{j},:,:]:\\n{gu_y[i,j,:,:]}\")\n",
    "                    print(f\"reconstruction check: {y_check}\\n\")\n",
    "\n",
    "            elif s_or_t == \"lti\":\n",
    "                co_check = jnp.allclose(\n",
    "                    c[i, j, :], gu_c[i, :, :], rtol=1e-03, atol=1e-03\n",
    "                )\n",
    "                y_check = jnp.allclose(\n",
    "                    y[i, j, :], gu_y[i, :, :], rtol=1e-03, atol=1e-03\n",
    "                )\n",
    "\n",
    "                if print_all:\n",
    "                    print(f\"c_k[{i},{j},:]:\\n{c[i,:,:]}\")\n",
    "                    print(f\"gu_cs[{i},{j},:]:\\n{gu_c[i,j,:]}\")\n",
    "                    print(f\"coefficients check: {co_check}\\n\")\n",
    "\n",
    "                    print(f\"y[{i},{j},:]:\\n{y[i,:,:]}\")\n",
    "                    print(f\"gu_y[{i},{j},:]:\\n{gu_y[i,:,:]}\")\n",
    "                    print(f\"reconstruction check: {y_check}\\n\")\n",
    "\n",
    "            if co_check == False:\n",
    "                co_flag = False\n",
    "\n",
    "            if y_check == False:\n",
    "                y_flag = False\n",
    "\n",
    "    if not print_all:\n",
    "        print(f\"\\n------------------------------------------------------------\")\n",
    "        print(f\"---------- The Coefficients Test Passed: {co_flag} ----------\")\n",
    "        print(f\"-------------------------------------------------------------\\n\\n\")\n",
    "        print(f\"\\n-------------------------------------------------------------\")\n",
    "        print(f\"---------- The Reconstruction Test Passed: {y_flag} ----------\")\n",
    "        print(f\"--------------------------------------------------------------\\n\")\n",
    "\n",
    "    if print_all:\n",
    "        print(f\"c:\\n {c}\")\n",
    "        print(f\"c shape:\\n {c.shape}\")\n",
    "\n",
    "        print(f\"gu_c:\\n {gu_c}\")\n",
    "        print(f\"gu_c shape:\\n {gu_c.shape}\")\n",
    "\n",
    "        print(f\"y:\\n {y}\")\n",
    "        print(f\"y shape:\\n {y.shape}\")\n",
    "\n",
    "        print(f\"gu_y:\\n {gu_y}\")\n",
    "        print(f\"gu_y shape:\\n {gu_y.shape}\")\n",
    "\n",
    "    # time_allclose = jax.vmap(jnp.allclose, in_axes=(0, 0, None, None))\n",
    "    # batch_time_allclose = jax.vmap(time_allclose, in_axes=(0, 0, None, None))\n",
    "    # print(f\"Test y:\\n{batch_time_allclose(y, gu_y, 1e-04, 1e-04)}\\n\")\n",
    "    # print(f\"y Loss:\\n {batch_mse(gu_y, x_tensor)}\\n\")\n",
    "    # print(f\"gu's y Loss:\\n {batch_mse(y, x_jnp)}\\n\\n\\n\")"
   ]
  },
  {
   "cell_type": "code",
   "execution_count": 9,
   "metadata": {},
   "outputs": [],
   "source": [
    "def test_reconstruction(\n",
    "    the_measure=\"legs\", lambda_n=1.0, alpha=0.5, discretization=0.5, print_all=False\n",
    "):\n",
    "    # N = 256\n",
    "    # L = 128\n",
    "\n",
    "    batch_size = 2\n",
    "    data_size = 64\n",
    "    input_size = 1\n",
    "\n",
    "    N = 50\n",
    "    L = data_size\n",
    "\n",
    "    x_jnp = random_16_input(\n",
    "        key_generator=subkeys[4],\n",
    "        batch_size=batch_size,\n",
    "        data_size=data_size,\n",
    "        input_size=input_size,\n",
    "    )\n",
    "    x_np = np.asarray(x_jnp)\n",
    "\n",
    "    x = torch.tensor(x_np, dtype=torch.float32)\n",
    "\n",
    "    # ----------------------------------------------------------------------------------\n",
    "    # ------------------------------ Instantiate Gu's HiPPOs ---------------------------\n",
    "    # ----------------------------------------------------------------------------------\n",
    "\n",
    "    print(f\"Creating Gu's HiPPO-{the_measure} LTI model with {alpha} transform\")\n",
    "    gu_hippo_lti = gu_HiPPO_LTI(\n",
    "        N=N,\n",
    "        method=the_measure,\n",
    "        dt=1.0,\n",
    "        T=L,\n",
    "        discretization=discretization,\n",
    "        lambda_n=lambda_n,\n",
    "        alpha=0.0,\n",
    "        beta=1.0,\n",
    "        c=0.0,\n",
    "    )  # The Gu's\n",
    "\n",
    "    if the_measure == \"legs\":\n",
    "        print(f\"Creating Gu's HiPPO-{the_measure} LSI model with {alpha} transform\")\n",
    "        gu_hippo_lsi = gu_HiPPO_LSI(\n",
    "            N=N,\n",
    "            method=the_measure,\n",
    "            max_length=L,\n",
    "            discretization=discretization,\n",
    "            lambda_n=lambda_n,\n",
    "            alpha=0.0,\n",
    "            beta=1.0,\n",
    "        )  # The Gu's\n",
    "\n",
    "    # ----------------------------------------------------------------------------------\n",
    "    # ------------------------------ Instantiate My HiPPOs -----------------------------\n",
    "    # ----------------------------------------------------------------------------------\n",
    "    print(f\"\\nTesting BRYANS HiPPO-{the_measure} model\")\n",
    "\n",
    "    matrices = TransMatrix(\n",
    "        N=N,\n",
    "        measure=the_measure,\n",
    "        lambda_n=lambda_n,\n",
    "        alpha=0.0,\n",
    "        beta=1.0,\n",
    "        dtype=jnp.float32,\n",
    "    )\n",
    "\n",
    "    A = matrices.A\n",
    "    B = matrices.B\n",
    "\n",
    "    print(f\"Creating HiPPO-{the_measure} LTI model with {alpha} transform\")\n",
    "    hippo_lti = HiPPOLTI(\n",
    "        N=N,\n",
    "        step_size=1.0,\n",
    "        lambda_n=lambda_n,\n",
    "        alpha=0.0,\n",
    "        beta=1.0,\n",
    "        GBT_alpha=alpha,\n",
    "        measure=the_measure,\n",
    "        basis_size=L,\n",
    "        dtype=jnp.float32,\n",
    "        unroll=False,\n",
    "    )  # Bryan's\n",
    "\n",
    "    if the_measure == \"legs\":\n",
    "        print(f\"Creating HiPPO-{the_measure} LSI model with {alpha} transform\")\n",
    "        hippo_lsi = HiPPOLSI(\n",
    "            N=N,\n",
    "            max_length=L,\n",
    "            step_size=1.0,\n",
    "            lambda_n=lambda_n,\n",
    "            alpha=0.0,\n",
    "            beta=1.0,\n",
    "            GBT_alpha=alpha,\n",
    "            measure=the_measure,\n",
    "            dtype=jnp.float32,\n",
    "            unroll=True,\n",
    "        )  # Bryan's\n",
    "\n",
    "    # ----------------------------------------------------------------------------------\n",
    "    # ------------------------------ Test HiPPO Operators ------------------------------\n",
    "    # ----------------------------------------------------------------------------------\n",
    "\n",
    "    print(f\"Bryan's Coeffiecients for {alpha} LTI HiPPO-{the_measure}\")\n",
    "\n",
    "    test_hippo_reconstruction(\n",
    "        hippo=hippo_lti,\n",
    "        gu_hippo=gu_hippo_lti,\n",
    "        random_input=x_np,\n",
    "        key=subkeys[5],\n",
    "        s_or_t=\"lti\",\n",
    "        print_all=print_all,\n",
    "    )\n",
    "\n",
    "    if the_measure == \"legs\":\n",
    "        print(f\"\\n\\nBryan's Coeffiecients for {alpha} LSI HiPPO-{the_measure}\")\n",
    "\n",
    "        test_hippo_reconstruction(\n",
    "            hippo=hippo_lsi,\n",
    "            gu_hippo=gu_hippo_lsi,\n",
    "            random_input=x_np,\n",
    "            key=subkeys[6],\n",
    "            s_or_t=\"lsi\",\n",
    "            print_all=print_all,\n",
    "        )\n",
    "\n",
    "    print(f\"end of test for HiPPO-{the_measure} model\")"
   ]
  },
  {
   "cell_type": "markdown",
   "metadata": {},
   "source": [
    "## Navigation To Table Of Contents\n",
    "---\n",
    "* [Table Of Contents](#table-of-contents)\n",
    "* [Loading In Necessary Packages](#load-packages)\n",
    "* [Instantiate The HiPPO Matrix](#instantiate-the-hippo-matrix)\n",
    "* [Gu's Linear Time Invariant (LTI) HiPPO Operator](#gus-hippo-legt-operator)\n",
    "* [Gu's Scale invariant (LSI) HiPPO Operator](#gus-scale-invariant-hippo-legs-operator)\n",
    "* [Implementation Of General HiPPO Operator](#implementation-of-general-hippo-operator)\n",
    "* [Test Generalized Bilinear Transform and Zero Order Hold Matrices](#test-generalized-bilinear-transform-and-zero-order-hold-matrices)\n",
    "* [Testing HiPPO Operators](#test-hippo-operators)\n",
    "---"
   ]
  },
  {
   "cell_type": "code",
   "execution_count": 10,
   "metadata": {},
   "outputs": [],
   "source": [
    "print_all = False"
   ]
  },
  {
   "attachments": {},
   "cell_type": "markdown",
   "metadata": {},
   "source": [
    "### Testing (LTI and LSI) Operators With Forward Euler Transform"
   ]
  },
  {
   "attachments": {},
   "cell_type": "markdown",
   "metadata": {},
   "source": [
    "#### LegS"
   ]
  },
  {
   "cell_type": "code",
   "execution_count": 11,
   "metadata": {},
   "outputs": [
    {
     "name": "stdout",
     "output_type": "stream",
     "text": [
      "Creating Gu's HiPPO-legs LTI model with 0.0 transform\n",
      "Creating Gu's HiPPO-legs LSI model with 0.0 transform\n",
      "\n",
      "Testing BRYANS HiPPO-legs model\n",
      "Creating HiPPO-legs LTI model with 0.0 transform\n",
      "Creating HiPPO-legs LSI model with 0.0 transform\n",
      "Bryan's Coeffiecients for 0.0 LTI HiPPO-legs\n",
      "\n",
      "------------------------------------------------------------\n",
      "---------- The Coefficients Test Passed: False ----------\n",
      "-------------------------------------------------------------\n",
      "\n",
      "\n",
      "\n",
      "-------------------------------------------------------------\n",
      "---------- The Reconstruction Test Passed: False ----------\n",
      "--------------------------------------------------------------\n",
      "\n",
      "\n",
      "\n",
      "Bryan's Coeffiecients for 0.0 LSI HiPPO-legs\n",
      "\n",
      "------------------------------------------------------------\n",
      "---------- The Coefficients Test Passed: False ----------\n",
      "-------------------------------------------------------------\n",
      "\n",
      "\n",
      "\n",
      "-------------------------------------------------------------\n",
      "---------- The Reconstruction Test Passed: False ----------\n",
      "--------------------------------------------------------------\n",
      "\n",
      "end of test for HiPPO-legs model\n"
     ]
    }
   ],
   "source": [
    "test_reconstruction(\n",
    "    the_measure=\"legs\", lambda_n=1.0, alpha=0.0, discretization=0.0, print_all=print_all\n",
    ")"
   ]
  },
  {
   "attachments": {},
   "cell_type": "markdown",
   "metadata": {},
   "source": [
    "#### LegT"
   ]
  },
  {
   "cell_type": "code",
   "execution_count": 12,
   "metadata": {},
   "outputs": [
    {
     "name": "stdout",
     "output_type": "stream",
     "text": [
      "Creating Gu's HiPPO-legt LTI model with 0.0 transform\n",
      "\n",
      "Testing BRYANS HiPPO-legt model\n",
      "Creating HiPPO-legt LTI model with 0.0 transform\n",
      "Bryan's Coeffiecients for 0.0 LTI HiPPO-legt\n",
      "\n",
      "------------------------------------------------------------\n",
      "---------- The Coefficients Test Passed: False ----------\n",
      "-------------------------------------------------------------\n",
      "\n",
      "\n",
      "\n",
      "-------------------------------------------------------------\n",
      "---------- The Reconstruction Test Passed: False ----------\n",
      "--------------------------------------------------------------\n",
      "\n",
      "end of test for HiPPO-legt model\n"
     ]
    },
    {
     "name": "stderr",
     "output_type": "stream",
     "text": [
      "/Users/beegass/Library/Caches/pypoetry/virtualenvs/s4mer-pkg-rmt3vFtN-py3.8/lib/python3.8/site-packages/jax/_src/numpy/lax_numpy.py:4983: RuntimeWarning: overflow encountered in cast\n",
      "  return binary_op(*args)\n"
     ]
    }
   ],
   "source": [
    "test_reconstruction(\n",
    "    the_measure=\"legt\", lambda_n=1.0, alpha=0.0, discretization=0.0, print_all=print_all\n",
    ")"
   ]
  },
  {
   "attachments": {},
   "cell_type": "markdown",
   "metadata": {},
   "source": [
    "#### LMU"
   ]
  },
  {
   "cell_type": "code",
   "execution_count": 13,
   "metadata": {},
   "outputs": [
    {
     "name": "stdout",
     "output_type": "stream",
     "text": [
      "Creating Gu's HiPPO-lmu LTI model with 0.0 transform\n",
      "\n",
      "Testing BRYANS HiPPO-lmu model\n",
      "Creating HiPPO-lmu LTI model with 0.0 transform\n",
      "Bryan's Coeffiecients for 0.0 LTI HiPPO-lmu\n",
      "\n",
      "------------------------------------------------------------\n",
      "---------- The Coefficients Test Passed: False ----------\n",
      "-------------------------------------------------------------\n",
      "\n",
      "\n",
      "\n",
      "-------------------------------------------------------------\n",
      "---------- The Reconstruction Test Passed: False ----------\n",
      "--------------------------------------------------------------\n",
      "\n",
      "end of test for HiPPO-lmu model\n"
     ]
    }
   ],
   "source": [
    "test_reconstruction(\n",
    "    the_measure=\"lmu\", lambda_n=2.0, alpha=0.0, discretization=0.0, print_all=print_all\n",
    ")"
   ]
  },
  {
   "attachments": {},
   "cell_type": "markdown",
   "metadata": {},
   "source": [
    "#### LagT"
   ]
  },
  {
   "cell_type": "code",
   "execution_count": 14,
   "metadata": {},
   "outputs": [
    {
     "name": "stdout",
     "output_type": "stream",
     "text": [
      "Creating Gu's HiPPO-lagt LTI model with 0.0 transform\n",
      "\n",
      "Testing BRYANS HiPPO-lagt model\n",
      "Creating HiPPO-lagt LTI model with 0.0 transform\n",
      "Bryan's Coeffiecients for 0.0 LTI HiPPO-lagt\n",
      "\n",
      "------------------------------------------------------------\n",
      "---------- The Coefficients Test Passed: True ----------\n",
      "-------------------------------------------------------------\n",
      "\n",
      "\n",
      "\n",
      "-------------------------------------------------------------\n",
      "---------- The Reconstruction Test Passed: True ----------\n",
      "--------------------------------------------------------------\n",
      "\n",
      "end of test for HiPPO-lagt model\n"
     ]
    }
   ],
   "source": [
    "test_reconstruction(\n",
    "    the_measure=\"lagt\", lambda_n=1.0, alpha=0.0, discretization=0.0, print_all=print_all\n",
    ")"
   ]
  },
  {
   "attachments": {},
   "cell_type": "markdown",
   "metadata": {},
   "source": [
    "#### FRU"
   ]
  },
  {
   "cell_type": "code",
   "execution_count": 15,
   "metadata": {},
   "outputs": [
    {
     "name": "stdout",
     "output_type": "stream",
     "text": [
      "Creating Gu's HiPPO-fru LTI model with 0.0 transform\n",
      "\n",
      "Testing BRYANS HiPPO-fru model\n",
      "Creating HiPPO-fru LTI model with 0.0 transform\n",
      "Bryan's Coeffiecients for 0.0 LTI HiPPO-fru\n",
      "\n",
      "------------------------------------------------------------\n",
      "---------- The Coefficients Test Passed: False ----------\n",
      "-------------------------------------------------------------\n",
      "\n",
      "\n",
      "\n",
      "-------------------------------------------------------------\n",
      "---------- The Reconstruction Test Passed: False ----------\n",
      "--------------------------------------------------------------\n",
      "\n",
      "end of test for HiPPO-fru model\n"
     ]
    }
   ],
   "source": [
    "test_reconstruction(\n",
    "    the_measure=\"fru\", lambda_n=1.0, alpha=0.0, discretization=0.0, print_all=print_all\n",
    ")"
   ]
  },
  {
   "attachments": {},
   "cell_type": "markdown",
   "metadata": {},
   "source": [
    "#### FouT"
   ]
  },
  {
   "cell_type": "code",
   "execution_count": 16,
   "metadata": {},
   "outputs": [
    {
     "name": "stdout",
     "output_type": "stream",
     "text": [
      "Creating Gu's HiPPO-fout LTI model with 0.0 transform\n",
      "\n",
      "Testing BRYANS HiPPO-fout model\n",
      "Creating HiPPO-fout LTI model with 0.0 transform\n",
      "Bryan's Coeffiecients for 0.0 LTI HiPPO-fout\n",
      "\n",
      "------------------------------------------------------------\n",
      "---------- The Coefficients Test Passed: False ----------\n",
      "-------------------------------------------------------------\n",
      "\n",
      "\n",
      "\n",
      "-------------------------------------------------------------\n",
      "---------- The Reconstruction Test Passed: False ----------\n",
      "--------------------------------------------------------------\n",
      "\n",
      "end of test for HiPPO-fout model\n"
     ]
    }
   ],
   "source": [
    "test_reconstruction(\n",
    "    the_measure=\"fout\", lambda_n=1.0, alpha=0.0, discretization=0.0, print_all=print_all\n",
    ")"
   ]
  },
  {
   "attachments": {},
   "cell_type": "markdown",
   "metadata": {},
   "source": [
    "#### FouD"
   ]
  },
  {
   "cell_type": "code",
   "execution_count": 17,
   "metadata": {},
   "outputs": [
    {
     "name": "stdout",
     "output_type": "stream",
     "text": [
      "Creating Gu's HiPPO-foud LTI model with 0.0 transform\n",
      "\n",
      "Testing BRYANS HiPPO-foud model\n",
      "Creating HiPPO-foud LTI model with 0.0 transform\n",
      "Bryan's Coeffiecients for 0.0 LTI HiPPO-foud\n",
      "\n",
      "------------------------------------------------------------\n",
      "---------- The Coefficients Test Passed: False ----------\n",
      "-------------------------------------------------------------\n",
      "\n",
      "\n",
      "\n",
      "-------------------------------------------------------------\n",
      "---------- The Reconstruction Test Passed: False ----------\n",
      "--------------------------------------------------------------\n",
      "\n",
      "end of test for HiPPO-foud model\n"
     ]
    }
   ],
   "source": [
    "test_reconstruction(\n",
    "    the_measure=\"foud\", lambda_n=1.0, alpha=0.0, discretization=0.0, print_all=print_all\n",
    ")"
   ]
  },
  {
   "attachments": {},
   "cell_type": "markdown",
   "metadata": {},
   "source": [
    "### Testing (LTI and LSI) Operators With Backward Euler Transform"
   ]
  },
  {
   "attachments": {},
   "cell_type": "markdown",
   "metadata": {},
   "source": [
    "#### LegS"
   ]
  },
  {
   "cell_type": "code",
   "execution_count": 18,
   "metadata": {},
   "outputs": [
    {
     "name": "stdout",
     "output_type": "stream",
     "text": [
      "Creating Gu's HiPPO-legs LTI model with 1.0 transform\n",
      "Creating Gu's HiPPO-legs LSI model with 1.0 transform\n",
      "\n",
      "Testing BRYANS HiPPO-legs model\n",
      "Creating HiPPO-legs LTI model with 1.0 transform\n",
      "Creating HiPPO-legs LSI model with 1.0 transform\n",
      "Bryan's Coeffiecients for 1.0 LTI HiPPO-legs\n",
      "\n",
      "------------------------------------------------------------\n",
      "---------- The Coefficients Test Passed: True ----------\n",
      "-------------------------------------------------------------\n",
      "\n",
      "\n",
      "\n",
      "-------------------------------------------------------------\n",
      "---------- The Reconstruction Test Passed: True ----------\n",
      "--------------------------------------------------------------\n",
      "\n",
      "\n",
      "\n",
      "Bryan's Coeffiecients for 1.0 LSI HiPPO-legs\n",
      "\n",
      "------------------------------------------------------------\n",
      "---------- The Coefficients Test Passed: False ----------\n",
      "-------------------------------------------------------------\n",
      "\n",
      "\n",
      "\n",
      "-------------------------------------------------------------\n",
      "---------- The Reconstruction Test Passed: True ----------\n",
      "--------------------------------------------------------------\n",
      "\n",
      "end of test for HiPPO-legs model\n"
     ]
    }
   ],
   "source": [
    "test_reconstruction(\n",
    "    the_measure=\"legs\", lambda_n=1.0, alpha=1.0, discretization=1.0, print_all=print_all\n",
    ")"
   ]
  },
  {
   "attachments": {},
   "cell_type": "markdown",
   "metadata": {},
   "source": [
    "#### LegT"
   ]
  },
  {
   "cell_type": "code",
   "execution_count": 19,
   "metadata": {},
   "outputs": [
    {
     "name": "stdout",
     "output_type": "stream",
     "text": [
      "Creating Gu's HiPPO-legt LTI model with 1.0 transform\n",
      "\n",
      "Testing BRYANS HiPPO-legt model\n",
      "Creating HiPPO-legt LTI model with 1.0 transform\n",
      "Bryan's Coeffiecients for 1.0 LTI HiPPO-legt\n",
      "\n",
      "------------------------------------------------------------\n",
      "---------- The Coefficients Test Passed: True ----------\n",
      "-------------------------------------------------------------\n",
      "\n",
      "\n",
      "\n",
      "-------------------------------------------------------------\n",
      "---------- The Reconstruction Test Passed: True ----------\n",
      "--------------------------------------------------------------\n",
      "\n",
      "end of test for HiPPO-legt model\n"
     ]
    }
   ],
   "source": [
    "test_reconstruction(\n",
    "    the_measure=\"legt\", lambda_n=1.0, alpha=1.0, discretization=1.0, print_all=print_all\n",
    ")"
   ]
  },
  {
   "attachments": {},
   "cell_type": "markdown",
   "metadata": {},
   "source": [
    "#### LMU"
   ]
  },
  {
   "cell_type": "code",
   "execution_count": 20,
   "metadata": {},
   "outputs": [
    {
     "name": "stdout",
     "output_type": "stream",
     "text": [
      "Creating Gu's HiPPO-lmu LTI model with 1.0 transform\n",
      "\n",
      "Testing BRYANS HiPPO-lmu model\n",
      "Creating HiPPO-lmu LTI model with 1.0 transform\n",
      "Bryan's Coeffiecients for 1.0 LTI HiPPO-lmu\n",
      "\n",
      "------------------------------------------------------------\n",
      "---------- The Coefficients Test Passed: True ----------\n",
      "-------------------------------------------------------------\n",
      "\n",
      "\n",
      "\n",
      "-------------------------------------------------------------\n",
      "---------- The Reconstruction Test Passed: True ----------\n",
      "--------------------------------------------------------------\n",
      "\n",
      "end of test for HiPPO-lmu model\n"
     ]
    }
   ],
   "source": [
    "test_reconstruction(\n",
    "    the_measure=\"lmu\", lambda_n=2.0, alpha=1.0, discretization=1.0, print_all=print_all\n",
    ")"
   ]
  },
  {
   "attachments": {},
   "cell_type": "markdown",
   "metadata": {},
   "source": [
    "#### LagT"
   ]
  },
  {
   "cell_type": "code",
   "execution_count": 21,
   "metadata": {},
   "outputs": [
    {
     "name": "stdout",
     "output_type": "stream",
     "text": [
      "Creating Gu's HiPPO-lagt LTI model with 1.0 transform\n",
      "\n",
      "Testing BRYANS HiPPO-lagt model\n",
      "Creating HiPPO-lagt LTI model with 1.0 transform\n",
      "Bryan's Coeffiecients for 1.0 LTI HiPPO-lagt\n",
      "\n",
      "------------------------------------------------------------\n",
      "---------- The Coefficients Test Passed: True ----------\n",
      "-------------------------------------------------------------\n",
      "\n",
      "\n",
      "\n",
      "-------------------------------------------------------------\n",
      "---------- The Reconstruction Test Passed: True ----------\n",
      "--------------------------------------------------------------\n",
      "\n",
      "end of test for HiPPO-lagt model\n"
     ]
    }
   ],
   "source": [
    "test_reconstruction(\n",
    "    the_measure=\"lagt\", lambda_n=1.0, alpha=1.0, discretization=1.0, print_all=print_all\n",
    ")"
   ]
  },
  {
   "attachments": {},
   "cell_type": "markdown",
   "metadata": {},
   "source": [
    "#### FRU"
   ]
  },
  {
   "cell_type": "code",
   "execution_count": 22,
   "metadata": {},
   "outputs": [
    {
     "name": "stdout",
     "output_type": "stream",
     "text": [
      "Creating Gu's HiPPO-fru LTI model with 1.0 transform\n",
      "\n",
      "Testing BRYANS HiPPO-fru model\n",
      "Creating HiPPO-fru LTI model with 1.0 transform\n",
      "Bryan's Coeffiecients for 1.0 LTI HiPPO-fru\n",
      "\n",
      "------------------------------------------------------------\n",
      "---------- The Coefficients Test Passed: True ----------\n",
      "-------------------------------------------------------------\n",
      "\n",
      "\n",
      "\n",
      "-------------------------------------------------------------\n",
      "---------- The Reconstruction Test Passed: True ----------\n",
      "--------------------------------------------------------------\n",
      "\n",
      "end of test for HiPPO-fru model\n"
     ]
    }
   ],
   "source": [
    "test_reconstruction(\n",
    "    the_measure=\"fru\", lambda_n=1.0, alpha=1.0, discretization=1.0, print_all=print_all\n",
    ")"
   ]
  },
  {
   "attachments": {},
   "cell_type": "markdown",
   "metadata": {},
   "source": [
    "#### FouT"
   ]
  },
  {
   "cell_type": "code",
   "execution_count": 23,
   "metadata": {},
   "outputs": [
    {
     "name": "stdout",
     "output_type": "stream",
     "text": [
      "Creating Gu's HiPPO-fout LTI model with 1.0 transform\n",
      "\n",
      "Testing BRYANS HiPPO-fout model\n",
      "Creating HiPPO-fout LTI model with 1.0 transform\n",
      "Bryan's Coeffiecients for 1.0 LTI HiPPO-fout\n",
      "\n",
      "------------------------------------------------------------\n",
      "---------- The Coefficients Test Passed: True ----------\n",
      "-------------------------------------------------------------\n",
      "\n",
      "\n",
      "\n",
      "-------------------------------------------------------------\n",
      "---------- The Reconstruction Test Passed: True ----------\n",
      "--------------------------------------------------------------\n",
      "\n",
      "end of test for HiPPO-fout model\n"
     ]
    }
   ],
   "source": [
    "test_reconstruction(\n",
    "    the_measure=\"fout\", lambda_n=1.0, alpha=1.0, discretization=1.0, print_all=print_all\n",
    ")"
   ]
  },
  {
   "attachments": {},
   "cell_type": "markdown",
   "metadata": {},
   "source": [
    "#### FouD"
   ]
  },
  {
   "cell_type": "code",
   "execution_count": 24,
   "metadata": {},
   "outputs": [
    {
     "name": "stdout",
     "output_type": "stream",
     "text": [
      "Creating Gu's HiPPO-foud LTI model with 1.0 transform\n",
      "\n",
      "Testing BRYANS HiPPO-foud model\n",
      "Creating HiPPO-foud LTI model with 1.0 transform\n",
      "Bryan's Coeffiecients for 1.0 LTI HiPPO-foud\n",
      "\n",
      "------------------------------------------------------------\n",
      "---------- The Coefficients Test Passed: True ----------\n",
      "-------------------------------------------------------------\n",
      "\n",
      "\n",
      "\n",
      "-------------------------------------------------------------\n",
      "---------- The Reconstruction Test Passed: True ----------\n",
      "--------------------------------------------------------------\n",
      "\n",
      "end of test for HiPPO-foud model\n"
     ]
    }
   ],
   "source": [
    "test_reconstruction(\n",
    "    the_measure=\"foud\", lambda_n=1.0, alpha=1.0, discretization=1.0, print_all=print_all\n",
    ")"
   ]
  },
  {
   "attachments": {},
   "cell_type": "markdown",
   "metadata": {},
   "source": [
    "### Testing (LTI and LSI) Operators With Bidirectional Transform"
   ]
  },
  {
   "attachments": {},
   "cell_type": "markdown",
   "metadata": {},
   "source": [
    "#### LegS"
   ]
  },
  {
   "cell_type": "code",
   "execution_count": 25,
   "metadata": {},
   "outputs": [
    {
     "name": "stdout",
     "output_type": "stream",
     "text": [
      "Creating Gu's HiPPO-legs LTI model with 0.5 transform\n",
      "Creating Gu's HiPPO-legs LSI model with 0.5 transform\n",
      "\n",
      "Testing BRYANS HiPPO-legs model\n",
      "Creating HiPPO-legs LTI model with 0.5 transform\n",
      "Creating HiPPO-legs LSI model with 0.5 transform\n",
      "Bryan's Coeffiecients for 0.5 LTI HiPPO-legs\n",
      "\n",
      "------------------------------------------------------------\n",
      "---------- The Coefficients Test Passed: True ----------\n",
      "-------------------------------------------------------------\n",
      "\n",
      "\n",
      "\n",
      "-------------------------------------------------------------\n",
      "---------- The Reconstruction Test Passed: True ----------\n",
      "--------------------------------------------------------------\n",
      "\n",
      "\n",
      "\n",
      "Bryan's Coeffiecients for 0.5 LSI HiPPO-legs\n",
      "\n",
      "------------------------------------------------------------\n",
      "---------- The Coefficients Test Passed: False ----------\n",
      "-------------------------------------------------------------\n",
      "\n",
      "\n",
      "\n",
      "-------------------------------------------------------------\n",
      "---------- The Reconstruction Test Passed: True ----------\n",
      "--------------------------------------------------------------\n",
      "\n",
      "end of test for HiPPO-legs model\n"
     ]
    }
   ],
   "source": [
    "test_reconstruction(\n",
    "    the_measure=\"legs\", lambda_n=1.0, alpha=0.5, discretization=0.5, print_all=print_all\n",
    ")"
   ]
  },
  {
   "attachments": {},
   "cell_type": "markdown",
   "metadata": {},
   "source": [
    "#### LegT"
   ]
  },
  {
   "cell_type": "code",
   "execution_count": 26,
   "metadata": {},
   "outputs": [
    {
     "name": "stdout",
     "output_type": "stream",
     "text": [
      "Creating Gu's HiPPO-legt LTI model with 0.5 transform\n",
      "\n",
      "Testing BRYANS HiPPO-legt model\n",
      "Creating HiPPO-legt LTI model with 0.5 transform\n",
      "Bryan's Coeffiecients for 0.5 LTI HiPPO-legt\n",
      "\n",
      "------------------------------------------------------------\n",
      "---------- The Coefficients Test Passed: True ----------\n",
      "-------------------------------------------------------------\n",
      "\n",
      "\n",
      "\n",
      "-------------------------------------------------------------\n",
      "---------- The Reconstruction Test Passed: True ----------\n",
      "--------------------------------------------------------------\n",
      "\n",
      "end of test for HiPPO-legt model\n"
     ]
    }
   ],
   "source": [
    "test_reconstruction(\n",
    "    the_measure=\"legt\", lambda_n=1.0, alpha=0.5, discretization=0.5, print_all=print_all\n",
    ")"
   ]
  },
  {
   "attachments": {},
   "cell_type": "markdown",
   "metadata": {},
   "source": [
    "#### LMU"
   ]
  },
  {
   "cell_type": "code",
   "execution_count": 27,
   "metadata": {},
   "outputs": [
    {
     "name": "stdout",
     "output_type": "stream",
     "text": [
      "Creating Gu's HiPPO-lmu LTI model with 0.5 transform\n",
      "\n",
      "Testing BRYANS HiPPO-lmu model\n",
      "Creating HiPPO-lmu LTI model with 0.5 transform\n",
      "Bryan's Coeffiecients for 0.5 LTI HiPPO-lmu\n",
      "\n",
      "------------------------------------------------------------\n",
      "---------- The Coefficients Test Passed: True ----------\n",
      "-------------------------------------------------------------\n",
      "\n",
      "\n",
      "\n",
      "-------------------------------------------------------------\n",
      "---------- The Reconstruction Test Passed: True ----------\n",
      "--------------------------------------------------------------\n",
      "\n",
      "end of test for HiPPO-lmu model\n"
     ]
    }
   ],
   "source": [
    "test_reconstruction(\n",
    "    the_measure=\"lmu\", lambda_n=2.0, alpha=0.5, discretization=0.5, print_all=print_all\n",
    ")"
   ]
  },
  {
   "attachments": {},
   "cell_type": "markdown",
   "metadata": {},
   "source": [
    "#### LagT"
   ]
  },
  {
   "cell_type": "code",
   "execution_count": 28,
   "metadata": {},
   "outputs": [
    {
     "name": "stdout",
     "output_type": "stream",
     "text": [
      "Creating Gu's HiPPO-lagt LTI model with 0.5 transform\n",
      "\n",
      "Testing BRYANS HiPPO-lagt model\n",
      "Creating HiPPO-lagt LTI model with 0.5 transform\n",
      "Bryan's Coeffiecients for 0.5 LTI HiPPO-lagt\n",
      "\n",
      "------------------------------------------------------------\n",
      "---------- The Coefficients Test Passed: True ----------\n",
      "-------------------------------------------------------------\n",
      "\n",
      "\n",
      "\n",
      "-------------------------------------------------------------\n",
      "---------- The Reconstruction Test Passed: True ----------\n",
      "--------------------------------------------------------------\n",
      "\n",
      "end of test for HiPPO-lagt model\n"
     ]
    }
   ],
   "source": [
    "test_reconstruction(\n",
    "    the_measure=\"lagt\", lambda_n=1.0, alpha=0.5, discretization=0.5, print_all=print_all\n",
    ")"
   ]
  },
  {
   "attachments": {},
   "cell_type": "markdown",
   "metadata": {},
   "source": [
    "#### FRU"
   ]
  },
  {
   "cell_type": "code",
   "execution_count": 29,
   "metadata": {},
   "outputs": [
    {
     "name": "stdout",
     "output_type": "stream",
     "text": [
      "Creating Gu's HiPPO-fru LTI model with 0.5 transform\n",
      "\n",
      "Testing BRYANS HiPPO-fru model\n",
      "Creating HiPPO-fru LTI model with 0.5 transform\n",
      "Bryan's Coeffiecients for 0.5 LTI HiPPO-fru\n",
      "\n",
      "------------------------------------------------------------\n",
      "---------- The Coefficients Test Passed: True ----------\n",
      "-------------------------------------------------------------\n",
      "\n",
      "\n",
      "\n",
      "-------------------------------------------------------------\n",
      "---------- The Reconstruction Test Passed: True ----------\n",
      "--------------------------------------------------------------\n",
      "\n",
      "end of test for HiPPO-fru model\n"
     ]
    }
   ],
   "source": [
    "test_reconstruction(\n",
    "    the_measure=\"fru\", lambda_n=1.0, alpha=0.5, discretization=0.5, print_all=print_all\n",
    ")"
   ]
  },
  {
   "attachments": {},
   "cell_type": "markdown",
   "metadata": {},
   "source": [
    "#### FouT"
   ]
  },
  {
   "cell_type": "code",
   "execution_count": 30,
   "metadata": {},
   "outputs": [
    {
     "name": "stdout",
     "output_type": "stream",
     "text": [
      "Creating Gu's HiPPO-fout LTI model with 0.5 transform\n",
      "\n",
      "Testing BRYANS HiPPO-fout model\n",
      "Creating HiPPO-fout LTI model with 0.5 transform\n",
      "Bryan's Coeffiecients for 0.5 LTI HiPPO-fout\n",
      "\n",
      "------------------------------------------------------------\n",
      "---------- The Coefficients Test Passed: True ----------\n",
      "-------------------------------------------------------------\n",
      "\n",
      "\n",
      "\n",
      "-------------------------------------------------------------\n",
      "---------- The Reconstruction Test Passed: True ----------\n",
      "--------------------------------------------------------------\n",
      "\n",
      "end of test for HiPPO-fout model\n"
     ]
    }
   ],
   "source": [
    "test_reconstruction(\n",
    "    the_measure=\"fout\", lambda_n=1.0, alpha=0.5, discretization=0.5, print_all=print_all\n",
    ")"
   ]
  },
  {
   "attachments": {},
   "cell_type": "markdown",
   "metadata": {},
   "source": [
    "#### FouD"
   ]
  },
  {
   "cell_type": "code",
   "execution_count": 31,
   "metadata": {},
   "outputs": [
    {
     "name": "stdout",
     "output_type": "stream",
     "text": [
      "Creating Gu's HiPPO-foud LTI model with 0.5 transform\n",
      "\n",
      "Testing BRYANS HiPPO-foud model\n",
      "Creating HiPPO-foud LTI model with 0.5 transform\n",
      "Bryan's Coeffiecients for 0.5 LTI HiPPO-foud\n",
      "\n",
      "------------------------------------------------------------\n",
      "---------- The Coefficients Test Passed: True ----------\n",
      "-------------------------------------------------------------\n",
      "\n",
      "\n",
      "\n",
      "-------------------------------------------------------------\n",
      "---------- The Reconstruction Test Passed: True ----------\n",
      "--------------------------------------------------------------\n",
      "\n",
      "end of test for HiPPO-foud model\n"
     ]
    }
   ],
   "source": [
    "test_reconstruction(\n",
    "    the_measure=\"foud\", lambda_n=1.0, alpha=0.5, discretization=0.5, print_all=print_all\n",
    ")"
   ]
  },
  {
   "attachments": {},
   "cell_type": "markdown",
   "metadata": {},
   "source": [
    "### Testing (LTI and LSI) Operators With ZOH Transform"
   ]
  },
  {
   "attachments": {},
   "cell_type": "markdown",
   "metadata": {},
   "source": [
    "#### LegS"
   ]
  },
  {
   "cell_type": "code",
   "execution_count": 32,
   "metadata": {},
   "outputs": [
    {
     "name": "stdout",
     "output_type": "stream",
     "text": [
      "Creating Gu's HiPPO-legs LTI model with 2.0 transform\n",
      "Creating Gu's HiPPO-legs LSI model with 2.0 transform\n",
      "\n",
      "Testing BRYANS HiPPO-legs model\n",
      "Creating HiPPO-legs LTI model with 2.0 transform\n",
      "Creating HiPPO-legs LSI model with 2.0 transform\n",
      "Bryan's Coeffiecients for 2.0 LTI HiPPO-legs\n",
      "\n",
      "------------------------------------------------------------\n",
      "---------- The Coefficients Test Passed: True ----------\n",
      "-------------------------------------------------------------\n",
      "\n",
      "\n",
      "\n",
      "-------------------------------------------------------------\n",
      "---------- The Reconstruction Test Passed: True ----------\n",
      "--------------------------------------------------------------\n",
      "\n",
      "\n",
      "\n",
      "Bryan's Coeffiecients for 2.0 LSI HiPPO-legs\n",
      "\n",
      "------------------------------------------------------------\n",
      "---------- The Coefficients Test Passed: False ----------\n",
      "-------------------------------------------------------------\n",
      "\n",
      "\n",
      "\n",
      "-------------------------------------------------------------\n",
      "---------- The Reconstruction Test Passed: False ----------\n",
      "--------------------------------------------------------------\n",
      "\n",
      "end of test for HiPPO-legs model\n"
     ]
    }
   ],
   "source": [
    "test_reconstruction(\n",
    "    the_measure=\"legs\",\n",
    "    lambda_n=1.0,\n",
    "    alpha=2.0,\n",
    "    discretization=\"zoh\",\n",
    "    print_all=print_all,\n",
    ")"
   ]
  },
  {
   "attachments": {},
   "cell_type": "markdown",
   "metadata": {},
   "source": [
    "#### LegT"
   ]
  },
  {
   "cell_type": "code",
   "execution_count": 33,
   "metadata": {},
   "outputs": [
    {
     "name": "stdout",
     "output_type": "stream",
     "text": [
      "Creating Gu's HiPPO-legt LTI model with 2.0 transform\n",
      "\n",
      "Testing BRYANS HiPPO-legt model\n",
      "Creating HiPPO-legt LTI model with 2.0 transform\n",
      "Bryan's Coeffiecients for 2.0 LTI HiPPO-legt\n",
      "\n",
      "------------------------------------------------------------\n",
      "---------- The Coefficients Test Passed: True ----------\n",
      "-------------------------------------------------------------\n",
      "\n",
      "\n",
      "\n",
      "-------------------------------------------------------------\n",
      "---------- The Reconstruction Test Passed: True ----------\n",
      "--------------------------------------------------------------\n",
      "\n",
      "end of test for HiPPO-legt model\n"
     ]
    }
   ],
   "source": [
    "test_reconstruction(\n",
    "    the_measure=\"legt\",\n",
    "    lambda_n=1.0,\n",
    "    alpha=2.0,\n",
    "    discretization=\"zoh\",\n",
    "    print_all=print_all,\n",
    ")"
   ]
  },
  {
   "attachments": {},
   "cell_type": "markdown",
   "metadata": {},
   "source": [
    "#### LMU"
   ]
  },
  {
   "cell_type": "code",
   "execution_count": 34,
   "metadata": {},
   "outputs": [
    {
     "name": "stdout",
     "output_type": "stream",
     "text": [
      "Creating Gu's HiPPO-lmu LTI model with 2.0 transform\n",
      "\n",
      "Testing BRYANS HiPPO-lmu model\n",
      "Creating HiPPO-lmu LTI model with 2.0 transform\n",
      "Bryan's Coeffiecients for 2.0 LTI HiPPO-lmu\n",
      "\n",
      "------------------------------------------------------------\n",
      "---------- The Coefficients Test Passed: True ----------\n",
      "-------------------------------------------------------------\n",
      "\n",
      "\n",
      "\n",
      "-------------------------------------------------------------\n",
      "---------- The Reconstruction Test Passed: True ----------\n",
      "--------------------------------------------------------------\n",
      "\n",
      "end of test for HiPPO-lmu model\n"
     ]
    }
   ],
   "source": [
    "test_reconstruction(\n",
    "    the_measure=\"lmu\",\n",
    "    lambda_n=2.0,\n",
    "    alpha=2.0,\n",
    "    discretization=\"zoh\",\n",
    "    print_all=print_all,\n",
    ")"
   ]
  },
  {
   "attachments": {},
   "cell_type": "markdown",
   "metadata": {},
   "source": [
    "#### LagT"
   ]
  },
  {
   "cell_type": "code",
   "execution_count": 35,
   "metadata": {},
   "outputs": [
    {
     "name": "stdout",
     "output_type": "stream",
     "text": [
      "Creating Gu's HiPPO-lagt LTI model with 2.0 transform\n",
      "\n",
      "Testing BRYANS HiPPO-lagt model\n",
      "Creating HiPPO-lagt LTI model with 2.0 transform\n",
      "Bryan's Coeffiecients for 2.0 LTI HiPPO-lagt\n",
      "\n",
      "------------------------------------------------------------\n",
      "---------- The Coefficients Test Passed: True ----------\n",
      "-------------------------------------------------------------\n",
      "\n",
      "\n",
      "\n",
      "-------------------------------------------------------------\n",
      "---------- The Reconstruction Test Passed: True ----------\n",
      "--------------------------------------------------------------\n",
      "\n",
      "end of test for HiPPO-lagt model\n"
     ]
    }
   ],
   "source": [
    "test_reconstruction(\n",
    "    the_measure=\"lagt\",\n",
    "    lambda_n=1.0,\n",
    "    alpha=2.0,\n",
    "    discretization=\"zoh\",\n",
    "    print_all=print_all,\n",
    ")"
   ]
  },
  {
   "attachments": {},
   "cell_type": "markdown",
   "metadata": {},
   "source": [
    "#### FRU"
   ]
  },
  {
   "cell_type": "code",
   "execution_count": 36,
   "metadata": {},
   "outputs": [
    {
     "name": "stdout",
     "output_type": "stream",
     "text": [
      "Creating Gu's HiPPO-fru LTI model with 2.0 transform\n",
      "\n",
      "Testing BRYANS HiPPO-fru model\n",
      "Creating HiPPO-fru LTI model with 2.0 transform\n",
      "Bryan's Coeffiecients for 2.0 LTI HiPPO-fru\n",
      "\n",
      "------------------------------------------------------------\n",
      "---------- The Coefficients Test Passed: True ----------\n",
      "-------------------------------------------------------------\n",
      "\n",
      "\n",
      "\n",
      "-------------------------------------------------------------\n",
      "---------- The Reconstruction Test Passed: True ----------\n",
      "--------------------------------------------------------------\n",
      "\n",
      "end of test for HiPPO-fru model\n"
     ]
    }
   ],
   "source": [
    "test_reconstruction(\n",
    "    the_measure=\"fru\",\n",
    "    lambda_n=1.0,\n",
    "    alpha=2.0,\n",
    "    discretization=\"zoh\",\n",
    "    print_all=print_all,\n",
    ")"
   ]
  },
  {
   "attachments": {},
   "cell_type": "markdown",
   "metadata": {},
   "source": [
    "#### FouT"
   ]
  },
  {
   "cell_type": "code",
   "execution_count": 37,
   "metadata": {},
   "outputs": [
    {
     "name": "stdout",
     "output_type": "stream",
     "text": [
      "Creating Gu's HiPPO-fout LTI model with 2.0 transform\n",
      "\n",
      "Testing BRYANS HiPPO-fout model\n",
      "Creating HiPPO-fout LTI model with 2.0 transform\n",
      "Bryan's Coeffiecients for 2.0 LTI HiPPO-fout\n",
      "\n",
      "------------------------------------------------------------\n",
      "---------- The Coefficients Test Passed: True ----------\n",
      "-------------------------------------------------------------\n",
      "\n",
      "\n",
      "\n",
      "-------------------------------------------------------------\n",
      "---------- The Reconstruction Test Passed: True ----------\n",
      "--------------------------------------------------------------\n",
      "\n",
      "end of test for HiPPO-fout model\n"
     ]
    }
   ],
   "source": [
    "test_reconstruction(\n",
    "    the_measure=\"fout\",\n",
    "    lambda_n=1.0,\n",
    "    alpha=2.0,\n",
    "    discretization=\"zoh\",\n",
    "    print_all=print_all,\n",
    ")"
   ]
  },
  {
   "attachments": {},
   "cell_type": "markdown",
   "metadata": {},
   "source": [
    "#### FouD"
   ]
  },
  {
   "cell_type": "code",
   "execution_count": 38,
   "metadata": {},
   "outputs": [
    {
     "name": "stdout",
     "output_type": "stream",
     "text": [
      "Creating Gu's HiPPO-foud LTI model with 2.0 transform\n",
      "\n",
      "Testing BRYANS HiPPO-foud model\n",
      "Creating HiPPO-foud LTI model with 2.0 transform\n",
      "Bryan's Coeffiecients for 2.0 LTI HiPPO-foud\n",
      "\n",
      "------------------------------------------------------------\n",
      "---------- The Coefficients Test Passed: True ----------\n",
      "-------------------------------------------------------------\n",
      "\n",
      "\n",
      "\n",
      "-------------------------------------------------------------\n",
      "---------- The Reconstruction Test Passed: True ----------\n",
      "--------------------------------------------------------------\n",
      "\n",
      "end of test for HiPPO-foud model\n"
     ]
    }
   ],
   "source": [
    "test_reconstruction(\n",
    "    the_measure=\"foud\",\n",
    "    lambda_n=1.0,\n",
    "    alpha=2.0,\n",
    "    discretization=\"zoh\",\n",
    "    print_all=print_all,\n",
    ")"
   ]
  }
 ],
 "metadata": {
  "kernelspec": {
   "display_name": "s4mer-pkg-jZnBSgjq-py3.8",
   "language": "python",
   "name": "python3"
  },
  "language_info": {
   "codemirror_mode": {
    "name": "ipython",
    "version": 3
   },
   "file_extension": ".py",
   "mimetype": "text/x-python",
   "name": "python",
   "nbconvert_exporter": "python",
   "pygments_lexer": "ipython3",
   "version": "3.8.13"
  },
  "orig_nbformat": 4,
  "vscode": {
   "interpreter": {
    "hash": "0a81e05d1d7f7eae781698b7c1b81c0d771335201ebad1d81045cb177cef974b"
   }
  }
 },
 "nbformat": 4,
 "nbformat_minor": 2
}
