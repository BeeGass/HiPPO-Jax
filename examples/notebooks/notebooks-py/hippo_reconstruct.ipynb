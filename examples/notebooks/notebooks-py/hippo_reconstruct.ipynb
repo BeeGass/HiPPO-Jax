{
 "cells": [
  {
   "cell_type": "markdown",
   "metadata": {},
   "source": [
    "# HiPPO Matrices\n",
    "---"
   ]
  },
  {
   "attachments": {},
   "cell_type": "markdown",
   "metadata": {},
   "source": [
    "## Table of Contents\n",
    "* [Loading In Necessary Packages](#load-packages)\n",
    "* [Instantiate The HiPPO Matrix](#instantiate-the-hippo-matrix)\n",
    "    * [Translated Legendre (LegT)](#translated-legendre-legt)\n",
    "        * [LegT](#legt)\n",
    "        * [LMU](#lmu)\n",
    "    * [Translated Laguerre (LagT)](#translated-laguerre-lagt)\n",
    "    * [Scaled Legendre (LegS)](#scaled-legendre-legs)\n",
    "    * [Fourier Basis](#fourier-basis)\n",
    "        * [Fourier Recurrent Unit (FRU)](#fourier-recurrent-unit-fru)\n",
    "        * [Truncated Fourier (FouT)](#truncated-fourier-fout)\n",
    "        * [Fourier With Decay (FourD)](#fourier-with-decay-fourd)\n",
    "* [Gu's Linear Time Invariant (LTI) HiPPO Operator](#gus-hippo-legt-operator)\n",
    "* [Gu's Scale invariant (LSI) HiPPO Operator](#gus-scale-invariant-hippo-legs-operator)\n",
    "* [Implementation Of General HiPPO Operator](#implementation-of-general-hippo-operator)\n",
    "* [Test Generalized Bilinear Transform and Zero Order Hold Matrices](#test-generalized-bilinear-transform-and-zero-order-hold-matrices)\n",
    "    * [Testing Forward Euler on GBT matrices](#testing-forward-euler-transform-for-lti-and-lsi)\n",
    "    * [Testing Backward Euler on GBT matrices](#testing-backward-euler-transform-for-lti-and-lsi-on-legs-matrices)\n",
    "    * [Testing Bidirectional on GBT matrices](#testing-lti-and-lsi-operators-with-bidirectional-transform)\n",
    "    * [Testing ZOH on GBT matrices](#testing-zoh-transform-for-lti-and-lsi-on-legs-matrices)\n",
    "* [Testing HiPPO Operators](#test-hippo-operators)\n",
    "    * [Testing Forward Euler on HiPPO Operators](#testing-lti-and-lsi-operators-with-forward-euler-transform)\n",
    "    * [Testing Backward Euler on HiPPO Operators](#testing-lti-and-lsi-operators-with-backward-euler-transform)\n",
    "    * [Testing Bidirectional on HiPPO Operators](#testing-lti-and-lsi-operators-with-bidirectional-transform)\n",
    "    * [Testing ZOH on HiPPO Operators](#testing-lti-and-lsi-operators-with-zoh-transform)\n",
    "---\n"
   ]
  },
  {
   "cell_type": "markdown",
   "metadata": {},
   "source": [
    "## Load Packages"
   ]
  },
  {
   "cell_type": "code",
   "execution_count": 40,
   "metadata": {},
   "outputs": [
    {
     "name": "stdout",
     "output_type": "stream",
     "text": [
      "module_path: /home/beegass/Documents/Coding/s4mer\n"
     ]
    }
   ],
   "source": [
    "import os\n",
    "import sys\n",
    "\n",
    "module_path = os.path.abspath(os.path.join(\"../../../\"))\n",
    "print(f\"module_path: {module_path}\")\n",
    "if module_path not in sys.path:\n",
    "    print(f\"Adding {module_path} to sys.path\")\n",
    "    sys.path.append(module_path)"
   ]
  },
  {
   "cell_type": "code",
   "execution_count": 41,
   "metadata": {},
   "outputs": [],
   "source": [
    "# os.environ[\"XLA_PYTHON_CLIENT_PREALLOCATE\"] = \"False\"\n",
    "os.environ[\"TF_FORCE_UNIFIED_MEMORY\"] = \"1\""
   ]
  },
  {
   "cell_type": "code",
   "execution_count": 42,
   "metadata": {},
   "outputs": [
    {
     "name": "stdout",
     "output_type": "stream",
     "text": [
      "[StreamExecutorGpuDevice(id=0, process_index=0, slice_index=0)]\n",
      "The Device: gpu\n"
     ]
    }
   ],
   "source": [
    "## import packages\n",
    "import math\n",
    "from typing import Any, Callable, List, Optional, Tuple, Union\n",
    "\n",
    "import jax\n",
    "import jax.numpy as jnp\n",
    "\n",
    "import numpy as np\n",
    "import matplotlib.pyplot as plt\n",
    "import matplotlib.animation as animation\n",
    "\n",
    "import requests\n",
    "from flax import linen as jnn\n",
    "from jax.nn.initializers import lecun_normal, uniform\n",
    "from jax.numpy.linalg import eig, inv, matrix_power\n",
    "from jax.scipy.signal import convolve\n",
    "from jaxtyping import Array, Float, Float16, Float32, Float64\n",
    "from scipy import linalg as la\n",
    "from scipy import signal\n",
    "from scipy import special as ss\n",
    "\n",
    "from src.data.process import moving_window, rolling_window\n",
    "from src.models.hippo.gu_hippo import gu_HiPPO_LSI, gu_HiPPO_LTI\n",
    "\n",
    "# import modules\n",
    "from src.models.hippo.gu_transition import GuTransMatrix\n",
    "from src.models.hippo.hippo import HiPPOLSI, HiPPOLTI\n",
    "from src.models.hippo.transition import TransMatrix\n",
    "from src.models.hippo.unroll import (\n",
    "    basis,\n",
    "    measure,\n",
    "    variable_unroll_matrix,\n",
    "    variable_unroll_matrix_sequential,\n",
    ")\n",
    "from src.utils.ops import genlaguerre, legendre_polynomial\n",
    "\n",
    "print(jax.devices())\n",
    "print(f\"The Device: {jax.lib.xla_bridge.get_backend().platform}\")"
   ]
  },
  {
   "cell_type": "code",
   "execution_count": 43,
   "metadata": {},
   "outputs": [
    {
     "name": "stdout",
     "output_type": "stream",
     "text": [
      "MPS enabled: False\n"
     ]
    }
   ],
   "source": [
    "from functools import partial\n",
    "from typing import Any\n",
    "\n",
    "import einops\n",
    "import functorch\n",
    "import matplotlib.pyplot as plt\n",
    "import numpy as np\n",
    "import torch\n",
    "import torch.nn as nn\n",
    "import torch.nn.functional as F\n",
    "import torch.utils.data as data\n",
    "\n",
    "print(f\"MPS enabled: {torch.backends.mps.is_available()}\")"
   ]
  },
  {
   "cell_type": "code",
   "execution_count": 44,
   "metadata": {},
   "outputs": [],
   "source": [
    "torch.set_printoptions(linewidth=150)\n",
    "np.set_printoptions(linewidth=150)\n",
    "jnp.set_printoptions(linewidth=150)"
   ]
  },
  {
   "cell_type": "code",
   "execution_count": 45,
   "metadata": {},
   "outputs": [],
   "source": [
    "seed = 1701\n",
    "key = jax.random.PRNGKey(seed)"
   ]
  },
  {
   "cell_type": "code",
   "execution_count": 46,
   "metadata": {},
   "outputs": [],
   "source": [
    "num_copies = 10\n",
    "subkeys = jax.random.split(key, num=num_copies)\n",
    "key = subkeys[0]"
   ]
  },
  {
   "cell_type": "code",
   "execution_count": 47,
   "metadata": {},
   "outputs": [],
   "source": [
    "def whitesignal(period, dt, freq, rms=0.5, batch_shape=()):\n",
    "    \"\"\"\n",
    "    Produces output signal of length period / dt, band-limited to frequency freq\n",
    "    Output shape (*batch_shape, period/dt)\n",
    "    Adapted from the nengo library\n",
    "    \"\"\"\n",
    "\n",
    "    if freq is not None and freq < 1.0 / period:\n",
    "        raise ValueError(\n",
    "            f\"Make ``{freq=} >= 1. / {period=}`` to produce a non-zero signal\",\n",
    "        )\n",
    "\n",
    "    nyquist_cutoff = 0.5 / dt\n",
    "    if freq > nyquist_cutoff:\n",
    "        raise ValueError(\n",
    "            f\"{freq} must not exceed the Nyquist frequency for the given dt ({nyquist_cutoff:0.3f})\"\n",
    "        )\n",
    "\n",
    "    n_coefficients = int(np.ceil(period / dt / 2.0))\n",
    "    shape = batch_shape + (n_coefficients + 1,)\n",
    "    sigma = rms * np.sqrt(0.5)\n",
    "    coefficients = 1j * np.random.normal(0.0, sigma, size=shape)\n",
    "    coefficients[..., -1] = 0.0\n",
    "    coefficients += np.random.normal(0.0, sigma, size=shape)\n",
    "    coefficients[..., 0] = 0.0\n",
    "\n",
    "    set_to_zero = np.fft.rfftfreq(2 * n_coefficients, d=dt) > freq\n",
    "    coefficients *= 1 - set_to_zero\n",
    "    power_correction = np.sqrt(1.0 - np.sum(set_to_zero, dtype=float) / n_coefficients)\n",
    "    if power_correction > 0.0:\n",
    "        coefficients /= power_correction\n",
    "    coefficients *= np.sqrt(2 * n_coefficients)\n",
    "    signal = np.fft.irfft(coefficients, axis=-1)\n",
    "    signal = signal - signal[..., :1]  # Start from 0\n",
    "    return signal"
   ]
  },
  {
   "attachments": {},
   "cell_type": "markdown",
   "metadata": {},
   "source": [
    "## Test HiPPO Reconstruction"
   ]
  },
  {
   "cell_type": "code",
   "execution_count": 48,
   "metadata": {},
   "outputs": [],
   "source": [
    "def test_hippo_reconstruction(\n",
    "    hippo, gu_hippo, random_input, key, s_or_t=\"lti\", print_all=False\n",
    "):\n",
    "    x_tensor = torch.tensor(random_input, dtype=torch.float32)\n",
    "    x_jnp = jnp.asarray(x_tensor, dtype=jnp.float32)  # convert torch array to jax array\n",
    "\n",
    "    # My Implementation\n",
    "    if print_all:\n",
    "        print(\n",
    "            f\"------------------------------------------------------------------------------------------\"\n",
    "        )\n",
    "        print(\n",
    "            f\"----------------------------My {s_or_t} Implementation Outputs----------------------------\"\n",
    "        )\n",
    "        print(\n",
    "            f\"------------------------------------------------------------------------------------------\"\n",
    "        )\n",
    "    x_jnp = einops.rearrange(x_jnp, \"batch seq_len -> batch seq_len 1\")\n",
    "    params = hippo.init(key, f=x_jnp)\n",
    "    hippo = hippo.bind(params)\n",
    "    c = hippo.__call__(f=x_jnp)\n",
    "    print(f\"c shape: {c.shape}\")\n",
    "    y = hippo.reconstruct(c)\n",
    "    print(f\"y shape: {y.shape}\")\n",
    "\n",
    "    # Gu's HiPPO LegS\n",
    "    if print_all:\n",
    "        print(\n",
    "            f\"------------------------------------------------------------------------------------------\"\n",
    "        )\n",
    "        print(\n",
    "            f\"---------------------------Gu's {s_or_t} Implementation Outputs---------------------------\"\n",
    "        )\n",
    "        print(\n",
    "            f\"------------------------------------------------------------------------------------------\"\n",
    "        )\n",
    "    x_tensor = torch.moveaxis(x_tensor, 0, 1)\n",
    "    GU_c_s, GU_c_k = gu_hippo(x_tensor, fast=False)\n",
    "    print(f\"c_s shape: {GU_c_s.shape}\")\n",
    "    print(f\"c_k shape: {GU_c_k.shape}\")\n",
    "\n",
    "    # c shape: (1, 1, 64)\n",
    "    # y shape: (1, 1, 64)\n",
    "    # c_s shape: torch.Size([3000, 1, 64])\n",
    "    # c_k shape: torch.Size([1, 64])\n",
    "\n",
    "    gu_y = None\n",
    "    if s_or_t == \"lsi\":\n",
    "        GU_c_s = einops.rearrange(GU_c_s, \"seq_len batch N -> batch seq_len 1 N\")\n",
    "        gu_y = gu_hippo.reconstruct(GU_c_s)\n",
    "    elif s_or_t == \"lti\":\n",
    "        GU_c_k = einops.rearrange(GU_c_k, \"batch N -> batch 1 N\")\n",
    "        gu_y = gu_hippo.reconstruct(GU_c_k)\n",
    "    else:\n",
    "        raise ValueError(\n",
    "            f\"s_or_t must be either 'lsi' or 'lti'. s_or_t is currently set to: {s_or_t}\"\n",
    "        )\n",
    "\n",
    "    if s_or_t == \"lsi\":\n",
    "        gu_c = jnp.asarray(\n",
    "            GU_c_s, dtype=jnp.float32\n",
    "        )  # convert torch array to jax array\n",
    "        # (1, 10000, 10000, 1)\n",
    "        print(\"LSI:\\n\")\n",
    "        print(f\"gu_c shape: {gu_c.shape}\")\n",
    "        print(f\"gu_y shape: {gu_y.shape}\")\n",
    "        print(f\"y shape: {y.shape}\")\n",
    "        y = einops.rearrange(\n",
    "            y, \"batch seq_len seq_len2 input_len -> batch seq_len input_len seq_len2\"\n",
    "        )\n",
    "        gu_y = einops.rearrange(\n",
    "            gu_y, \"seq_len batch seq_len2 input_len -> batch seq_len input_len seq_len2\"\n",
    "        )\n",
    "        print(f\"gu_y shape: {gu_y.shape}\")\n",
    "        print(f\"y shape: {y.shape}\")\n",
    "\n",
    "    elif s_or_t == \"lti\":\n",
    "        gu_c = jnp.asarray(\n",
    "            GU_c_k, dtype=jnp.float32\n",
    "        )  # convert torch array to jax array\n",
    "        # (1, 64, 1)\n",
    "        print(\"LTI:\\n\")\n",
    "        print(f\"gu_c shape: {gu_c.shape}\")\n",
    "        print(f\"gu_y shape: {gu_y.shape}\")\n",
    "        print(f\"y shape: {y.shape}\")\n",
    "        y = einops.rearrange(\n",
    "            y, \"batch seq_len input_len -> batch input_len seq_len\"\n",
    "        )  # transposing\n",
    "        gu_y = einops.rearrange(\n",
    "            gu_y, \"batch seq_len input_len -> batch input_len seq_len\"\n",
    "        )  # transposing\n",
    "        print(f\"gu_y shape: {gu_y.shape}\")\n",
    "        print(f\"y shape: {y.shape}\")\n",
    "\n",
    "    gu_y = jnp.asarray(gu_y, dtype=jnp.float32)  # convert torch array to jax array\n",
    "\n",
    "    x_tensor = jnp.asarray(\n",
    "        x_tensor, dtype=jnp.float32\n",
    "    )  # convert torch array to jax array\n",
    "    x_tensor = jnp.moveaxis(x_tensor, 0, 1)\n",
    "\n",
    "    co_flag = True\n",
    "    y_flag = True\n",
    "    for i in range(c.shape[0]):\n",
    "        for j in range(c.shape[1]):\n",
    "\n",
    "            co_check = None\n",
    "            y_check = None\n",
    "            if s_or_t == \"lsi\":\n",
    "                co_check = jnp.allclose(\n",
    "                    c[i, j, :, :], gu_c[i, j, :, :], rtol=1e-03, atol=1e-03\n",
    "                )\n",
    "                y_check = jnp.allclose(\n",
    "                    y[i, j, :, :], gu_y[i, j, :, :], rtol=1e-03, atol=1e-03\n",
    "                )\n",
    "\n",
    "                if print_all:\n",
    "                    print(f\"c_k[{i},{j},:,:]:\\n{c[i,j,:,:]}\")\n",
    "                    print(f\"gu_cs[{i},{j},:,:]:\\n{gu_c[i,j,:,:]}\")\n",
    "                    print(f\"coefficients check: {co_check}\\n\")\n",
    "\n",
    "                    print(f\"y[{i},{j},:,:]:\\n{y[i,j,:,:]}\")\n",
    "                    print(f\"gu_y[{i},{j},:,:]:\\n{gu_y[i,j,:,:]}\")\n",
    "                    print(f\"reconstruction check: {y_check}\\n\")\n",
    "\n",
    "            elif s_or_t == \"lti\":\n",
    "                co_check = jnp.allclose(\n",
    "                    c[i, j, :], gu_c[i, :, :], rtol=1e-03, atol=1e-03\n",
    "                )\n",
    "                y_check = jnp.allclose(\n",
    "                    y[i, j, :], gu_y[i, :, :], rtol=1e-03, atol=1e-03\n",
    "                )\n",
    "\n",
    "                if print_all:\n",
    "                    print(f\"c_k[{i},{j},:]:\\n{c[i,:,:]}\")\n",
    "                    print(f\"gu_cs[{i},{j},:]:\\n{gu_c[i,j,:]}\")\n",
    "                    print(f\"coefficients check: {co_check}\\n\")\n",
    "\n",
    "                    print(f\"y[{i},{j},:]:\\n{y[i,:,:]}\")\n",
    "                    print(f\"gu_y[{i},{j},:]:\\n{gu_y[i,:,:]}\")\n",
    "                    print(f\"reconstruction check: {y_check}\\n\")\n",
    "\n",
    "            if co_check == False:\n",
    "                co_flag = False\n",
    "\n",
    "            if y_check == False:\n",
    "                y_flag = False\n",
    "\n",
    "    if not print_all:\n",
    "        print(f\"\\n------------------------------------------------------------\")\n",
    "        print(f\"---------- The Coefficients Test Passed: {co_flag} ----------\")\n",
    "        print(f\"-------------------------------------------------------------\\n\\n\")\n",
    "        print(f\"\\n-------------------------------------------------------------\")\n",
    "        print(f\"---------- The Reconstruction Test Passed: {y_flag} ----------\")\n",
    "        print(f\"--------------------------------------------------------------\\n\")\n",
    "\n",
    "    if print_all:\n",
    "        print(f\"c:\\n {c}\")\n",
    "        print(f\"c shape:\\n {c.shape}\")\n",
    "\n",
    "        print(f\"gu_c:\\n {gu_c}\")\n",
    "        print(f\"gu_c shape:\\n {gu_c.shape}\")\n",
    "\n",
    "        print(f\"y:\\n {y}\")\n",
    "        print(f\"y shape:\\n {y.shape}\")\n",
    "\n",
    "        print(f\"gu_y:\\n {gu_y}\")\n",
    "        print(f\"gu_y shape:\\n {gu_y.shape}\")"
   ]
  },
  {
   "cell_type": "code",
   "execution_count": 49,
   "metadata": {},
   "outputs": [],
   "source": [
    "def test_reconstruction(\n",
    "    the_measure=\"legs\", lambda_n=1.0, alpha=0.5, discretization=0.5, print_all=False\n",
    "):\n",
    "    # N = 256\n",
    "    # L = 128\n",
    "\n",
    "    T = 3\n",
    "    freq = 3\n",
    "    step = 1e-3\n",
    "    L = int(T / step)\n",
    "\n",
    "    batch_size = 2\n",
    "    data_size = L\n",
    "    input_size = 1\n",
    "\n",
    "    N = 64\n",
    "\n",
    "    u = whitesignal(T, step, freq, batch_shape=(batch_size,))\n",
    "\n",
    "    x_np = np.asarray(u)\n",
    "\n",
    "    x = torch.tensor(x_np, dtype=torch.float32)\n",
    "\n",
    "    # ----------------------------------------------------------------------------------\n",
    "    # ------------------------------ Instantiate Gu's HiPPOs ---------------------------\n",
    "    # ----------------------------------------------------------------------------------\n",
    "\n",
    "    print(f\"Creating Gu's HiPPO-{the_measure} LTI model with {alpha} transform\")\n",
    "    gu_hippo_lti = gu_HiPPO_LTI(\n",
    "        N=N,\n",
    "        method=the_measure,\n",
    "        dt=step,\n",
    "        T=T,\n",
    "        discretization=discretization,\n",
    "        lambda_n=lambda_n,\n",
    "        alpha=0.0,\n",
    "        beta=1.0,\n",
    "        c=0.0,\n",
    "    )  # The Gu's\n",
    "\n",
    "    if the_measure == \"legs\":\n",
    "        print(f\"Creating Gu's HiPPO-{the_measure} LSI model with {alpha} transform\")\n",
    "        gu_hippo_lsi = gu_HiPPO_LSI(\n",
    "            N=N,\n",
    "            method=the_measure,\n",
    "            max_length=L,\n",
    "            discretization=discretization,\n",
    "            lambda_n=lambda_n,\n",
    "            alpha=0.0,\n",
    "            beta=1.0,\n",
    "        )  # The Gu's\n",
    "\n",
    "    # ----------------------------------------------------------------------------------\n",
    "    # ------------------------------ Instantiate My HiPPOs -----------------------------\n",
    "    # ----------------------------------------------------------------------------------\n",
    "    print(f\"\\nTesting BRYANS HiPPO-{the_measure} model\")\n",
    "\n",
    "    matrices = TransMatrix(\n",
    "        N=N,\n",
    "        measure=the_measure,\n",
    "        lambda_n=lambda_n,\n",
    "        alpha=0.0,\n",
    "        beta=1.0,\n",
    "        dtype=jnp.float32,\n",
    "    )\n",
    "\n",
    "    A = matrices.A\n",
    "    B = matrices.B\n",
    "\n",
    "    print(f\"Creating HiPPO-{the_measure} LTI model with {alpha} transform\")\n",
    "    hippo_lti = HiPPOLTI(\n",
    "        N=N,\n",
    "        step_size=step,\n",
    "        lambda_n=lambda_n,\n",
    "        alpha=0.0,\n",
    "        beta=1.0,\n",
    "        GBT_alpha=alpha,\n",
    "        measure=the_measure,\n",
    "        basis_size=T,\n",
    "        dtype=jnp.float32,\n",
    "        unroll=False,\n",
    "    )  # Bryan's\n",
    "\n",
    "    if the_measure == \"legs\":\n",
    "        print(f\"Creating HiPPO-{the_measure} LSI model with {alpha} transform\")\n",
    "        hippo_lsi = HiPPOLSI(\n",
    "            N=N,\n",
    "            max_length=L,\n",
    "            step_size=step,\n",
    "            lambda_n=lambda_n,\n",
    "            alpha=0.0,\n",
    "            beta=1.0,\n",
    "            GBT_alpha=alpha,\n",
    "            measure=the_measure,\n",
    "            dtype=jnp.float32,\n",
    "            unroll=True,\n",
    "        )  # Bryan's\n",
    "\n",
    "    # ----------------------------------------------------------------------------------\n",
    "    # ------------------------------ Test HiPPO Operators ------------------------------\n",
    "    # ----------------------------------------------------------------------------------\n",
    "\n",
    "    print(f\"Bryan's Coeffiecients for {alpha} LTI HiPPO-{the_measure}\")\n",
    "\n",
    "    test_hippo_reconstruction(\n",
    "        hippo=hippo_lti,\n",
    "        gu_hippo=gu_hippo_lti,\n",
    "        random_input=x_np,\n",
    "        key=subkeys[5],\n",
    "        s_or_t=\"lti\",\n",
    "        print_all=print_all,\n",
    "    )\n",
    "\n",
    "    if the_measure == \"legs\":\n",
    "        print(f\"\\n\\nBryan's Coeffiecients for {alpha} LSI HiPPO-{the_measure}\")\n",
    "\n",
    "        test_hippo_reconstruction(\n",
    "            hippo=hippo_lsi,\n",
    "            gu_hippo=gu_hippo_lsi,\n",
    "            random_input=x_np,\n",
    "            key=subkeys[6],\n",
    "            s_or_t=\"lsi\",\n",
    "            print_all=print_all,\n",
    "        )\n",
    "\n",
    "    print(f\"end of test for HiPPO-{the_measure} model\")"
   ]
  },
  {
   "cell_type": "markdown",
   "metadata": {},
   "source": [
    "## Navigation To Table Of Contents\n",
    "---\n",
    "* [Table Of Contents](#table-of-contents)\n",
    "* [Loading In Necessary Packages](#load-packages)\n",
    "* [Instantiate The HiPPO Matrix](#instantiate-the-hippo-matrix)\n",
    "* [Gu's Linear Time Invariant (LTI) HiPPO Operator](#gus-hippo-legt-operator)\n",
    "* [Gu's Scale invariant (LSI) HiPPO Operator](#gus-scale-invariant-hippo-legs-operator)\n",
    "* [Implementation Of General HiPPO Operator](#implementation-of-general-hippo-operator)\n",
    "* [Test Generalized Bilinear Transform and Zero Order Hold Matrices](#test-generalized-bilinear-transform-and-zero-order-hold-matrices)\n",
    "* [Testing HiPPO Operators](#test-hippo-operators)\n",
    "---"
   ]
  },
  {
   "cell_type": "code",
   "execution_count": 50,
   "metadata": {},
   "outputs": [],
   "source": [
    "print_all = False"
   ]
  },
  {
   "attachments": {},
   "cell_type": "markdown",
   "metadata": {},
   "source": [
    "### Testing (LTI and LSI) Operators With Forward Euler Transform"
   ]
  },
  {
   "attachments": {},
   "cell_type": "markdown",
   "metadata": {},
   "source": [
    "#### LegS"
   ]
  },
  {
   "cell_type": "code",
   "execution_count": 51,
   "metadata": {},
   "outputs": [
    {
     "name": "stdout",
     "output_type": "stream",
     "text": [
      "Creating Gu's HiPPO-legs LTI model with 0.0 transform\n",
      "Creating Gu's HiPPO-legs LSI model with 0.0 transform\n",
      "\n",
      "Testing BRYANS HiPPO-legs model\n",
      "Creating HiPPO-legs LTI model with 0.0 transform\n",
      "Creating HiPPO-legs LSI model with 0.0 transform\n",
      "Bryan's Coeffiecients for 0.0 LTI HiPPO-legs\n",
      "c shape: (2, 1, 64)\n",
      "y shape: (2, 3000, 1)\n",
      "c_s shape: torch.Size([3000, 2, 64])\n",
      "c_k shape: torch.Size([2, 64])\n",
      "LTI:\n",
      "\n",
      "gu_c shape: (2, 1, 64)\n",
      "gu_y shape: torch.Size([2, 3000, 1])\n",
      "y shape: (2, 3000, 1)\n",
      "gu_y shape: torch.Size([2, 1, 3000])\n",
      "y shape: (2, 1, 3000)\n",
      "\n",
      "------------------------------------------------------------\n",
      "---------- The Coefficients Test Passed: False ----------\n",
      "-------------------------------------------------------------\n",
      "\n",
      "\n",
      "\n",
      "-------------------------------------------------------------\n",
      "---------- The Reconstruction Test Passed: False ----------\n",
      "--------------------------------------------------------------\n",
      "\n",
      "\n",
      "\n",
      "Bryan's Coeffiecients for 0.0 LSI HiPPO-legs\n",
      "c shape: (2, 3000, 1, 64)\n",
      "y shape: (2, 3000, 3000, 1)\n",
      "c_s shape: torch.Size([3000, 2, 64])\n",
      "c_k shape: torch.Size([2, 64])\n",
      "LSI:\n",
      "\n",
      "gu_c shape: (2, 3000, 1, 64)\n",
      "gu_y shape: torch.Size([3000, 2, 3000, 1])\n",
      "y shape: (2, 3000, 3000, 1)\n",
      "gu_y shape: torch.Size([2, 3000, 1, 3000])\n",
      "y shape: (2, 3000, 1, 3000)\n",
      "\n",
      "------------------------------------------------------------\n",
      "---------- The Coefficients Test Passed: False ----------\n",
      "-------------------------------------------------------------\n",
      "\n",
      "\n",
      "\n",
      "-------------------------------------------------------------\n",
      "---------- The Reconstruction Test Passed: False ----------\n",
      "--------------------------------------------------------------\n",
      "\n",
      "end of test for HiPPO-legs model\n"
     ]
    }
   ],
   "source": [
    "test_reconstruction(\n",
    "    the_measure=\"legs\", lambda_n=1.0, alpha=0.0, discretization=0.0, print_all=print_all\n",
    ")"
   ]
  },
  {
   "attachments": {},
   "cell_type": "markdown",
   "metadata": {},
   "source": [
    "#### LegT"
   ]
  },
  {
   "cell_type": "code",
   "execution_count": 52,
   "metadata": {},
   "outputs": [
    {
     "name": "stdout",
     "output_type": "stream",
     "text": [
      "Creating Gu's HiPPO-legt LTI model with 0.0 transform\n",
      "\n",
      "Testing BRYANS HiPPO-legt model\n",
      "Creating HiPPO-legt LTI model with 0.0 transform\n",
      "Bryan's Coeffiecients for 0.0 LTI HiPPO-legt\n",
      "c shape: (2, 1, 64)\n",
      "y shape: (2, 3000, 1)\n",
      "c_s shape: torch.Size([3000, 2, 64])\n",
      "c_k shape: torch.Size([2, 64])\n",
      "LTI:\n",
      "\n",
      "gu_c shape: (2, 1, 64)\n",
      "gu_y shape: torch.Size([2, 3000, 1])\n",
      "y shape: (2, 3000, 1)\n",
      "gu_y shape: torch.Size([2, 1, 3000])\n",
      "y shape: (2, 1, 3000)\n",
      "\n",
      "------------------------------------------------------------\n",
      "---------- The Coefficients Test Passed: False ----------\n",
      "-------------------------------------------------------------\n",
      "\n",
      "\n",
      "\n",
      "-------------------------------------------------------------\n",
      "---------- The Reconstruction Test Passed: False ----------\n",
      "--------------------------------------------------------------\n",
      "\n",
      "end of test for HiPPO-legt model\n"
     ]
    }
   ],
   "source": [
    "test_reconstruction(\n",
    "    the_measure=\"legt\", lambda_n=1.0, alpha=0.0, discretization=0.0, print_all=print_all\n",
    ")"
   ]
  },
  {
   "attachments": {},
   "cell_type": "markdown",
   "metadata": {},
   "source": [
    "#### LMU"
   ]
  },
  {
   "cell_type": "code",
   "execution_count": 92,
   "metadata": {},
   "outputs": [
    {
     "name": "stdout",
     "output_type": "stream",
     "text": [
      "Creating Gu's HiPPO-lmu LTI model with 0.0 transform\n",
      "\n",
      "Testing BRYANS HiPPO-lmu model\n",
      "Creating HiPPO-lmu LTI model with 0.0 transform\n",
      "Bryan's Coeffiecients for 0.0 LTI HiPPO-lmu\n",
      "c shape: (2, 1, 64)\n",
      "y shape: (2, 3000, 1)\n",
      "c_s shape: torch.Size([3000, 2, 64])\n",
      "c_k shape: torch.Size([2, 64])\n",
      "LTI:\n",
      "\n",
      "gu_c shape: (2, 1, 64)\n",
      "gu_y shape: torch.Size([2, 3000, 1])\n",
      "y shape: (2, 3000, 1)\n",
      "gu_y shape: torch.Size([2, 1, 3000])\n",
      "y shape: (2, 1, 3000)\n",
      "\n",
      "------------------------------------------------------------\n",
      "---------- The Coefficients Test Passed: False ----------\n",
      "-------------------------------------------------------------\n",
      "\n",
      "\n",
      "\n",
      "-------------------------------------------------------------\n",
      "---------- The Reconstruction Test Passed: False ----------\n",
      "--------------------------------------------------------------\n",
      "\n",
      "end of test for HiPPO-lmu model\n"
     ]
    }
   ],
   "source": [
    "test_reconstruction(\n",
    "    the_measure=\"lmu\", lambda_n=2.0, alpha=0.0, discretization=0.0, print_all=print_all\n",
    ")"
   ]
  },
  {
   "attachments": {},
   "cell_type": "markdown",
   "metadata": {},
   "source": [
    "#### LagT"
   ]
  },
  {
   "cell_type": "code",
   "execution_count": 91,
   "metadata": {},
   "outputs": [
    {
     "name": "stdout",
     "output_type": "stream",
     "text": [
      "Creating Gu's HiPPO-lagt LTI model with 0.0 transform\n",
      "\n",
      "Testing BRYANS HiPPO-lagt model\n",
      "Creating HiPPO-lagt LTI model with 0.0 transform\n",
      "Bryan's Coeffiecients for 0.0 LTI HiPPO-lagt\n",
      "c shape: (2, 1, 64)\n",
      "y shape: (2, 3000, 1)\n",
      "c_s shape: torch.Size([3000, 2, 64])\n",
      "c_k shape: torch.Size([2, 64])\n",
      "LTI:\n",
      "\n",
      "gu_c shape: (2, 1, 64)\n",
      "gu_y shape: torch.Size([2, 3000, 1])\n",
      "y shape: (2, 3000, 1)\n",
      "gu_y shape: torch.Size([2, 1, 3000])\n",
      "y shape: (2, 1, 3000)\n",
      "\n",
      "------------------------------------------------------------\n",
      "---------- The Coefficients Test Passed: False ----------\n",
      "-------------------------------------------------------------\n",
      "\n",
      "\n",
      "\n",
      "-------------------------------------------------------------\n",
      "---------- The Reconstruction Test Passed: False ----------\n",
      "--------------------------------------------------------------\n",
      "\n",
      "end of test for HiPPO-lagt model\n"
     ]
    }
   ],
   "source": [
    "test_reconstruction(\n",
    "    the_measure=\"lagt\", lambda_n=1.0, alpha=0.0, discretization=0.0, print_all=print_all\n",
    ")"
   ]
  },
  {
   "attachments": {},
   "cell_type": "markdown",
   "metadata": {},
   "source": [
    "#### FRU"
   ]
  },
  {
   "cell_type": "code",
   "execution_count": 90,
   "metadata": {},
   "outputs": [
    {
     "name": "stdout",
     "output_type": "stream",
     "text": [
      "Creating Gu's HiPPO-fru LTI model with 0.0 transform\n",
      "\n",
      "Testing BRYANS HiPPO-fru model\n",
      "Creating HiPPO-fru LTI model with 0.0 transform\n",
      "Bryan's Coeffiecients for 0.0 LTI HiPPO-fru\n",
      "c shape: (2, 1, 64)\n",
      "y shape: (2, 3000, 1)\n",
      "c_s shape: torch.Size([3000, 2, 64])\n",
      "c_k shape: torch.Size([2, 64])\n",
      "LTI:\n",
      "\n",
      "gu_c shape: (2, 1, 64)\n",
      "gu_y shape: torch.Size([2, 3000, 1])\n",
      "y shape: (2, 3000, 1)\n",
      "gu_y shape: torch.Size([2, 1, 3000])\n",
      "y shape: (2, 1, 3000)\n",
      "\n",
      "------------------------------------------------------------\n",
      "---------- The Coefficients Test Passed: False ----------\n",
      "-------------------------------------------------------------\n",
      "\n",
      "\n",
      "\n",
      "-------------------------------------------------------------\n",
      "---------- The Reconstruction Test Passed: False ----------\n",
      "--------------------------------------------------------------\n",
      "\n",
      "end of test for HiPPO-fru model\n"
     ]
    }
   ],
   "source": [
    "test_reconstruction(\n",
    "    the_measure=\"fru\", lambda_n=1.0, alpha=0.0, discretization=0.0, print_all=print_all\n",
    ")"
   ]
  },
  {
   "attachments": {},
   "cell_type": "markdown",
   "metadata": {},
   "source": [
    "#### FouT"
   ]
  },
  {
   "cell_type": "code",
   "execution_count": 89,
   "metadata": {},
   "outputs": [
    {
     "name": "stdout",
     "output_type": "stream",
     "text": [
      "Creating Gu's HiPPO-fout LTI model with 0.0 transform\n",
      "\n",
      "Testing BRYANS HiPPO-fout model\n",
      "Creating HiPPO-fout LTI model with 0.0 transform\n",
      "Bryan's Coeffiecients for 0.0 LTI HiPPO-fout\n",
      "c shape: (2, 1, 64)\n",
      "y shape: (2, 3000, 1)\n",
      "c_s shape: torch.Size([3000, 2, 64])\n",
      "c_k shape: torch.Size([2, 64])\n",
      "LTI:\n",
      "\n",
      "gu_c shape: (2, 1, 64)\n",
      "gu_y shape: torch.Size([2, 3000, 1])\n",
      "y shape: (2, 3000, 1)\n",
      "gu_y shape: torch.Size([2, 1, 3000])\n",
      "y shape: (2, 1, 3000)\n",
      "\n",
      "------------------------------------------------------------\n",
      "---------- The Coefficients Test Passed: False ----------\n",
      "-------------------------------------------------------------\n",
      "\n",
      "\n",
      "\n",
      "-------------------------------------------------------------\n",
      "---------- The Reconstruction Test Passed: False ----------\n",
      "--------------------------------------------------------------\n",
      "\n",
      "end of test for HiPPO-fout model\n"
     ]
    }
   ],
   "source": [
    "test_reconstruction(\n",
    "    the_measure=\"fout\", lambda_n=1.0, alpha=0.0, discretization=0.0, print_all=print_all\n",
    ")"
   ]
  },
  {
   "attachments": {},
   "cell_type": "markdown",
   "metadata": {},
   "source": [
    "#### FouD"
   ]
  },
  {
   "cell_type": "code",
   "execution_count": 88,
   "metadata": {},
   "outputs": [
    {
     "name": "stdout",
     "output_type": "stream",
     "text": [
      "Creating Gu's HiPPO-foud LTI model with 0.0 transform\n",
      "\n",
      "Testing BRYANS HiPPO-foud model\n",
      "Creating HiPPO-foud LTI model with 0.0 transform\n",
      "Bryan's Coeffiecients for 0.0 LTI HiPPO-foud\n",
      "c shape: (2, 1, 64)\n",
      "y shape: (2, 3000, 1)\n",
      "c_s shape: torch.Size([3000, 2, 64])\n",
      "c_k shape: torch.Size([2, 64])\n",
      "LTI:\n",
      "\n",
      "gu_c shape: (2, 1, 64)\n",
      "gu_y shape: torch.Size([2, 3000, 1])\n",
      "y shape: (2, 3000, 1)\n",
      "gu_y shape: torch.Size([2, 1, 3000])\n",
      "y shape: (2, 1, 3000)\n",
      "\n",
      "------------------------------------------------------------\n",
      "---------- The Coefficients Test Passed: False ----------\n",
      "-------------------------------------------------------------\n",
      "\n",
      "\n",
      "\n",
      "-------------------------------------------------------------\n",
      "---------- The Reconstruction Test Passed: False ----------\n",
      "--------------------------------------------------------------\n",
      "\n",
      "end of test for HiPPO-foud model\n"
     ]
    }
   ],
   "source": [
    "test_reconstruction(\n",
    "    the_measure=\"foud\", lambda_n=1.0, alpha=0.0, discretization=0.0, print_all=print_all\n",
    ")"
   ]
  },
  {
   "attachments": {},
   "cell_type": "markdown",
   "metadata": {},
   "source": [
    "### Testing (LTI and LSI) Operators With Backward Euler Transform"
   ]
  },
  {
   "attachments": {},
   "cell_type": "markdown",
   "metadata": {},
   "source": [
    "#### LegS"
   ]
  },
  {
   "cell_type": "code",
   "execution_count": 58,
   "metadata": {},
   "outputs": [
    {
     "name": "stdout",
     "output_type": "stream",
     "text": [
      "Creating Gu's HiPPO-legs LTI model with 1.0 transform\n",
      "Creating Gu's HiPPO-legs LSI model with 1.0 transform\n",
      "\n",
      "Testing BRYANS HiPPO-legs model\n",
      "Creating HiPPO-legs LTI model with 1.0 transform\n",
      "Creating HiPPO-legs LSI model with 1.0 transform\n",
      "Bryan's Coeffiecients for 1.0 LTI HiPPO-legs\n",
      "c shape: (2, 1, 64)\n",
      "y shape: (2, 3000, 1)\n",
      "c_s shape: torch.Size([3000, 2, 64])\n",
      "c_k shape: torch.Size([2, 64])\n",
      "LTI:\n",
      "\n",
      "gu_c shape: (2, 1, 64)\n",
      "gu_y shape: torch.Size([2, 3000, 1])\n",
      "y shape: (2, 3000, 1)\n",
      "gu_y shape: torch.Size([2, 1, 3000])\n",
      "y shape: (2, 1, 3000)\n",
      "\n",
      "------------------------------------------------------------\n",
      "---------- The Coefficients Test Passed: False ----------\n",
      "-------------------------------------------------------------\n",
      "\n",
      "\n",
      "\n",
      "-------------------------------------------------------------\n",
      "---------- The Reconstruction Test Passed: False ----------\n",
      "--------------------------------------------------------------\n",
      "\n",
      "\n",
      "\n",
      "Bryan's Coeffiecients for 1.0 LSI HiPPO-legs\n",
      "c shape: (2, 3000, 1, 64)\n",
      "y shape: (2, 3000, 3000, 1)\n",
      "c_s shape: torch.Size([3000, 2, 64])\n",
      "c_k shape: torch.Size([2, 64])\n",
      "LSI:\n",
      "\n",
      "gu_c shape: (2, 3000, 1, 64)\n",
      "gu_y shape: torch.Size([3000, 2, 3000, 1])\n",
      "y shape: (2, 3000, 3000, 1)\n",
      "gu_y shape: torch.Size([2, 3000, 1, 3000])\n",
      "y shape: (2, 3000, 1, 3000)\n",
      "\n",
      "------------------------------------------------------------\n",
      "---------- The Coefficients Test Passed: True ----------\n",
      "-------------------------------------------------------------\n",
      "\n",
      "\n",
      "\n",
      "-------------------------------------------------------------\n",
      "---------- The Reconstruction Test Passed: False ----------\n",
      "--------------------------------------------------------------\n",
      "\n",
      "end of test for HiPPO-legs model\n"
     ]
    }
   ],
   "source": [
    "test_reconstruction(\n",
    "    the_measure=\"legs\", lambda_n=1.0, alpha=1.0, discretization=1.0, print_all=print_all\n",
    ")"
   ]
  },
  {
   "attachments": {},
   "cell_type": "markdown",
   "metadata": {},
   "source": [
    "#### LegT"
   ]
  },
  {
   "cell_type": "code",
   "execution_count": 87,
   "metadata": {},
   "outputs": [
    {
     "name": "stdout",
     "output_type": "stream",
     "text": [
      "Creating Gu's HiPPO-legt LTI model with 1.0 transform\n",
      "\n",
      "Testing BRYANS HiPPO-legt model\n",
      "Creating HiPPO-legt LTI model with 1.0 transform\n",
      "Bryan's Coeffiecients for 1.0 LTI HiPPO-legt\n",
      "c shape: (2, 1, 64)\n",
      "y shape: (2, 3000, 1)\n",
      "c_s shape: torch.Size([3000, 2, 64])\n",
      "c_k shape: torch.Size([2, 64])\n",
      "LTI:\n",
      "\n",
      "gu_c shape: (2, 1, 64)\n",
      "gu_y shape: torch.Size([2, 3000, 1])\n",
      "y shape: (2, 3000, 1)\n",
      "gu_y shape: torch.Size([2, 1, 3000])\n",
      "y shape: (2, 1, 3000)\n",
      "\n",
      "------------------------------------------------------------\n",
      "---------- The Coefficients Test Passed: False ----------\n",
      "-------------------------------------------------------------\n",
      "\n",
      "\n",
      "\n",
      "-------------------------------------------------------------\n",
      "---------- The Reconstruction Test Passed: False ----------\n",
      "--------------------------------------------------------------\n",
      "\n",
      "end of test for HiPPO-legt model\n"
     ]
    }
   ],
   "source": [
    "test_reconstruction(\n",
    "    the_measure=\"legt\", lambda_n=1.0, alpha=1.0, discretization=1.0, print_all=print_all\n",
    ")"
   ]
  },
  {
   "attachments": {},
   "cell_type": "markdown",
   "metadata": {},
   "source": [
    "#### LMU"
   ]
  },
  {
   "cell_type": "code",
   "execution_count": 86,
   "metadata": {},
   "outputs": [
    {
     "name": "stdout",
     "output_type": "stream",
     "text": [
      "Creating Gu's HiPPO-lmu LTI model with 1.0 transform\n",
      "\n",
      "Testing BRYANS HiPPO-lmu model\n",
      "Creating HiPPO-lmu LTI model with 1.0 transform\n",
      "Bryan's Coeffiecients for 1.0 LTI HiPPO-lmu\n",
      "c shape: (2, 1, 64)\n",
      "y shape: (2, 3000, 1)\n",
      "c_s shape: torch.Size([3000, 2, 64])\n",
      "c_k shape: torch.Size([2, 64])\n",
      "LTI:\n",
      "\n",
      "gu_c shape: (2, 1, 64)\n",
      "gu_y shape: torch.Size([2, 3000, 1])\n",
      "y shape: (2, 3000, 1)\n",
      "gu_y shape: torch.Size([2, 1, 3000])\n",
      "y shape: (2, 1, 3000)\n",
      "\n",
      "------------------------------------------------------------\n",
      "---------- The Coefficients Test Passed: False ----------\n",
      "-------------------------------------------------------------\n",
      "\n",
      "\n",
      "\n",
      "-------------------------------------------------------------\n",
      "---------- The Reconstruction Test Passed: False ----------\n",
      "--------------------------------------------------------------\n",
      "\n",
      "end of test for HiPPO-lmu model\n"
     ]
    }
   ],
   "source": [
    "test_reconstruction(\n",
    "    the_measure=\"lmu\", lambda_n=2.0, alpha=1.0, discretization=1.0, print_all=print_all\n",
    ")"
   ]
  },
  {
   "attachments": {},
   "cell_type": "markdown",
   "metadata": {},
   "source": [
    "#### LagT"
   ]
  },
  {
   "cell_type": "code",
   "execution_count": 85,
   "metadata": {},
   "outputs": [
    {
     "name": "stdout",
     "output_type": "stream",
     "text": [
      "Creating Gu's HiPPO-lagt LTI model with 1.0 transform\n",
      "\n",
      "Testing BRYANS HiPPO-lagt model\n",
      "Creating HiPPO-lagt LTI model with 1.0 transform\n",
      "Bryan's Coeffiecients for 1.0 LTI HiPPO-lagt\n",
      "c shape: (2, 1, 64)\n",
      "y shape: (2, 3000, 1)\n",
      "c_s shape: torch.Size([3000, 2, 64])\n",
      "c_k shape: torch.Size([2, 64])\n",
      "LTI:\n",
      "\n",
      "gu_c shape: (2, 1, 64)\n",
      "gu_y shape: torch.Size([2, 3000, 1])\n",
      "y shape: (2, 3000, 1)\n",
      "gu_y shape: torch.Size([2, 1, 3000])\n",
      "y shape: (2, 1, 3000)\n",
      "\n",
      "------------------------------------------------------------\n",
      "---------- The Coefficients Test Passed: False ----------\n",
      "-------------------------------------------------------------\n",
      "\n",
      "\n",
      "\n",
      "-------------------------------------------------------------\n",
      "---------- The Reconstruction Test Passed: False ----------\n",
      "--------------------------------------------------------------\n",
      "\n",
      "end of test for HiPPO-lagt model\n"
     ]
    }
   ],
   "source": [
    "test_reconstruction(\n",
    "    the_measure=\"lagt\", lambda_n=1.0, alpha=1.0, discretization=1.0, print_all=print_all\n",
    ")"
   ]
  },
  {
   "attachments": {},
   "cell_type": "markdown",
   "metadata": {},
   "source": [
    "#### FRU"
   ]
  },
  {
   "cell_type": "code",
   "execution_count": 84,
   "metadata": {},
   "outputs": [
    {
     "name": "stdout",
     "output_type": "stream",
     "text": [
      "Creating Gu's HiPPO-fru LTI model with 1.0 transform\n",
      "\n",
      "Testing BRYANS HiPPO-fru model\n",
      "Creating HiPPO-fru LTI model with 1.0 transform\n",
      "Bryan's Coeffiecients for 1.0 LTI HiPPO-fru\n",
      "c shape: (2, 1, 64)\n",
      "y shape: (2, 3000, 1)\n",
      "c_s shape: torch.Size([3000, 2, 64])\n",
      "c_k shape: torch.Size([2, 64])\n",
      "LTI:\n",
      "\n",
      "gu_c shape: (2, 1, 64)\n",
      "gu_y shape: torch.Size([2, 3000, 1])\n",
      "y shape: (2, 3000, 1)\n",
      "gu_y shape: torch.Size([2, 1, 3000])\n",
      "y shape: (2, 1, 3000)\n",
      "\n",
      "------------------------------------------------------------\n",
      "---------- The Coefficients Test Passed: False ----------\n",
      "-------------------------------------------------------------\n",
      "\n",
      "\n",
      "\n",
      "-------------------------------------------------------------\n",
      "---------- The Reconstruction Test Passed: False ----------\n",
      "--------------------------------------------------------------\n",
      "\n",
      "end of test for HiPPO-fru model\n"
     ]
    }
   ],
   "source": [
    "test_reconstruction(\n",
    "    the_measure=\"fru\", lambda_n=1.0, alpha=1.0, discretization=1.0, print_all=print_all\n",
    ")"
   ]
  },
  {
   "attachments": {},
   "cell_type": "markdown",
   "metadata": {},
   "source": [
    "#### FouT"
   ]
  },
  {
   "cell_type": "code",
   "execution_count": 83,
   "metadata": {},
   "outputs": [
    {
     "name": "stdout",
     "output_type": "stream",
     "text": [
      "Creating Gu's HiPPO-fout LTI model with 1.0 transform\n",
      "\n",
      "Testing BRYANS HiPPO-fout model\n",
      "Creating HiPPO-fout LTI model with 1.0 transform\n",
      "Bryan's Coeffiecients for 1.0 LTI HiPPO-fout\n",
      "c shape: (2, 1, 64)\n",
      "y shape: (2, 3000, 1)\n",
      "c_s shape: torch.Size([3000, 2, 64])\n",
      "c_k shape: torch.Size([2, 64])\n",
      "LTI:\n",
      "\n",
      "gu_c shape: (2, 1, 64)\n",
      "gu_y shape: torch.Size([2, 3000, 1])\n",
      "y shape: (2, 3000, 1)\n",
      "gu_y shape: torch.Size([2, 1, 3000])\n",
      "y shape: (2, 1, 3000)\n",
      "\n",
      "------------------------------------------------------------\n",
      "---------- The Coefficients Test Passed: False ----------\n",
      "-------------------------------------------------------------\n",
      "\n",
      "\n",
      "\n",
      "-------------------------------------------------------------\n",
      "---------- The Reconstruction Test Passed: False ----------\n",
      "--------------------------------------------------------------\n",
      "\n",
      "end of test for HiPPO-fout model\n"
     ]
    }
   ],
   "source": [
    "test_reconstruction(\n",
    "    the_measure=\"fout\", lambda_n=1.0, alpha=1.0, discretization=1.0, print_all=print_all\n",
    ")"
   ]
  },
  {
   "attachments": {},
   "cell_type": "markdown",
   "metadata": {},
   "source": [
    "#### FouD"
   ]
  },
  {
   "cell_type": "code",
   "execution_count": 82,
   "metadata": {},
   "outputs": [
    {
     "name": "stdout",
     "output_type": "stream",
     "text": [
      "Creating Gu's HiPPO-foud LTI model with 1.0 transform\n",
      "\n",
      "Testing BRYANS HiPPO-foud model\n",
      "Creating HiPPO-foud LTI model with 1.0 transform\n",
      "Bryan's Coeffiecients for 1.0 LTI HiPPO-foud\n",
      "c shape: (2, 1, 64)\n",
      "y shape: (2, 3000, 1)\n",
      "c_s shape: torch.Size([3000, 2, 64])\n",
      "c_k shape: torch.Size([2, 64])\n",
      "LTI:\n",
      "\n",
      "gu_c shape: (2, 1, 64)\n",
      "gu_y shape: torch.Size([2, 3000, 1])\n",
      "y shape: (2, 3000, 1)\n",
      "gu_y shape: torch.Size([2, 1, 3000])\n",
      "y shape: (2, 1, 3000)\n",
      "\n",
      "------------------------------------------------------------\n",
      "---------- The Coefficients Test Passed: False ----------\n",
      "-------------------------------------------------------------\n",
      "\n",
      "\n",
      "\n",
      "-------------------------------------------------------------\n",
      "---------- The Reconstruction Test Passed: False ----------\n",
      "--------------------------------------------------------------\n",
      "\n",
      "end of test for HiPPO-foud model\n"
     ]
    }
   ],
   "source": [
    "test_reconstruction(\n",
    "    the_measure=\"foud\", lambda_n=1.0, alpha=1.0, discretization=1.0, print_all=print_all\n",
    ")"
   ]
  },
  {
   "attachments": {},
   "cell_type": "markdown",
   "metadata": {},
   "source": [
    "### Testing (LTI and LSI) Operators With Bidirectional Transform"
   ]
  },
  {
   "attachments": {},
   "cell_type": "markdown",
   "metadata": {},
   "source": [
    "#### LegS"
   ]
  },
  {
   "cell_type": "code",
   "execution_count": 65,
   "metadata": {},
   "outputs": [
    {
     "name": "stdout",
     "output_type": "stream",
     "text": [
      "Creating Gu's HiPPO-legs LTI model with 0.5 transform\n",
      "Creating Gu's HiPPO-legs LSI model with 0.5 transform\n",
      "\n",
      "Testing BRYANS HiPPO-legs model\n",
      "Creating HiPPO-legs LTI model with 0.5 transform\n",
      "Creating HiPPO-legs LSI model with 0.5 transform\n",
      "Bryan's Coeffiecients for 0.5 LTI HiPPO-legs\n",
      "c shape: (2, 1, 64)\n",
      "y shape: (2, 3000, 1)\n",
      "c_s shape: torch.Size([3000, 2, 64])\n",
      "c_k shape: torch.Size([2, 64])\n",
      "LTI:\n",
      "\n",
      "gu_c shape: (2, 1, 64)\n",
      "gu_y shape: torch.Size([2, 3000, 1])\n",
      "y shape: (2, 3000, 1)\n",
      "gu_y shape: torch.Size([2, 1, 3000])\n",
      "y shape: (2, 1, 3000)\n",
      "\n",
      "------------------------------------------------------------\n",
      "---------- The Coefficients Test Passed: False ----------\n",
      "-------------------------------------------------------------\n",
      "\n",
      "\n",
      "\n",
      "-------------------------------------------------------------\n",
      "---------- The Reconstruction Test Passed: False ----------\n",
      "--------------------------------------------------------------\n",
      "\n",
      "\n",
      "\n",
      "Bryan's Coeffiecients for 0.5 LSI HiPPO-legs\n",
      "c shape: (2, 3000, 1, 64)\n",
      "y shape: (2, 3000, 3000, 1)\n",
      "c_s shape: torch.Size([3000, 2, 64])\n",
      "c_k shape: torch.Size([2, 64])\n",
      "LSI:\n",
      "\n",
      "gu_c shape: (2, 3000, 1, 64)\n",
      "gu_y shape: torch.Size([3000, 2, 3000, 1])\n",
      "y shape: (2, 3000, 3000, 1)\n",
      "gu_y shape: torch.Size([2, 3000, 1, 3000])\n",
      "y shape: (2, 3000, 1, 3000)\n",
      "\n",
      "------------------------------------------------------------\n",
      "---------- The Coefficients Test Passed: True ----------\n",
      "-------------------------------------------------------------\n",
      "\n",
      "\n",
      "\n",
      "-------------------------------------------------------------\n",
      "---------- The Reconstruction Test Passed: False ----------\n",
      "--------------------------------------------------------------\n",
      "\n",
      "end of test for HiPPO-legs model\n"
     ]
    }
   ],
   "source": [
    "test_reconstruction(\n",
    "    the_measure=\"legs\", lambda_n=1.0, alpha=0.5, discretization=0.5, print_all=print_all\n",
    ")"
   ]
  },
  {
   "attachments": {},
   "cell_type": "markdown",
   "metadata": {},
   "source": [
    "#### LegT"
   ]
  },
  {
   "cell_type": "code",
   "execution_count": 66,
   "metadata": {},
   "outputs": [
    {
     "name": "stdout",
     "output_type": "stream",
     "text": [
      "Creating Gu's HiPPO-legt LTI model with 0.5 transform\n",
      "\n",
      "Testing BRYANS HiPPO-legt model\n",
      "Creating HiPPO-legt LTI model with 0.5 transform\n",
      "Bryan's Coeffiecients for 0.5 LTI HiPPO-legt\n",
      "c shape: (2, 1, 64)\n",
      "y shape: (2, 3000, 1)\n",
      "c_s shape: torch.Size([3000, 2, 64])\n",
      "c_k shape: torch.Size([2, 64])\n",
      "LTI:\n",
      "\n",
      "gu_c shape: (2, 1, 64)\n",
      "gu_y shape: torch.Size([2, 3000, 1])\n",
      "y shape: (2, 3000, 1)\n",
      "gu_y shape: torch.Size([2, 1, 3000])\n",
      "y shape: (2, 1, 3000)\n",
      "\n",
      "------------------------------------------------------------\n",
      "---------- The Coefficients Test Passed: False ----------\n",
      "-------------------------------------------------------------\n",
      "\n",
      "\n",
      "\n",
      "-------------------------------------------------------------\n",
      "---------- The Reconstruction Test Passed: False ----------\n",
      "--------------------------------------------------------------\n",
      "\n",
      "end of test for HiPPO-legt model\n"
     ]
    }
   ],
   "source": [
    "test_reconstruction(\n",
    "    the_measure=\"legt\", lambda_n=1.0, alpha=0.5, discretization=0.5, print_all=print_all\n",
    ")"
   ]
  },
  {
   "attachments": {},
   "cell_type": "markdown",
   "metadata": {},
   "source": [
    "#### LMU"
   ]
  },
  {
   "cell_type": "code",
   "execution_count": 67,
   "metadata": {},
   "outputs": [
    {
     "name": "stdout",
     "output_type": "stream",
     "text": [
      "Creating Gu's HiPPO-lmu LTI model with 0.5 transform\n",
      "\n",
      "Testing BRYANS HiPPO-lmu model\n",
      "Creating HiPPO-lmu LTI model with 0.5 transform\n",
      "Bryan's Coeffiecients for 0.5 LTI HiPPO-lmu\n",
      "c shape: (2, 1, 64)\n",
      "y shape: (2, 3000, 1)\n",
      "c_s shape: torch.Size([3000, 2, 64])\n",
      "c_k shape: torch.Size([2, 64])\n",
      "LTI:\n",
      "\n",
      "gu_c shape: (2, 1, 64)\n",
      "gu_y shape: torch.Size([2, 3000, 1])\n",
      "y shape: (2, 3000, 1)\n",
      "gu_y shape: torch.Size([2, 1, 3000])\n",
      "y shape: (2, 1, 3000)\n",
      "\n",
      "------------------------------------------------------------\n",
      "---------- The Coefficients Test Passed: False ----------\n",
      "-------------------------------------------------------------\n",
      "\n",
      "\n",
      "\n",
      "-------------------------------------------------------------\n",
      "---------- The Reconstruction Test Passed: False ----------\n",
      "--------------------------------------------------------------\n",
      "\n",
      "end of test for HiPPO-lmu model\n"
     ]
    }
   ],
   "source": [
    "test_reconstruction(\n",
    "    the_measure=\"lmu\", lambda_n=2.0, alpha=0.5, discretization=0.5, print_all=print_all\n",
    ")"
   ]
  },
  {
   "attachments": {},
   "cell_type": "markdown",
   "metadata": {},
   "source": [
    "#### LagT"
   ]
  },
  {
   "cell_type": "code",
   "execution_count": 68,
   "metadata": {},
   "outputs": [
    {
     "name": "stdout",
     "output_type": "stream",
     "text": [
      "Creating Gu's HiPPO-lagt LTI model with 0.5 transform\n",
      "\n",
      "Testing BRYANS HiPPO-lagt model\n",
      "Creating HiPPO-lagt LTI model with 0.5 transform\n",
      "Bryan's Coeffiecients for 0.5 LTI HiPPO-lagt\n",
      "c shape: (2, 1, 64)\n",
      "y shape: (2, 3000, 1)\n",
      "c_s shape: torch.Size([3000, 2, 64])\n",
      "c_k shape: torch.Size([2, 64])\n",
      "LTI:\n",
      "\n",
      "gu_c shape: (2, 1, 64)\n",
      "gu_y shape: torch.Size([2, 3000, 1])\n",
      "y shape: (2, 3000, 1)\n",
      "gu_y shape: torch.Size([2, 1, 3000])\n",
      "y shape: (2, 1, 3000)\n",
      "\n",
      "------------------------------------------------------------\n",
      "---------- The Coefficients Test Passed: False ----------\n",
      "-------------------------------------------------------------\n",
      "\n",
      "\n",
      "\n",
      "-------------------------------------------------------------\n",
      "---------- The Reconstruction Test Passed: False ----------\n",
      "--------------------------------------------------------------\n",
      "\n",
      "end of test for HiPPO-lagt model\n"
     ]
    }
   ],
   "source": [
    "test_reconstruction(\n",
    "    the_measure=\"lagt\", lambda_n=1.0, alpha=0.5, discretization=0.5, print_all=print_all\n",
    ")"
   ]
  },
  {
   "attachments": {},
   "cell_type": "markdown",
   "metadata": {},
   "source": [
    "#### FRU"
   ]
  },
  {
   "cell_type": "code",
   "execution_count": 69,
   "metadata": {},
   "outputs": [
    {
     "name": "stdout",
     "output_type": "stream",
     "text": [
      "Creating Gu's HiPPO-fru LTI model with 0.5 transform\n",
      "\n",
      "Testing BRYANS HiPPO-fru model\n",
      "Creating HiPPO-fru LTI model with 0.5 transform\n",
      "Bryan's Coeffiecients for 0.5 LTI HiPPO-fru\n",
      "c shape: (2, 1, 64)\n",
      "y shape: (2, 3000, 1)\n",
      "c_s shape: torch.Size([3000, 2, 64])\n",
      "c_k shape: torch.Size([2, 64])\n",
      "LTI:\n",
      "\n",
      "gu_c shape: (2, 1, 64)\n",
      "gu_y shape: torch.Size([2, 3000, 1])\n",
      "y shape: (2, 3000, 1)\n",
      "gu_y shape: torch.Size([2, 1, 3000])\n",
      "y shape: (2, 1, 3000)\n",
      "\n",
      "------------------------------------------------------------\n",
      "---------- The Coefficients Test Passed: False ----------\n",
      "-------------------------------------------------------------\n",
      "\n",
      "\n",
      "\n",
      "-------------------------------------------------------------\n",
      "---------- The Reconstruction Test Passed: False ----------\n",
      "--------------------------------------------------------------\n",
      "\n",
      "end of test for HiPPO-fru model\n"
     ]
    }
   ],
   "source": [
    "test_reconstruction(\n",
    "    the_measure=\"fru\", lambda_n=1.0, alpha=0.5, discretization=0.5, print_all=print_all\n",
    ")"
   ]
  },
  {
   "attachments": {},
   "cell_type": "markdown",
   "metadata": {},
   "source": [
    "#### FouT"
   ]
  },
  {
   "cell_type": "code",
   "execution_count": 70,
   "metadata": {},
   "outputs": [
    {
     "name": "stdout",
     "output_type": "stream",
     "text": [
      "Creating Gu's HiPPO-fout LTI model with 0.5 transform\n",
      "\n",
      "Testing BRYANS HiPPO-fout model\n",
      "Creating HiPPO-fout LTI model with 0.5 transform\n",
      "Bryan's Coeffiecients for 0.5 LTI HiPPO-fout\n",
      "c shape: (2, 1, 64)\n",
      "y shape: (2, 3000, 1)\n",
      "c_s shape: torch.Size([3000, 2, 64])\n",
      "c_k shape: torch.Size([2, 64])\n",
      "LTI:\n",
      "\n",
      "gu_c shape: (2, 1, 64)\n",
      "gu_y shape: torch.Size([2, 3000, 1])\n",
      "y shape: (2, 3000, 1)\n",
      "gu_y shape: torch.Size([2, 1, 3000])\n",
      "y shape: (2, 1, 3000)\n",
      "\n",
      "------------------------------------------------------------\n",
      "---------- The Coefficients Test Passed: False ----------\n",
      "-------------------------------------------------------------\n",
      "\n",
      "\n",
      "\n",
      "-------------------------------------------------------------\n",
      "---------- The Reconstruction Test Passed: False ----------\n",
      "--------------------------------------------------------------\n",
      "\n",
      "end of test for HiPPO-fout model\n"
     ]
    }
   ],
   "source": [
    "test_reconstruction(\n",
    "    the_measure=\"fout\", lambda_n=1.0, alpha=0.5, discretization=0.5, print_all=print_all\n",
    ")"
   ]
  },
  {
   "attachments": {},
   "cell_type": "markdown",
   "metadata": {},
   "source": [
    "#### FouD"
   ]
  },
  {
   "cell_type": "code",
   "execution_count": 71,
   "metadata": {},
   "outputs": [
    {
     "name": "stdout",
     "output_type": "stream",
     "text": [
      "Creating Gu's HiPPO-foud LTI model with 0.5 transform\n",
      "\n",
      "Testing BRYANS HiPPO-foud model\n",
      "Creating HiPPO-foud LTI model with 0.5 transform\n",
      "Bryan's Coeffiecients for 0.5 LTI HiPPO-foud\n",
      "c shape: (2, 1, 64)\n",
      "y shape: (2, 3000, 1)\n",
      "c_s shape: torch.Size([3000, 2, 64])\n",
      "c_k shape: torch.Size([2, 64])\n",
      "LTI:\n",
      "\n",
      "gu_c shape: (2, 1, 64)\n",
      "gu_y shape: torch.Size([2, 3000, 1])\n",
      "y shape: (2, 3000, 1)\n",
      "gu_y shape: torch.Size([2, 1, 3000])\n",
      "y shape: (2, 1, 3000)\n",
      "\n",
      "------------------------------------------------------------\n",
      "---------- The Coefficients Test Passed: False ----------\n",
      "-------------------------------------------------------------\n",
      "\n",
      "\n",
      "\n",
      "-------------------------------------------------------------\n",
      "---------- The Reconstruction Test Passed: False ----------\n",
      "--------------------------------------------------------------\n",
      "\n",
      "end of test for HiPPO-foud model\n"
     ]
    }
   ],
   "source": [
    "test_reconstruction(\n",
    "    the_measure=\"foud\", lambda_n=1.0, alpha=0.5, discretization=0.5, print_all=print_all\n",
    ")"
   ]
  },
  {
   "attachments": {},
   "cell_type": "markdown",
   "metadata": {},
   "source": [
    "### Testing (LTI and LSI) Operators With ZOH Transform"
   ]
  },
  {
   "attachments": {},
   "cell_type": "markdown",
   "metadata": {},
   "source": [
    "#### LegS"
   ]
  },
  {
   "cell_type": "code",
   "execution_count": 72,
   "metadata": {},
   "outputs": [
    {
     "name": "stdout",
     "output_type": "stream",
     "text": [
      "Creating Gu's HiPPO-legs LTI model with 2.0 transform\n",
      "Creating Gu's HiPPO-legs LSI model with 2.0 transform\n",
      "\n",
      "Testing BRYANS HiPPO-legs model\n",
      "Creating HiPPO-legs LTI model with 2.0 transform\n",
      "Creating HiPPO-legs LSI model with 2.0 transform\n",
      "Bryan's Coeffiecients for 2.0 LTI HiPPO-legs\n",
      "c shape: (2, 1, 64)\n",
      "y shape: (2, 3000, 1)\n",
      "c_s shape: torch.Size([3000, 2, 64])\n",
      "c_k shape: torch.Size([2, 64])\n",
      "LTI:\n",
      "\n",
      "gu_c shape: (2, 1, 64)\n",
      "gu_y shape: torch.Size([2, 3000, 1])\n",
      "y shape: (2, 3000, 1)\n",
      "gu_y shape: torch.Size([2, 1, 3000])\n",
      "y shape: (2, 1, 3000)\n",
      "\n",
      "------------------------------------------------------------\n",
      "---------- The Coefficients Test Passed: True ----------\n",
      "-------------------------------------------------------------\n",
      "\n",
      "\n",
      "\n",
      "-------------------------------------------------------------\n",
      "---------- The Reconstruction Test Passed: True ----------\n",
      "--------------------------------------------------------------\n",
      "\n",
      "\n",
      "\n",
      "Bryan's Coeffiecients for 2.0 LSI HiPPO-legs\n",
      "c shape: (2, 3000, 1, 64)\n",
      "y shape: (2, 3000, 3000, 1)\n",
      "c_s shape: torch.Size([3000, 2, 64])\n",
      "c_k shape: torch.Size([2, 64])\n",
      "LSI:\n",
      "\n",
      "gu_c shape: (2, 3000, 1, 64)\n",
      "gu_y shape: torch.Size([3000, 2, 3000, 1])\n",
      "y shape: (2, 3000, 3000, 1)\n",
      "gu_y shape: torch.Size([2, 3000, 1, 3000])\n",
      "y shape: (2, 3000, 1, 3000)\n",
      "\n",
      "------------------------------------------------------------\n",
      "---------- The Coefficients Test Passed: False ----------\n",
      "-------------------------------------------------------------\n",
      "\n",
      "\n",
      "\n",
      "-------------------------------------------------------------\n",
      "---------- The Reconstruction Test Passed: False ----------\n",
      "--------------------------------------------------------------\n",
      "\n",
      "end of test for HiPPO-legs model\n"
     ]
    }
   ],
   "source": [
    "test_reconstruction(\n",
    "    the_measure=\"legs\",\n",
    "    lambda_n=1.0,\n",
    "    alpha=2.0,\n",
    "    discretization=\"zoh\",\n",
    "    print_all=print_all,\n",
    ")"
   ]
  },
  {
   "attachments": {},
   "cell_type": "markdown",
   "metadata": {},
   "source": [
    "#### LegT"
   ]
  },
  {
   "cell_type": "code",
   "execution_count": 73,
   "metadata": {},
   "outputs": [
    {
     "name": "stdout",
     "output_type": "stream",
     "text": [
      "Creating Gu's HiPPO-legt LTI model with 2.0 transform\n",
      "\n",
      "Testing BRYANS HiPPO-legt model\n",
      "Creating HiPPO-legt LTI model with 2.0 transform\n",
      "Bryan's Coeffiecients for 2.0 LTI HiPPO-legt\n",
      "c shape: (2, 1, 64)\n",
      "y shape: (2, 3000, 1)\n",
      "c_s shape: torch.Size([3000, 2, 64])\n",
      "c_k shape: torch.Size([2, 64])\n",
      "LTI:\n",
      "\n",
      "gu_c shape: (2, 1, 64)\n",
      "gu_y shape: torch.Size([2, 3000, 1])\n",
      "y shape: (2, 3000, 1)\n",
      "gu_y shape: torch.Size([2, 1, 3000])\n",
      "y shape: (2, 1, 3000)\n",
      "\n",
      "------------------------------------------------------------\n",
      "---------- The Coefficients Test Passed: True ----------\n",
      "-------------------------------------------------------------\n",
      "\n",
      "\n",
      "\n",
      "-------------------------------------------------------------\n",
      "---------- The Reconstruction Test Passed: True ----------\n",
      "--------------------------------------------------------------\n",
      "\n",
      "end of test for HiPPO-legt model\n"
     ]
    }
   ],
   "source": [
    "test_reconstruction(\n",
    "    the_measure=\"legt\",\n",
    "    lambda_n=1.0,\n",
    "    alpha=2.0,\n",
    "    discretization=\"zoh\",\n",
    "    print_all=print_all,\n",
    ")"
   ]
  },
  {
   "attachments": {},
   "cell_type": "markdown",
   "metadata": {},
   "source": [
    "#### LMU"
   ]
  },
  {
   "cell_type": "code",
   "execution_count": 74,
   "metadata": {},
   "outputs": [
    {
     "name": "stdout",
     "output_type": "stream",
     "text": [
      "Creating Gu's HiPPO-lmu LTI model with 2.0 transform\n",
      "\n",
      "Testing BRYANS HiPPO-lmu model\n",
      "Creating HiPPO-lmu LTI model with 2.0 transform\n",
      "Bryan's Coeffiecients for 2.0 LTI HiPPO-lmu\n",
      "c shape: (2, 1, 64)\n",
      "y shape: (2, 3000, 1)\n",
      "c_s shape: torch.Size([3000, 2, 64])\n",
      "c_k shape: torch.Size([2, 64])\n",
      "LTI:\n",
      "\n",
      "gu_c shape: (2, 1, 64)\n",
      "gu_y shape: torch.Size([2, 3000, 1])\n",
      "y shape: (2, 3000, 1)\n",
      "gu_y shape: torch.Size([2, 1, 3000])\n",
      "y shape: (2, 1, 3000)\n",
      "\n",
      "------------------------------------------------------------\n",
      "---------- The Coefficients Test Passed: True ----------\n",
      "-------------------------------------------------------------\n",
      "\n",
      "\n",
      "\n",
      "-------------------------------------------------------------\n",
      "---------- The Reconstruction Test Passed: True ----------\n",
      "--------------------------------------------------------------\n",
      "\n",
      "end of test for HiPPO-lmu model\n"
     ]
    }
   ],
   "source": [
    "test_reconstruction(\n",
    "    the_measure=\"lmu\",\n",
    "    lambda_n=2.0,\n",
    "    alpha=2.0,\n",
    "    discretization=\"zoh\",\n",
    "    print_all=print_all,\n",
    ")"
   ]
  },
  {
   "attachments": {},
   "cell_type": "markdown",
   "metadata": {},
   "source": [
    "#### LagT"
   ]
  },
  {
   "cell_type": "code",
   "execution_count": 81,
   "metadata": {},
   "outputs": [
    {
     "name": "stdout",
     "output_type": "stream",
     "text": [
      "Creating Gu's HiPPO-lagt LTI model with 2.0 transform\n",
      "\n",
      "Testing BRYANS HiPPO-lagt model\n",
      "Creating HiPPO-lagt LTI model with 2.0 transform\n",
      "Bryan's Coeffiecients for 2.0 LTI HiPPO-lagt\n",
      "c shape: (2, 1, 64)\n",
      "y shape: (2, 3000, 1)\n",
      "c_s shape: torch.Size([3000, 2, 64])\n",
      "c_k shape: torch.Size([2, 64])\n",
      "LTI:\n",
      "\n",
      "gu_c shape: (2, 1, 64)\n",
      "gu_y shape: torch.Size([2, 3000, 1])\n",
      "y shape: (2, 3000, 1)\n",
      "gu_y shape: torch.Size([2, 1, 3000])\n",
      "y shape: (2, 1, 3000)\n",
      "\n",
      "------------------------------------------------------------\n",
      "---------- The Coefficients Test Passed: True ----------\n",
      "-------------------------------------------------------------\n",
      "\n",
      "\n",
      "\n",
      "-------------------------------------------------------------\n",
      "---------- The Reconstruction Test Passed: True ----------\n",
      "--------------------------------------------------------------\n",
      "\n",
      "end of test for HiPPO-lagt model\n"
     ]
    }
   ],
   "source": [
    "test_reconstruction(\n",
    "    the_measure=\"lagt\",\n",
    "    lambda_n=1.0,\n",
    "    alpha=2.0,\n",
    "    discretization=\"zoh\",\n",
    "    print_all=print_all,\n",
    ")"
   ]
  },
  {
   "attachments": {},
   "cell_type": "markdown",
   "metadata": {},
   "source": [
    "#### FRU"
   ]
  },
  {
   "cell_type": "code",
   "execution_count": 80,
   "metadata": {},
   "outputs": [
    {
     "name": "stdout",
     "output_type": "stream",
     "text": [
      "Creating Gu's HiPPO-fru LTI model with 2.0 transform\n",
      "\n",
      "Testing BRYANS HiPPO-fru model\n",
      "Creating HiPPO-fru LTI model with 2.0 transform\n",
      "Bryan's Coeffiecients for 2.0 LTI HiPPO-fru\n",
      "c shape: (2, 1, 64)\n",
      "y shape: (2, 3000, 1)\n",
      "c_s shape: torch.Size([3000, 2, 64])\n",
      "c_k shape: torch.Size([2, 64])\n",
      "LTI:\n",
      "\n",
      "gu_c shape: (2, 1, 64)\n",
      "gu_y shape: torch.Size([2, 3000, 1])\n",
      "y shape: (2, 3000, 1)\n",
      "gu_y shape: torch.Size([2, 1, 3000])\n",
      "y shape: (2, 1, 3000)\n",
      "\n",
      "------------------------------------------------------------\n",
      "---------- The Coefficients Test Passed: True ----------\n",
      "-------------------------------------------------------------\n",
      "\n",
      "\n",
      "\n",
      "-------------------------------------------------------------\n",
      "---------- The Reconstruction Test Passed: True ----------\n",
      "--------------------------------------------------------------\n",
      "\n",
      "end of test for HiPPO-fru model\n"
     ]
    }
   ],
   "source": [
    "test_reconstruction(\n",
    "    the_measure=\"fru\",\n",
    "    lambda_n=1.0,\n",
    "    alpha=2.0,\n",
    "    discretization=\"zoh\",\n",
    "    print_all=print_all,\n",
    ")"
   ]
  },
  {
   "attachments": {},
   "cell_type": "markdown",
   "metadata": {},
   "source": [
    "#### FouT"
   ]
  },
  {
   "cell_type": "code",
   "execution_count": 79,
   "metadata": {},
   "outputs": [
    {
     "name": "stdout",
     "output_type": "stream",
     "text": [
      "Creating Gu's HiPPO-fout LTI model with 2.0 transform\n",
      "\n",
      "Testing BRYANS HiPPO-fout model\n",
      "Creating HiPPO-fout LTI model with 2.0 transform\n",
      "Bryan's Coeffiecients for 2.0 LTI HiPPO-fout\n",
      "c shape: (2, 1, 64)\n",
      "y shape: (2, 3000, 1)\n",
      "c_s shape: torch.Size([3000, 2, 64])\n",
      "c_k shape: torch.Size([2, 64])\n",
      "LTI:\n",
      "\n",
      "gu_c shape: (2, 1, 64)\n",
      "gu_y shape: torch.Size([2, 3000, 1])\n",
      "y shape: (2, 3000, 1)\n",
      "gu_y shape: torch.Size([2, 1, 3000])\n",
      "y shape: (2, 1, 3000)\n",
      "\n",
      "------------------------------------------------------------\n",
      "---------- The Coefficients Test Passed: True ----------\n",
      "-------------------------------------------------------------\n",
      "\n",
      "\n",
      "\n",
      "-------------------------------------------------------------\n",
      "---------- The Reconstruction Test Passed: True ----------\n",
      "--------------------------------------------------------------\n",
      "\n",
      "end of test for HiPPO-fout model\n"
     ]
    }
   ],
   "source": [
    "test_reconstruction(\n",
    "    the_measure=\"fout\",\n",
    "    lambda_n=1.0,\n",
    "    alpha=2.0,\n",
    "    discretization=\"zoh\",\n",
    "    print_all=print_all,\n",
    ")"
   ]
  },
  {
   "attachments": {},
   "cell_type": "markdown",
   "metadata": {},
   "source": [
    "#### FouD"
   ]
  },
  {
   "cell_type": "code",
   "execution_count": 78,
   "metadata": {},
   "outputs": [
    {
     "name": "stdout",
     "output_type": "stream",
     "text": [
      "Creating Gu's HiPPO-foud LTI model with 2.0 transform\n",
      "\n",
      "Testing BRYANS HiPPO-foud model\n",
      "Creating HiPPO-foud LTI model with 2.0 transform\n",
      "Bryan's Coeffiecients for 2.0 LTI HiPPO-foud\n",
      "c shape: (2, 1, 64)\n",
      "y shape: (2, 3000, 1)\n",
      "c_s shape: torch.Size([3000, 2, 64])\n",
      "c_k shape: torch.Size([2, 64])\n",
      "LTI:\n",
      "\n",
      "gu_c shape: (2, 1, 64)\n",
      "gu_y shape: torch.Size([2, 3000, 1])\n",
      "y shape: (2, 3000, 1)\n",
      "gu_y shape: torch.Size([2, 1, 3000])\n",
      "y shape: (2, 1, 3000)\n",
      "\n",
      "------------------------------------------------------------\n",
      "---------- The Coefficients Test Passed: True ----------\n",
      "-------------------------------------------------------------\n",
      "\n",
      "\n",
      "\n",
      "-------------------------------------------------------------\n",
      "---------- The Reconstruction Test Passed: True ----------\n",
      "--------------------------------------------------------------\n",
      "\n",
      "end of test for HiPPO-foud model\n"
     ]
    }
   ],
   "source": [
    "test_reconstruction(\n",
    "    the_measure=\"foud\",\n",
    "    lambda_n=1.0,\n",
    "    alpha=2.0,\n",
    "    discretization=\"zoh\",\n",
    "    print_all=print_all,\n",
    ")"
   ]
  }
 ],
 "metadata": {
  "kernelspec": {
   "display_name": "s4mer-pkg-jZnBSgjq-py3.8",
   "language": "python",
   "name": "python3"
  },
  "language_info": {
   "codemirror_mode": {
    "name": "ipython",
    "version": 3
   },
   "file_extension": ".py",
   "mimetype": "text/x-python",
   "name": "python",
   "nbconvert_exporter": "python",
   "pygments_lexer": "ipython3",
   "version": "3.8.13"
  },
  "orig_nbformat": 4,
  "vscode": {
   "interpreter": {
    "hash": "0a81e05d1d7f7eae781698b7c1b81c0d771335201ebad1d81045cb177cef974b"
   }
  }
 },
 "nbformat": 4,
 "nbformat_minor": 2
}
