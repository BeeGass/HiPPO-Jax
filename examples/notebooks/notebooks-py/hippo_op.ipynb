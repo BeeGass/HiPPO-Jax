{
 "cells": [
  {
   "cell_type": "markdown",
   "metadata": {},
   "source": [
    "# HiPPO Matrices\n",
    "---"
   ]
  },
  {
   "attachments": {},
   "cell_type": "markdown",
   "metadata": {},
   "source": [
    "## Table of Contents\n",
    "* [Loading In Necessary Packages](#load-packages)\n",
    "* [Instantiate The HiPPO Matrix](#instantiate-the-hippo-matrix)\n",
    "    * [Translated Legendre (LegT)](#translated-legendre-legt)\n",
    "        * [LegT](#legt)\n",
    "        * [LMU](#lmu)\n",
    "    * [Translated Laguerre (LagT)](#translated-laguerre-lagt)\n",
    "    * [Scaled Legendre (LegS)](#scaled-legendre-legs)\n",
    "    * [Fourier Basis](#fourier-basis)\n",
    "        * [Fourier Recurrent Unit (FRU)](#fourier-recurrent-unit-fru)\n",
    "        * [Truncated Fourier (FouT)](#truncated-fourier-fout)\n",
    "        * [Fourier With Decay (FourD)](#fourier-with-decay-fourd)\n",
    "* [Gu's Linear Time Invariant (LTI) HiPPO Operator](#gus-hippo-legt-operator)\n",
    "* [Gu's Scale invariant (LSI) HiPPO Operator](#gus-scale-invariant-hippo-legs-operator)\n",
    "* [Implementation Of General HiPPO Operator](#implementation-of-general-hippo-operator)\n",
    "* [Test Generalized Bilinear Transform and Zero Order Hold Matrices](#test-generalized-bilinear-transform-and-zero-order-hold-matrices)\n",
    "    * [Testing Forward Euler on GBT matrices](#testing-forward-euler-transform-for-lti-and-lsi)\n",
    "    * [Testing Backward Euler on GBT matrices](#testing-backward-euler-transform-for-lti-and-lsi-on-legs-matrices)\n",
    "    * [Testing Bidirectional on GBT matrices](#testing-lti-and-lsi-operators-with-bidirectional-transform)\n",
    "    * [Testing ZOH on GBT matrices](#testing-zoh-transform-for-lti-and-lsi-on-legs-matrices)\n",
    "* [Testing HiPPO Operators](#test-hippo-operators)\n",
    "    * [Testing Forward Euler on HiPPO Operators](#testing-lti-and-lsi-operators-with-forward-euler-transform)\n",
    "    * [Testing Backward Euler on HiPPO Operators](#testing-lti-and-lsi-operators-with-backward-euler-transform)\n",
    "    * [Testing Bidirectional on HiPPO Operators](#testing-lti-and-lsi-operators-with-bidirectional-transform)\n",
    "    * [Testing ZOH on HiPPO Operators](#testing-lti-and-lsi-operators-with-zoh-transform)\n",
    "---\n"
   ]
  },
  {
   "cell_type": "markdown",
   "metadata": {},
   "source": [
    "## Load Packages"
   ]
  },
  {
   "cell_type": "code",
   "execution_count": 1,
   "metadata": {},
   "outputs": [
    {
     "name": "stdout",
     "output_type": "stream",
     "text": [
      "module_path: /home/beegass/Documents/Coding/s4mer\n"
     ]
    }
   ],
   "source": [
    "import os\n",
    "import sys\n",
    "\n",
    "module_path = os.path.abspath(os.path.join(\"../../../\"))\n",
    "print(f\"module_path: {module_path}\")\n",
    "if module_path not in sys.path:\n",
    "    print(f\"Adding {module_path} to sys.path\")\n",
    "    sys.path.append(module_path)"
   ]
  },
  {
   "cell_type": "code",
   "execution_count": 2,
   "metadata": {},
   "outputs": [
    {
     "name": "stdout",
     "output_type": "stream",
     "text": [
      "[StreamExecutorGpuDevice(id=0, process_index=0, slice_index=0)]\n",
      "The Device: gpu\n"
     ]
    }
   ],
   "source": [
    "## import packages\n",
    "import math\n",
    "\n",
    "import jax\n",
    "import jax.numpy as jnp\n",
    "import requests\n",
    "from flax import linen as jnn\n",
    "from jax.nn.initializers import lecun_normal, uniform\n",
    "from jax.numpy.linalg import eig, inv, matrix_power\n",
    "from jax.scipy.signal import convolve\n",
    "\n",
    "from jaxtyping import Array, Float, Float16, Float32, Float64\n",
    "from typing import Callable, List, Optional, Tuple, Any, Union\n",
    "\n",
    "from scipy import linalg as la\n",
    "from scipy import signal\n",
    "from scipy import special as ss\n",
    "\n",
    "from src.data.process import moving_window, rolling_window\n",
    "\n",
    "# import modules\n",
    "from src.models.hippo.gu_transition import GuTransMatrix\n",
    "from src.models.hippo.transition import TransMatrix\n",
    "from src.models.hippo.unroll import (\n",
    "    basis,\n",
    "    measure,\n",
    "    variable_unroll_matrix,\n",
    "    variable_unroll_matrix_sequential,\n",
    ")\n",
    "from src.utils.ops import genlaguerre\n",
    "\n",
    "print(jax.devices())\n",
    "print(f\"The Device: {jax.lib.xla_bridge.get_backend().platform}\")"
   ]
  },
  {
   "cell_type": "code",
   "execution_count": 3,
   "metadata": {},
   "outputs": [
    {
     "name": "stdout",
     "output_type": "stream",
     "text": [
      "MPS enabled: False\n"
     ]
    }
   ],
   "source": [
    "from functools import partial\n",
    "from typing import Any\n",
    "\n",
    "import matplotlib.pyplot as plt\n",
    "import numpy as np\n",
    "import torch\n",
    "import torch.nn as nn\n",
    "import torch.nn.functional as F\n",
    "import torch.utils.data as data\n",
    "import functorch\n",
    "from einops import rearrange, reduce, repeat\n",
    "\n",
    "print(f\"MPS enabled: {torch.backends.mps.is_available()}\")"
   ]
  },
  {
   "cell_type": "code",
   "execution_count": 4,
   "metadata": {},
   "outputs": [],
   "source": [
    "torch.set_printoptions(linewidth=150)\n",
    "np.set_printoptions(linewidth=150)\n",
    "jnp.set_printoptions(linewidth=150)"
   ]
  },
  {
   "cell_type": "code",
   "execution_count": 5,
   "metadata": {},
   "outputs": [],
   "source": [
    "seed = 1701\n",
    "key = jax.random.PRNGKey(seed)"
   ]
  },
  {
   "cell_type": "code",
   "execution_count": 6,
   "metadata": {},
   "outputs": [],
   "source": [
    "num_copies = 10\n",
    "subkeys = jax.random.split(key, num=num_copies)\n",
    "key = subkeys[0]"
   ]
  },
  {
   "cell_type": "markdown",
   "metadata": {},
   "source": [
    "## Gu's HiPPO Linear Time Invariant Operator"
   ]
  },
  {
   "cell_type": "code",
   "execution_count": 7,
   "metadata": {},
   "outputs": [],
   "source": [
    "class gu_HiPPO_LTI(nn.Module):\n",
    "    \"\"\"Linear time invariant x' = Ax + Bu\"\"\"\n",
    "\n",
    "    def __init__(\n",
    "        self,\n",
    "        N,\n",
    "        method=\"legt\",\n",
    "        dt=1.0,\n",
    "        T=1.0,\n",
    "        discretization=0.5,\n",
    "        lambda_n=1.0,\n",
    "        alpha=0.0,\n",
    "        beta=1.0,\n",
    "        c=0.0,\n",
    "    ):\n",
    "        \"\"\"\n",
    "        N: the order of the HiPPO projection\n",
    "        dt: discretization step size - should be roughly inverse to the length of the sequence\n",
    "        \"\"\"\n",
    "        super().__init__()\n",
    "\n",
    "        self.method = method\n",
    "        self.N = N\n",
    "        self.dt = dt\n",
    "        self.T = T\n",
    "        self.c = c\n",
    "\n",
    "        matrices = GuTransMatrix(\n",
    "            N=N, measure=method, lambda_n=lambda_n, alpha=alpha, beta=beta\n",
    "        )\n",
    "        A = np.asarray(matrices.A, dtype=np.float32)\n",
    "        B = np.asarray(matrices.B, dtype=np.float32)\n",
    "        # A, B = transition(method, N)\n",
    "        A = A + (np.eye(N) * c)\n",
    "        self.A = A\n",
    "        self.B = B.squeeze(-1)\n",
    "        self.measure_fn = measure(method)\n",
    "\n",
    "        C = np.ones((1, N))\n",
    "        D = np.zeros((1,))\n",
    "        if type(discretization) in [float, int]:\n",
    "            dA, dB, _, _, _ = signal.cont2discrete(\n",
    "                (A, B, C, D), dt=dt, method=\"gbt\", alpha=discretization\n",
    "            )\n",
    "        else:\n",
    "            dA, dB, _, _, _ = signal.cont2discrete((A, B, C, D), dt=dt, method=\"zoh\")\n",
    "\n",
    "        dB = dB.squeeze(-1)\n",
    "\n",
    "        self.dA = torch.Tensor(dA.copy())  # (N, N)\n",
    "        self.dB = torch.Tensor(dB.copy())  # (N, )\n",
    "\n",
    "        self.vals = np.arange(0.0, T, dt)\n",
    "        self.eval_matrix = basis(self.method, self.N, self.vals, c=self.c)  # (T/dt, N)\n",
    "        self.measure = measure(self.method)(self.vals)\n",
    "\n",
    "    def forward(self, inputs, fast=True):\n",
    "        \"\"\"\n",
    "        inputs : (length, ...)\n",
    "        output : (length, ..., N) where N is the order of the HiPPO projection\n",
    "        \"\"\"\n",
    "\n",
    "        inputs = inputs.unsqueeze(-1)\n",
    "        u = inputs * self.dB  # (length, ..., N)\n",
    "\n",
    "        if fast:\n",
    "            dA = repeat(self.dA, \"m n -> l m n\", l=u.size(0))\n",
    "            return variable_unroll_matrix(dA, u)\n",
    "\n",
    "        c = torch.zeros(u.shape[1:]).to(inputs)\n",
    "        cs = []\n",
    "        for f in inputs:\n",
    "\n",
    "            batched_linear = functorch.vmap(F.linear, in_dims=(0, None))\n",
    "            batched_hadamard = functorch.vmap(torch.mul, in_dims=(None, 0))\n",
    "\n",
    "            part1 = batched_linear(c, self.dA)\n",
    "            part2 = batched_hadamard(self.dB, f)\n",
    "\n",
    "            c = part1 + part2\n",
    "\n",
    "            cs.append(c)\n",
    "        return torch.stack(cs, dim=0), c\n",
    "\n",
    "    def reconstruct(self, c, evals=None):\n",
    "        \"\"\"\n",
    "        c: (..., N,) HiPPO coefficients (same as x(t) in S4 notation)\n",
    "        output: (..., L,)\n",
    "        \"\"\"\n",
    "        if evals is not None:\n",
    "            eval_matrix = basis(self.method, self.N, evals)\n",
    "        else:\n",
    "            eval_matrix = self.eval_matrix\n",
    "\n",
    "        m = self.measure[self.measure != 0.0]\n",
    "\n",
    "        c = torch.moveaxis(c, 1, 2)\n",
    "        batched_matmul = functorch.vmap(torch.matmul, in_dims=(None, 0))\n",
    "        y = batched_matmul(eval_matrix.to(c), c)\n",
    "\n",
    "        return y"
   ]
  },
  {
   "cell_type": "markdown",
   "metadata": {},
   "source": [
    "## Navigation To Table Of Contents\n",
    "---\n",
    "* [Table Of Contents](#table-of-contents)\n",
    "* [Loading In Necessary Packages](#load-packages)\n",
    "* [Instantiate The HiPPO Matrix](#instantiate-the-hippo-matrix)\n",
    "* [Gu's Linear Time Invariant (LTI) HiPPO Operator](#gus-hippo-legt-operator)\n",
    "* [Gu's Scale invariant (LSI) HiPPO Operator](#gus-scale-invariant-hippo-legs-operator)\n",
    "* [Implementation Of General HiPPO Operator](#implementation-of-general-hippo-operator)\n",
    "* [Test Generalized Bilinear Transform and Zero Order Hold Matrices](#test-generalized-bilinear-transform-and-zero-order-hold-matrices)\n",
    "* [Testing HiPPO Operators](#test-hippo-operators)\n",
    "---"
   ]
  },
  {
   "cell_type": "markdown",
   "metadata": {},
   "source": [
    "## Gu's Scale invariant HiPPO LegS Operator"
   ]
  },
  {
   "cell_type": "code",
   "execution_count": 8,
   "metadata": {},
   "outputs": [],
   "source": [
    "class gu_HiPPO_LSI(nn.Module):\n",
    "    \"\"\"Vanilla HiPPO-LegS model (scale invariant instead of time invariant)\"\"\"\n",
    "\n",
    "    def __init__(\n",
    "        self,\n",
    "        N,\n",
    "        method=\"legs\",\n",
    "        max_length=1024,\n",
    "        discretization=0.5,\n",
    "        lambda_n=1.0,\n",
    "        alpha=0.0,\n",
    "        beta=1.0,\n",
    "    ):\n",
    "        \"\"\"\n",
    "        max_length: maximum sequence length\n",
    "        \"\"\"\n",
    "        super().__init__()\n",
    "        self.N = N\n",
    "        matrices = GuTransMatrix(\n",
    "            N=N, measure=method, lambda_n=lambda_n, alpha=alpha, beta=beta\n",
    "        )\n",
    "        A = np.asarray(matrices.A, dtype=np.float32)\n",
    "        B = np.asarray(matrices.B, dtype=np.float32)\n",
    "        # A, B = transition(method, N)\n",
    "        B = B.squeeze(-1)\n",
    "        A_stacked = np.empty((max_length, N, N), dtype=A.dtype)\n",
    "        B_stacked = np.empty((max_length, N), dtype=B.dtype)\n",
    "        for t in range(1, max_length + 1):\n",
    "            At = A / t\n",
    "            Bt = B / t\n",
    "            if discretization == 0.0:  # forward\n",
    "                A_stacked[t - 1] = np.eye(N) + At\n",
    "                B_stacked[t - 1] = Bt\n",
    "            elif discretization == 1.0:  # backward\n",
    "                A_stacked[t - 1] = la.solve_triangular(\n",
    "                    np.eye(N) - At, np.eye(N), lower=True\n",
    "                )\n",
    "                B_stacked[t - 1] = la.solve_triangular(np.eye(N) - At, Bt, lower=True)\n",
    "            elif discretization == 0.5:  # bilinear\n",
    "                # A_stacked[t - 1] = la.solve_triangular(\n",
    "                #     np.eye(N) - At / 2, np.eye(N) + At / 2, lower=True\n",
    "                # )\n",
    "                # B_stacked[t - 1] = la.solve_triangular(\n",
    "                #     np.eye(N) - At / 2, Bt, lower=True\n",
    "                # )\n",
    "                alpha = 0.5\n",
    "                A_stacked[t - 1] = np.linalg.lstsq(\n",
    "                    np.eye(N) - (At * alpha), np.eye(N) + (At * alpha), rcond=None\n",
    "                )[\n",
    "                    0\n",
    "                ]  # TODO: Referencing this: https://stackoverflow.com/questions/64527098/numpy-linalg-linalgerror-singular-matrix-error-when-trying-to-solve\n",
    "                B_stacked[t - 1] = np.linalg.lstsq(\n",
    "                    np.eye(N) - (At * alpha), Bt, rcond=None\n",
    "                )[0]\n",
    "            else:  # ZOH\n",
    "                A_stacked[t - 1] = la.expm(A * (math.log(t + 1) - math.log(t)))\n",
    "                # A_stacked[t - 1] = la.expm(At)\n",
    "                B_stacked[t - 1] = la.solve_triangular(\n",
    "                    A, A_stacked[t - 1] @ B - B, lower=True\n",
    "                )\n",
    "\n",
    "                # A_stacked[t - 1] = la.expm(At)\n",
    "                # B_stacked[t - 1] = la.inv(A) @ (la.expm(At) - np.eye(A.shape[0])) @ B\n",
    "\n",
    "        # self.register_buffer('A_stacked', torch.Tensor(A_stacked)) # (max_length, N, N)\n",
    "        # self.register_buffer('B_stacked', torch.Tensor(B_stacked)) # (max_length, N)\n",
    "\n",
    "        self.A_stacked = torch.Tensor(A_stacked.copy())  # (max_length, N, N)\n",
    "        self.B_stacked = torch.Tensor(B_stacked.copy())  # (max_length, N)\n",
    "\n",
    "        vals = np.linspace(0.0, 1.0, max_length)\n",
    "        self.eval_matrix = torch.from_numpy(\n",
    "            np.asarray(\n",
    "                ((B[:, None] * ss.eval_legendre(np.arange(N)[:, None], 2 * vals - 1)).T)\n",
    "            )\n",
    "        )\n",
    "\n",
    "    def forward(self, inputs, fast=True):\n",
    "        \"\"\"\n",
    "        inputs : (length, ...)\n",
    "        output : (length, ..., N) where N is the order of the HiPPO projection\n",
    "        \"\"\"\n",
    "\n",
    "        L = inputs.shape[0]\n",
    "\n",
    "        inputs = inputs.unsqueeze(-1)\n",
    "        u = torch.transpose(inputs, 0, -2)\n",
    "        u = u * self.B_stacked[:L]\n",
    "        # print(f\"Gu - u * self.B_stacked[:L]: {u}\")\n",
    "        u = torch.transpose(u, 0, -2)  # (length, ..., N)\n",
    "\n",
    "        if fast:\n",
    "            result = variable_unroll_matrix(self.A_stacked[:L], u)\n",
    "            return result\n",
    "\n",
    "        c = torch.zeros(u.shape[1:]).to(inputs)\n",
    "        cs = []\n",
    "        for t, f in enumerate(inputs):\n",
    "\n",
    "            batched_linear = functorch.vmap(F.linear, in_dims=(0, None))\n",
    "            batched_hadamard = functorch.vmap(torch.mul, in_dims=(None, 0))\n",
    "\n",
    "            part1 = batched_linear(c, self.A_stacked[t])\n",
    "            part2 = batched_hadamard(self.B_stacked[t], f)\n",
    "\n",
    "            c = part1 + part2\n",
    "\n",
    "            cs.append(c)\n",
    "        return torch.stack(cs, dim=0), c\n",
    "\n",
    "    def reconstruct(self, c):\n",
    "\n",
    "        c = torch.moveaxis(c, 1, 2)\n",
    "        batched_matmul = functorch.vmap(torch.matmul, in_dims=(None, 0))\n",
    "        y = batched_matmul(self.eval_matrix.to(c), c)\n",
    "\n",
    "        return y"
   ]
  },
  {
   "cell_type": "markdown",
   "metadata": {},
   "source": [
    "## Navigation To Table Of Contents\n",
    "---\n",
    "* [Table Of Contents](#table-of-contents)\n",
    "* [Loading In Necessary Packages](#load-packages)\n",
    "* [Instantiate The HiPPO Matrix](#instantiate-the-hippo-matrix)\n",
    "* [Gu's Linear Time Invariant (LTI) HiPPO Operator](#gus-hippo-legt-operator)\n",
    "* [Gu's Scale invariant (LSI) HiPPO Operator](#gus-scale-invariant-hippo-legs-operator)\n",
    "* [Implementation Of General HiPPO Operator](#implementation-of-general-hippo-operator)\n",
    "* [Test Generalized Bilinear Transform and Zero Order Hold Matrices](#test-generalized-bilinear-transform-and-zero-order-hold-matrices)\n",
    "* [Testing HiPPO Operators](#test-hippo-operators)\n",
    "---"
   ]
  },
  {
   "cell_type": "markdown",
   "metadata": {},
   "source": [
    "## Implementation Of General HiPPO Operator"
   ]
  },
  {
   "cell_type": "code",
   "execution_count": 9,
   "metadata": {},
   "outputs": [],
   "source": [
    "class HiPPOLSI(jnn.Module):\n",
    "    \"\"\"\n",
    "    class that constructs a Linearly Scale Invariant (LSI) HiPPO model using the defined measure.\n",
    "\n",
    "    Args:\n",
    "\n",
    "        N (int):\n",
    "            order of the HiPPO projection, aka the number of coefficients to describe the matrix\n",
    "\n",
    "        max_length (int):\n",
    "            maximum sequence length to be input\n",
    "\n",
    "        step_size (float):\n",
    "            step size used for descretization\n",
    "\n",
    "        lambda_n (float):\n",
    "            value associated with the tilt of legt\n",
    "            - 1: tilt on legt\n",
    "            - \\sqrt(2n+1)(-1)^{N}: tilt associated with the legendre memory unit (LMU)\n",
    "\n",
    "        alpha (float):\n",
    "            The order of the Laguerre basis.\n",
    "\n",
    "        beta (float):\n",
    "            The scale of the Laguerre basis.\n",
    "\n",
    "        GBT_alpha (float):\n",
    "            represents which descretization transformation to use based off the alpha value\n",
    "\n",
    "        measure (str):\n",
    "            the measure used to define which way to instantiate the HiPPO matrix\n",
    "\n",
    "        dtype (jnp.float):\n",
    "            represents the float precision of the class\n",
    "\n",
    "        unroll (bool):\n",
    "            shows the rolled out coefficients over time/scale\n",
    "    \"\"\"\n",
    "\n",
    "    N: int\n",
    "    max_length: int = 1024\n",
    "    step_size: float = 1.0\n",
    "    lambda_n: float = 1.0\n",
    "    alpha: float = 0.0\n",
    "    beta: float = 1.0\n",
    "    GBT_alpha: float = 0.5\n",
    "    measure: str = \"legs\"\n",
    "    dtype: Any = jnp.float32\n",
    "    unroll: bool = False\n",
    "\n",
    "    def setup(self):\n",
    "        matrices = TransMatrix(\n",
    "            N=self.N,\n",
    "            measure=self.measure,\n",
    "            lambda_n=self.lambda_n,\n",
    "            alpha=self.alpha,\n",
    "            beta=self.beta,\n",
    "            dtype=self.dtype,\n",
    "        )\n",
    "\n",
    "        self.GBT_A_list, self.GBT_B_list = self.temporal_GBT(\n",
    "            matrices.A, matrices.B, dtype=self.dtype\n",
    "        )\n",
    "\n",
    "        vals = jnp.linspace(0.0, 1.0, self.max_length)\n",
    "        self.eval_matrix = (\n",
    "            (matrices.B)[:, None]\n",
    "            * ss.eval_legendre(jnp.arange(self.N)[:, None], 2 * vals - 1)\n",
    "        ).T\n",
    "\n",
    "    def __call__(\n",
    "        self,\n",
    "        f: Float[Array, \"#batch seq_len input_size\"],\n",
    "        init_state: Optional[Float[Array, \"#batch input_size N\"]] = None,\n",
    "    ) -> Float[Array, \"#batch input_size N\"]:\n",
    "\n",
    "        if init_state is None:\n",
    "            init_state = jnp.zeros((f.shape[0], 1, self.N))\n",
    "\n",
    "        c_k = self.recurrence(\n",
    "            A=self.GBT_A_list,\n",
    "            B=self.GBT_B_list,\n",
    "            c_0=init_state,\n",
    "            f=f,\n",
    "            dtype=self.dtype,\n",
    "        )\n",
    "        c_k = jnp.stack(c_k, axis=0)\n",
    "\n",
    "        return c_k\n",
    "\n",
    "    def temporal_GBT(\n",
    "        self, A: Float[Array, \"N N\"], B: Float[Array, \"N 1\"], dtype=jnp.float32\n",
    "    ) -> Tuple[List[Float[Array, \"N N\"]], List[Float[Array, \"N 1\"]]]:\n",
    "        \"\"\"\n",
    "        Creates the list of discretized GBT matrices for the given step size\n",
    "\n",
    "        Args:\n",
    "            A (jnp.ndarray):\n",
    "                shape: (N, N)\n",
    "                matrix to be discretized\n",
    "\n",
    "            B (jnp.ndarray):\n",
    "                shape: (N, 1)\n",
    "                matrix to be discretized\n",
    "\n",
    "            dtype (jnp.float):\n",
    "                type of float precision to be used\n",
    "\n",
    "        Returns:\n",
    "            GBT_a_list (list):\n",
    "                list of discretized A matrices across all time steps\n",
    "\n",
    "            GBT_b_list (list):\n",
    "                list of discretized B matrices across all time steps\n",
    "        \"\"\"\n",
    "        GBT_a_list = []\n",
    "        GBT_b_list = []\n",
    "        for i in range(1, self.max_length + 1):\n",
    "            GBT_A, GBT_B = self.discretize(\n",
    "                A, B, step=i, alpha=self.GBT_alpha, dtype=dtype\n",
    "            )\n",
    "            GBT_a_list.append(GBT_A)\n",
    "            GBT_b_list.append(GBT_B)\n",
    "\n",
    "        return GBT_a_list, GBT_b_list\n",
    "\n",
    "    def discretize(\n",
    "        self,\n",
    "        A: Float[Array, \"N N\"],\n",
    "        B: Float[Array, \"N 1\"],\n",
    "        step: float,\n",
    "        alpha: Union[float, str] = 0.5,\n",
    "        dtype=jnp.float32,\n",
    "    ) -> Tuple[Float[Array, \"N N\"], Float[Array, \"N 1\"]]:\n",
    "        \"\"\"\n",
    "        Function used for discretizing the HiPPO A and B matrices\n",
    "\n",
    "        Args:\n",
    "            A (jnp.ndarray):\n",
    "                shape: (N, N)\n",
    "                matrix to be discretized\n",
    "\n",
    "            B (jnp.ndarray):\n",
    "                shape: (N, 1)\n",
    "                matrix to be discretized\n",
    "\n",
    "            step (float):\n",
    "                step size used for discretization\n",
    "\n",
    "            alpha (float, optional):\n",
    "                used for determining which generalized bilinear transformation to use\n",
    "                - forward Euler corresponds to α = 0,\n",
    "                - backward Euler corresponds to α = 1,\n",
    "                - bilinear corresponds to α = 0.5,\n",
    "                - Zero-order Hold corresponds to α > 1\n",
    "\n",
    "            dtype (jnp.float):\n",
    "                type of float precision to be used\n",
    "\n",
    "        Returns:\n",
    "            GBT_A (jnp.ndarray):\n",
    "                shape: (N, N)\n",
    "                discretized A matrix based on the given step size and alpha value\n",
    "\n",
    "            GBT_B (jnp.ndarray):\n",
    "                shape: (N, 1)\n",
    "                discretized B matrix based on the given step size and alpha value\n",
    "        \"\"\"\n",
    "        if alpha <= 1:\n",
    "            assert (\n",
    "                alpha == 0.0 or alpha == 0.5 or alpha == 1.0\n",
    "            ), \"alpha must be 0, 0.5, or 1\"\n",
    "        else:\n",
    "            assert (\n",
    "                alpha > 1 or type(alpha) == str\n",
    "            ), \"alpha must be greater than 1 for zero-order hold\"\n",
    "            if type(alpha) == str:\n",
    "                assert (\n",
    "                    alpha == \"zoh\"\n",
    "                ), \"if alpha is a string, it must be defined as 'zoh' for zero-order hold\"\n",
    "\n",
    "        I = jnp.eye(A.shape[0])\n",
    "\n",
    "        if alpha <= 1:  # Generalized Bilinear Transformation\n",
    "            step_size = 1 / step\n",
    "            part1 = I - (step_size * alpha * A)\n",
    "            part2 = I + (step_size * (1 - alpha) * A)\n",
    "\n",
    "            GBT_A = jnp.linalg.lstsq(part1, part2, rcond=None)[0]\n",
    "            GBT_B = jnp.linalg.lstsq(part1, (step_size * B), rcond=None)[0]\n",
    "\n",
    "        else:  # Zero-order Hold\n",
    "            # refer to this for why this works\n",
    "            # https://en.wikipedia.org/wiki/Discretization#:~:text=A%20clever%20trick%20to%20compute%20Ad%20and%20Bd%20in%20one%20step%20is%20by%20utilizing%20the%20following%20property\n",
    "\n",
    "            n = A.shape[0]\n",
    "            b_n = B.shape[1]\n",
    "            A_B_square = jnp.block(\n",
    "                [[A, B], [jnp.zeros((b_n, n)), jnp.zeros((b_n, b_n))]]\n",
    "            )\n",
    "            A_B = jax.scipy.linalg.expm(\n",
    "                A_B_square * (math.log(step + self.step_size) - math.log(step))\n",
    "            )\n",
    "\n",
    "            GBT_A = A_B[0:n, 0:n]\n",
    "            GBT_B = A_B[0:-b_n, -b_n:]\n",
    "\n",
    "        return GBT_A.astype(dtype), GBT_B.astype(dtype)\n",
    "\n",
    "    def recurrence(\n",
    "        self,\n",
    "        A: Float[Array, \"N N\"],\n",
    "        B: Float[Array, \"N 1\"],\n",
    "        c_0: Float[Array, \"#batch input_size N\"],\n",
    "        f: Float[Array, \"#batch seq_len input_size\"],\n",
    "        dtype=jnp.float32,\n",
    "    ) -> Union[\n",
    "        List[Float[Array, \"#batch input_size N\"]], Float[Array, \"#batch input_size N\"]\n",
    "    ]:\n",
    "        \"\"\"\n",
    "        Performs the recurrence of the HiPPO model using the discretized HiPPO A and B matrices as well as the HiPPO operator\n",
    "\n",
    "        Args:\n",
    "            A (jnp.ndarray):\n",
    "                shape: (N, N)\n",
    "                The list of discretized A matrices\n",
    "\n",
    "            B (jnp.ndarray):\n",
    "                shape: (N, 1)\n",
    "                The list of discretized B matrices\n",
    "\n",
    "            c_0 (jnp.ndarray):\n",
    "                shape: (batch size, input length, N)\n",
    "                the initial hidden state (i.e. the initial coefficients)\n",
    "\n",
    "            f (jnp.ndarray):\n",
    "                shape: (sequence length, 1)\n",
    "                the input sequence\n",
    "\n",
    "\n",
    "        Returns:\n",
    "            c_s (list[jnp.ndarray]]):\n",
    "                shape: (batch size, sequence length, input length, N)\n",
    "                List of the vector of estimated coefficients representing the function, f(t), at each time step\n",
    "\n",
    "            c_s[-1] (jnp.ndarray):\n",
    "                shape: (batch size, sequence length, input length, N)\n",
    "                Vector of the estimated coefficients representing the function, f(t), at the last time step\n",
    "        \"\"\"\n",
    "\n",
    "        c_s = []\n",
    "\n",
    "        c_k = c_0.copy()\n",
    "        for i in range(f.shape[1]):\n",
    "            c_k = jax.vmap(self.hippo_op, in_axes=(None, None, 0, 0))(\n",
    "                A[i], B[i], c_k, f[:, i, :]\n",
    "            )\n",
    "            c_s.append((c_k.copy()).astype(dtype))\n",
    "\n",
    "        if self.unroll:\n",
    "            return c_s  # list of hidden states\n",
    "        else:\n",
    "            return c_s[-1]  # last hidden state\n",
    "\n",
    "    def hippo_op(\n",
    "        self,\n",
    "        Ad: Float[Array, \"N N\"],\n",
    "        Bd: Float[Array, \"N 1\"],\n",
    "        c_k_i: Float[Array, \"#batch input_size N\"],\n",
    "        f_k: Float[Array, \"#batch seq_len input_size\"],\n",
    "    ) -> Float[Array, \"#batch input_size N\"]:\n",
    "        \"\"\"\n",
    "        The HiPPO operator, that is used to perform the recurrence of the HiPPO model\n",
    "\n",
    "        Args:\n",
    "            Ad (jnp.ndarray):\n",
    "                shape: (N, N)\n",
    "                discretized A matrix\n",
    "\n",
    "            Bd (jnp.ndarray):\n",
    "                shape: (N, 1)\n",
    "                discretized B matrix\n",
    "\n",
    "            c_k_i:\n",
    "                shape: (input length, N)\n",
    "                previous hidden state\n",
    "\n",
    "            f_k:\n",
    "                shape: (input_size, )\n",
    "                value of input sequence at time step k\n",
    "\n",
    "        Returns:\n",
    "            c_k (jnp.ndarray):\n",
    "                shape: (input length, N)\n",
    "                Vector of the estimated coefficients, given the history of the function/sequence up to time step k.\n",
    "        \"\"\"\n",
    "\n",
    "        c_k = (jnp.dot(c_k_i, Ad.T)) + (Bd.T * f_k)\n",
    "\n",
    "        return c_k\n",
    "\n",
    "    def reconstruct(\n",
    "        self, c: Float[Array, \"#batch input_size N\"]\n",
    "    ) -> Float[Array, \"#batch seq_len input_size\"]:\n",
    "        \"\"\"reconstructs the input sequence from the estimated coefficients and the evaluation matrix\n",
    "\n",
    "        Args:\n",
    "            c (jnp.ndarray):\n",
    "                shape: (batch size, input length, N)\n",
    "                Vector of the estimated coefficients, given the history of the function/sequence\n",
    "\n",
    "        Returns:\n",
    "            y (jnp.ndarray):\n",
    "                shape: (batch size, input length, input size)\n",
    "                The reconstructed input sequence\n",
    "        \"\"\"\n",
    "        eval_matrix = self.eval_matrix\n",
    "        c = jnp.moveaxis(c, 1, 2)\n",
    "        y = jax.vmap(jnp.dot, in_axes=(None, 0))(eval_matrix, c)\n",
    "\n",
    "        return y"
   ]
  },
  {
   "cell_type": "code",
   "execution_count": 10,
   "metadata": {},
   "outputs": [],
   "source": [
    "class HiPPOLTI(jnn.Module):\n",
    "    \"\"\"\n",
    "    class that constructs a Linearly Time Invariant (LTI) HiPPO model using the defined measure.\n",
    "\n",
    "    Args:\n",
    "\n",
    "        N (int):\n",
    "            Order of the HiPPO projection, aka the number of coefficients to describe the matrix\n",
    "\n",
    "        step_size (float):\n",
    "            Step size used for descretization\n",
    "\n",
    "        lambda_n (float):\n",
    "            Value associated with the tilt of legt\n",
    "            - 1: tilt on legt\n",
    "            - \\sqrt(2n+1)(-1)^{N}: tilt associated with the legendre memory unit (LMU)\n",
    "\n",
    "        alpha (float):\n",
    "            The order of the Laguerre basis.\n",
    "\n",
    "        beta (float):\n",
    "            The scale of the Laguerre basis.\n",
    "\n",
    "        GBT_alpha (float):\n",
    "            Represents which descretization transformation to use based off the alpha value\n",
    "\n",
    "        measure (str):\n",
    "            The measure used to define which way to instantiate the HiPPO matrix\n",
    "\n",
    "        basis_size (float):\n",
    "            The intended maximum value of the basis function for the coefficients to be projected onto\n",
    "\n",
    "        dtype (jnp.float):\n",
    "            Represents the float precision of the class\n",
    "\n",
    "        unroll (bool):\n",
    "            Shows the rolled out coefficients over time/scale\n",
    "    \"\"\"\n",
    "\n",
    "    N: int\n",
    "    step_size: float = 1.0\n",
    "    lambda_n: float = 1.0\n",
    "    alpha: float = 0.0\n",
    "    beta: float = 1.0\n",
    "    GBT_alpha: float = 0.5\n",
    "    measure: str = \"legs\"\n",
    "    basis_size: float = 1.0\n",
    "    dtype: Any = jnp.float32\n",
    "    unroll: bool = False\n",
    "\n",
    "    def setup(self):\n",
    "        matrices = TransMatrix(\n",
    "            N=self.N,\n",
    "            measure=self.measure,\n",
    "            lambda_n=self.lambda_n,\n",
    "            alpha=self.alpha,\n",
    "            beta=self.beta,\n",
    "            dtype=self.dtype,\n",
    "        )\n",
    "\n",
    "        self.Ad, self.Bd = self.discretize(\n",
    "            A=matrices.A,\n",
    "            B=matrices.B,\n",
    "            step=self.step_size,\n",
    "            alpha=self.GBT_alpha,\n",
    "            dtype=self.dtype,\n",
    "        )\n",
    "\n",
    "        self.B = matrices.B\n",
    "\n",
    "        self.vals = jnp.arange(0.0, self.basis_size, self.step_size)\n",
    "        self.eval_matrix = self.basis(\n",
    "            B=self.B, method=self.measure, N=self.N, vals=self.vals, c=0.0\n",
    "        )  # (T/dt, N)\n",
    "\n",
    "    def __call__(\n",
    "        self,\n",
    "        f: Float[Array, \"#batch seq_len input_size\"],\n",
    "        init_state: Optional[Float[Array, \"#batch input_size N\"]] = None,\n",
    "    ) -> Float[Array, \"#batch input_size N\"]:\n",
    "\n",
    "        if init_state is None:\n",
    "            init_state = jnp.zeros((f.shape[0], 1, self.N))\n",
    "\n",
    "        c_k = self.recurrence(\n",
    "            Ad=self.Ad,\n",
    "            Bd=self.Bd,\n",
    "            c_0=init_state,\n",
    "            f=f,\n",
    "            dtype=self.dtype,\n",
    "        )\n",
    "\n",
    "        return c_k\n",
    "\n",
    "    def discretize(\n",
    "        self,\n",
    "        A: Float[Array, \"N N\"],\n",
    "        B: Float[Array, \"N 1\"],\n",
    "        step: float,\n",
    "        alpha: Union[float, str] = 0.5,\n",
    "        dtype=jnp.float32,\n",
    "    ) -> Tuple[Float[Array, \"N N\"], Float[Array, \"N 1\"]]:\n",
    "        \"\"\"\n",
    "        Function used for discretizing the HiPPO A and B matrices\n",
    "\n",
    "        Args:\n",
    "            A (jnp.ndarray):\n",
    "                shape: (N, N)\n",
    "                matrix to be discretized\n",
    "\n",
    "            B (jnp.ndarray):\n",
    "                shape: (N, 1)\n",
    "                matrix to be discretized\n",
    "\n",
    "            step (float):\n",
    "                step size used for discretization\n",
    "\n",
    "            alpha (float, optional):\n",
    "                used for determining which generalized bilinear transformation to use\n",
    "                - forward Euler corresponds to α = 0,\n",
    "                - backward Euler corresponds to α = 1,\n",
    "                - bilinear corresponds to α = 0.5,\n",
    "                - Zero-order Hold corresponds to α > 1\n",
    "\n",
    "            dtype (jnp.float):\n",
    "                type of float precision to be used\n",
    "\n",
    "        Returns:\n",
    "            GBT_A (jnp.ndarray):\n",
    "                shape: (N, N)\n",
    "                discretized A matrix based on the given step size and alpha value\n",
    "\n",
    "            GBT_B (jnp.ndarray):\n",
    "                shape: (N, 1)\n",
    "                discretized B matrix based on the given step size and alpha value\n",
    "        \"\"\"\n",
    "        if alpha <= 1:\n",
    "            assert (\n",
    "                alpha == 0.0 or alpha == 0.5 or alpha == 1.0\n",
    "            ), \"alpha must be 0, 0.5, or 1\"\n",
    "        else:\n",
    "            assert (\n",
    "                alpha > 1 or type(alpha) == str\n",
    "            ), \"alpha must be greater than 1 for zero-order hold\"\n",
    "            if type(alpha) == str:\n",
    "                assert (\n",
    "                    alpha == \"zoh\"\n",
    "                ), \"if alpha is a string, it must be defined as 'zoh' for zero-order hold\"\n",
    "\n",
    "        I = jnp.eye(A.shape[0])\n",
    "\n",
    "        if alpha <= 1:  # Generalized Bilinear Transformation\n",
    "            step_size = 1 / step\n",
    "            part1 = I - (step_size * alpha * A)\n",
    "            part2 = I + (step_size * (1 - alpha) * A)\n",
    "\n",
    "            GBT_A = jnp.linalg.lstsq(part1, part2, rcond=None)[0]\n",
    "            GBT_B = jnp.linalg.lstsq(part1, (step_size * B), rcond=None)[0]\n",
    "\n",
    "        else:  # Zero-order Hold\n",
    "            # refer to this for why this works\n",
    "            # https://en.wikipedia.org/wiki/Discretization#:~:text=A%20clever%20trick%20to%20compute%20Ad%20and%20Bd%20in%20one%20step%20is%20by%20utilizing%20the%20following%20property\n",
    "\n",
    "            n = A.shape[0]\n",
    "            b_n = B.shape[1]\n",
    "            A_B_square = jnp.block(\n",
    "                [[A, B], [jnp.zeros((b_n, n)), jnp.zeros((b_n, b_n))]]\n",
    "            )\n",
    "            A_B = jax.scipy.linalg.expm(A_B_square * self.step_size)\n",
    "\n",
    "            GBT_A = A_B[0:n, 0:n]\n",
    "            GBT_B = A_B[0:-b_n, -b_n:]\n",
    "\n",
    "        return GBT_A.astype(dtype), GBT_B.astype(dtype)\n",
    "\n",
    "    def recurrence(\n",
    "        self,\n",
    "        Ad: Float[Array, \"N N\"],\n",
    "        Bd: Float[Array, \"N 1\"],\n",
    "        c_0: Float[Array, \"#batch input_size N\"],\n",
    "        f: Float[Array, \"#batch seq_len input_size\"],\n",
    "        dtype=jnp.float32,\n",
    "    ) -> Union[\n",
    "        List[Float[Array, \"#batch input_size N\"]], Float[Array, \"#batch input_size N\"]\n",
    "    ]:\n",
    "        \"\"\"\n",
    "        Performs the recurrence of the HiPPO model using the discretized HiPPO A and B matrices as well as the HiPPO operator\n",
    "\n",
    "        Args:\n",
    "            A (jnp.ndarray):\n",
    "                shape: (N, N)\n",
    "                The discretized A matrix weighted by the step size\n",
    "\n",
    "            B (jnp.ndarray):\n",
    "                shape: (N, 1)\n",
    "                The discretized A matrix weighted by the step size\n",
    "\n",
    "            c_0 (jnp.ndarray):\n",
    "                shape: (batch size, input length, N)\n",
    "                the initial hidden state (i.e. the initial coefficients)\n",
    "\n",
    "            f (jnp.ndarray):\n",
    "                shape: (sequence length, 1)\n",
    "                the input sequence\n",
    "\n",
    "\n",
    "        Returns:\n",
    "            c_s (list[jnp.ndarray]]):\n",
    "                shape: (batch size, sequence length, input length, N)\n",
    "                List of the vector of estimated coefficients representing the function, f(t), at each time step\n",
    "\n",
    "            c_k (jnp.ndarray):\n",
    "                shape: (batch size, sequence length, input length, N)\n",
    "                Vector of the estimated coefficients representing the function, f(t), at the last time step\n",
    "        \"\"\"\n",
    "\n",
    "        def hippo_op(\n",
    "            c_k_i: Float[Array, \"#batch input_size N\"],\n",
    "            f_k: Float[Array, \"#batch seq_len input_size\"],\n",
    "        ) -> Tuple[\n",
    "            List[Float[Array, \"#batch input_size N\"]],\n",
    "            Float[Array, \"#batch input_size N\"],\n",
    "        ]:\n",
    "            \"\"\"\n",
    "            Get descretized coefficients of the hidden state by applying HiPPO matrix to input sequence, u_k, and previous hidden state, x_k_1.\n",
    "\n",
    "            Args:\n",
    "                c_k_i:\n",
    "                shape: (input length, N)\n",
    "                previous hidden state\n",
    "\n",
    "            f_k:\n",
    "                shape: (input_size, )\n",
    "                value of input sequence at time step k\n",
    "\n",
    "            Returns:\n",
    "                c_k (jnp.ndarray):\n",
    "                    shape: (input length, N)\n",
    "                    Vector of the estimated coefficients, given the history of the function/sequence up to time step k.\n",
    "\n",
    "                c_k (list[jnp.ndarray]):\n",
    "                    shape: (input length, N)\n",
    "                    List of the vector of estimated coefficients representing the function, f(t), at each time step\n",
    "            \"\"\"\n",
    "\n",
    "            c_k = (jnp.dot(c_k_i, Ad.T)) + (Bd.T * f_k)\n",
    "\n",
    "            return c_k, c_k\n",
    "\n",
    "        c_k, c_s = jax.vmap(jax.lax.scan, in_axes=(None, 0, 0))(hippo_op, c_0, f)\n",
    "\n",
    "        if self.unroll:\n",
    "            return c_s\n",
    "        else:\n",
    "            return c_k\n",
    "\n",
    "    def measure_fn(self, method, c=0.0):\n",
    "\n",
    "        if method == \"legs\":\n",
    "            fn = lambda x: jnp.heaviside(x, 1.0) * jnp.exp(-x)\n",
    "        elif method in [\"legt\", \"lmu\"]:\n",
    "            fn = lambda x: jnp.heaviside(x, 0.0) * jnp.heaviside(1.0 - x, 0.0)\n",
    "        elif method == \"lagt\":\n",
    "            fn = lambda x: jnp.heaviside(x, 1.0) * jnp.exp(-x)\n",
    "        elif method in [\"fourier\", \"fru\", \"fout\", \"foud\"]:\n",
    "            fn = lambda x: jnp.heaviside(x, 1.0) * jnp.heaviside(1.0 - x, 1.0)\n",
    "        else:\n",
    "            raise NotImplementedError\n",
    "\n",
    "        fn_tilted = lambda x: jnp.exp(c * x) * fn(x)\n",
    "\n",
    "        return fn_tilted\n",
    "\n",
    "    def basis(\n",
    "        self,\n",
    "        B: Float[Array, \"N 1\"],\n",
    "        method: str,\n",
    "        N: int,\n",
    "        vals: Float[Array, \"1\"],\n",
    "        c: float = 0.0,\n",
    "        truncate_measure: bool = True,\n",
    "    ):\n",
    "        \"\"\"\n",
    "        vals: list of times (forward in time)\n",
    "        returns: shape (T, N) where T is length of vals\n",
    "        \"\"\"\n",
    "\n",
    "        if method == \"legs\":\n",
    "            _vals = jnp.exp(-vals)\n",
    "            eval_matrix = (\n",
    "                B * ss.eval_legendre(jnp.expand_dims(jnp.arange(N), -1), 1 - 2 * _vals)\n",
    "            ).T  # (L, N)\n",
    "\n",
    "        elif method in [\"legt\", \"lmu\"]:\n",
    "            eval_matrix = (B * ss.eval_legendre(jnp.arange(N)[:, None], 2 * vals - 1)).T\n",
    "        elif method == \"lagt\":\n",
    "            vals = vals[::-1]\n",
    "            eval_matrix = (B * ss.eval_genlaguerre(jnp.arange(N)[:, None], 0, vals)).T\n",
    "        elif method in [\"fourier\", \"fru\", \"fout\", \"foud\"]:\n",
    "            cos = 2**0.5 * jnp.cos(\n",
    "                2 * jnp.pi * jnp.arange(N // 2)[:, None] * (vals)\n",
    "            )  # (N/2, T/dt)\n",
    "            sin = 2**0.5 * jnp.sin(\n",
    "                2 * jnp.pi * jnp.arange(N // 2)[:, None] * (vals)\n",
    "            )  # (N/2, T/dt)\n",
    "            cos = cos.at[0].set(cos[0] / 2**0.5)\n",
    "            eval_matrix = jnp.stack([cos.T, sin.T], axis=-1).reshape(-1, N)  # (T/dt, N)\n",
    "        else:\n",
    "            raise NotImplementedError(f\"method {method} not implemented\")\n",
    "\n",
    "        if truncate_measure:\n",
    "            tilting_fn = self.measure_fn(method, c=c)\n",
    "            val = tilting_fn(vals)\n",
    "            eval_matrix = eval_matrix.at[val == 0.0].set(0.0)\n",
    "\n",
    "        p = eval_matrix * jnp.exp(-c * vals)[:, None]  # [::-1, None]\n",
    "\n",
    "        return p\n",
    "\n",
    "    def reconstruct(\n",
    "        self, c: Float[Array, \"#batch input_size N\"], evals=None\n",
    "    ) -> Float[Array, \"#batch seq_len input_size\"]:\n",
    "        \"\"\"reconstructs the input sequence from the estimated coefficients and the evaluation matrix\n",
    "\n",
    "        Args:\n",
    "            c (jnp.ndarray):\n",
    "                shape: (batch size, input length, N)\n",
    "                Vector of the estimated coefficients, given the history of the function/sequence\n",
    "\n",
    "            evals (jnp.ndarray, optional):\n",
    "                shape: ()\n",
    "                Vector of the evaluation points. Defaults to None.\n",
    "\n",
    "        Returns:\n",
    "            y (jnp.ndarray):\n",
    "                shape: (batch size, input length, input size)\n",
    "                The reconstructed input sequence\n",
    "        \"\"\"\n",
    "        if evals is not None:\n",
    "            eval_matrix = self.basis(\n",
    "                B=self.B, method=self.measure, N=self.N, vals=evals\n",
    "            )\n",
    "        else:\n",
    "            eval_matrix = self.eval_matrix\n",
    "\n",
    "        c = jnp.moveaxis(c, 1, 2)\n",
    "        y = jax.vmap(jnp.dot, in_axes=(None, 0))(eval_matrix, c)\n",
    "\n",
    "        return y"
   ]
  },
  {
   "cell_type": "markdown",
   "metadata": {},
   "source": [
    "## Navigation To Table Of Contents\n",
    "---\n",
    "* [Table Of Contents](#table-of-contents)\n",
    "* [Loading In Necessary Packages](#load-packages)\n",
    "* [Instantiate The HiPPO Matrix](#instantiate-the-hippo-matrix)\n",
    "* [Gu's Linear Time Invariant (LTI) HiPPO Operator](#gus-hippo-legt-operator)\n",
    "* [Gu's Scale invariant (LSI) HiPPO Operator](#gus-scale-invariant-hippo-legs-operator)\n",
    "* [Implementation Of General HiPPO Operator](#implementation-of-general-hippo-operator)\n",
    "* [Test Generalized Bilinear Transform and Zero Order Hold Matrices](#test-generalized-bilinear-transform-and-zero-order-hold-matrices)\n",
    "* [Testing HiPPO Operators](#test-hippo-operators)\n",
    "---"
   ]
  },
  {
   "cell_type": "code",
   "execution_count": 12,
   "metadata": {},
   "outputs": [],
   "source": [
    "def random_16_input(key_generator, batch_size=16, data_size=784, input_size=28):\n",
    "    # x = jax.random.randint(key_generator, (batch_size, data_size), 0, 255)\n",
    "    x = jax.random.uniform(key_generator, (batch_size, data_size))\n",
    "    return np.asarray(jax.vmap(moving_window, in_axes=(0, None))(x, input_size))"
   ]
  },
  {
   "cell_type": "markdown",
   "metadata": {},
   "source": [
    "## Test HiPPO Operators"
   ]
  },
  {
   "cell_type": "code",
   "execution_count": 13,
   "metadata": {},
   "outputs": [],
   "source": [
    "def test_hippo_operator(\n",
    "    hippo, gu_hippo, random_input, key, s_or_t=\"lti\", print_all=False\n",
    "):\n",
    "    x_tensor = torch.tensor(random_input, dtype=torch.float32)\n",
    "    x_jnp = jnp.asarray(x_tensor, dtype=jnp.float32)  # convert torch array to jax array\n",
    "\n",
    "    # My Implementation\n",
    "    if print_all:\n",
    "        print(\n",
    "            f\"------------------------------------------------------------------------------------------\"\n",
    "        )\n",
    "        print(\n",
    "            f\"----------------------------My {s_or_t} Implementation Outputs----------------------------\"\n",
    "        )\n",
    "        print(\n",
    "            f\"------------------------------------------------------------------------------------------\"\n",
    "        )\n",
    "    params = hippo.init(key, f=x_jnp)\n",
    "    c_k = hippo.apply(params, f=x_jnp)\n",
    "    if s_or_t == \"lsi\":\n",
    "        c_k = jnp.moveaxis(c_k, 0, 1)\n",
    "\n",
    "    # Gu's HiPPO LegS\n",
    "    if print_all:\n",
    "        print(\n",
    "            f\"------------------------------------------------------------------------------------------\"\n",
    "        )\n",
    "        print(\n",
    "            f\"---------------------------Gu's {s_or_t} Implementation Outputs---------------------------\"\n",
    "        )\n",
    "        print(\n",
    "            f\"------------------------------------------------------------------------------------------\"\n",
    "        )\n",
    "    x_tensor = torch.moveaxis(x_tensor, 0, 1)\n",
    "    GU_cs, GU_c_k = gu_hippo(x_tensor, fast=False)\n",
    "    gu_cs = jnp.asarray(GU_cs, dtype=jnp.float32)  # convert torch array to jax array\n",
    "    gu_cs = jnp.moveaxis(gu_cs, 0, 1)\n",
    "\n",
    "    if print_all:\n",
    "        print(\n",
    "            f\"------------------------------------------------------------------------------\"\n",
    "        )\n",
    "        print(\n",
    "            f\"---------------------------Testing {s_or_t} Outputs---------------------------\"\n",
    "        )\n",
    "        print(\n",
    "            f\"------------------------------------------------------------------------------\"\n",
    "        )\n",
    "        jax.debug.print(f\"inputted jnp-data shape: {x_jnp.shape}\")\n",
    "        jax.debug.print(f\"inputted tensor-data shape: {x_tensor.shape}\")\n",
    "        print(f\"c_k shape: {c_k.shape}\")\n",
    "        print(f\"gu_cs shape: {gu_cs.shape}\")\n",
    "\n",
    "    flag = True\n",
    "    for i in range(c_k.shape[0]):\n",
    "        for j in range(c_k.shape[1]):\n",
    "            if print_all:\n",
    "                print(f\"c_k[{i},{j},:,:]:\\n{c_k[i,j,:,:]}\")\n",
    "                print(f\"gu_cs[{i},{j},:,:]:\\n{gu_cs[i,j,:,:]}\")\n",
    "\n",
    "            check = jnp.allclose(\n",
    "                c_k[i, j, :, :], gu_cs[i, j, :, :], rtol=1e-04, atol=1e-04\n",
    "            )\n",
    "            if check == False:\n",
    "                flag = False\n",
    "    if not print_all:\n",
    "        print(f\"\\n---------------------------------------------\")\n",
    "        print(f\"---------- The Test Passed: {flag} ----------\")\n",
    "        print(f\"---------------------------------------------\\n\")"
   ]
  },
  {
   "cell_type": "code",
   "execution_count": 14,
   "metadata": {},
   "outputs": [],
   "source": [
    "def test_operators(\n",
    "    the_measure=\"legs\", lambda_n=1.0, alpha=0.5, discretization=0.5, print_all=False\n",
    "):\n",
    "    # N = 256\n",
    "    # L = 128\n",
    "\n",
    "    batch_size = 2\n",
    "    data_size = 256\n",
    "    input_size = 1\n",
    "\n",
    "    N = 50\n",
    "    L = data_size\n",
    "\n",
    "    x_jnp = random_16_input(\n",
    "        key_generator=subkeys[4],\n",
    "        batch_size=batch_size,\n",
    "        data_size=data_size,\n",
    "        input_size=input_size,\n",
    "    )\n",
    "    x_np = np.asarray(x_jnp)\n",
    "\n",
    "    x = torch.tensor(x_np, dtype=torch.float32)\n",
    "\n",
    "    # ----------------------------------------------------------------------------------\n",
    "    # ------------------------------ Instantiate Gu's HiPPOs ---------------------------\n",
    "    # ----------------------------------------------------------------------------------\n",
    "\n",
    "    print(f\"Creating Gu's HiPPO-{the_measure} LTI model with {alpha} transform\")\n",
    "    gu_hippo_lti = gu_HiPPO_LTI(\n",
    "        N=N,\n",
    "        method=the_measure,\n",
    "        dt=1.0,\n",
    "        T=L,\n",
    "        discretization=discretization,\n",
    "        lambda_n=lambda_n,\n",
    "        alpha=0.0,\n",
    "        beta=1.0,\n",
    "        c=0.0,\n",
    "    )  # The Gu's\n",
    "\n",
    "    if the_measure == \"legs\":\n",
    "        print(f\"Creating Gu's HiPPO-{the_measure} LSI model with {alpha} transform\")\n",
    "        gu_hippo_lsi = gu_HiPPO_LSI(\n",
    "            N=N,\n",
    "            method=\"legs\",\n",
    "            max_length=L,\n",
    "            discretization=discretization,\n",
    "            lambda_n=lambda_n,\n",
    "            alpha=0.0,\n",
    "            beta=1.0,\n",
    "        )  # The Gu's\n",
    "\n",
    "    # ----------------------------------------------------------------------------------\n",
    "    # ------------------------------ Instantiate My HiPPOs -----------------------------\n",
    "    # ----------------------------------------------------------------------------------\n",
    "    print(f\"\\nTesting BRYANS HiPPO-{the_measure} model\")\n",
    "\n",
    "    matrices = TransMatrix(\n",
    "        N=N,\n",
    "        measure=the_measure,\n",
    "        lambda_n=lambda_n,\n",
    "        alpha=0.0,\n",
    "        beta=1.0,\n",
    "        dtype=jnp.float32,\n",
    "    )\n",
    "\n",
    "    A = matrices.A\n",
    "    B = matrices.B\n",
    "\n",
    "    print(f\"Creating HiPPO-{the_measure} LTI model with {alpha} transform\")\n",
    "    hippo_lti = HiPPOLTI(\n",
    "        N=N,\n",
    "        step_size=1.0,\n",
    "        lambda_n=lambda_n,\n",
    "        alpha=0.0,\n",
    "        beta=1.0,\n",
    "        GBT_alpha=alpha,\n",
    "        measure=the_measure,\n",
    "        basis_size=L,\n",
    "        dtype=jnp.float32,\n",
    "        unroll=True,\n",
    "    )  # Bryan's\n",
    "\n",
    "    if the_measure == \"legs\":\n",
    "        print(f\"Creating HiPPO-{the_measure} LSI model with {alpha} transform\")\n",
    "        hippo_lsi = HiPPOLSI(\n",
    "            N=N,\n",
    "            max_length=L,\n",
    "            step_size=1.0,\n",
    "            lambda_n=lambda_n,\n",
    "            alpha=0.0,\n",
    "            beta=1.0,\n",
    "            GBT_alpha=alpha,\n",
    "            measure=the_measure,\n",
    "            dtype=jnp.float32,\n",
    "            unroll=True,\n",
    "        )  # Bryan's\n",
    "\n",
    "    # ----------------------------------------------------------------------------------\n",
    "    # ------------------------------ Test HiPPO Operators ------------------------------\n",
    "    # ----------------------------------------------------------------------------------\n",
    "\n",
    "    print(f\"Bryan's Coeffiecients for {alpha} LTI HiPPO-{the_measure}\")\n",
    "\n",
    "    test_hippo_operator(\n",
    "        hippo=hippo_lti,\n",
    "        gu_hippo=gu_hippo_lti,\n",
    "        random_input=x_np,\n",
    "        key=subkeys[5],\n",
    "        s_or_t=\"lti\",\n",
    "        print_all=print_all,\n",
    "    )\n",
    "\n",
    "    if the_measure == \"legs\":\n",
    "        print(f\"\\n\\nBryan's Coeffiecients for {alpha} LSI HiPPO-{the_measure}\")\n",
    "\n",
    "        test_hippo_operator(\n",
    "            hippo=hippo_lsi,\n",
    "            gu_hippo=gu_hippo_lsi,\n",
    "            random_input=x_np,\n",
    "            key=subkeys[6],\n",
    "            s_or_t=\"lsi\",\n",
    "            print_all=print_all,\n",
    "        )\n",
    "\n",
    "    print(f\"end of test for HiPPO-{the_measure} model\")"
   ]
  },
  {
   "cell_type": "markdown",
   "metadata": {},
   "source": [
    "## Navigation To Table Of Contents\n",
    "---\n",
    "* [Table Of Contents](#table-of-contents)\n",
    "* [Loading In Necessary Packages](#load-packages)\n",
    "* [Instantiate The HiPPO Matrix](#instantiate-the-hippo-matrix)\n",
    "* [Gu's Linear Time Invariant (LTI) HiPPO Operator](#gus-hippo-legt-operator)\n",
    "* [Gu's Scale invariant (LSI) HiPPO Operator](#gus-scale-invariant-hippo-legs-operator)\n",
    "* [Implementation Of General HiPPO Operator](#implementation-of-general-hippo-operator)\n",
    "* [Test Generalized Bilinear Transform and Zero Order Hold Matrices](#test-generalized-bilinear-transform-and-zero-order-hold-matrices)\n",
    "* [Testing HiPPO Operators](#test-hippo-operators)\n",
    "---"
   ]
  },
  {
   "cell_type": "code",
   "execution_count": 15,
   "metadata": {},
   "outputs": [],
   "source": [
    "print_all = False"
   ]
  },
  {
   "attachments": {},
   "cell_type": "markdown",
   "metadata": {},
   "source": [
    "### Testing (LTI and LSI) Operators With Forward Euler Transform"
   ]
  },
  {
   "attachments": {},
   "cell_type": "markdown",
   "metadata": {},
   "source": [
    "#### LegS"
   ]
  },
  {
   "cell_type": "code",
   "execution_count": 16,
   "metadata": {},
   "outputs": [
    {
     "name": "stdout",
     "output_type": "stream",
     "text": [
      "Creating Gu's HiPPO-legs LTI model with 0.0 transform\n",
      "gu's vals: (256,)\n",
      "gu's vals: (256,)\n",
      "Creating Gu's HiPPO-legs LSI model with 0.0 transform\n",
      "\n",
      "Testing BRYANS HiPPO-legs model\n",
      "Creating HiPPO-legs LTI model with 0.0 transform\n",
      "Creating HiPPO-legs LSI model with 0.0 transform\n",
      "Bryan's Coeffiecients for 0.0 LTI HiPPO-legs\n",
      "\n",
      "---------------------------------------------\n",
      "---------- The Test Passed: False ----------\n",
      "---------------------------------------------\n",
      "\n",
      "\n",
      "\n",
      "Bryan's Coeffiecients for 0.0 LSI HiPPO-legs\n",
      "\n",
      "---------------------------------------------\n",
      "---------- The Test Passed: False ----------\n",
      "---------------------------------------------\n",
      "\n",
      "end of test for HiPPO-legs model\n"
     ]
    }
   ],
   "source": [
    "test_operators(\n",
    "    the_measure=\"legs\", lambda_n=1.0, alpha=0.0, discretization=0.0, print_all=print_all\n",
    ")"
   ]
  },
  {
   "attachments": {},
   "cell_type": "markdown",
   "metadata": {},
   "source": [
    "#### LegT"
   ]
  },
  {
   "cell_type": "code",
   "execution_count": 17,
   "metadata": {},
   "outputs": [
    {
     "name": "stdout",
     "output_type": "stream",
     "text": [
      "Creating Gu's HiPPO-legt LTI model with 0.0 transform\n",
      "\n",
      "Testing BRYANS HiPPO-legt model\n",
      "Creating HiPPO-legt LTI model with 0.0 transform\n",
      "Bryan's Coeffiecients for 0.0 LTI HiPPO-legt\n"
     ]
    },
    {
     "name": "stderr",
     "output_type": "stream",
     "text": [
      "/home/beegass/.cache/pypoetry/virtualenvs/s4mer-pkg-jZnBSgjq-py3.8/lib/python3.8/site-packages/jax/_src/numpy/lax_numpy.py:4970: RuntimeWarning: overflow encountered in cast\n",
      "  return binary_op(*args)\n"
     ]
    },
    {
     "name": "stdout",
     "output_type": "stream",
     "text": [
      "\n",
      "---------------------------------------------\n",
      "---------- The Test Passed: False ----------\n",
      "---------------------------------------------\n",
      "\n",
      "end of test for HiPPO-legt model\n"
     ]
    }
   ],
   "source": [
    "test_operators(\n",
    "    the_measure=\"legt\", lambda_n=1.0, alpha=0.0, discretization=0.0, print_all=print_all\n",
    ")"
   ]
  },
  {
   "attachments": {},
   "cell_type": "markdown",
   "metadata": {},
   "source": [
    "#### LMU"
   ]
  },
  {
   "cell_type": "code",
   "execution_count": 18,
   "metadata": {},
   "outputs": [
    {
     "name": "stdout",
     "output_type": "stream",
     "text": [
      "Creating Gu's HiPPO-lmu LTI model with 0.0 transform\n",
      "\n",
      "Testing BRYANS HiPPO-lmu model\n",
      "Creating HiPPO-lmu LTI model with 0.0 transform\n",
      "Bryan's Coeffiecients for 0.0 LTI HiPPO-lmu\n",
      "\n",
      "---------------------------------------------\n",
      "---------- The Test Passed: False ----------\n",
      "---------------------------------------------\n",
      "\n",
      "end of test for HiPPO-lmu model\n"
     ]
    }
   ],
   "source": [
    "test_operators(\n",
    "    the_measure=\"lmu\", lambda_n=2.0, alpha=0.0, discretization=0.0, print_all=print_all\n",
    ")"
   ]
  },
  {
   "attachments": {},
   "cell_type": "markdown",
   "metadata": {},
   "source": [
    "#### LagT"
   ]
  },
  {
   "cell_type": "code",
   "execution_count": 19,
   "metadata": {},
   "outputs": [
    {
     "name": "stdout",
     "output_type": "stream",
     "text": [
      "Creating Gu's HiPPO-lagt LTI model with 0.0 transform\n",
      "\n",
      "Testing BRYANS HiPPO-lagt model\n",
      "Creating HiPPO-lagt LTI model with 0.0 transform\n",
      "Bryan's Coeffiecients for 0.0 LTI HiPPO-lagt\n",
      "\n",
      "---------------------------------------------\n",
      "---------- The Test Passed: False ----------\n",
      "---------------------------------------------\n",
      "\n",
      "end of test for HiPPO-lagt model\n"
     ]
    }
   ],
   "source": [
    "test_operators(\n",
    "    the_measure=\"lagt\", lambda_n=1.0, alpha=0.0, discretization=0.0, print_all=print_all\n",
    ")"
   ]
  },
  {
   "attachments": {},
   "cell_type": "markdown",
   "metadata": {},
   "source": [
    "#### FRU"
   ]
  },
  {
   "cell_type": "code",
   "execution_count": 20,
   "metadata": {},
   "outputs": [
    {
     "name": "stdout",
     "output_type": "stream",
     "text": [
      "Creating Gu's HiPPO-fru LTI model with 0.0 transform\n",
      "\n",
      "Testing BRYANS HiPPO-fru model\n",
      "Creating HiPPO-fru LTI model with 0.0 transform\n",
      "Bryan's Coeffiecients for 0.0 LTI HiPPO-fru\n",
      "\n",
      "---------------------------------------------\n",
      "---------- The Test Passed: False ----------\n",
      "---------------------------------------------\n",
      "\n",
      "end of test for HiPPO-fru model\n"
     ]
    }
   ],
   "source": [
    "test_operators(\n",
    "    the_measure=\"fru\", lambda_n=1.0, alpha=0.0, discretization=0.0, print_all=print_all\n",
    ")"
   ]
  },
  {
   "attachments": {},
   "cell_type": "markdown",
   "metadata": {},
   "source": [
    "#### FouT"
   ]
  },
  {
   "cell_type": "code",
   "execution_count": 21,
   "metadata": {},
   "outputs": [
    {
     "name": "stdout",
     "output_type": "stream",
     "text": [
      "Creating Gu's HiPPO-fout LTI model with 0.0 transform\n",
      "\n",
      "Testing BRYANS HiPPO-fout model\n",
      "Creating HiPPO-fout LTI model with 0.0 transform\n",
      "Bryan's Coeffiecients for 0.0 LTI HiPPO-fout\n",
      "\n",
      "---------------------------------------------\n",
      "---------- The Test Passed: False ----------\n",
      "---------------------------------------------\n",
      "\n",
      "end of test for HiPPO-fout model\n"
     ]
    }
   ],
   "source": [
    "test_operators(\n",
    "    the_measure=\"fout\", lambda_n=1.0, alpha=0.0, discretization=0.0, print_all=print_all\n",
    ")"
   ]
  },
  {
   "attachments": {},
   "cell_type": "markdown",
   "metadata": {},
   "source": [
    "#### FouD"
   ]
  },
  {
   "cell_type": "code",
   "execution_count": 22,
   "metadata": {},
   "outputs": [
    {
     "name": "stdout",
     "output_type": "stream",
     "text": [
      "Creating Gu's HiPPO-foud LTI model with 0.0 transform\n",
      "\n",
      "Testing BRYANS HiPPO-foud model\n",
      "Creating HiPPO-foud LTI model with 0.0 transform\n",
      "Bryan's Coeffiecients for 0.0 LTI HiPPO-foud\n",
      "\n",
      "---------------------------------------------\n",
      "---------- The Test Passed: False ----------\n",
      "---------------------------------------------\n",
      "\n",
      "end of test for HiPPO-foud model\n"
     ]
    }
   ],
   "source": [
    "test_operators(\n",
    "    the_measure=\"foud\", lambda_n=1.0, alpha=0.0, discretization=0.0, print_all=print_all\n",
    ")"
   ]
  },
  {
   "attachments": {},
   "cell_type": "markdown",
   "metadata": {},
   "source": [
    "### Testing (LTI and LSI) Operators With Backward Euler Transform"
   ]
  },
  {
   "attachments": {},
   "cell_type": "markdown",
   "metadata": {},
   "source": [
    "#### LegS"
   ]
  },
  {
   "cell_type": "code",
   "execution_count": 23,
   "metadata": {},
   "outputs": [
    {
     "name": "stdout",
     "output_type": "stream",
     "text": [
      "Creating Gu's HiPPO-legs LTI model with 1.0 transform\n",
      "gu's vals: (256,)\n",
      "gu's vals: (256,)\n",
      "Creating Gu's HiPPO-legs LSI model with 1.0 transform\n",
      "\n",
      "Testing BRYANS HiPPO-legs model\n",
      "Creating HiPPO-legs LTI model with 1.0 transform\n",
      "Creating HiPPO-legs LSI model with 1.0 transform\n",
      "Bryan's Coeffiecients for 1.0 LTI HiPPO-legs\n",
      "\n",
      "---------------------------------------------\n",
      "---------- The Test Passed: True ----------\n",
      "---------------------------------------------\n",
      "\n",
      "\n",
      "\n",
      "Bryan's Coeffiecients for 1.0 LSI HiPPO-legs\n",
      "\n",
      "---------------------------------------------\n",
      "---------- The Test Passed: True ----------\n",
      "---------------------------------------------\n",
      "\n",
      "end of test for HiPPO-legs model\n"
     ]
    }
   ],
   "source": [
    "test_operators(\n",
    "    the_measure=\"legs\", lambda_n=1.0, alpha=1.0, discretization=1.0, print_all=print_all\n",
    ")"
   ]
  },
  {
   "attachments": {},
   "cell_type": "markdown",
   "metadata": {},
   "source": [
    "#### LegT"
   ]
  },
  {
   "cell_type": "code",
   "execution_count": 24,
   "metadata": {},
   "outputs": [
    {
     "name": "stdout",
     "output_type": "stream",
     "text": [
      "Creating Gu's HiPPO-legt LTI model with 1.0 transform\n",
      "\n",
      "Testing BRYANS HiPPO-legt model\n",
      "Creating HiPPO-legt LTI model with 1.0 transform\n",
      "Bryan's Coeffiecients for 1.0 LTI HiPPO-legt\n",
      "\n",
      "---------------------------------------------\n",
      "---------- The Test Passed: True ----------\n",
      "---------------------------------------------\n",
      "\n",
      "end of test for HiPPO-legt model\n"
     ]
    }
   ],
   "source": [
    "test_operators(\n",
    "    the_measure=\"legt\", lambda_n=1.0, alpha=1.0, discretization=1.0, print_all=print_all\n",
    ")"
   ]
  },
  {
   "attachments": {},
   "cell_type": "markdown",
   "metadata": {},
   "source": [
    "#### LMU"
   ]
  },
  {
   "cell_type": "code",
   "execution_count": 25,
   "metadata": {},
   "outputs": [
    {
     "name": "stdout",
     "output_type": "stream",
     "text": [
      "Creating Gu's HiPPO-lmu LTI model with 1.0 transform\n",
      "\n",
      "Testing BRYANS HiPPO-lmu model\n",
      "Creating HiPPO-lmu LTI model with 1.0 transform\n",
      "Bryan's Coeffiecients for 1.0 LTI HiPPO-lmu\n",
      "\n",
      "---------------------------------------------\n",
      "---------- The Test Passed: True ----------\n",
      "---------------------------------------------\n",
      "\n",
      "end of test for HiPPO-lmu model\n"
     ]
    }
   ],
   "source": [
    "test_operators(\n",
    "    the_measure=\"lmu\", lambda_n=2.0, alpha=1.0, discretization=1.0, print_all=print_all\n",
    ")"
   ]
  },
  {
   "attachments": {},
   "cell_type": "markdown",
   "metadata": {},
   "source": [
    "#### LagT"
   ]
  },
  {
   "cell_type": "code",
   "execution_count": 26,
   "metadata": {},
   "outputs": [
    {
     "name": "stdout",
     "output_type": "stream",
     "text": [
      "Creating Gu's HiPPO-lagt LTI model with 1.0 transform\n",
      "\n",
      "Testing BRYANS HiPPO-lagt model\n",
      "Creating HiPPO-lagt LTI model with 1.0 transform\n",
      "Bryan's Coeffiecients for 1.0 LTI HiPPO-lagt\n",
      "\n",
      "---------------------------------------------\n",
      "---------- The Test Passed: True ----------\n",
      "---------------------------------------------\n",
      "\n",
      "end of test for HiPPO-lagt model\n"
     ]
    }
   ],
   "source": [
    "test_operators(\n",
    "    the_measure=\"lagt\", lambda_n=1.0, alpha=1.0, discretization=1.0, print_all=print_all\n",
    ")"
   ]
  },
  {
   "attachments": {},
   "cell_type": "markdown",
   "metadata": {},
   "source": [
    "#### FRU"
   ]
  },
  {
   "cell_type": "code",
   "execution_count": 27,
   "metadata": {},
   "outputs": [
    {
     "name": "stdout",
     "output_type": "stream",
     "text": [
      "Creating Gu's HiPPO-fru LTI model with 1.0 transform\n",
      "\n",
      "Testing BRYANS HiPPO-fru model\n",
      "Creating HiPPO-fru LTI model with 1.0 transform\n",
      "Bryan's Coeffiecients for 1.0 LTI HiPPO-fru\n",
      "\n",
      "---------------------------------------------\n",
      "---------- The Test Passed: False ----------\n",
      "---------------------------------------------\n",
      "\n",
      "end of test for HiPPO-fru model\n"
     ]
    }
   ],
   "source": [
    "test_operators(\n",
    "    the_measure=\"fru\", lambda_n=1.0, alpha=1.0, discretization=1.0, print_all=print_all\n",
    ")"
   ]
  },
  {
   "attachments": {},
   "cell_type": "markdown",
   "metadata": {},
   "source": [
    "#### FouT"
   ]
  },
  {
   "cell_type": "code",
   "execution_count": 28,
   "metadata": {},
   "outputs": [
    {
     "name": "stdout",
     "output_type": "stream",
     "text": [
      "Creating Gu's HiPPO-fout LTI model with 1.0 transform\n",
      "\n",
      "Testing BRYANS HiPPO-fout model\n",
      "Creating HiPPO-fout LTI model with 1.0 transform\n",
      "Bryan's Coeffiecients for 1.0 LTI HiPPO-fout\n",
      "\n",
      "---------------------------------------------\n",
      "---------- The Test Passed: True ----------\n",
      "---------------------------------------------\n",
      "\n",
      "end of test for HiPPO-fout model\n"
     ]
    }
   ],
   "source": [
    "test_operators(\n",
    "    the_measure=\"fout\", lambda_n=1.0, alpha=1.0, discretization=1.0, print_all=print_all\n",
    ")"
   ]
  },
  {
   "attachments": {},
   "cell_type": "markdown",
   "metadata": {},
   "source": [
    "#### FouD"
   ]
  },
  {
   "cell_type": "code",
   "execution_count": 29,
   "metadata": {},
   "outputs": [
    {
     "name": "stdout",
     "output_type": "stream",
     "text": [
      "Creating Gu's HiPPO-foud LTI model with 1.0 transform\n",
      "\n",
      "Testing BRYANS HiPPO-foud model\n",
      "Creating HiPPO-foud LTI model with 1.0 transform\n",
      "Bryan's Coeffiecients for 1.0 LTI HiPPO-foud\n",
      "\n",
      "---------------------------------------------\n",
      "---------- The Test Passed: True ----------\n",
      "---------------------------------------------\n",
      "\n",
      "end of test for HiPPO-foud model\n"
     ]
    }
   ],
   "source": [
    "test_operators(\n",
    "    the_measure=\"foud\", lambda_n=1.0, alpha=1.0, discretization=1.0, print_all=print_all\n",
    ")"
   ]
  },
  {
   "attachments": {},
   "cell_type": "markdown",
   "metadata": {},
   "source": [
    "### Testing (LTI and LSI) Operators With Bidirectional Transform"
   ]
  },
  {
   "attachments": {},
   "cell_type": "markdown",
   "metadata": {},
   "source": [
    "#### LegS"
   ]
  },
  {
   "cell_type": "code",
   "execution_count": 30,
   "metadata": {},
   "outputs": [
    {
     "name": "stdout",
     "output_type": "stream",
     "text": [
      "Creating Gu's HiPPO-legs LTI model with 0.5 transform\n",
      "gu's vals: (256,)\n",
      "gu's vals: (256,)\n",
      "Creating Gu's HiPPO-legs LSI model with 0.5 transform\n",
      "\n",
      "Testing BRYANS HiPPO-legs model\n",
      "Creating HiPPO-legs LTI model with 0.5 transform\n",
      "Creating HiPPO-legs LSI model with 0.5 transform\n",
      "Bryan's Coeffiecients for 0.5 LTI HiPPO-legs\n",
      "\n",
      "---------------------------------------------\n",
      "---------- The Test Passed: True ----------\n",
      "---------------------------------------------\n",
      "\n",
      "\n",
      "\n",
      "Bryan's Coeffiecients for 0.5 LSI HiPPO-legs\n",
      "\n",
      "---------------------------------------------\n",
      "---------- The Test Passed: True ----------\n",
      "---------------------------------------------\n",
      "\n",
      "end of test for HiPPO-legs model\n"
     ]
    }
   ],
   "source": [
    "test_operators(\n",
    "    the_measure=\"legs\", lambda_n=1.0, alpha=0.5, discretization=0.5, print_all=print_all\n",
    ")"
   ]
  },
  {
   "attachments": {},
   "cell_type": "markdown",
   "metadata": {},
   "source": [
    "#### LegT"
   ]
  },
  {
   "cell_type": "code",
   "execution_count": 31,
   "metadata": {},
   "outputs": [
    {
     "name": "stdout",
     "output_type": "stream",
     "text": [
      "Creating Gu's HiPPO-legt LTI model with 0.5 transform\n",
      "\n",
      "Testing BRYANS HiPPO-legt model\n",
      "Creating HiPPO-legt LTI model with 0.5 transform\n",
      "Bryan's Coeffiecients for 0.5 LTI HiPPO-legt\n",
      "\n",
      "---------------------------------------------\n",
      "---------- The Test Passed: True ----------\n",
      "---------------------------------------------\n",
      "\n",
      "end of test for HiPPO-legt model\n"
     ]
    }
   ],
   "source": [
    "test_operators(\n",
    "    the_measure=\"legt\", lambda_n=1.0, alpha=0.5, discretization=0.5, print_all=print_all\n",
    ")"
   ]
  },
  {
   "attachments": {},
   "cell_type": "markdown",
   "metadata": {},
   "source": [
    "#### LMU"
   ]
  },
  {
   "cell_type": "code",
   "execution_count": 32,
   "metadata": {},
   "outputs": [
    {
     "name": "stdout",
     "output_type": "stream",
     "text": [
      "Creating Gu's HiPPO-lmu LTI model with 0.5 transform\n",
      "\n",
      "Testing BRYANS HiPPO-lmu model\n",
      "Creating HiPPO-lmu LTI model with 0.5 transform\n",
      "Bryan's Coeffiecients for 0.5 LTI HiPPO-lmu\n",
      "\n",
      "---------------------------------------------\n",
      "---------- The Test Passed: False ----------\n",
      "---------------------------------------------\n",
      "\n",
      "end of test for HiPPO-lmu model\n"
     ]
    }
   ],
   "source": [
    "test_operators(\n",
    "    the_measure=\"lmu\", lambda_n=2.0, alpha=0.5, discretization=0.5, print_all=print_all\n",
    ")"
   ]
  },
  {
   "attachments": {},
   "cell_type": "markdown",
   "metadata": {},
   "source": [
    "#### LagT"
   ]
  },
  {
   "cell_type": "code",
   "execution_count": 33,
   "metadata": {},
   "outputs": [
    {
     "name": "stdout",
     "output_type": "stream",
     "text": [
      "Creating Gu's HiPPO-lagt LTI model with 0.5 transform\n",
      "\n",
      "Testing BRYANS HiPPO-lagt model\n",
      "Creating HiPPO-lagt LTI model with 0.5 transform\n",
      "Bryan's Coeffiecients for 0.5 LTI HiPPO-lagt\n",
      "\n",
      "---------------------------------------------\n",
      "---------- The Test Passed: True ----------\n",
      "---------------------------------------------\n",
      "\n",
      "end of test for HiPPO-lagt model\n"
     ]
    }
   ],
   "source": [
    "test_operators(\n",
    "    the_measure=\"lagt\", lambda_n=1.0, alpha=0.5, discretization=0.5, print_all=print_all\n",
    ")"
   ]
  },
  {
   "attachments": {},
   "cell_type": "markdown",
   "metadata": {},
   "source": [
    "#### FRU"
   ]
  },
  {
   "cell_type": "code",
   "execution_count": 34,
   "metadata": {},
   "outputs": [
    {
     "name": "stdout",
     "output_type": "stream",
     "text": [
      "Creating Gu's HiPPO-fru LTI model with 0.5 transform\n",
      "\n",
      "Testing BRYANS HiPPO-fru model\n",
      "Creating HiPPO-fru LTI model with 0.5 transform\n",
      "Bryan's Coeffiecients for 0.5 LTI HiPPO-fru\n",
      "\n",
      "---------------------------------------------\n",
      "---------- The Test Passed: True ----------\n",
      "---------------------------------------------\n",
      "\n",
      "end of test for HiPPO-fru model\n"
     ]
    }
   ],
   "source": [
    "test_operators(\n",
    "    the_measure=\"fru\", lambda_n=1.0, alpha=0.5, discretization=0.5, print_all=print_all\n",
    ")"
   ]
  },
  {
   "attachments": {},
   "cell_type": "markdown",
   "metadata": {},
   "source": [
    "#### FouT"
   ]
  },
  {
   "cell_type": "code",
   "execution_count": 35,
   "metadata": {},
   "outputs": [
    {
     "name": "stdout",
     "output_type": "stream",
     "text": [
      "Creating Gu's HiPPO-fout LTI model with 0.5 transform\n",
      "\n",
      "Testing BRYANS HiPPO-fout model\n",
      "Creating HiPPO-fout LTI model with 0.5 transform\n",
      "Bryan's Coeffiecients for 0.5 LTI HiPPO-fout\n",
      "\n",
      "---------------------------------------------\n",
      "---------- The Test Passed: False ----------\n",
      "---------------------------------------------\n",
      "\n",
      "end of test for HiPPO-fout model\n"
     ]
    }
   ],
   "source": [
    "test_operators(\n",
    "    the_measure=\"fout\", lambda_n=1.0, alpha=0.5, discretization=0.5, print_all=print_all\n",
    ")"
   ]
  },
  {
   "attachments": {},
   "cell_type": "markdown",
   "metadata": {},
   "source": [
    "#### FouD"
   ]
  },
  {
   "cell_type": "code",
   "execution_count": 36,
   "metadata": {},
   "outputs": [
    {
     "name": "stdout",
     "output_type": "stream",
     "text": [
      "Creating Gu's HiPPO-foud LTI model with 0.5 transform\n",
      "\n",
      "Testing BRYANS HiPPO-foud model\n",
      "Creating HiPPO-foud LTI model with 0.5 transform\n",
      "Bryan's Coeffiecients for 0.5 LTI HiPPO-foud\n",
      "\n",
      "---------------------------------------------\n",
      "---------- The Test Passed: True ----------\n",
      "---------------------------------------------\n",
      "\n",
      "end of test for HiPPO-foud model\n"
     ]
    }
   ],
   "source": [
    "test_operators(\n",
    "    the_measure=\"foud\", lambda_n=1.0, alpha=0.5, discretization=0.5, print_all=print_all\n",
    ")"
   ]
  },
  {
   "attachments": {},
   "cell_type": "markdown",
   "metadata": {},
   "source": [
    "### Testing (LTI and LSI) Operators With ZOH Transform"
   ]
  },
  {
   "attachments": {},
   "cell_type": "markdown",
   "metadata": {},
   "source": [
    "#### LegS"
   ]
  },
  {
   "cell_type": "code",
   "execution_count": 37,
   "metadata": {},
   "outputs": [
    {
     "name": "stdout",
     "output_type": "stream",
     "text": [
      "Creating Gu's HiPPO-legs LTI model with 2.0 transform\n",
      "gu's vals: (256,)\n",
      "gu's vals: (256,)\n",
      "Creating Gu's HiPPO-legs LSI model with 2.0 transform\n",
      "\n",
      "Testing BRYANS HiPPO-legs model\n",
      "Creating HiPPO-legs LTI model with 2.0 transform\n",
      "Creating HiPPO-legs LSI model with 2.0 transform\n",
      "Bryan's Coeffiecients for 2.0 LTI HiPPO-legs\n",
      "\n",
      "---------------------------------------------\n",
      "---------- The Test Passed: True ----------\n",
      "---------------------------------------------\n",
      "\n",
      "\n",
      "\n",
      "Bryan's Coeffiecients for 2.0 LSI HiPPO-legs\n",
      "\n",
      "---------------------------------------------\n",
      "---------- The Test Passed: True ----------\n",
      "---------------------------------------------\n",
      "\n",
      "end of test for HiPPO-legs model\n"
     ]
    }
   ],
   "source": [
    "test_operators(\n",
    "    the_measure=\"legs\",\n",
    "    lambda_n=1.0,\n",
    "    alpha=2.0,\n",
    "    discretization=\"zoh\",\n",
    "    print_all=print_all,\n",
    ")"
   ]
  },
  {
   "attachments": {},
   "cell_type": "markdown",
   "metadata": {},
   "source": [
    "#### LegT"
   ]
  },
  {
   "cell_type": "code",
   "execution_count": 38,
   "metadata": {},
   "outputs": [
    {
     "name": "stdout",
     "output_type": "stream",
     "text": [
      "Creating Gu's HiPPO-legt LTI model with 2.0 transform\n",
      "\n",
      "Testing BRYANS HiPPO-legt model\n",
      "Creating HiPPO-legt LTI model with 2.0 transform\n",
      "Bryan's Coeffiecients for 2.0 LTI HiPPO-legt\n",
      "\n",
      "---------------------------------------------\n",
      "---------- The Test Passed: True ----------\n",
      "---------------------------------------------\n",
      "\n",
      "end of test for HiPPO-legt model\n"
     ]
    }
   ],
   "source": [
    "test_operators(\n",
    "    the_measure=\"legt\",\n",
    "    lambda_n=1.0,\n",
    "    alpha=2.0,\n",
    "    discretization=\"zoh\",\n",
    "    print_all=print_all,\n",
    ")"
   ]
  },
  {
   "attachments": {},
   "cell_type": "markdown",
   "metadata": {},
   "source": [
    "#### LMU"
   ]
  },
  {
   "cell_type": "code",
   "execution_count": 39,
   "metadata": {},
   "outputs": [
    {
     "name": "stdout",
     "output_type": "stream",
     "text": [
      "Creating Gu's HiPPO-lmu LTI model with 2.0 transform\n",
      "\n",
      "Testing BRYANS HiPPO-lmu model\n",
      "Creating HiPPO-lmu LTI model with 2.0 transform\n",
      "Bryan's Coeffiecients for 2.0 LTI HiPPO-lmu\n",
      "\n",
      "---------------------------------------------\n",
      "---------- The Test Passed: True ----------\n",
      "---------------------------------------------\n",
      "\n",
      "end of test for HiPPO-lmu model\n"
     ]
    }
   ],
   "source": [
    "test_operators(\n",
    "    the_measure=\"lmu\",\n",
    "    lambda_n=2.0,\n",
    "    alpha=2.0,\n",
    "    discretization=\"zoh\",\n",
    "    print_all=print_all,\n",
    ")"
   ]
  },
  {
   "attachments": {},
   "cell_type": "markdown",
   "metadata": {},
   "source": [
    "#### LagT"
   ]
  },
  {
   "cell_type": "code",
   "execution_count": 40,
   "metadata": {},
   "outputs": [
    {
     "name": "stdout",
     "output_type": "stream",
     "text": [
      "Creating Gu's HiPPO-lagt LTI model with 2.0 transform\n",
      "\n",
      "Testing BRYANS HiPPO-lagt model\n",
      "Creating HiPPO-lagt LTI model with 2.0 transform\n",
      "Bryan's Coeffiecients for 2.0 LTI HiPPO-lagt\n",
      "\n",
      "---------------------------------------------\n",
      "---------- The Test Passed: True ----------\n",
      "---------------------------------------------\n",
      "\n",
      "end of test for HiPPO-lagt model\n"
     ]
    }
   ],
   "source": [
    "test_operators(\n",
    "    the_measure=\"lagt\",\n",
    "    lambda_n=1.0,\n",
    "    alpha=2.0,\n",
    "    discretization=\"zoh\",\n",
    "    print_all=print_all,\n",
    ")"
   ]
  },
  {
   "attachments": {},
   "cell_type": "markdown",
   "metadata": {},
   "source": [
    "#### FRU"
   ]
  },
  {
   "cell_type": "code",
   "execution_count": 41,
   "metadata": {},
   "outputs": [
    {
     "name": "stdout",
     "output_type": "stream",
     "text": [
      "Creating Gu's HiPPO-fru LTI model with 2.0 transform\n",
      "\n",
      "Testing BRYANS HiPPO-fru model\n",
      "Creating HiPPO-fru LTI model with 2.0 transform\n",
      "Bryan's Coeffiecients for 2.0 LTI HiPPO-fru\n",
      "\n",
      "---------------------------------------------\n",
      "---------- The Test Passed: True ----------\n",
      "---------------------------------------------\n",
      "\n",
      "end of test for HiPPO-fru model\n"
     ]
    }
   ],
   "source": [
    "test_operators(\n",
    "    the_measure=\"fru\",\n",
    "    lambda_n=1.0,\n",
    "    alpha=2.0,\n",
    "    discretization=\"zoh\",\n",
    "    print_all=print_all,\n",
    ")"
   ]
  },
  {
   "attachments": {},
   "cell_type": "markdown",
   "metadata": {},
   "source": [
    "#### FouT"
   ]
  },
  {
   "cell_type": "code",
   "execution_count": 42,
   "metadata": {},
   "outputs": [
    {
     "name": "stdout",
     "output_type": "stream",
     "text": [
      "Creating Gu's HiPPO-fout LTI model with 2.0 transform\n",
      "\n",
      "Testing BRYANS HiPPO-fout model\n",
      "Creating HiPPO-fout LTI model with 2.0 transform\n",
      "Bryan's Coeffiecients for 2.0 LTI HiPPO-fout\n",
      "\n",
      "---------------------------------------------\n",
      "---------- The Test Passed: True ----------\n",
      "---------------------------------------------\n",
      "\n",
      "end of test for HiPPO-fout model\n"
     ]
    }
   ],
   "source": [
    "test_operators(\n",
    "    the_measure=\"fout\",\n",
    "    lambda_n=1.0,\n",
    "    alpha=2.0,\n",
    "    discretization=\"zoh\",\n",
    "    print_all=print_all,\n",
    ")"
   ]
  },
  {
   "attachments": {},
   "cell_type": "markdown",
   "metadata": {},
   "source": [
    "#### FouD"
   ]
  },
  {
   "cell_type": "code",
   "execution_count": 43,
   "metadata": {},
   "outputs": [
    {
     "name": "stdout",
     "output_type": "stream",
     "text": [
      "Creating Gu's HiPPO-foud LTI model with 2.0 transform\n",
      "\n",
      "Testing BRYANS HiPPO-foud model\n",
      "Creating HiPPO-foud LTI model with 2.0 transform\n",
      "Bryan's Coeffiecients for 2.0 LTI HiPPO-foud\n",
      "\n",
      "---------------------------------------------\n",
      "---------- The Test Passed: True ----------\n",
      "---------------------------------------------\n",
      "\n",
      "end of test for HiPPO-foud model\n"
     ]
    }
   ],
   "source": [
    "test_operators(\n",
    "    the_measure=\"foud\",\n",
    "    lambda_n=1.0,\n",
    "    alpha=2.0,\n",
    "    discretization=\"zoh\",\n",
    "    print_all=print_all,\n",
    ")"
   ]
  }
 ],
 "metadata": {
  "kernelspec": {
   "display_name": "s4mer-pkg-jZnBSgjq-py3.8",
   "language": "python",
   "name": "python3"
  },
  "language_info": {
   "codemirror_mode": {
    "name": "ipython",
    "version": 3
   },
   "file_extension": ".py",
   "mimetype": "text/x-python",
   "name": "python",
   "nbconvert_exporter": "python",
   "pygments_lexer": "ipython3",
   "version": "3.8.13"
  },
  "orig_nbformat": 4,
  "vscode": {
   "interpreter": {
    "hash": "0a81e05d1d7f7eae781698b7c1b81c0d771335201ebad1d81045cb177cef974b"
   }
  }
 },
 "nbformat": 4,
 "nbformat_minor": 2
}
