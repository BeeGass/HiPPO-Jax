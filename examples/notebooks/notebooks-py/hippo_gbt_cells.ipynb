{
 "cells": [
  {
   "attachments": {},
   "cell_type": "markdown",
   "metadata": {},
   "source": [
    "# HiPPO Matrices\n",
    "---"
   ]
  },
  {
   "attachments": {},
   "cell_type": "markdown",
   "metadata": {},
   "source": [
    "## Load Packages"
   ]
  },
  {
   "cell_type": "code",
   "execution_count": 1,
   "metadata": {},
   "outputs": [
    {
     "name": "stdout",
     "output_type": "stream",
     "text": [
      "module_path: /home/beegass/Documents/Coding/HiPPO-Jax\n"
     ]
    }
   ],
   "source": [
    "import os\n",
    "import sys\n",
    "import warnings\n",
    "\n",
    "module_path = os.path.abspath(os.path.join(\"../../../\"))\n",
    "print(f\"module_path: {module_path}\")\n",
    "if module_path not in sys.path:\n",
    "    print(f\"Adding {module_path} to sys.path\")\n",
    "    sys.path.append(module_path)"
   ]
  },
  {
   "cell_type": "code",
   "execution_count": 2,
   "metadata": {},
   "outputs": [],
   "source": [
    "warnings.filterwarnings(\"ignore\")"
   ]
  },
  {
   "cell_type": "code",
   "execution_count": 3,
   "metadata": {},
   "outputs": [],
   "source": [
    "# os.environ[\"XLA_PYTHON_CLIENT_PREALLOCATE\"] = \"False\"\n",
    "os.environ[\"TF_FORCE_UNIFIED_MEMORY\"] = \"1\""
   ]
  },
  {
   "cell_type": "code",
   "execution_count": 4,
   "metadata": {},
   "outputs": [],
   "source": [
    "## import packages\n",
    "import jax\n",
    "import jax.numpy as jnp\n",
    "from src.models.hippo.hr_hippo import HRHiPPO_LSI, HRHiPPO_LTI\n",
    "from src.models.hippo.hippo import HiPPOLTI, HiPPOLSI\n",
    "from src.models.hippo.cells import HiPPOLSICell, HiPPOLTICell, HiPPO\n",
    "from src.models.hippo.transition import (\n",
    "    legs,\n",
    "    legs_initializer,\n",
    "    legt,\n",
    "    legt_initializer,\n",
    "    lmu,\n",
    "    lmu_initializer,\n",
    "    lagt,\n",
    "    lagt_initializer,\n",
    "    fru,\n",
    "    fru_initializer,\n",
    "    fout,\n",
    "    fout_initializer,\n",
    "    foud,\n",
    "    foud_initializer,\n",
    "    chebt,\n",
    "    chebt_initializer,\n",
    ")\n",
    "from src.data.process import whitesignal\n",
    "import einops\n",
    "import numpy as np\n",
    "import torch\n",
    "import time"
   ]
  },
  {
   "cell_type": "code",
   "execution_count": 5,
   "metadata": {},
   "outputs": [
    {
     "name": "stdout",
     "output_type": "stream",
     "text": [
      "[StreamExecutorGpuDevice(id=0, process_index=0, slice_index=0)]\n",
      "The Device: gpu\n"
     ]
    }
   ],
   "source": [
    "print(jax.devices())\n",
    "print(f\"The Device: {jax.lib.xla_bridge.get_backend().platform}\")"
   ]
  },
  {
   "cell_type": "code",
   "execution_count": 6,
   "metadata": {},
   "outputs": [
    {
     "name": "stdout",
     "output_type": "stream",
     "text": [
      "MPS enabled: False\n"
     ]
    }
   ],
   "source": [
    "print(f\"MPS enabled: {torch.backends.mps.is_available()}\")"
   ]
  },
  {
   "cell_type": "code",
   "execution_count": 7,
   "metadata": {},
   "outputs": [],
   "source": [
    "torch.set_printoptions(linewidth=150)\n",
    "np.set_printoptions(linewidth=150)\n",
    "jnp.set_printoptions(linewidth=150)"
   ]
  },
  {
   "cell_type": "code",
   "execution_count": 8,
   "metadata": {},
   "outputs": [],
   "source": [
    "seed = 1701\n",
    "key = jax.random.PRNGKey(seed)"
   ]
  },
  {
   "cell_type": "code",
   "execution_count": 9,
   "metadata": {},
   "outputs": [],
   "source": [
    "num_copies = 10\n",
    "subkeys = jax.random.split(key, num=num_copies)\n",
    "key = subkeys[0]"
   ]
  },
  {
   "cell_type": "code",
   "execution_count": 10,
   "metadata": {
    "tags": [
     "Parameters"
    ]
   },
   "outputs": [],
   "source": [
    "# Parameters For Generating Data\n",
    "T = 1\n",
    "freq = 1\n",
    "step = 1e-3\n",
    "L = int(T / step)\n",
    "\n",
    "# Parameters For Training\n",
    "batch_size = 2\n",
    "data_size = L\n",
    "input_size = 1\n",
    "\n",
    "# Parameters For HiPPO\n",
    "N = 64"
   ]
  },
  {
   "attachments": {},
   "cell_type": "markdown",
   "metadata": {},
   "source": [
    "## Test HiPPO Operators"
   ]
  },
  {
   "cell_type": "code",
   "execution_count": 11,
   "metadata": {},
   "outputs": [],
   "source": [
    "def LSI_GBT(hippo, hr_hippo, A, B, random_input, alpha=0.5, print_all=False):\n",
    "    L = random_input.shape[1]\n",
    "\n",
    "    flag = True\n",
    "    for i in range(1, L + 1):\n",
    "        GBT_A, GBT_B = hippo.discretize(A, B, step=i, alpha=alpha, dtype=jnp.float32)\n",
    "        hr_GBT_A, hr_GBT_B = (\n",
    "            jnp.asarray(hr_hippo.A_stacked[i - 1], dtype=jnp.float32),\n",
    "            jnp.expand_dims(\n",
    "                jnp.asarray(hr_hippo.B_stacked[i - 1], dtype=jnp.float32), axis=1\n",
    "            ),\n",
    "        )\n",
    "\n",
    "        if print_all:\n",
    "            print(f\"GBT_A: {jnp.allclose(GBT_A, hr_GBT_A, rtol=1e-04, atol=1e-04)}\")\n",
    "            print(f\"GBT_B: {jnp.allclose(GBT_B, hr_GBT_B, rtol=1e-04, atol=1e-04)}\\n\")\n",
    "\n",
    "            print(f\"hr_GBT_A shape:{hr_GBT_A.shape}\\n\")\n",
    "            print(f\"GBT_A shape: {GBT_A.shape}\\n\")\n",
    "            print(f\"hr_GBT_B shape: {hr_GBT_B.shape}\\n\")\n",
    "            print(f\"GBT_B shape: {GBT_B.shape}\")\n",
    "\n",
    "            print(f\"hr_GBT_A:\\n{hr_GBT_A}\\n\")\n",
    "            print(f\"GBT_A:\\n{GBT_A}\\n\")\n",
    "            print(f\"hr_GBT_B:\\n{hr_GBT_B}\\n\")\n",
    "            print(f\"GBT_B:\\n{GBT_B}\")\n",
    "\n",
    "        check_A = jnp.allclose(GBT_A, hr_GBT_A, rtol=1e-04, atol=1e-04)\n",
    "        check_B = jnp.allclose(GBT_B, hr_GBT_B, rtol=1e-04, atol=1e-04)\n",
    "\n",
    "        if not check_A and not check_B:\n",
    "            flag = False\n",
    "\n",
    "    if not print_all:\n",
    "        print(f\"\\n---------------------------------------------\")\n",
    "        print(f\"---------- The Test Passed: {flag} ----------\")\n",
    "        print(f\"---------------------------------------------\\n\")"
   ]
  },
  {
   "cell_type": "code",
   "execution_count": 12,
   "metadata": {},
   "outputs": [],
   "source": [
    "def LTI_GBT(hippo, hr_hippo, A, B, random_input, step, alpha=0.5, print_all=False):\n",
    "    L = random_input.shape[1]\n",
    "    flag = True\n",
    "    GBT_A, GBT_B = hippo.discretize(A, B, step=step, alpha=alpha, dtype=jnp.float32)\n",
    "    hr_GBT_A, hr_GBT_B = (\n",
    "        jnp.asarray(hr_hippo.dA, dtype=jnp.float32),\n",
    "        jnp.expand_dims(jnp.asarray(hr_hippo.dB, dtype=jnp.float32), axis=1),\n",
    "    )\n",
    "\n",
    "    check_A = jnp.allclose(GBT_A, hr_GBT_A, rtol=1e-04, atol=1e-04)\n",
    "    check_B = jnp.allclose(GBT_B, hr_GBT_B, rtol=1e-04, atol=1e-04)\n",
    "\n",
    "    if not check_A and not check_B:\n",
    "        flag = False\n",
    "\n",
    "    if print_all:\n",
    "        print(f\"GBT_A: {jnp.allclose(GBT_A, hr_GBT_A, rtol=1e-04, atol=1e-04)}\")\n",
    "        print(f\"GBT_B: {jnp.allclose(GBT_B, hr_GBT_B, rtol=1e-04, atol=1e-04)}\\n\")\n",
    "\n",
    "        print(f\"hr_GBT_A shape:{hr_GBT_A.shape}\\n\")\n",
    "        print(f\"GBT_A shape: {GBT_A.shape}\\n\")\n",
    "        print(f\"hr_GBT_B shape: {hr_GBT_B.shape}\\n\")\n",
    "        print(f\"GBT_B shape: {GBT_B.shape}\")\n",
    "\n",
    "        print(f\"hr_GBT_A:\\n{hr_GBT_A}\\n\")\n",
    "        print(f\"GBT_A:\\n{GBT_A}\\n\")\n",
    "        print(f\"hr_GBT_B:\\n{hr_GBT_B}\\n\")\n",
    "        print(f\"GBT_B:\\n{GBT_B}\")\n",
    "\n",
    "    if not print_all:\n",
    "        print(f\"\\n---------------------------------------------\")\n",
    "        print(f\"---------- The Test Passed: {flag} ----------\")\n",
    "        print(f\"---------------------------------------------\\n\")"
   ]
  },
  {
   "cell_type": "code",
   "execution_count": 13,
   "metadata": {},
   "outputs": [],
   "source": [
    "def test_LSI_GBT(\n",
    "    the_measure=\"legs\", lambda_n=1.0, alpha=0.5, discretization=0.5, print_all=False\n",
    "):\n",
    "    assert (\n",
    "        the_measure == \"legs\"\n",
    "    ), f\"the_measure must be 'legs' for this test, got {the_measure}\"\n",
    "\n",
    "    u = whitesignal(subkeys[4], T, step, freq, batch_shape=(batch_size,))\n",
    "\n",
    "    x_np = np.asarray(u)\n",
    "    x_np = einops.rearrange(x_np, \"batch seq_len -> batch seq_len 1\")\n",
    "    x_jnp = jnp.asarray(x_np, dtype=jnp.float32)\n",
    "\n",
    "    # ----------------------------------------------------------------------------------\n",
    "    # ------------------- Instantiate Hazy Research's HiPPOs ---------------------------\n",
    "    # ----------------------------------------------------------------------------------\n",
    "\n",
    "    print(f\"Creating Gu's HiPPO-{the_measure} LSI model with {alpha} transform\")\n",
    "    hr_hippo_lsi = HRHiPPO_LSI(\n",
    "        N=N,\n",
    "        method=the_measure,\n",
    "        max_length=L,\n",
    "        discretization=discretization,\n",
    "        lambda_n=lambda_n,\n",
    "        alpha=0.0,\n",
    "        beta=1.0,\n",
    "    )  # The Gu's\n",
    "\n",
    "    # ----------------------------------------------------------------------------------\n",
    "    # ------------------------------ Instantiate HiPPO Matrices ------------------------\n",
    "    # ----------------------------------------------------------------------------------\n",
    "\n",
    "    A, B, _ = legs(N=N, dtype=jnp.float32)\n",
    "\n",
    "    # ----------------------------------------------------------------------------------\n",
    "    # ------------------------------ Instantiate Our HiPPOs ---------------------------\n",
    "    # ----------------------------------------------------------------------------------\n",
    "\n",
    "    print(f\"Creating HiPPO-{the_measure} LSI model with {alpha} transform\")\n",
    "    hippo_lsi_cell = HiPPOLSICell(\n",
    "        features=N,\n",
    "        max_length=L,\n",
    "        alpha=alpha,\n",
    "        init_t=0,\n",
    "        recon=True,\n",
    "        A_init_fn=legs,\n",
    "        B_init_fn=legs,\n",
    "    )\n",
    "    c_t_1 = hippo_lsi_cell.initialize_state(\n",
    "        subkeys[7], batch_size=x_jnp.shape[0], hidden_size=N\n",
    "    )\n",
    "    t = jnp.arange(0, x_jnp.shape[1])\n",
    "    lsi_variables = hippo_lsi_cell.init(subkeys[2], c_t_1=c_t_1, f=x_jnp, t_step=t)\n",
    "    hippo_lsi_cell = hippo_lsi_cell.bind(lsi_variables)\n",
    "\n",
    "    print(f\"Testing for correct LSI GBT matrices for HiPPO-{the_measure}\")\n",
    "    LSI_GBT(\n",
    "        hippo=hippo_lsi_cell,\n",
    "        hr_hippo=hr_hippo_lsi,\n",
    "        A=A,\n",
    "        B=B,\n",
    "        random_input=x_np,\n",
    "        alpha=alpha,\n",
    "        print_all=print_all,\n",
    "    )"
   ]
  },
  {
   "cell_type": "code",
   "execution_count": 14,
   "metadata": {},
   "outputs": [],
   "source": [
    "def test_LTI_GBT(\n",
    "    the_measure=\"legs\", lambda_n=1.0, alpha=0.5, discretization=0.5, print_all=False\n",
    "):\n",
    "    assert the_measure in [\"legs\", \"legt\", \"lmu\", \"lagt\", \"fru\", \"fout\", \"foud\"]\n",
    "    init_fn = {\n",
    "        \"legs\": legs,\n",
    "        \"legt\": legt,\n",
    "        \"lmu\": lmu,\n",
    "        \"lagt\": lagt,\n",
    "        \"fru\": fru,\n",
    "        \"fout\": fout,\n",
    "        \"foud\": foud,\n",
    "        \"chebt\": chebt,\n",
    "    }[the_measure]\n",
    "\n",
    "    u = whitesignal(subkeys[4], T, step, freq, batch_shape=(batch_size,))\n",
    "\n",
    "    x_np = np.asarray(u)\n",
    "    x_np = einops.rearrange(x_np, \"batch seq_len -> batch seq_len 1\")\n",
    "    x_jnp = jnp.asarray(x_np, dtype=jnp.float32)\n",
    "\n",
    "    # ----------------------------------------------------------------------------------\n",
    "    # ------------------- Instantiate Hazy Research's HiPPOs ---------------------------\n",
    "    # ----------------------------------------------------------------------------------\n",
    "\n",
    "    print(f\"Creating Gu's HiPPO-{the_measure} LTI model with {alpha} transform\")\n",
    "    hr_hippo_lti = HRHiPPO_LTI(\n",
    "        N=N,\n",
    "        method=the_measure,\n",
    "        dt=step,\n",
    "        T=T,\n",
    "        discretization=discretization,\n",
    "        lambda_n=lambda_n,\n",
    "        alpha=0.0,\n",
    "        beta=1.0,\n",
    "        c=0.0,\n",
    "    )  # The Gu's\n",
    "\n",
    "    # ----------------------------------------------------------------------------------\n",
    "    # ------------------------------ Instantiate HiPPO Matrices ------------------------\n",
    "    # ----------------------------------------------------------------------------------\n",
    "\n",
    "    A, B, _ = init_fn(N=N, dtype=jnp.float32)\n",
    "\n",
    "    # ----------------------------------------------------------------------------------\n",
    "    # ------------------------------ Instantiate Our HiPPOs ---------------------------\n",
    "    # ----------------------------------------------------------------------------------\n",
    "    print(f\"Creating HiPPO-{the_measure} LTI model with {alpha} transform\")\n",
    "    hippo_lti_cell = HiPPOLTICell(\n",
    "        features=N,\n",
    "        step_size=step,\n",
    "        basis_size=T,\n",
    "        alpha=alpha,\n",
    "        recon=True,\n",
    "        A_init_fn=legs,\n",
    "        B_init_fn=legs,\n",
    "    )\n",
    "    c_t_1 = hippo_lti_cell.initialize_state(\n",
    "        subkeys[7], batch_size=x_jnp.shape[0], hidden_size=N\n",
    "    )\n",
    "    lti_variables = hippo_lti_cell.init(subkeys[2], c_t_1=c_t_1, f=x_jnp)\n",
    "    hippo_lti_cell = hippo_lti_cell.bind(lti_variables)\n",
    "\n",
    "    print(f\"Testing for correct LTI GBT matrices for HiPPO-{the_measure}\")\n",
    "    LTI_GBT(\n",
    "        hippo=hippo_lti_cell,\n",
    "        hr_hippo=hr_hippo_lti,\n",
    "        A=A,\n",
    "        B=B,\n",
    "        random_input=x_np,\n",
    "        step=step,\n",
    "        alpha=alpha,\n",
    "        print_all=print_all,\n",
    "    )"
   ]
  },
  {
   "cell_type": "code",
   "execution_count": 15,
   "metadata": {},
   "outputs": [],
   "source": [
    "print_all = False"
   ]
  },
  {
   "attachments": {},
   "cell_type": "markdown",
   "metadata": {},
   "source": [
    "### Testing (LTI and LSI) Operators With Forward Euler Transform"
   ]
  },
  {
   "attachments": {},
   "cell_type": "markdown",
   "metadata": {},
   "source": [
    "#### LegS"
   ]
  },
  {
   "cell_type": "code",
   "execution_count": 16,
   "metadata": {},
   "outputs": [
    {
     "name": "stdout",
     "output_type": "stream",
     "text": [
      "Creating Gu's HiPPO-legs LSI model with 0.0 transform\n",
      "Creating HiPPO-legs LSI model with 0.0 transform\n"
     ]
    },
    {
     "ename": "TypeError",
     "evalue": "mul got incompatible shapes for broadcasting: (1, 64, 1000), (2, 1000, 1).",
     "output_type": "error",
     "traceback": [
      "\u001b[0;31m---------------------------------------------------------------------------\u001b[0m",
      "\u001b[0;31mTypeError\u001b[0m                                 Traceback (most recent call last)",
      "Cell \u001b[0;32mIn[16], line 1\u001b[0m\n\u001b[0;32m----> 1\u001b[0m test_LSI_GBT(\n\u001b[1;32m      2\u001b[0m     the_measure\u001b[39m=\u001b[39;49m\u001b[39m\"\u001b[39;49m\u001b[39mlegs\u001b[39;49m\u001b[39m\"\u001b[39;49m, lambda_n\u001b[39m=\u001b[39;49m\u001b[39m1.0\u001b[39;49m, alpha\u001b[39m=\u001b[39;49m\u001b[39m0.0\u001b[39;49m, discretization\u001b[39m=\u001b[39;49m\u001b[39m0.0\u001b[39;49m, print_all\u001b[39m=\u001b[39;49mprint_all\n\u001b[1;32m      3\u001b[0m )\n",
      "Cell \u001b[0;32mIn[13], line 53\u001b[0m, in \u001b[0;36mtest_LSI_GBT\u001b[0;34m(the_measure, lambda_n, alpha, discretization, print_all)\u001b[0m\n\u001b[1;32m     49\u001b[0m c_t_1 \u001b[39m=\u001b[39m hippo_lsi_cell\u001b[39m.\u001b[39minitialize_state(\n\u001b[1;32m     50\u001b[0m     subkeys[\u001b[39m7\u001b[39m], batch_size\u001b[39m=\u001b[39mx_jnp\u001b[39m.\u001b[39mshape[\u001b[39m0\u001b[39m], hidden_size\u001b[39m=\u001b[39mN\n\u001b[1;32m     51\u001b[0m )\n\u001b[1;32m     52\u001b[0m t \u001b[39m=\u001b[39m jnp\u001b[39m.\u001b[39marange(\u001b[39m0\u001b[39m, x_jnp\u001b[39m.\u001b[39mshape[\u001b[39m1\u001b[39m])\n\u001b[0;32m---> 53\u001b[0m lsi_variables \u001b[39m=\u001b[39m hippo_lsi_cell\u001b[39m.\u001b[39;49minit(subkeys[\u001b[39m2\u001b[39;49m], c_t_1\u001b[39m=\u001b[39;49mc_t_1, f\u001b[39m=\u001b[39;49mx_jnp, t_step\u001b[39m=\u001b[39;49mt)\n\u001b[1;32m     54\u001b[0m hippo_lsi_cell \u001b[39m=\u001b[39m hippo_lsi_cell\u001b[39m.\u001b[39mbind(lsi_variables)\n\u001b[1;32m     56\u001b[0m \u001b[39mprint\u001b[39m(\u001b[39mf\u001b[39m\u001b[39m\"\u001b[39m\u001b[39mTesting for correct LSI GBT matrices for HiPPO-\u001b[39m\u001b[39m{\u001b[39;00mthe_measure\u001b[39m}\u001b[39;00m\u001b[39m\"\u001b[39m)\n",
      "    \u001b[0;31m[... skipping hidden 10 frame]\u001b[0m\n",
      "File \u001b[0;32m~/Documents/Coding/HiPPO-Jax/src/models/hippo/cells.py:105\u001b[0m, in \u001b[0;36mHiPPOLSICell.__call__\u001b[0;34m(self, c_t_1, f, t_step)\u001b[0m\n\u001b[1;32m    101\u001b[0m t \u001b[39m=\u001b[39m t_step \u001b[39m+\u001b[39m \u001b[39mself\u001b[39m\u001b[39m.\u001b[39minit_t\n\u001b[1;32m    102\u001b[0m \u001b[39m# c_t = (jnp.dot(c_t_1, (self.As_d[t]).T) + ((self.Bs_d[t]).T * f[t, :])).astype(\u001b[39;00m\n\u001b[1;32m    103\u001b[0m \u001b[39m#     self.dtype\u001b[39;00m\n\u001b[1;32m    104\u001b[0m \u001b[39m# )\u001b[39;00m\n\u001b[0;32m--> 105\u001b[0m c_t \u001b[39m=\u001b[39m (jnp\u001b[39m.\u001b[39mdot(c_t_1, (\u001b[39mself\u001b[39m\u001b[39m.\u001b[39mAs_d[t])\u001b[39m.\u001b[39mT) \u001b[39m+\u001b[39m ((\u001b[39mself\u001b[39;49m\u001b[39m.\u001b[39;49mBs_d[t])\u001b[39m.\u001b[39;49mT \u001b[39m*\u001b[39;49m f))\u001b[39m.\u001b[39mastype(\n\u001b[1;32m    106\u001b[0m     \u001b[39mself\u001b[39m\u001b[39m.\u001b[39mdtype\n\u001b[1;32m    107\u001b[0m )\n\u001b[1;32m    109\u001b[0m \u001b[39mif\u001b[39;00m \u001b[39mself\u001b[39m\u001b[39m.\u001b[39mmethod \u001b[39min\u001b[39;00m [\u001b[39m\"\u001b[39m\u001b[39mlegs\u001b[39m\u001b[39m\"\u001b[39m, \u001b[39m\"\u001b[39m\u001b[39mlegt\u001b[39m\u001b[39m\"\u001b[39m, \u001b[39m\"\u001b[39m\u001b[39mlmu\u001b[39m\u001b[39m\"\u001b[39m, \u001b[39m\"\u001b[39m\u001b[39mlagt\u001b[39m\u001b[39m\"\u001b[39m, \u001b[39m\"\u001b[39m\u001b[39mfout\u001b[39m\u001b[39m\"\u001b[39m] \u001b[39mand\u001b[39;00m \u001b[39mself\u001b[39m\u001b[39m.\u001b[39mrecon:\n\u001b[1;32m    110\u001b[0m     y \u001b[39m=\u001b[39m \u001b[39mself\u001b[39m\u001b[39m.\u001b[39mreconstruct(c_t)\u001b[39m.\u001b[39mastype(\u001b[39mself\u001b[39m\u001b[39m.\u001b[39mdtype)\n",
      "File \u001b[0;32m~/.cache/pypoetry/virtualenvs/hippo-pkg-Uqb72G6k-py3.8/lib/python3.8/site-packages/jax/_src/numpy/array_methods.py:258\u001b[0m, in \u001b[0;36m_defer_to_unrecognized_arg.<locals>.deferring_binary_op\u001b[0;34m(self, other)\u001b[0m\n\u001b[1;32m    256\u001b[0m args \u001b[39m=\u001b[39m (other, \u001b[39mself\u001b[39m) \u001b[39mif\u001b[39;00m swap \u001b[39melse\u001b[39;00m (\u001b[39mself\u001b[39m, other)\n\u001b[1;32m    257\u001b[0m \u001b[39mif\u001b[39;00m \u001b[39misinstance\u001b[39m(other, _accepted_binop_types):\n\u001b[0;32m--> 258\u001b[0m   \u001b[39mreturn\u001b[39;00m binary_op(\u001b[39m*\u001b[39;49margs)\n\u001b[1;32m    259\u001b[0m \u001b[39mif\u001b[39;00m \u001b[39misinstance\u001b[39m(other, _rejected_binop_types):\n\u001b[1;32m    260\u001b[0m   \u001b[39mraise\u001b[39;00m \u001b[39mTypeError\u001b[39;00m(\u001b[39mf\u001b[39m\u001b[39m\"\u001b[39m\u001b[39munsupported operand type(s) for \u001b[39m\u001b[39m{\u001b[39;00mopchar\u001b[39m}\u001b[39;00m\u001b[39m: \u001b[39m\u001b[39m\"\u001b[39m\n\u001b[1;32m    261\u001b[0m                   \u001b[39mf\u001b[39m\u001b[39m\"\u001b[39m\u001b[39m{\u001b[39;00m\u001b[39mtype\u001b[39m(args[\u001b[39m0\u001b[39m])\u001b[39m.\u001b[39m\u001b[39m__name__\u001b[39m\u001b[39m!r}\u001b[39;00m\u001b[39m and \u001b[39m\u001b[39m{\u001b[39;00m\u001b[39mtype\u001b[39m(args[\u001b[39m1\u001b[39m])\u001b[39m.\u001b[39m\u001b[39m__name__\u001b[39m\u001b[39m!r}\u001b[39;00m\u001b[39m\"\u001b[39m)\n",
      "    \u001b[0;31m[... skipping hidden 12 frame]\u001b[0m\n",
      "File \u001b[0;32m~/.cache/pypoetry/virtualenvs/hippo-pkg-Uqb72G6k-py3.8/lib/python3.8/site-packages/jax/_src/numpy/ufuncs.py:97\u001b[0m, in \u001b[0;36m_maybe_bool_binop.<locals>.fn\u001b[0;34m(x1, x2)\u001b[0m\n\u001b[1;32m     95\u001b[0m \u001b[39mdef\u001b[39;00m \u001b[39mfn\u001b[39m(x1, x2, \u001b[39m/\u001b[39m):\n\u001b[1;32m     96\u001b[0m   x1, x2 \u001b[39m=\u001b[39m promote_args(numpy_fn\u001b[39m.\u001b[39m\u001b[39m__name__\u001b[39m, x1, x2)\n\u001b[0;32m---> 97\u001b[0m   \u001b[39mreturn\u001b[39;00m lax_fn(x1, x2) \u001b[39mif\u001b[39;00m x1\u001b[39m.\u001b[39mdtype \u001b[39m!=\u001b[39m np\u001b[39m.\u001b[39mbool_ \u001b[39melse\u001b[39;00m bool_lax_fn(x1, x2)\n",
      "    \u001b[0;31m[... skipping hidden 7 frame]\u001b[0m\n",
      "File \u001b[0;32m~/.cache/pypoetry/virtualenvs/hippo-pkg-Uqb72G6k-py3.8/lib/python3.8/site-packages/jax/_src/lax/lax.py:1573\u001b[0m, in \u001b[0;36mbroadcasting_shape_rule\u001b[0;34m(name, *avals)\u001b[0m\n\u001b[1;32m   1571\u001b[0m       result_shape\u001b[39m.\u001b[39mappend(non_1s[\u001b[39m0\u001b[39m])\n\u001b[1;32m   1572\u001b[0m     \u001b[39melse\u001b[39;00m:\n\u001b[0;32m-> 1573\u001b[0m       \u001b[39mraise\u001b[39;00m \u001b[39mTypeError\u001b[39;00m(\u001b[39mf\u001b[39m\u001b[39m'\u001b[39m\u001b[39m{\u001b[39;00mname\u001b[39m}\u001b[39;00m\u001b[39m got incompatible shapes for broadcasting: \u001b[39m\u001b[39m'\u001b[39m\n\u001b[1;32m   1574\u001b[0m                       \u001b[39mf\u001b[39m\u001b[39m'\u001b[39m\u001b[39m{\u001b[39;00m\u001b[39m\"\u001b[39m\u001b[39m, \u001b[39m\u001b[39m\"\u001b[39m\u001b[39m.\u001b[39mjoin(\u001b[39mmap\u001b[39m(\u001b[39mstr\u001b[39m,\u001b[39m \u001b[39m\u001b[39mmap\u001b[39m(\u001b[39mtuple\u001b[39m,\u001b[39m \u001b[39mshapes)))\u001b[39m}\u001b[39;00m\u001b[39m.\u001b[39m\u001b[39m'\u001b[39m)\n\u001b[1;32m   1576\u001b[0m \u001b[39mreturn\u001b[39;00m \u001b[39mtuple\u001b[39m(result_shape)\n",
      "\u001b[0;31mTypeError\u001b[0m: mul got incompatible shapes for broadcasting: (1, 64, 1000), (2, 1000, 1)."
     ]
    }
   ],
   "source": [
    "test_LSI_GBT(\n",
    "    the_measure=\"legs\", lambda_n=1.0, alpha=0.0, discretization=0.0, print_all=print_all\n",
    ")"
   ]
  },
  {
   "cell_type": "code",
   "execution_count": null,
   "metadata": {},
   "outputs": [],
   "source": [
    "test_LTI_GBT(\n",
    "    the_measure=\"legs\", lambda_n=1.0, alpha=0.0, discretization=0.0, print_all=print_all\n",
    ")"
   ]
  },
  {
   "attachments": {},
   "cell_type": "markdown",
   "metadata": {},
   "source": [
    "#### LegT"
   ]
  },
  {
   "cell_type": "code",
   "execution_count": null,
   "metadata": {},
   "outputs": [
    {
     "name": "stdout",
     "output_type": "stream",
     "text": [
      "Creating Gu's HiPPO-legt LTI model with 0.0 transform\n",
      "Creating HiPPO-legt LTI model with 0.0 transform\n",
      "Testing Coeffiecients for 0.0 LTI HiPPO-legt\n",
      "Jax Duration: 0.21370410919189453\n",
      "PyTorch Duration: 0.12743449211120605\n",
      "\n",
      "------------------------------------------------------------\n",
      "---------- The Coefficients Test Passed: True ----------\n",
      "-------------------------------------------------------------\n",
      "\n",
      "\n",
      "end of test for HiPPO-legt model\n"
     ]
    }
   ],
   "source": [
    "test_LTI_GBT(\n",
    "    the_measure=\"legt\", lambda_n=1.0, alpha=0.0, discretization=0.0, print_all=print_all\n",
    ")"
   ]
  },
  {
   "attachments": {},
   "cell_type": "markdown",
   "metadata": {},
   "source": [
    "#### LMU"
   ]
  },
  {
   "cell_type": "code",
   "execution_count": null,
   "metadata": {},
   "outputs": [
    {
     "name": "stdout",
     "output_type": "stream",
     "text": [
      "Creating Gu's HiPPO-lmu LTI model with 0.0 transform\n",
      "Creating HiPPO-lmu LTI model with 0.0 transform\n",
      "Testing Coeffiecients for 0.0 LTI HiPPO-lmu\n",
      "Jax Duration: 0.20223116874694824\n",
      "PyTorch Duration: 0.12044692039489746\n",
      "\n",
      "------------------------------------------------------------\n",
      "---------- The Coefficients Test Passed: True ----------\n",
      "-------------------------------------------------------------\n",
      "\n",
      "\n",
      "end of test for HiPPO-lmu model\n"
     ]
    }
   ],
   "source": [
    "test_LTI_GBT(\n",
    "    the_measure=\"lmu\", lambda_n=2.0, alpha=0.0, discretization=0.0, print_all=print_all\n",
    ")"
   ]
  },
  {
   "attachments": {},
   "cell_type": "markdown",
   "metadata": {},
   "source": [
    "#### LagT"
   ]
  },
  {
   "cell_type": "code",
   "execution_count": null,
   "metadata": {},
   "outputs": [
    {
     "name": "stdout",
     "output_type": "stream",
     "text": [
      "Creating Gu's HiPPO-lagt LTI model with 0.0 transform\n",
      "Creating HiPPO-lagt LTI model with 0.0 transform\n",
      "Testing Coeffiecients for 0.0 LTI HiPPO-lagt\n",
      "Jax Duration: 0.20954418182373047\n",
      "PyTorch Duration: 0.12122273445129395\n",
      "\n",
      "------------------------------------------------------------\n",
      "---------- The Coefficients Test Passed: True ----------\n",
      "-------------------------------------------------------------\n",
      "\n",
      "\n",
      "end of test for HiPPO-lagt model\n"
     ]
    }
   ],
   "source": [
    "test_LTI_GBT(\n",
    "    the_measure=\"lagt\", lambda_n=1.0, alpha=0.0, discretization=0.0, print_all=print_all\n",
    ")"
   ]
  },
  {
   "attachments": {},
   "cell_type": "markdown",
   "metadata": {},
   "source": [
    "#### FRU"
   ]
  },
  {
   "cell_type": "code",
   "execution_count": null,
   "metadata": {},
   "outputs": [
    {
     "name": "stdout",
     "output_type": "stream",
     "text": [
      "Creating Gu's HiPPO-fru LTI model with 0.0 transform\n",
      "Creating HiPPO-fru LTI model with 0.0 transform\n",
      "Testing Coeffiecients for 0.0 LTI HiPPO-fru\n",
      "Jax Duration: 0.23551368713378906\n",
      "PyTorch Duration: 0.12724924087524414\n",
      "\n",
      "------------------------------------------------------------\n",
      "---------- The Coefficients Test Passed: True ----------\n",
      "-------------------------------------------------------------\n",
      "\n",
      "\n",
      "end of test for HiPPO-fru model\n"
     ]
    }
   ],
   "source": [
    "test_LTI_GBT(\n",
    "    the_measure=\"fru\", lambda_n=1.0, alpha=0.0, discretization=0.0, print_all=print_all\n",
    ")"
   ]
  },
  {
   "attachments": {},
   "cell_type": "markdown",
   "metadata": {},
   "source": [
    "#### FouT"
   ]
  },
  {
   "cell_type": "code",
   "execution_count": null,
   "metadata": {},
   "outputs": [
    {
     "name": "stdout",
     "output_type": "stream",
     "text": [
      "Creating Gu's HiPPO-fout LTI model with 0.0 transform\n",
      "Creating HiPPO-fout LTI model with 0.0 transform\n",
      "Testing Coeffiecients for 0.0 LTI HiPPO-fout\n",
      "Jax Duration: 0.26561474800109863\n",
      "PyTorch Duration: 0.13262104988098145\n",
      "\n",
      "------------------------------------------------------------\n",
      "---------- The Coefficients Test Passed: True ----------\n",
      "-------------------------------------------------------------\n",
      "\n",
      "\n",
      "end of test for HiPPO-fout model\n"
     ]
    }
   ],
   "source": [
    "test_LTI_GBT(\n",
    "    the_measure=\"fout\", lambda_n=1.0, alpha=0.0, discretization=0.0, print_all=print_all\n",
    ")"
   ]
  },
  {
   "attachments": {},
   "cell_type": "markdown",
   "metadata": {},
   "source": [
    "#### FouD"
   ]
  },
  {
   "cell_type": "code",
   "execution_count": null,
   "metadata": {},
   "outputs": [
    {
     "name": "stdout",
     "output_type": "stream",
     "text": [
      "Creating Gu's HiPPO-foud LTI model with 0.0 transform\n",
      "Creating HiPPO-foud LTI model with 0.0 transform\n",
      "Testing Coeffiecients for 0.0 LTI HiPPO-foud\n",
      "Jax Duration: 0.23000240325927734\n",
      "PyTorch Duration: 0.12862062454223633\n",
      "\n",
      "------------------------------------------------------------\n",
      "---------- The Coefficients Test Passed: True ----------\n",
      "-------------------------------------------------------------\n",
      "\n",
      "\n",
      "end of test for HiPPO-foud model\n"
     ]
    }
   ],
   "source": [
    "test_LTI_GBT(\n",
    "    the_measure=\"foud\", lambda_n=1.0, alpha=0.0, discretization=0.0, print_all=print_all\n",
    ")"
   ]
  },
  {
   "attachments": {},
   "cell_type": "markdown",
   "metadata": {},
   "source": [
    "### Testing (LTI and LSI) Operators With Backward Euler Transform"
   ]
  },
  {
   "attachments": {},
   "cell_type": "markdown",
   "metadata": {},
   "source": [
    "#### LegS"
   ]
  },
  {
   "cell_type": "code",
   "execution_count": null,
   "metadata": {},
   "outputs": [],
   "source": [
    "test_LSI_GBT(\n",
    "    the_measure=\"legs\", lambda_n=1.0, alpha=1.0, discretization=1.0, print_all=print_all\n",
    ")"
   ]
  },
  {
   "cell_type": "code",
   "execution_count": null,
   "metadata": {},
   "outputs": [],
   "source": [
    "test_LTI_GBT(\n",
    "    the_measure=\"legs\", lambda_n=1.0, alpha=1.0, discretization=1.0, print_all=print_all\n",
    ")"
   ]
  },
  {
   "attachments": {},
   "cell_type": "markdown",
   "metadata": {},
   "source": [
    "#### LegT"
   ]
  },
  {
   "cell_type": "code",
   "execution_count": null,
   "metadata": {},
   "outputs": [
    {
     "name": "stdout",
     "output_type": "stream",
     "text": [
      "Creating Gu's HiPPO-legt LTI model with 1.0 transform\n",
      "Creating HiPPO-legt LTI model with 1.0 transform\n",
      "Testing Coeffiecients for 1.0 LTI HiPPO-legt\n",
      "Jax Duration: 0.2201390266418457\n",
      "PyTorch Duration: 0.12486433982849121\n",
      "\n",
      "------------------------------------------------------------\n",
      "---------- The Coefficients Test Passed: True ----------\n",
      "-------------------------------------------------------------\n",
      "\n",
      "\n",
      "end of test for HiPPO-legt model\n"
     ]
    }
   ],
   "source": [
    "test_LTI_GBT(\n",
    "    the_measure=\"legt\", lambda_n=1.0, alpha=1.0, discretization=1.0, print_all=print_all\n",
    ")"
   ]
  },
  {
   "attachments": {},
   "cell_type": "markdown",
   "metadata": {},
   "source": [
    "#### LMU"
   ]
  },
  {
   "cell_type": "code",
   "execution_count": null,
   "metadata": {},
   "outputs": [
    {
     "name": "stdout",
     "output_type": "stream",
     "text": [
      "Creating Gu's HiPPO-lmu LTI model with 1.0 transform\n",
      "Creating HiPPO-lmu LTI model with 1.0 transform\n",
      "Testing Coeffiecients for 1.0 LTI HiPPO-lmu\n",
      "Jax Duration: 0.2026219367980957\n",
      "PyTorch Duration: 0.12890625\n",
      "\n",
      "------------------------------------------------------------\n",
      "---------- The Coefficients Test Passed: True ----------\n",
      "-------------------------------------------------------------\n",
      "\n",
      "\n",
      "end of test for HiPPO-lmu model\n"
     ]
    }
   ],
   "source": [
    "test_LTI_GBT(\n",
    "    the_measure=\"lmu\", lambda_n=2.0, alpha=1.0, discretization=1.0, print_all=print_all\n",
    ")"
   ]
  },
  {
   "attachments": {},
   "cell_type": "markdown",
   "metadata": {},
   "source": [
    "#### LagT"
   ]
  },
  {
   "cell_type": "code",
   "execution_count": null,
   "metadata": {},
   "outputs": [
    {
     "name": "stdout",
     "output_type": "stream",
     "text": [
      "Creating Gu's HiPPO-lagt LTI model with 1.0 transform\n",
      "Creating HiPPO-lagt LTI model with 1.0 transform\n",
      "Testing Coeffiecients for 1.0 LTI HiPPO-lagt\n",
      "Jax Duration: 0.21983551979064941\n",
      "PyTorch Duration: 0.12653017044067383\n",
      "\n",
      "------------------------------------------------------------\n",
      "---------- The Coefficients Test Passed: True ----------\n",
      "-------------------------------------------------------------\n",
      "\n",
      "\n",
      "end of test for HiPPO-lagt model\n"
     ]
    }
   ],
   "source": [
    "test_LTI_GBT(\n",
    "    the_measure=\"lagt\", lambda_n=1.0, alpha=1.0, discretization=1.0, print_all=print_all\n",
    ")"
   ]
  },
  {
   "attachments": {},
   "cell_type": "markdown",
   "metadata": {},
   "source": [
    "#### FRU"
   ]
  },
  {
   "cell_type": "code",
   "execution_count": null,
   "metadata": {},
   "outputs": [
    {
     "name": "stdout",
     "output_type": "stream",
     "text": [
      "Creating Gu's HiPPO-fru LTI model with 1.0 transform\n",
      "Creating HiPPO-fru LTI model with 1.0 transform\n",
      "Testing Coeffiecients for 1.0 LTI HiPPO-fru\n",
      "Jax Duration: 0.21619820594787598\n",
      "PyTorch Duration: 0.12327194213867188\n",
      "\n",
      "------------------------------------------------------------\n",
      "---------- The Coefficients Test Passed: True ----------\n",
      "-------------------------------------------------------------\n",
      "\n",
      "\n",
      "end of test for HiPPO-fru model\n"
     ]
    }
   ],
   "source": [
    "test_LTI_GBT(\n",
    "    the_measure=\"fru\", lambda_n=1.0, alpha=1.0, discretization=1.0, print_all=print_all\n",
    ")"
   ]
  },
  {
   "attachments": {},
   "cell_type": "markdown",
   "metadata": {},
   "source": [
    "#### FouT"
   ]
  },
  {
   "cell_type": "code",
   "execution_count": null,
   "metadata": {},
   "outputs": [
    {
     "name": "stdout",
     "output_type": "stream",
     "text": [
      "Creating Gu's HiPPO-fout LTI model with 1.0 transform\n",
      "Creating HiPPO-fout LTI model with 1.0 transform\n",
      "Testing Coeffiecients for 1.0 LTI HiPPO-fout\n",
      "Jax Duration: 0.28851747512817383\n",
      "PyTorch Duration: 0.12918448448181152\n",
      "\n",
      "------------------------------------------------------------\n",
      "---------- The Coefficients Test Passed: True ----------\n",
      "-------------------------------------------------------------\n",
      "\n",
      "\n",
      "end of test for HiPPO-fout model\n"
     ]
    }
   ],
   "source": [
    "test_LTI_GBT(\n",
    "    the_measure=\"fout\", lambda_n=1.0, alpha=1.0, discretization=1.0, print_all=print_all\n",
    ")"
   ]
  },
  {
   "attachments": {},
   "cell_type": "markdown",
   "metadata": {},
   "source": [
    "#### FouD"
   ]
  },
  {
   "cell_type": "code",
   "execution_count": null,
   "metadata": {},
   "outputs": [
    {
     "name": "stdout",
     "output_type": "stream",
     "text": [
      "Creating Gu's HiPPO-foud LTI model with 1.0 transform\n",
      "Creating HiPPO-foud LTI model with 1.0 transform\n",
      "Testing Coeffiecients for 1.0 LTI HiPPO-foud\n",
      "Jax Duration: 0.25328493118286133\n",
      "PyTorch Duration: 0.12967562675476074\n",
      "\n",
      "------------------------------------------------------------\n",
      "---------- The Coefficients Test Passed: True ----------\n",
      "-------------------------------------------------------------\n",
      "\n",
      "\n",
      "end of test for HiPPO-foud model\n"
     ]
    }
   ],
   "source": [
    "test_LTI_GBT(\n",
    "    the_measure=\"foud\", lambda_n=1.0, alpha=1.0, discretization=1.0, print_all=print_all\n",
    ")"
   ]
  },
  {
   "attachments": {},
   "cell_type": "markdown",
   "metadata": {},
   "source": [
    "### Testing (LTI and LSI) Operators With Bidirectional Transform"
   ]
  },
  {
   "attachments": {},
   "cell_type": "markdown",
   "metadata": {},
   "source": [
    "#### LegS"
   ]
  },
  {
   "cell_type": "code",
   "execution_count": null,
   "metadata": {},
   "outputs": [
    {
     "name": "stdout",
     "output_type": "stream",
     "text": [
      "Creating Gu's HiPPO-legs LSI model with 0.5 transform\n",
      "Creating HiPPO-legs LSI model with 0.5 transform\n",
      "\n",
      "\n",
      "Testing Coeffiecients for 0.5 LSI HiPPO-legs\n",
      "Jax Duration: 0.3303253650665283\n",
      "PyTorch Duration: 0.13050270080566406\n",
      "\n",
      "------------------------------------------------------------\n",
      "---------- The Coefficients Test Passed: True ----------\n",
      "-------------------------------------------------------------\n",
      "\n",
      "\n",
      "end of test for HiPPO-legs model\n"
     ]
    }
   ],
   "source": [
    "test_LSI_GBT(\n",
    "    the_measure=\"legs\", lambda_n=1.0, alpha=0.5, discretization=0.5, print_all=print_all\n",
    ")"
   ]
  },
  {
   "cell_type": "code",
   "execution_count": null,
   "metadata": {},
   "outputs": [
    {
     "name": "stdout",
     "output_type": "stream",
     "text": [
      "Creating Gu's HiPPO-legs LTI model with 0.5 transform\n",
      "Creating HiPPO-legs LTI model with 0.5 transform\n",
      "Testing Coeffiecients for 0.5 LTI HiPPO-legs\n",
      "Jax Duration: 0.22737574577331543\n",
      "PyTorch Duration: 0.12870502471923828\n",
      "\n",
      "------------------------------------------------------------\n",
      "---------- The Coefficients Test Passed: True ----------\n",
      "-------------------------------------------------------------\n",
      "\n",
      "\n",
      "end of test for HiPPO-legs model\n"
     ]
    }
   ],
   "source": [
    "test_LTI_GBT(\n",
    "    the_measure=\"legs\", lambda_n=1.0, alpha=0.5, discretization=0.5, print_all=print_all\n",
    ")"
   ]
  },
  {
   "attachments": {},
   "cell_type": "markdown",
   "metadata": {},
   "source": [
    "#### LegT"
   ]
  },
  {
   "cell_type": "code",
   "execution_count": null,
   "metadata": {},
   "outputs": [
    {
     "name": "stdout",
     "output_type": "stream",
     "text": [
      "Creating Gu's HiPPO-legt LTI model with 0.5 transform\n",
      "Creating HiPPO-legt LTI model with 0.5 transform\n",
      "Testing Coeffiecients for 0.5 LTI HiPPO-legt\n",
      "Jax Duration: 0.2138075828552246\n",
      "PyTorch Duration: 0.13062429428100586\n",
      "\n",
      "------------------------------------------------------------\n",
      "---------- The Coefficients Test Passed: True ----------\n",
      "-------------------------------------------------------------\n",
      "\n",
      "\n",
      "end of test for HiPPO-legt model\n"
     ]
    }
   ],
   "source": [
    "test_LTI_GBT(\n",
    "    the_measure=\"legt\", lambda_n=1.0, alpha=0.5, discretization=0.5, print_all=print_all\n",
    ")"
   ]
  },
  {
   "attachments": {},
   "cell_type": "markdown",
   "metadata": {},
   "source": [
    "#### LMU"
   ]
  },
  {
   "cell_type": "code",
   "execution_count": null,
   "metadata": {},
   "outputs": [
    {
     "name": "stdout",
     "output_type": "stream",
     "text": [
      "Creating Gu's HiPPO-lmu LTI model with 0.5 transform\n",
      "Creating HiPPO-lmu LTI model with 0.5 transform\n",
      "Testing Coeffiecients for 0.5 LTI HiPPO-lmu\n",
      "Jax Duration: 0.203108549118042\n",
      "PyTorch Duration: 0.12275242805480957\n",
      "\n",
      "------------------------------------------------------------\n",
      "---------- The Coefficients Test Passed: True ----------\n",
      "-------------------------------------------------------------\n",
      "\n",
      "\n",
      "end of test for HiPPO-lmu model\n"
     ]
    }
   ],
   "source": [
    "test_LTI_GBT(\n",
    "    the_measure=\"lmu\", lambda_n=2.0, alpha=0.5, discretization=0.5, print_all=print_all\n",
    ")"
   ]
  },
  {
   "attachments": {},
   "cell_type": "markdown",
   "metadata": {},
   "source": [
    "#### LagT"
   ]
  },
  {
   "cell_type": "code",
   "execution_count": null,
   "metadata": {},
   "outputs": [
    {
     "name": "stdout",
     "output_type": "stream",
     "text": [
      "Creating Gu's HiPPO-lagt LTI model with 0.5 transform\n",
      "Creating HiPPO-lagt LTI model with 0.5 transform\n",
      "Testing Coeffiecients for 0.5 LTI HiPPO-lagt\n",
      "Jax Duration: 0.2168130874633789\n",
      "PyTorch Duration: 0.1261742115020752\n",
      "\n",
      "------------------------------------------------------------\n",
      "---------- The Coefficients Test Passed: True ----------\n",
      "-------------------------------------------------------------\n",
      "\n",
      "\n",
      "end of test for HiPPO-lagt model\n"
     ]
    }
   ],
   "source": [
    "test_LTI_GBT(\n",
    "    the_measure=\"lagt\", lambda_n=1.0, alpha=0.5, discretization=0.5, print_all=print_all\n",
    ")"
   ]
  },
  {
   "attachments": {},
   "cell_type": "markdown",
   "metadata": {},
   "source": [
    "#### FRU"
   ]
  },
  {
   "cell_type": "code",
   "execution_count": null,
   "metadata": {},
   "outputs": [
    {
     "name": "stdout",
     "output_type": "stream",
     "text": [
      "Creating Gu's HiPPO-fru LTI model with 0.5 transform\n",
      "Creating HiPPO-fru LTI model with 0.5 transform\n",
      "Testing Coeffiecients for 0.5 LTI HiPPO-fru\n",
      "Jax Duration: 0.23087668418884277\n",
      "PyTorch Duration: 0.12711548805236816\n",
      "\n",
      "------------------------------------------------------------\n",
      "---------- The Coefficients Test Passed: True ----------\n",
      "-------------------------------------------------------------\n",
      "\n",
      "\n",
      "end of test for HiPPO-fru model\n"
     ]
    }
   ],
   "source": [
    "test_LTI_GBT(\n",
    "    the_measure=\"fru\", lambda_n=1.0, alpha=0.5, discretization=0.5, print_all=print_all\n",
    ")"
   ]
  },
  {
   "attachments": {},
   "cell_type": "markdown",
   "metadata": {},
   "source": [
    "#### FouT"
   ]
  },
  {
   "cell_type": "code",
   "execution_count": null,
   "metadata": {},
   "outputs": [
    {
     "name": "stdout",
     "output_type": "stream",
     "text": [
      "Creating Gu's HiPPO-fout LTI model with 0.5 transform\n",
      "Creating HiPPO-fout LTI model with 0.5 transform\n",
      "Testing Coeffiecients for 0.5 LTI HiPPO-fout\n",
      "Jax Duration: 0.25879812240600586\n",
      "PyTorch Duration: 0.1258854866027832\n",
      "\n",
      "------------------------------------------------------------\n",
      "---------- The Coefficients Test Passed: True ----------\n",
      "-------------------------------------------------------------\n",
      "\n",
      "\n",
      "end of test for HiPPO-fout model\n"
     ]
    }
   ],
   "source": [
    "test_LTI_GBT(\n",
    "    the_measure=\"fout\", lambda_n=1.0, alpha=0.5, discretization=0.5, print_all=print_all\n",
    ")"
   ]
  },
  {
   "attachments": {},
   "cell_type": "markdown",
   "metadata": {},
   "source": [
    "#### FouD"
   ]
  },
  {
   "cell_type": "code",
   "execution_count": null,
   "metadata": {},
   "outputs": [
    {
     "name": "stdout",
     "output_type": "stream",
     "text": [
      "Creating Gu's HiPPO-foud LTI model with 0.5 transform\n",
      "Creating HiPPO-foud LTI model with 0.5 transform\n",
      "Testing Coeffiecients for 0.5 LTI HiPPO-foud\n",
      "Jax Duration: 0.23973417282104492\n",
      "PyTorch Duration: 0.12212300300598145\n",
      "\n",
      "------------------------------------------------------------\n",
      "---------- The Coefficients Test Passed: True ----------\n",
      "-------------------------------------------------------------\n",
      "\n",
      "\n",
      "end of test for HiPPO-foud model\n"
     ]
    }
   ],
   "source": [
    "test_LTI_GBT(\n",
    "    the_measure=\"foud\", lambda_n=1.0, alpha=0.5, discretization=0.5, print_all=print_all\n",
    ")"
   ]
  },
  {
   "attachments": {},
   "cell_type": "markdown",
   "metadata": {},
   "source": [
    "### Testing (LTI and LSI) Operators With ZOH Transform"
   ]
  },
  {
   "attachments": {},
   "cell_type": "markdown",
   "metadata": {},
   "source": [
    "#### LegS"
   ]
  },
  {
   "cell_type": "code",
   "execution_count": null,
   "metadata": {},
   "outputs": [
    {
     "name": "stdout",
     "output_type": "stream",
     "text": [
      "Creating Gu's HiPPO-legs LSI model with 2.0 transform\n",
      "Creating HiPPO-legs LSI model with 2.0 transform\n",
      "\n",
      "\n",
      "Testing Coeffiecients for 2.0 LSI HiPPO-legs\n",
      "Jax Duration: 0.3464968204498291\n",
      "PyTorch Duration: 0.13298988342285156\n",
      "\n",
      "------------------------------------------------------------\n",
      "---------- The Coefficients Test Passed: True ----------\n",
      "-------------------------------------------------------------\n",
      "\n",
      "\n",
      "end of test for HiPPO-legs model\n"
     ]
    }
   ],
   "source": [
    "test_LSI_GBT(\n",
    "    the_measure=\"legs\",\n",
    "    lambda_n=1.0,\n",
    "    alpha=2.0,\n",
    "    discretization=\"zoh\",\n",
    "    print_all=print_all,\n",
    ")"
   ]
  },
  {
   "cell_type": "code",
   "execution_count": null,
   "metadata": {},
   "outputs": [
    {
     "name": "stdout",
     "output_type": "stream",
     "text": [
      "Creating Gu's HiPPO-legs LTI model with 2.0 transform\n",
      "Creating HiPPO-legs LTI model with 2.0 transform\n",
      "Testing Coeffiecients for 2.0 LTI HiPPO-legs\n",
      "Jax Duration: 0.22150254249572754\n",
      "PyTorch Duration: 0.12716913223266602\n",
      "\n",
      "------------------------------------------------------------\n",
      "---------- The Coefficients Test Passed: True ----------\n",
      "-------------------------------------------------------------\n",
      "\n",
      "\n",
      "end of test for HiPPO-legs model\n"
     ]
    }
   ],
   "source": [
    "test_LTI_GBT(\n",
    "    the_measure=\"legs\",\n",
    "    lambda_n=1.0,\n",
    "    alpha=2.0,\n",
    "    discretization=\"zoh\",\n",
    "    print_all=print_all,\n",
    ")"
   ]
  },
  {
   "attachments": {},
   "cell_type": "markdown",
   "metadata": {},
   "source": [
    "#### LegT"
   ]
  },
  {
   "cell_type": "code",
   "execution_count": null,
   "metadata": {},
   "outputs": [
    {
     "name": "stdout",
     "output_type": "stream",
     "text": [
      "Creating Gu's HiPPO-legt LTI model with 2.0 transform\n",
      "Creating HiPPO-legt LTI model with 2.0 transform\n",
      "Testing Coeffiecients for 2.0 LTI HiPPO-legt\n",
      "Jax Duration: 0.22566962242126465\n",
      "PyTorch Duration: 0.12636852264404297\n",
      "\n",
      "------------------------------------------------------------\n",
      "---------- The Coefficients Test Passed: True ----------\n",
      "-------------------------------------------------------------\n",
      "\n",
      "\n",
      "end of test for HiPPO-legt model\n"
     ]
    }
   ],
   "source": [
    "test_LTI_GBT(\n",
    "    the_measure=\"legt\",\n",
    "    lambda_n=1.0,\n",
    "    alpha=2.0,\n",
    "    discretization=\"zoh\",\n",
    "    print_all=print_all,\n",
    ")"
   ]
  },
  {
   "attachments": {},
   "cell_type": "markdown",
   "metadata": {},
   "source": [
    "#### LMU"
   ]
  },
  {
   "cell_type": "code",
   "execution_count": null,
   "metadata": {},
   "outputs": [
    {
     "name": "stdout",
     "output_type": "stream",
     "text": [
      "Creating Gu's HiPPO-lmu LTI model with 2.0 transform\n",
      "Creating HiPPO-lmu LTI model with 2.0 transform\n",
      "Testing Coeffiecients for 2.0 LTI HiPPO-lmu\n",
      "Jax Duration: 0.2460160255432129\n",
      "PyTorch Duration: 0.12760305404663086\n",
      "\n",
      "------------------------------------------------------------\n",
      "---------- The Coefficients Test Passed: True ----------\n",
      "-------------------------------------------------------------\n",
      "\n",
      "\n",
      "end of test for HiPPO-lmu model\n"
     ]
    }
   ],
   "source": [
    "test_LTI_GBT(\n",
    "    the_measure=\"lmu\",\n",
    "    lambda_n=2.0,\n",
    "    alpha=2.0,\n",
    "    discretization=\"zoh\",\n",
    "    print_all=print_all,\n",
    ")"
   ]
  },
  {
   "attachments": {},
   "cell_type": "markdown",
   "metadata": {},
   "source": [
    "#### LagT"
   ]
  },
  {
   "cell_type": "code",
   "execution_count": null,
   "metadata": {},
   "outputs": [
    {
     "name": "stdout",
     "output_type": "stream",
     "text": [
      "Creating Gu's HiPPO-lagt LTI model with 2.0 transform\n",
      "Creating HiPPO-lagt LTI model with 2.0 transform\n",
      "Testing Coeffiecients for 2.0 LTI HiPPO-lagt\n",
      "Jax Duration: 0.23780131340026855\n",
      "PyTorch Duration: 0.1227273941040039\n",
      "\n",
      "------------------------------------------------------------\n",
      "---------- The Coefficients Test Passed: True ----------\n",
      "-------------------------------------------------------------\n",
      "\n",
      "\n",
      "end of test for HiPPO-lagt model\n"
     ]
    }
   ],
   "source": [
    "test_LTI_GBT(\n",
    "    the_measure=\"lagt\",\n",
    "    lambda_n=1.0,\n",
    "    alpha=2.0,\n",
    "    discretization=\"zoh\",\n",
    "    print_all=print_all,\n",
    ")"
   ]
  },
  {
   "attachments": {},
   "cell_type": "markdown",
   "metadata": {},
   "source": [
    "#### FRU"
   ]
  },
  {
   "cell_type": "code",
   "execution_count": null,
   "metadata": {},
   "outputs": [
    {
     "name": "stdout",
     "output_type": "stream",
     "text": [
      "Creating Gu's HiPPO-fru LTI model with 2.0 transform\n",
      "Creating HiPPO-fru LTI model with 2.0 transform\n",
      "Testing Coeffiecients for 2.0 LTI HiPPO-fru\n",
      "Jax Duration: 0.24944567680358887\n",
      "PyTorch Duration: 0.12150359153747559\n",
      "\n",
      "------------------------------------------------------------\n",
      "---------- The Coefficients Test Passed: True ----------\n",
      "-------------------------------------------------------------\n",
      "\n",
      "\n",
      "end of test for HiPPO-fru model\n"
     ]
    }
   ],
   "source": [
    "test_LTI_GBT(\n",
    "    the_measure=\"fru\",\n",
    "    lambda_n=1.0,\n",
    "    alpha=2.0,\n",
    "    discretization=\"zoh\",\n",
    "    print_all=print_all,\n",
    ")"
   ]
  },
  {
   "attachments": {},
   "cell_type": "markdown",
   "metadata": {},
   "source": [
    "#### FouT"
   ]
  },
  {
   "cell_type": "code",
   "execution_count": null,
   "metadata": {},
   "outputs": [
    {
     "name": "stdout",
     "output_type": "stream",
     "text": [
      "Creating Gu's HiPPO-fout LTI model with 2.0 transform\n",
      "Creating HiPPO-fout LTI model with 2.0 transform\n",
      "Testing Coeffiecients for 2.0 LTI HiPPO-fout\n",
      "Jax Duration: 0.28164148330688477\n",
      "PyTorch Duration: 0.1184089183807373\n",
      "\n",
      "------------------------------------------------------------\n",
      "---------- The Coefficients Test Passed: True ----------\n",
      "-------------------------------------------------------------\n",
      "\n",
      "\n",
      "end of test for HiPPO-fout model\n"
     ]
    }
   ],
   "source": [
    "test_LTI_GBT(\n",
    "    the_measure=\"fout\",\n",
    "    lambda_n=1.0,\n",
    "    alpha=2.0,\n",
    "    discretization=\"zoh\",\n",
    "    print_all=print_all,\n",
    ")"
   ]
  },
  {
   "attachments": {},
   "cell_type": "markdown",
   "metadata": {},
   "source": [
    "#### FouD"
   ]
  },
  {
   "cell_type": "code",
   "execution_count": null,
   "metadata": {},
   "outputs": [
    {
     "name": "stdout",
     "output_type": "stream",
     "text": [
      "Creating Gu's HiPPO-foud LTI model with 2.0 transform\n",
      "Creating HiPPO-foud LTI model with 2.0 transform\n",
      "Testing Coeffiecients for 2.0 LTI HiPPO-foud\n",
      "Jax Duration: 0.2612276077270508\n",
      "PyTorch Duration: 0.12821745872497559\n",
      "\n",
      "------------------------------------------------------------\n",
      "---------- The Coefficients Test Passed: True ----------\n",
      "-------------------------------------------------------------\n",
      "\n",
      "\n",
      "end of test for HiPPO-foud model\n"
     ]
    }
   ],
   "source": [
    "test_LTI_GBT(\n",
    "    the_measure=\"foud\",\n",
    "    lambda_n=1.0,\n",
    "    alpha=2.0,\n",
    "    discretization=\"zoh\",\n",
    "    print_all=print_all,\n",
    ")"
   ]
  }
 ],
 "metadata": {
  "kernelspec": {
   "display_name": "s4mer-pkg-jZnBSgjq-py3.8",
   "language": "python",
   "name": "python3"
  },
  "language_info": {
   "codemirror_mode": {
    "name": "ipython",
    "version": 3
   },
   "file_extension": ".py",
   "mimetype": "text/x-python",
   "name": "python",
   "nbconvert_exporter": "python",
   "pygments_lexer": "ipython3",
   "version": "3.8.13"
  },
  "orig_nbformat": 4,
  "vscode": {
   "interpreter": {
    "hash": "0a81e05d1d7f7eae781698b7c1b81c0d771335201ebad1d81045cb177cef974b"
   }
  }
 },
 "nbformat": 4,
 "nbformat_minor": 2
}
