{
 "cells": [
  {
   "attachments": {},
   "cell_type": "markdown",
   "metadata": {},
   "source": [
    "# HiPPO Matrices\n",
    "---"
   ]
  },
  {
   "attachments": {},
   "cell_type": "markdown",
   "metadata": {},
   "source": [
    "## Table of Contents\n",
    "* [Loading In Necessary Packages](#load-packages)\n",
    "* [Instantiate The HiPPO Matrix](#instantiate-the-hippo-matrix)\n",
    "    * [Translated Legendre (LegT)](#translated-legendre-legt)\n",
    "        * [LegT](#legt)\n",
    "        * [LMU](#lmu)\n",
    "    * [Translated Laguerre (LagT)](#translated-laguerre-lagt)\n",
    "    * [Scaled Legendre (LegS)](#scaled-legendre-legs)\n",
    "    * [Fourier Basis](#fourier-basis)\n",
    "        * [Fourier Recurrent Unit (FRU)](#fourier-recurrent-unit-fru)\n",
    "        * [Truncated Fourier (FouT)](#truncated-fourier-fout)\n",
    "        * [Fourier With Decay (FourD)](#fourier-with-decay-fourd)\n",
    "* [Gu's Linear Time Invariant (LTI) HiPPO Operator](#gus-hippo-legt-operator)\n",
    "* [Gu's Scale invariant (LSI) HiPPO Operator](#gus-scale-invariant-hippo-legs-operator)\n",
    "* [Implementation Of General HiPPO Operator](#implementation-of-general-hippo-operator)\n",
    "* [Test Generalized Bilinear Transform and Zero Order Hold Matrices](#test-generalized-bilinear-transform-and-zero-order-hold-matrices)\n",
    "    * [Testing Forward Euler on GBT matrices](#testing-forward-euler-transform-for-lti-and-lsi)\n",
    "    * [Testing Backward Euler on GBT matrices](#testing-backward-euler-transform-for-lti-and-lsi-on-legs-matrices)\n",
    "    * [Testing Bidirectional on GBT matrices](#testing-lti-and-lsi-operators-with-bidirectional-transform)\n",
    "    * [Testing ZOH on GBT matrices](#testing-zoh-transform-for-lti-and-lsi-on-legs-matrices)\n",
    "* [Testing HiPPO Operators](#test-hippo-operators)\n",
    "    * [Testing Forward Euler on HiPPO Operators](#testing-lti-and-lsi-operators-with-forward-euler-transform)\n",
    "    * [Testing Backward Euler on HiPPO Operators](#testing-lti-and-lsi-operators-with-backward-euler-transform)\n",
    "    * [Testing Bidirectional on HiPPO Operators](#testing-lti-and-lsi-operators-with-bidirectional-transform)\n",
    "    * [Testing ZOH on HiPPO Operators](#testing-lti-and-lsi-operators-with-zoh-transform)\n",
    "---\n"
   ]
  },
  {
   "attachments": {},
   "cell_type": "markdown",
   "metadata": {},
   "source": [
    "## Load Packages"
   ]
  },
  {
   "cell_type": "code",
   "execution_count": 1,
   "metadata": {},
   "outputs": [
    {
     "name": "stdout",
     "output_type": "stream",
     "text": [
      "module_path: /home/beegass/Documents/Coding/HiPPO-Jax\n"
     ]
    }
   ],
   "source": [
    "import os\n",
    "import sys\n",
    "\n",
    "module_path = os.path.abspath(os.path.join(\"../../../\"))\n",
    "print(f\"module_path: {module_path}\")\n",
    "if module_path not in sys.path:\n",
    "    print(f\"Adding {module_path} to sys.path\")\n",
    "    sys.path.append(module_path)"
   ]
  },
  {
   "cell_type": "code",
   "execution_count": 2,
   "metadata": {},
   "outputs": [],
   "source": [
    "# os.environ[\"XLA_PYTHON_CLIENT_PREALLOCATE\"] = \"False\"\n",
    "os.environ[\"TF_FORCE_UNIFIED_MEMORY\"] = \"1\""
   ]
  },
  {
   "cell_type": "code",
   "execution_count": 3,
   "metadata": {},
   "outputs": [
    {
     "name": "stderr",
     "output_type": "stream",
     "text": [
      "/home/beegass/.cache/pypoetry/virtualenvs/hippo-pkg-Uqb72G6k-py3.8/lib/python3.8/site-packages/flax/struct.py:132: FutureWarning: jax.tree_util.register_keypaths is deprecated, and will be removed in a future release. Please use `register_pytree_with_keys()` instead.\n",
      "  jax.tree_util.register_keypaths(data_clz, keypaths)\n",
      "/home/beegass/.cache/pypoetry/virtualenvs/hippo-pkg-Uqb72G6k-py3.8/lib/python3.8/site-packages/flax/struct.py:132: FutureWarning: jax.tree_util.register_keypaths is deprecated, and will be removed in a future release. Please use `register_pytree_with_keys()` instead.\n",
      "  jax.tree_util.register_keypaths(data_clz, keypaths)\n"
     ]
    }
   ],
   "source": [
    "## import packages\n",
    "import jax\n",
    "from jax import numpy as jnp\n",
    "import einops\n",
    "import numpy as np\n",
    "import torch\n",
    "\n",
    "from src.models.hippo.hr_hippo import HRHiPPO_LSI, HRHiPPO_LTI\n",
    "from src.models.hippo.hippo import HiPPOLTI, HiPPOLSI\n",
    "from src.models.hippo.transition import TransMatrix\n",
    "from src.data.process import whitesignal"
   ]
  },
  {
   "cell_type": "code",
   "execution_count": 4,
   "metadata": {},
   "outputs": [
    {
     "name": "stdout",
     "output_type": "stream",
     "text": [
      "[StreamExecutorGpuDevice(id=0, process_index=0, slice_index=0)]\n",
      "The Device: gpu\n"
     ]
    }
   ],
   "source": [
    "print(jax.devices())\n",
    "print(f\"The Device: {jax.lib.xla_bridge.get_backend().platform}\")"
   ]
  },
  {
   "cell_type": "code",
   "execution_count": 5,
   "metadata": {},
   "outputs": [
    {
     "name": "stdout",
     "output_type": "stream",
     "text": [
      "MPS enabled: False\n"
     ]
    }
   ],
   "source": [
    "print(f\"MPS enabled: {torch.backends.mps.is_available()}\")"
   ]
  },
  {
   "cell_type": "code",
   "execution_count": 6,
   "metadata": {},
   "outputs": [],
   "source": [
    "torch.set_printoptions(linewidth=150)\n",
    "np.set_printoptions(linewidth=150)\n",
    "jnp.set_printoptions(linewidth=150)"
   ]
  },
  {
   "cell_type": "code",
   "execution_count": 7,
   "metadata": {},
   "outputs": [],
   "source": [
    "seed = 1701\n",
    "key = jax.random.PRNGKey(seed)"
   ]
  },
  {
   "cell_type": "code",
   "execution_count": 8,
   "metadata": {},
   "outputs": [],
   "source": [
    "num_copies = 10\n",
    "subkeys = jax.random.split(key, num=num_copies)\n",
    "key = subkeys[0]"
   ]
  },
  {
   "attachments": {},
   "cell_type": "markdown",
   "metadata": {},
   "source": [
    "## Test Generalized Bilinear Transform and Zero Order Hold Matrices"
   ]
  },
  {
   "cell_type": "code",
   "execution_count": 9,
   "metadata": {},
   "outputs": [],
   "source": [
    "def test_LSI_GBT(hippo, hr_hippo, A, B, random_input, alpha=0.5, print_all=False):\n",
    "    L = random_input.shape[1]\n",
    "\n",
    "    flag = True\n",
    "    for i in range(1, L + 1):\n",
    "        GBT_A, GBT_B = hippo.discretize(A, B, step=i, alpha=alpha, dtype=jnp.float32)\n",
    "        hr_GBT_A, hr_GBT_B = (\n",
    "            jnp.asarray(hr_hippo.A_stacked[i - 1], dtype=jnp.float32),\n",
    "            jnp.expand_dims(\n",
    "                jnp.asarray(hr_hippo.B_stacked[i - 1], dtype=jnp.float32), axis=1\n",
    "            ),\n",
    "        )\n",
    "\n",
    "        if print_all:\n",
    "            print(f\"GBT_A: {jnp.allclose(GBT_A, hr_GBT_A, rtol=1e-04, atol=1e-04)}\")\n",
    "            print(f\"GBT_B: {jnp.allclose(GBT_B, hr_GBT_B, rtol=1e-04, atol=1e-04)}\\n\")\n",
    "\n",
    "            print(f\"hr_GBT_A shape:{hr_GBT_A.shape}\\n\")\n",
    "            print(f\"GBT_A shape: {GBT_A.shape}\\n\")\n",
    "            print(f\"hr_GBT_B shape: {hr_GBT_B.shape}\\n\")\n",
    "            print(f\"GBT_B shape: {GBT_B.shape}\")\n",
    "\n",
    "            print(f\"hr_GBT_A:\\n{hr_GBT_A}\\n\")\n",
    "            print(f\"GBT_A:\\n{GBT_A}\\n\")\n",
    "            print(f\"hr_GBT_B:\\n{hr_GBT_B}\\n\")\n",
    "            print(f\"GBT_B:\\n{GBT_B}\")\n",
    "\n",
    "        check_A = jnp.allclose(GBT_A, hr_GBT_A, rtol=1e-04, atol=1e-04)\n",
    "        check_B = jnp.allclose(GBT_B, hr_GBT_B, rtol=1e-04, atol=1e-04)\n",
    "\n",
    "        if not check_A and not check_B:\n",
    "            flag = False\n",
    "\n",
    "    if not print_all:\n",
    "        print(f\"\\n---------------------------------------------\")\n",
    "        print(f\"---------- The Test Passed: {flag} ----------\")\n",
    "        print(f\"---------------------------------------------\\n\")"
   ]
  },
  {
   "cell_type": "code",
   "execution_count": 10,
   "metadata": {},
   "outputs": [],
   "source": [
    "def test_LTI_GBT(hippo, hr_hippo, A, B, random_input, step, alpha=0.5, print_all=False):\n",
    "    L = random_input.shape[1]\n",
    "    flag = True\n",
    "    GBT_A, GBT_B = hippo.discretize(A, B, step=step, alpha=alpha, dtype=jnp.float32)\n",
    "    hr_GBT_A, hr_GBT_B = (\n",
    "        jnp.asarray(hr_hippo.dA, dtype=jnp.float32),\n",
    "        jnp.expand_dims(jnp.asarray(hr_hippo.dB, dtype=jnp.float32), axis=1),\n",
    "    )\n",
    "\n",
    "    check_A = jnp.allclose(GBT_A, hr_GBT_A, rtol=1e-04, atol=1e-04)\n",
    "    check_B = jnp.allclose(GBT_B, hr_GBT_B, rtol=1e-04, atol=1e-04)\n",
    "\n",
    "    if not check_A and not check_B:\n",
    "        flag = False\n",
    "\n",
    "    if print_all:\n",
    "        print(f\"GBT_A: {jnp.allclose(GBT_A, hr_GBT_A, rtol=1e-04, atol=1e-04)}\")\n",
    "        print(f\"GBT_B: {jnp.allclose(GBT_B, hr_GBT_B, rtol=1e-04, atol=1e-04)}\\n\")\n",
    "\n",
    "        print(f\"hr_GBT_A shape:{hr_GBT_A.shape}\\n\")\n",
    "        print(f\"GBT_A shape: {GBT_A.shape}\\n\")\n",
    "        print(f\"hr_GBT_B shape: {hr_GBT_B.shape}\\n\")\n",
    "        print(f\"GBT_B shape: {GBT_B.shape}\")\n",
    "\n",
    "        print(f\"hr_GBT_A:\\n{hr_GBT_A}\\n\")\n",
    "        print(f\"GBT_A:\\n{GBT_A}\\n\")\n",
    "        print(f\"hr_GBT_B:\\n{hr_GBT_B}\\n\")\n",
    "        print(f\"GBT_B:\\n{GBT_B}\")\n",
    "\n",
    "    if not print_all:\n",
    "        print(f\"\\n---------------------------------------------\")\n",
    "        print(f\"---------- The Test Passed: {flag} ----------\")\n",
    "        print(f\"---------------------------------------------\\n\")"
   ]
  },
  {
   "cell_type": "code",
   "execution_count": 11,
   "metadata": {},
   "outputs": [],
   "source": [
    "def test_GBT(\n",
    "    the_measure=\"legs\", lambda_n=1.0, alpha=0.5, discretization=0.5, print_all=False\n",
    "):\n",
    "\n",
    "    T = 3\n",
    "    freq = 3\n",
    "    step = 1e-3\n",
    "    L = int(T / step)\n",
    "\n",
    "    batch_size = 2\n",
    "    data_size = L\n",
    "    input_size = 1\n",
    "\n",
    "    N = 10\n",
    "\n",
    "    print(f\"step: {step}\")\n",
    "\n",
    "    u = whitesignal(subkeys[4], T, step, freq, batch_shape=(batch_size,))\n",
    "\n",
    "    x_np = np.asarray(u)\n",
    "\n",
    "    x_np = einops.rearrange(x_np, \"batch seq_len -> batch seq_len 1\")\n",
    "\n",
    "    # ----------------------------------------------------------------------------------\n",
    "    # ------------------------------ Instantiate Gu's HiPPOs ---------------------------\n",
    "    # ----------------------------------------------------------------------------------\n",
    "\n",
    "    print(f\"Creating Gu's HiPPO-{the_measure} LTI model with {alpha} transform\")\n",
    "    hr_hippo_lti = HRHiPPO_LTI(\n",
    "        N=N,\n",
    "        method=the_measure,\n",
    "        dt=step,\n",
    "        T=T,\n",
    "        discretization=discretization,\n",
    "        lambda_n=lambda_n,\n",
    "        alpha=0.0,\n",
    "        beta=1.0,\n",
    "        c=0.0,\n",
    "    )  # The Gu's\n",
    "\n",
    "    if the_measure == \"legs\":\n",
    "        print(f\"Creating Gu's HiPPO-{the_measure} LSI model with {alpha} transform\")\n",
    "        hr_hippo_lsi = HRHiPPO_LSI(\n",
    "            N=N,\n",
    "            method=the_measure,\n",
    "            max_length=L,\n",
    "            discretization=discretization,\n",
    "            lambda_n=lambda_n,\n",
    "            alpha=0.0,\n",
    "            beta=1.0,\n",
    "        )  # The Gu's\n",
    "\n",
    "    matrices = TransMatrix(\n",
    "        N=N,\n",
    "        measure=the_measure,\n",
    "        lambda_n=lambda_n,\n",
    "        alpha=0.0,\n",
    "        beta=1.0,\n",
    "        dtype=jnp.float32,\n",
    "    )\n",
    "\n",
    "    A = matrices.A\n",
    "    B = matrices.B\n",
    "\n",
    "    print(f\"Creating HiPPO-{the_measure} LTI model with {alpha} transform\")\n",
    "    hippo_lti = HiPPOLTI(\n",
    "        N=N,\n",
    "        step_size=step,\n",
    "        lambda_n=lambda_n,\n",
    "        alpha=0.0,\n",
    "        beta=1.0,\n",
    "        GBT_alpha=alpha,\n",
    "        measure=the_measure,\n",
    "        basis_size=T,\n",
    "        dtype=jnp.float32,\n",
    "        unroll=False,\n",
    "    )  # Bryan's\n",
    "\n",
    "    lti_variables = hippo_lti.init(subkeys[2], x_np)\n",
    "    hippo_lti = hippo_lti.bind(lti_variables)\n",
    "\n",
    "    if the_measure == \"legs\":\n",
    "        print(f\"Creating HiPPO-{the_measure} LSI model with {alpha} transform\")\n",
    "        hippo_lsi = HiPPOLSI(\n",
    "            N=N,\n",
    "            max_length=L,\n",
    "            step_size=step,\n",
    "            lambda_n=lambda_n,\n",
    "            alpha=0.0,\n",
    "            beta=1.0,\n",
    "            GBT_alpha=alpha,\n",
    "            measure=the_measure,\n",
    "            dtype=jnp.float32,\n",
    "            unroll=True,\n",
    "        )  # Bryan's\n",
    "\n",
    "        lsi_variables = hippo_lsi.init(subkeys[3], x_np)\n",
    "        hippo_lsi = hippo_lsi.bind(lsi_variables)\n",
    "\n",
    "    print(f\"Testing for correct LTI GBT matrices for HiPPO-{the_measure}\")\n",
    "    test_LTI_GBT(\n",
    "        hippo=hippo_lti,\n",
    "        hr_hippo=hr_hippo_lti,\n",
    "        A=A,\n",
    "        B=B,\n",
    "        random_input=x_np,\n",
    "        step=step,\n",
    "        alpha=alpha,\n",
    "        print_all=print_all,\n",
    "    )\n",
    "    if the_measure == \"legs\":\n",
    "        print(f\"Testing for correct LSI GBT matrices for HiPPO-{the_measure}\")\n",
    "        test_LSI_GBT(\n",
    "            hippo=hippo_lsi,\n",
    "            hr_hippo=hr_hippo_lsi,\n",
    "            A=A,\n",
    "            B=B,\n",
    "            random_input=x_np,\n",
    "            alpha=alpha,\n",
    "            print_all=print_all,\n",
    "        )"
   ]
  },
  {
   "attachments": {},
   "cell_type": "markdown",
   "metadata": {},
   "source": [
    "## Navigation To Table Of Contents\n",
    "---\n",
    "* [Table Of Contents](#table-of-contents)\n",
    "* [Loading In Necessary Packages](#load-packages)\n",
    "* [Instantiate The HiPPO Matrix](#instantiate-the-hippo-matrix)\n",
    "* [Gu's Linear Time Invariant (LTI) HiPPO Operator](#gus-hippo-legt-operator)\n",
    "* [Gu's Scale invariant (LSI) HiPPO Operator](#gus-scale-invariant-hippo-legs-operator)\n",
    "* [Implementation Of General HiPPO Operator](#implementation-of-general-hippo-operator)\n",
    "* [Test Generalized Bilinear Transform and Zero Order Hold Matrices](#test-generalized-bilinear-transform-and-zero-order-hold-matrices)\n",
    "* [Testing HiPPO Operators](#test-hippo-operators)\n",
    "---"
   ]
  },
  {
   "cell_type": "code",
   "execution_count": 12,
   "metadata": {},
   "outputs": [],
   "source": [
    "print_all = False"
   ]
  },
  {
   "attachments": {},
   "cell_type": "markdown",
   "metadata": {},
   "source": [
    "### Testing Forward Euler Transform for LTI and LSI"
   ]
  },
  {
   "attachments": {},
   "cell_type": "markdown",
   "metadata": {},
   "source": [
    "#### LegS"
   ]
  },
  {
   "cell_type": "code",
   "execution_count": 13,
   "metadata": {},
   "outputs": [
    {
     "name": "stdout",
     "output_type": "stream",
     "text": [
      "step: 0.001\n",
      "Creating Gu's HiPPO-legs LTI model with 0.0 transform\n",
      "Creating Gu's HiPPO-legs LSI model with 0.0 transform\n",
      "Creating HiPPO-legs LTI model with 0.0 transform\n",
      "Creating HiPPO-legs LSI model with 0.0 transform\n",
      "Testing for correct LTI GBT matrices for HiPPO-legs\n",
      "\n",
      "---------------------------------------------\n",
      "---------- The Test Passed: True ----------\n",
      "---------------------------------------------\n",
      "\n",
      "Testing for correct LSI GBT matrices for HiPPO-legs\n",
      "\n",
      "---------------------------------------------\n",
      "---------- The Test Passed: True ----------\n",
      "---------------------------------------------\n",
      "\n"
     ]
    }
   ],
   "source": [
    "test_GBT(\n",
    "    the_measure=\"legs\", lambda_n=1.0, alpha=0.0, discretization=0.0, print_all=print_all\n",
    ")"
   ]
  },
  {
   "attachments": {},
   "cell_type": "markdown",
   "metadata": {},
   "source": [
    "#### LegT"
   ]
  },
  {
   "cell_type": "code",
   "execution_count": 14,
   "metadata": {},
   "outputs": [
    {
     "name": "stdout",
     "output_type": "stream",
     "text": [
      "step: 0.001\n",
      "Creating Gu's HiPPO-legt LTI model with 0.0 transform\n",
      "Creating HiPPO-legt LTI model with 0.0 transform\n",
      "Testing for correct LTI GBT matrices for HiPPO-legt\n",
      "\n",
      "---------------------------------------------\n",
      "---------- The Test Passed: True ----------\n",
      "---------------------------------------------\n",
      "\n"
     ]
    }
   ],
   "source": [
    "test_GBT(\n",
    "    the_measure=\"legt\", lambda_n=1.0, alpha=0.0, discretization=0.0, print_all=print_all\n",
    ")"
   ]
  },
  {
   "attachments": {},
   "cell_type": "markdown",
   "metadata": {},
   "source": [
    "#### LMU"
   ]
  },
  {
   "cell_type": "code",
   "execution_count": 15,
   "metadata": {},
   "outputs": [
    {
     "name": "stdout",
     "output_type": "stream",
     "text": [
      "step: 0.001\n",
      "Creating Gu's HiPPO-lmu LTI model with 0.0 transform\n",
      "Creating HiPPO-lmu LTI model with 0.0 transform\n",
      "Testing for correct LTI GBT matrices for HiPPO-lmu\n",
      "\n",
      "---------------------------------------------\n",
      "---------- The Test Passed: True ----------\n",
      "---------------------------------------------\n",
      "\n"
     ]
    }
   ],
   "source": [
    "test_GBT(\n",
    "    the_measure=\"lmu\", lambda_n=2.0, alpha=0.0, discretization=0.0, print_all=print_all\n",
    ")"
   ]
  },
  {
   "attachments": {},
   "cell_type": "markdown",
   "metadata": {},
   "source": [
    "#### LagT"
   ]
  },
  {
   "cell_type": "code",
   "execution_count": 16,
   "metadata": {},
   "outputs": [
    {
     "name": "stdout",
     "output_type": "stream",
     "text": [
      "step: 0.001\n",
      "Creating Gu's HiPPO-lagt LTI model with 0.0 transform\n",
      "Creating HiPPO-lagt LTI model with 0.0 transform\n",
      "Testing for correct LTI GBT matrices for HiPPO-lagt\n",
      "\n",
      "---------------------------------------------\n",
      "---------- The Test Passed: True ----------\n",
      "---------------------------------------------\n",
      "\n"
     ]
    }
   ],
   "source": [
    "test_GBT(\n",
    "    the_measure=\"lagt\", lambda_n=1.0, alpha=0.0, discretization=0.0, print_all=print_all\n",
    ")"
   ]
  },
  {
   "attachments": {},
   "cell_type": "markdown",
   "metadata": {},
   "source": [
    "#### FRU"
   ]
  },
  {
   "cell_type": "code",
   "execution_count": 17,
   "metadata": {},
   "outputs": [
    {
     "name": "stdout",
     "output_type": "stream",
     "text": [
      "step: 0.001\n",
      "Creating Gu's HiPPO-fru LTI model with 0.0 transform\n",
      "Creating HiPPO-fru LTI model with 0.0 transform\n",
      "Testing for correct LTI GBT matrices for HiPPO-fru\n",
      "\n",
      "---------------------------------------------\n",
      "---------- The Test Passed: True ----------\n",
      "---------------------------------------------\n",
      "\n"
     ]
    }
   ],
   "source": [
    "test_GBT(\n",
    "    the_measure=\"fru\", lambda_n=1.0, alpha=0.0, discretization=0.0, print_all=print_all\n",
    ")"
   ]
  },
  {
   "attachments": {},
   "cell_type": "markdown",
   "metadata": {},
   "source": [
    "#### FouT"
   ]
  },
  {
   "cell_type": "code",
   "execution_count": 18,
   "metadata": {},
   "outputs": [
    {
     "name": "stdout",
     "output_type": "stream",
     "text": [
      "step: 0.001\n",
      "Creating Gu's HiPPO-fout LTI model with 0.0 transform\n",
      "Creating HiPPO-fout LTI model with 0.0 transform\n",
      "Testing for correct LTI GBT matrices for HiPPO-fout\n",
      "\n",
      "---------------------------------------------\n",
      "---------- The Test Passed: True ----------\n",
      "---------------------------------------------\n",
      "\n"
     ]
    }
   ],
   "source": [
    "test_GBT(\n",
    "    the_measure=\"fout\", lambda_n=1.0, alpha=0.0, discretization=0.0, print_all=print_all\n",
    ")"
   ]
  },
  {
   "attachments": {},
   "cell_type": "markdown",
   "metadata": {},
   "source": [
    "#### FouD"
   ]
  },
  {
   "cell_type": "code",
   "execution_count": 19,
   "metadata": {},
   "outputs": [
    {
     "name": "stdout",
     "output_type": "stream",
     "text": [
      "step: 0.001\n",
      "Creating Gu's HiPPO-foud LTI model with 0.0 transform\n",
      "Creating HiPPO-foud LTI model with 0.0 transform\n",
      "Testing for correct LTI GBT matrices for HiPPO-foud\n",
      "\n",
      "---------------------------------------------\n",
      "---------- The Test Passed: True ----------\n",
      "---------------------------------------------\n",
      "\n"
     ]
    }
   ],
   "source": [
    "test_GBT(\n",
    "    the_measure=\"foud\", lambda_n=1.0, alpha=0.0, discretization=0.0, print_all=print_all\n",
    ")"
   ]
  },
  {
   "attachments": {},
   "cell_type": "markdown",
   "metadata": {},
   "source": [
    "### Testing Backward Euler Transform for LTI and LSI on LegS Matrices"
   ]
  },
  {
   "attachments": {},
   "cell_type": "markdown",
   "metadata": {},
   "source": [
    "#### LegS"
   ]
  },
  {
   "cell_type": "code",
   "execution_count": 20,
   "metadata": {},
   "outputs": [
    {
     "name": "stdout",
     "output_type": "stream",
     "text": [
      "step: 0.001\n",
      "Creating Gu's HiPPO-legs LTI model with 1.0 transform\n",
      "Creating Gu's HiPPO-legs LSI model with 1.0 transform\n",
      "Creating HiPPO-legs LTI model with 1.0 transform\n",
      "Creating HiPPO-legs LSI model with 1.0 transform\n",
      "Testing for correct LTI GBT matrices for HiPPO-legs\n",
      "\n",
      "---------------------------------------------\n",
      "---------- The Test Passed: True ----------\n",
      "---------------------------------------------\n",
      "\n",
      "Testing for correct LSI GBT matrices for HiPPO-legs\n",
      "\n",
      "---------------------------------------------\n",
      "---------- The Test Passed: True ----------\n",
      "---------------------------------------------\n",
      "\n"
     ]
    }
   ],
   "source": [
    "test_GBT(\n",
    "    the_measure=\"legs\", lambda_n=1.0, alpha=1.0, discretization=1.0, print_all=print_all\n",
    ")"
   ]
  },
  {
   "attachments": {},
   "cell_type": "markdown",
   "metadata": {},
   "source": [
    "#### LegT"
   ]
  },
  {
   "cell_type": "code",
   "execution_count": 21,
   "metadata": {},
   "outputs": [
    {
     "name": "stdout",
     "output_type": "stream",
     "text": [
      "step: 0.001\n",
      "Creating Gu's HiPPO-legt LTI model with 1.0 transform\n",
      "Creating HiPPO-legt LTI model with 1.0 transform\n",
      "Testing for correct LTI GBT matrices for HiPPO-legt\n",
      "\n",
      "---------------------------------------------\n",
      "---------- The Test Passed: True ----------\n",
      "---------------------------------------------\n",
      "\n"
     ]
    }
   ],
   "source": [
    "test_GBT(\n",
    "    the_measure=\"legt\", lambda_n=1.0, alpha=1.0, discretization=1.0, print_all=print_all\n",
    ")"
   ]
  },
  {
   "attachments": {},
   "cell_type": "markdown",
   "metadata": {},
   "source": [
    "#### LMU"
   ]
  },
  {
   "cell_type": "code",
   "execution_count": 22,
   "metadata": {},
   "outputs": [
    {
     "name": "stdout",
     "output_type": "stream",
     "text": [
      "step: 0.001\n",
      "Creating Gu's HiPPO-lmu LTI model with 1.0 transform\n",
      "Creating HiPPO-lmu LTI model with 1.0 transform\n",
      "Testing for correct LTI GBT matrices for HiPPO-lmu\n",
      "\n",
      "---------------------------------------------\n",
      "---------- The Test Passed: True ----------\n",
      "---------------------------------------------\n",
      "\n"
     ]
    }
   ],
   "source": [
    "test_GBT(\n",
    "    the_measure=\"lmu\", lambda_n=2.0, alpha=1.0, discretization=1.0, print_all=print_all\n",
    ")"
   ]
  },
  {
   "attachments": {},
   "cell_type": "markdown",
   "metadata": {},
   "source": [
    "#### LagT"
   ]
  },
  {
   "cell_type": "code",
   "execution_count": 23,
   "metadata": {},
   "outputs": [
    {
     "name": "stdout",
     "output_type": "stream",
     "text": [
      "step: 0.001\n",
      "Creating Gu's HiPPO-lagt LTI model with 1.0 transform\n",
      "Creating HiPPO-lagt LTI model with 1.0 transform\n",
      "Testing for correct LTI GBT matrices for HiPPO-lagt\n",
      "\n",
      "---------------------------------------------\n",
      "---------- The Test Passed: True ----------\n",
      "---------------------------------------------\n",
      "\n"
     ]
    }
   ],
   "source": [
    "test_GBT(\n",
    "    the_measure=\"lagt\", lambda_n=1.0, alpha=1.0, discretization=1.0, print_all=print_all\n",
    ")"
   ]
  },
  {
   "attachments": {},
   "cell_type": "markdown",
   "metadata": {},
   "source": [
    "#### FRU"
   ]
  },
  {
   "cell_type": "code",
   "execution_count": 24,
   "metadata": {},
   "outputs": [
    {
     "name": "stdout",
     "output_type": "stream",
     "text": [
      "step: 0.001\n",
      "Creating Gu's HiPPO-fru LTI model with 1.0 transform\n",
      "Creating HiPPO-fru LTI model with 1.0 transform\n",
      "Testing for correct LTI GBT matrices for HiPPO-fru\n",
      "\n",
      "---------------------------------------------\n",
      "---------- The Test Passed: True ----------\n",
      "---------------------------------------------\n",
      "\n"
     ]
    }
   ],
   "source": [
    "test_GBT(\n",
    "    the_measure=\"fru\", lambda_n=1.0, alpha=1.0, discretization=1.0, print_all=print_all\n",
    ")"
   ]
  },
  {
   "attachments": {},
   "cell_type": "markdown",
   "metadata": {},
   "source": [
    "#### FouT"
   ]
  },
  {
   "cell_type": "code",
   "execution_count": 25,
   "metadata": {},
   "outputs": [
    {
     "name": "stdout",
     "output_type": "stream",
     "text": [
      "step: 0.001\n",
      "Creating Gu's HiPPO-fout LTI model with 1.0 transform\n",
      "Creating HiPPO-fout LTI model with 1.0 transform\n",
      "Testing for correct LTI GBT matrices for HiPPO-fout\n",
      "\n",
      "---------------------------------------------\n",
      "---------- The Test Passed: True ----------\n",
      "---------------------------------------------\n",
      "\n"
     ]
    }
   ],
   "source": [
    "test_GBT(\n",
    "    the_measure=\"fout\", lambda_n=1.0, alpha=1.0, discretization=1.0, print_all=print_all\n",
    ")"
   ]
  },
  {
   "attachments": {},
   "cell_type": "markdown",
   "metadata": {},
   "source": [
    "#### FouD"
   ]
  },
  {
   "cell_type": "code",
   "execution_count": 26,
   "metadata": {},
   "outputs": [
    {
     "name": "stdout",
     "output_type": "stream",
     "text": [
      "step: 0.001\n",
      "Creating Gu's HiPPO-foud LTI model with 1.0 transform\n",
      "Creating HiPPO-foud LTI model with 1.0 transform\n",
      "Testing for correct LTI GBT matrices for HiPPO-foud\n",
      "\n",
      "---------------------------------------------\n",
      "---------- The Test Passed: True ----------\n",
      "---------------------------------------------\n",
      "\n"
     ]
    }
   ],
   "source": [
    "test_GBT(\n",
    "    the_measure=\"foud\", lambda_n=1.0, alpha=1.0, discretization=1.0, print_all=print_all\n",
    ")"
   ]
  },
  {
   "attachments": {},
   "cell_type": "markdown",
   "metadata": {},
   "source": [
    "### Testing Bidirectional Transform for LTI and LSI on LegS Matrices"
   ]
  },
  {
   "attachments": {},
   "cell_type": "markdown",
   "metadata": {},
   "source": [
    "#### LegS"
   ]
  },
  {
   "cell_type": "code",
   "execution_count": 27,
   "metadata": {},
   "outputs": [
    {
     "name": "stdout",
     "output_type": "stream",
     "text": [
      "step: 0.001\n",
      "Creating Gu's HiPPO-legs LTI model with 0.5 transform\n",
      "Creating Gu's HiPPO-legs LSI model with 0.5 transform\n",
      "Creating HiPPO-legs LTI model with 0.5 transform\n",
      "Creating HiPPO-legs LSI model with 0.5 transform\n",
      "Testing for correct LTI GBT matrices for HiPPO-legs\n",
      "\n",
      "---------------------------------------------\n",
      "---------- The Test Passed: True ----------\n",
      "---------------------------------------------\n",
      "\n",
      "Testing for correct LSI GBT matrices for HiPPO-legs\n",
      "\n",
      "---------------------------------------------\n",
      "---------- The Test Passed: True ----------\n",
      "---------------------------------------------\n",
      "\n"
     ]
    }
   ],
   "source": [
    "test_GBT(\n",
    "    the_measure=\"legs\", lambda_n=1.0, alpha=0.5, discretization=0.5, print_all=print_all\n",
    ")"
   ]
  },
  {
   "attachments": {},
   "cell_type": "markdown",
   "metadata": {},
   "source": [
    "#### LegT"
   ]
  },
  {
   "cell_type": "code",
   "execution_count": 28,
   "metadata": {},
   "outputs": [
    {
     "name": "stdout",
     "output_type": "stream",
     "text": [
      "step: 0.001\n",
      "Creating Gu's HiPPO-legt LTI model with 0.5 transform\n",
      "Creating HiPPO-legt LTI model with 0.5 transform\n",
      "Testing for correct LTI GBT matrices for HiPPO-legt\n",
      "\n",
      "---------------------------------------------\n",
      "---------- The Test Passed: True ----------\n",
      "---------------------------------------------\n",
      "\n"
     ]
    }
   ],
   "source": [
    "test_GBT(\n",
    "    the_measure=\"legt\", lambda_n=1.0, alpha=0.5, discretization=0.5, print_all=print_all\n",
    ")"
   ]
  },
  {
   "attachments": {},
   "cell_type": "markdown",
   "metadata": {},
   "source": [
    "#### LMU"
   ]
  },
  {
   "cell_type": "code",
   "execution_count": 29,
   "metadata": {},
   "outputs": [
    {
     "name": "stdout",
     "output_type": "stream",
     "text": [
      "step: 0.001\n",
      "Creating Gu's HiPPO-lmu LTI model with 0.5 transform\n",
      "Creating HiPPO-lmu LTI model with 0.5 transform\n",
      "Testing for correct LTI GBT matrices for HiPPO-lmu\n",
      "\n",
      "---------------------------------------------\n",
      "---------- The Test Passed: True ----------\n",
      "---------------------------------------------\n",
      "\n"
     ]
    }
   ],
   "source": [
    "test_GBT(\n",
    "    the_measure=\"lmu\", lambda_n=2.0, alpha=0.5, discretization=0.5, print_all=print_all\n",
    ")"
   ]
  },
  {
   "attachments": {},
   "cell_type": "markdown",
   "metadata": {},
   "source": [
    "#### LagT"
   ]
  },
  {
   "cell_type": "code",
   "execution_count": 30,
   "metadata": {},
   "outputs": [
    {
     "name": "stdout",
     "output_type": "stream",
     "text": [
      "step: 0.001\n",
      "Creating Gu's HiPPO-lagt LTI model with 0.5 transform\n",
      "Creating HiPPO-lagt LTI model with 0.5 transform\n",
      "Testing for correct LTI GBT matrices for HiPPO-lagt\n",
      "\n",
      "---------------------------------------------\n",
      "---------- The Test Passed: True ----------\n",
      "---------------------------------------------\n",
      "\n"
     ]
    }
   ],
   "source": [
    "test_GBT(\n",
    "    the_measure=\"lagt\", lambda_n=1.0, alpha=0.5, discretization=0.5, print_all=print_all\n",
    ")"
   ]
  },
  {
   "attachments": {},
   "cell_type": "markdown",
   "metadata": {},
   "source": [
    "#### FRU"
   ]
  },
  {
   "cell_type": "code",
   "execution_count": 31,
   "metadata": {},
   "outputs": [
    {
     "name": "stdout",
     "output_type": "stream",
     "text": [
      "step: 0.001\n",
      "Creating Gu's HiPPO-fru LTI model with 0.5 transform\n",
      "Creating HiPPO-fru LTI model with 0.5 transform\n",
      "Testing for correct LTI GBT matrices for HiPPO-fru\n",
      "\n",
      "---------------------------------------------\n",
      "---------- The Test Passed: True ----------\n",
      "---------------------------------------------\n",
      "\n"
     ]
    }
   ],
   "source": [
    "test_GBT(\n",
    "    the_measure=\"fru\", lambda_n=1.0, alpha=0.5, discretization=0.5, print_all=print_all\n",
    ")"
   ]
  },
  {
   "attachments": {},
   "cell_type": "markdown",
   "metadata": {},
   "source": [
    "#### FouT"
   ]
  },
  {
   "cell_type": "code",
   "execution_count": 32,
   "metadata": {},
   "outputs": [
    {
     "name": "stdout",
     "output_type": "stream",
     "text": [
      "step: 0.001\n",
      "Creating Gu's HiPPO-fout LTI model with 0.5 transform\n",
      "Creating HiPPO-fout LTI model with 0.5 transform\n",
      "Testing for correct LTI GBT matrices for HiPPO-fout\n",
      "\n",
      "---------------------------------------------\n",
      "---------- The Test Passed: True ----------\n",
      "---------------------------------------------\n",
      "\n"
     ]
    }
   ],
   "source": [
    "test_GBT(\n",
    "    the_measure=\"fout\", lambda_n=1.0, alpha=0.5, discretization=0.5, print_all=print_all\n",
    ")"
   ]
  },
  {
   "attachments": {},
   "cell_type": "markdown",
   "metadata": {},
   "source": [
    "#### FouD"
   ]
  },
  {
   "cell_type": "code",
   "execution_count": 33,
   "metadata": {},
   "outputs": [
    {
     "name": "stdout",
     "output_type": "stream",
     "text": [
      "step: 0.001\n",
      "Creating Gu's HiPPO-foud LTI model with 0.5 transform\n",
      "Creating HiPPO-foud LTI model with 0.5 transform\n",
      "Testing for correct LTI GBT matrices for HiPPO-foud\n",
      "\n",
      "---------------------------------------------\n",
      "---------- The Test Passed: True ----------\n",
      "---------------------------------------------\n",
      "\n"
     ]
    }
   ],
   "source": [
    "test_GBT(\n",
    "    the_measure=\"foud\", lambda_n=1.0, alpha=0.5, discretization=0.5, print_all=print_all\n",
    ")"
   ]
  },
  {
   "attachments": {},
   "cell_type": "markdown",
   "metadata": {},
   "source": [
    "### Testing ZOH Transform for LTI and LSI on LegS Matrices"
   ]
  },
  {
   "attachments": {},
   "cell_type": "markdown",
   "metadata": {},
   "source": [
    "#### LegS"
   ]
  },
  {
   "cell_type": "code",
   "execution_count": 34,
   "metadata": {},
   "outputs": [
    {
     "name": "stdout",
     "output_type": "stream",
     "text": [
      "step: 0.001\n",
      "Creating Gu's HiPPO-legs LTI model with 2.0 transform\n",
      "Creating Gu's HiPPO-legs LSI model with 2.0 transform\n",
      "Creating HiPPO-legs LTI model with 2.0 transform\n",
      "Creating HiPPO-legs LSI model with 2.0 transform\n",
      "Testing for correct LTI GBT matrices for HiPPO-legs\n",
      "\n",
      "---------------------------------------------\n",
      "---------- The Test Passed: True ----------\n",
      "---------------------------------------------\n",
      "\n",
      "Testing for correct LSI GBT matrices for HiPPO-legs\n",
      "\n",
      "---------------------------------------------\n",
      "---------- The Test Passed: True ----------\n",
      "---------------------------------------------\n",
      "\n"
     ]
    }
   ],
   "source": [
    "test_GBT(\n",
    "    the_measure=\"legs\",\n",
    "    lambda_n=1.0,\n",
    "    alpha=2.0,\n",
    "    discretization=\"zoh\",\n",
    "    print_all=print_all,\n",
    ")"
   ]
  },
  {
   "attachments": {},
   "cell_type": "markdown",
   "metadata": {},
   "source": [
    "#### LegT"
   ]
  },
  {
   "cell_type": "code",
   "execution_count": 35,
   "metadata": {},
   "outputs": [
    {
     "name": "stdout",
     "output_type": "stream",
     "text": [
      "step: 0.001\n",
      "Creating Gu's HiPPO-legt LTI model with 2.0 transform\n",
      "Creating HiPPO-legt LTI model with 2.0 transform\n",
      "Testing for correct LTI GBT matrices for HiPPO-legt\n",
      "\n",
      "---------------------------------------------\n",
      "---------- The Test Passed: True ----------\n",
      "---------------------------------------------\n",
      "\n"
     ]
    }
   ],
   "source": [
    "test_GBT(\n",
    "    the_measure=\"legt\",\n",
    "    lambda_n=1.0,\n",
    "    alpha=2.0,\n",
    "    discretization=\"zoh\",\n",
    "    print_all=print_all,\n",
    ")"
   ]
  },
  {
   "attachments": {},
   "cell_type": "markdown",
   "metadata": {},
   "source": [
    "#### LMU"
   ]
  },
  {
   "cell_type": "code",
   "execution_count": 36,
   "metadata": {},
   "outputs": [
    {
     "name": "stdout",
     "output_type": "stream",
     "text": [
      "step: 0.001\n",
      "Creating Gu's HiPPO-lmu LTI model with 2.0 transform\n",
      "Creating HiPPO-lmu LTI model with 2.0 transform\n",
      "Testing for correct LTI GBT matrices for HiPPO-lmu\n",
      "\n",
      "---------------------------------------------\n",
      "---------- The Test Passed: True ----------\n",
      "---------------------------------------------\n",
      "\n"
     ]
    }
   ],
   "source": [
    "test_GBT(\n",
    "    the_measure=\"lmu\",\n",
    "    lambda_n=2.0,\n",
    "    alpha=2.0,\n",
    "    discretization=\"zoh\",\n",
    "    print_all=print_all,\n",
    ")"
   ]
  },
  {
   "attachments": {},
   "cell_type": "markdown",
   "metadata": {},
   "source": [
    "#### LagT"
   ]
  },
  {
   "cell_type": "code",
   "execution_count": 37,
   "metadata": {},
   "outputs": [
    {
     "name": "stdout",
     "output_type": "stream",
     "text": [
      "step: 0.001\n",
      "Creating Gu's HiPPO-lagt LTI model with 2.0 transform\n",
      "Creating HiPPO-lagt LTI model with 2.0 transform\n",
      "Testing for correct LTI GBT matrices for HiPPO-lagt\n",
      "\n",
      "---------------------------------------------\n",
      "---------- The Test Passed: True ----------\n",
      "---------------------------------------------\n",
      "\n"
     ]
    }
   ],
   "source": [
    "test_GBT(\n",
    "    the_measure=\"lagt\",\n",
    "    lambda_n=1.0,\n",
    "    alpha=2.0,\n",
    "    discretization=\"zoh\",\n",
    "    print_all=print_all,\n",
    ")"
   ]
  },
  {
   "attachments": {},
   "cell_type": "markdown",
   "metadata": {},
   "source": [
    "#### FRU"
   ]
  },
  {
   "cell_type": "code",
   "execution_count": 38,
   "metadata": {},
   "outputs": [
    {
     "name": "stdout",
     "output_type": "stream",
     "text": [
      "step: 0.001\n",
      "Creating Gu's HiPPO-fru LTI model with 2.0 transform\n",
      "Creating HiPPO-fru LTI model with 2.0 transform\n",
      "Testing for correct LTI GBT matrices for HiPPO-fru\n",
      "\n",
      "---------------------------------------------\n",
      "---------- The Test Passed: True ----------\n",
      "---------------------------------------------\n",
      "\n"
     ]
    }
   ],
   "source": [
    "test_GBT(\n",
    "    the_measure=\"fru\",\n",
    "    lambda_n=1.0,\n",
    "    alpha=2.0,\n",
    "    discretization=\"zoh\",\n",
    "    print_all=print_all,\n",
    ")"
   ]
  },
  {
   "attachments": {},
   "cell_type": "markdown",
   "metadata": {},
   "source": [
    "#### FouT"
   ]
  },
  {
   "cell_type": "code",
   "execution_count": 39,
   "metadata": {},
   "outputs": [
    {
     "name": "stdout",
     "output_type": "stream",
     "text": [
      "step: 0.001\n",
      "Creating Gu's HiPPO-fout LTI model with 2.0 transform\n",
      "Creating HiPPO-fout LTI model with 2.0 transform\n",
      "Testing for correct LTI GBT matrices for HiPPO-fout\n",
      "\n",
      "---------------------------------------------\n",
      "---------- The Test Passed: True ----------\n",
      "---------------------------------------------\n",
      "\n"
     ]
    }
   ],
   "source": [
    "test_GBT(\n",
    "    the_measure=\"fout\",\n",
    "    lambda_n=1.0,\n",
    "    alpha=2.0,\n",
    "    discretization=\"zoh\",\n",
    "    print_all=print_all,\n",
    ")"
   ]
  },
  {
   "attachments": {},
   "cell_type": "markdown",
   "metadata": {},
   "source": [
    "#### FouD"
   ]
  },
  {
   "cell_type": "code",
   "execution_count": 40,
   "metadata": {},
   "outputs": [
    {
     "name": "stdout",
     "output_type": "stream",
     "text": [
      "step: 0.001\n",
      "Creating Gu's HiPPO-foud LTI model with 2.0 transform\n",
      "Creating HiPPO-foud LTI model with 2.0 transform\n",
      "Testing for correct LTI GBT matrices for HiPPO-foud\n",
      "\n",
      "---------------------------------------------\n",
      "---------- The Test Passed: True ----------\n",
      "---------------------------------------------\n",
      "\n"
     ]
    }
   ],
   "source": [
    "test_GBT(\n",
    "    the_measure=\"foud\",\n",
    "    lambda_n=1.0,\n",
    "    alpha=2.0,\n",
    "    discretization=\"zoh\",\n",
    "    print_all=print_all,\n",
    ")"
   ]
  }
 ],
 "metadata": {
  "kernelspec": {
   "display_name": "s4mer-pkg-jZnBSgjq-py3.8",
   "language": "python",
   "name": "python3"
  },
  "language_info": {
   "codemirror_mode": {
    "name": "ipython",
    "version": 3
   },
   "file_extension": ".py",
   "mimetype": "text/x-python",
   "name": "python",
   "nbconvert_exporter": "python",
   "pygments_lexer": "ipython3",
   "version": "3.8.13"
  },
  "orig_nbformat": 4,
  "vscode": {
   "interpreter": {
    "hash": "0a81e05d1d7f7eae781698b7c1b81c0d771335201ebad1d81045cb177cef974b"
   }
  }
 },
 "nbformat": 4,
 "nbformat_minor": 2
}
